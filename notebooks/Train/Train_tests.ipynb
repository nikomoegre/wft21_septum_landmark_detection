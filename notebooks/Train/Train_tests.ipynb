{
 "cells": [
  {
   "cell_type": "code",
   "execution_count": 14,
   "metadata": {},
   "outputs": [
    {
     "name": "stderr",
     "output_type": "stream",
     "text": [
      "2021-04-16 10:57:37,975 INFO -------------------- Start --------------------\n",
      "2021-04-16 10:57:37,976 INFO Working directory: /mnt/ssd/git/wft21_septum_landmark_detection.\n",
      "2021-04-16 10:57:37,976 INFO Log file: ./logs/temp/spacing_1_8/.log\n",
      "2021-04-16 10:57:37,977 INFO Log level for console: INFO\n",
      "2021-04-16 10:57:37,978 INFO Is built with tensorflow: True\n",
      "2021-04-16 10:57:37,978 INFO Visible devices:\n",
      "[PhysicalDevice(name='/physical_device:CPU:0', device_type='CPU'), PhysicalDevice(name='/physical_device:XLA_CPU:0', device_type='XLA_CPU'), PhysicalDevice(name='/physical_device:XLA_GPU:0', device_type='XLA_GPU'), PhysicalDevice(name='/physical_device:XLA_GPU:1', device_type='XLA_GPU'), PhysicalDevice(name='/physical_device:GPU:0', device_type='GPU'), PhysicalDevice(name='/physical_device:GPU:1', device_type='GPU')]\n",
      "2021-04-16 10:57:37,983 INFO Local devices: \n",
      " [name: \"/device:CPU:0\"\n",
      "device_type: \"CPU\"\n",
      "memory_limit: 268435456\n",
      "locality {\n",
      "}\n",
      "incarnation: 13967703277644989523\n",
      ", name: \"/device:XLA_CPU:0\"\n",
      "device_type: \"XLA_CPU\"\n",
      "memory_limit: 17179869184\n",
      "locality {\n",
      "}\n",
      "incarnation: 17515902024187916053\n",
      "physical_device_desc: \"device: XLA_CPU device\"\n",
      ", name: \"/device:XLA_GPU:0\"\n",
      "device_type: \"XLA_GPU\"\n",
      "memory_limit: 17179869184\n",
      "locality {\n",
      "}\n",
      "incarnation: 6133479857734200536\n",
      "physical_device_desc: \"device: XLA_GPU device\"\n",
      ", name: \"/device:XLA_GPU:1\"\n",
      "device_type: \"XLA_GPU\"\n",
      "memory_limit: 17179869184\n",
      "locality {\n",
      "}\n",
      "incarnation: 15053837284521249395\n",
      "physical_device_desc: \"device: XLA_GPU device\"\n",
      ", name: \"/device:GPU:0\"\n",
      "device_type: \"GPU\"\n",
      "memory_limit: 23046119808\n",
      "locality {\n",
      "  bus_id: 1\n",
      "  links {\n",
      "  }\n",
      "}\n",
      "incarnation: 8285539987822648864\n",
      "physical_device_desc: \"device: 0, name: TITAN RTX, pci bus id: 0000:01:00.0, compute capability: 7.5\"\n",
      ", name: \"/device:GPU:1\"\n",
      "device_type: \"GPU\"\n",
      "memory_limit: 23561682304\n",
      "locality {\n",
      "  bus_id: 1\n",
      "  links {\n",
      "  }\n",
      "}\n",
      "incarnation: 17099958610656002110\n",
      "physical_device_desc: \"device: 1, name: TITAN RTX, pci bus id: 0000:02:00.0, compute capability: 7.5\"\n",
      "]\n"
     ]
    },
    {
     "name": "stdout",
     "output_type": "stream",
     "text": [
      "search for root_dir and set working directory\n",
      "Working directory set to: /mnt/ssd/git/wft21_septum_landmark_detection\n",
      "['/gpu:0', '/gpu:1']\n",
      "{'GPU_IDS': '0,1', 'GPUS': ['/gpu:0', '/gpu:1'], 'SEED': 42, 'EXPERIMENT': 'temp/spacing_1_8/', 'EXPERIMENTS_ROOT': 'exp/', 'EXP_PATH': 'exp/temp/spacing_1_8/2021-04-16_10_57', 'MODEL_PATH': 'exp/temp/spacing_1_8/2021-04-16_10_57/model', 'TENSORBOARD_PATH': 'exp/temp/spacing_1_8/2021-04-16_10_57/tensorboard_logs', 'CONFIG_PATH': 'exp/temp/spacing_1_8/2021-04-16_10_57/config', 'HISTORY_PATH': 'exp/temp/spacing_1_8/2021-04-16_10_57/history', 'DATA_PATH_SAX': '/mnt/ssd/data/acdc/2D/insertion_points_export', 'DF_FOLDS': '/mnt/ssd/data/acdc/2D/df_kfold.csv', 'DF_META': '/mnt/ssd/data/gcn/02_imported_4D_unfiltered/SAx_3D_dicomTags_phase', 'FOLD': 0, 'BATCHSIZE': 8, 'GENERATOR_WORKER': 8, 'EPOCHS': 100, 'DIM': [128, 128], 'SPACING': [1.8, 1.8], 'DEPTH': 4, 'FILTERS': 32, 'M_POOL': [2, 2], 'F_SIZE': [3, 3], 'BN_FIRST': False, 'BATCH_NORMALISATION': True, 'PAD': 'same', 'KERNEL_INIT': 'he_normal', 'OPTIMIZER': 'adam', 'ACTIVATION': 'relu', 'LEARNING_RATE': 0.0001, 'REDUCE_LR_ON_PLAEAU_PATIENCE': 5, 'DECAY_FACTOR': 0.7, 'POLY_LR_DECAY': False, 'MIN_LR': 1e-12, 'DROPOUT_MIN': 0.3, 'DROPOUT_MAX': 0.5, 'MONITOR_FUNCTION': 'loss', 'MONITOR_MODE': 'min', 'SAVE_MODEL_FUNCTION': 'loss', 'SAVE_MODEL_MODE': 'min', 'MODEL_PATIENCE': 20, 'SAVE_LEARNING_PROGRESS_AS_TF': True, 'IMG_CHANNELS': 1, 'MASK_VALUES': [1, 2], 'MASK_CLASSES': 2, 'BORDER_MODE': 4, 'IMG_INTERPOLATION': 1, 'MSK_INTERPOLATION': 0, 'AUGMENT': True, 'AUGMENT_PROB': 0.8, 'SHUFFLE': True, 'RESAMPLE': True, 'HIST_MATCHING': False, 'SCALER': 'MinMax', 'LOSS_FUNCTION': <function bce_dice_loss at 0x7efd08061598>}\n"
     ]
    }
   ],
   "source": [
    "# ------------------------------------------define logging and working directory\n",
    "from ProjectRoot import change_wd_to_project_root\n",
    "change_wd_to_project_root()\n",
    "from src.utils.Tensorflow_helper import choose_gpu_by_id\n",
    "# ------------------------------------------define GPU id/s to use\n",
    "GPU_IDS = '0,1'\n",
    "GPUS = choose_gpu_by_id(GPU_IDS)\n",
    "print(GPUS)\n",
    "# ------------------------------------------jupyter magic config\n",
    "%matplotlib inline\n",
    "%reload_ext autoreload\n",
    "%autoreload 2\n",
    "# ------------------------------------------ import helpers\n",
    "# Notebook_imports should import glob, os, and many other standard libs\n",
    "from src.utils.Notebook_imports import *\n",
    "from tensorflow.python.client import device_lib\n",
    "import tensorflow as tf\n",
    "tf.get_logger().setLevel('ERROR')\n",
    "# local imports\n",
    "from src.utils.Utils_io import Console_and_file_logger, init_config\n",
    "from src.visualization.Visualize import show_2D_or_3D, show_phases, show_phases_transpose\n",
    "from src.utils.KerasCallbacks import get_callbacks\n",
    "from src.data.Dataset import get_trainings_files\n",
    "from src.data.Generators import DataGenerator\n",
    "import src.models.Loss_and_metrics as metr\n",
    "\n",
    "# import external libs\n",
    "import cv2\n",
    "import pandas as pd\n",
    "\n",
    "\n",
    "EXPERIMENT = 'temp/spacing_1_8/'\n",
    "#EXPERIMENT = 'baseline_label_transpose_smooth05/36_5_BiLSTM32_NoBn_conv5_size1_CCE_NOphaseaug_NOaug_b8'\n",
    "# EXPERIMENT = 'mased_scores/36_5_BiLSTM32_NoBn_conv5_size1_CCE_NOphaseaug_shift_rotate_reflectbordersgridaug'\n",
    "timestemp = str(datetime.datetime.now().strftime(\"%Y-%m-%d_%H_%M\")) # ad a timestep to each project to make repeated experiments unique\n",
    "\n",
    "EXPERIMENTS_ROOT = 'exp/'\n",
    "EXP_PATH = os.path.join(EXPERIMENTS_ROOT, EXPERIMENT, timestemp)\n",
    "MODEL_PATH = os.path.join(EXP_PATH, 'model', )\n",
    "TENSORBOARD_PATH = os.path.join(EXP_PATH, 'tensorboard_logs')\n",
    "CONFIG_PATH = os.path.join(EXP_PATH,'config')\n",
    "HISTORY_PATH = os.path.join(EXP_PATH, 'history')\n",
    "ensure_dir(MODEL_PATH)\n",
    "ensure_dir(TENSORBOARD_PATH)\n",
    "ensure_dir(CONFIG_PATH)\n",
    "ensure_dir(HISTORY_PATH)\n",
    "\n",
    "# define the input data paths and fold \n",
    "# first to the 4D Nrrd files, \n",
    "# second to a dataframe with a mapping of the Fold-number\n",
    "# Finally the path to the metadata\n",
    "DATA_PATH_SAX = '/mnt/ssd/data/acdc/2D/insertion_points_export'\n",
    "DF_FOLDS = '/mnt/ssd/data/acdc/2D/df_kfold.csv'\n",
    "DF_META = '/mnt/ssd/data/gcn/02_imported_4D_unfiltered/SAx_3D_dicomTags_phase'\n",
    "FOLD = 0\n",
    "\n",
    "# General params\n",
    "SEED = 42 # define a seed for the generator shuffle\n",
    "BATCHSIZE = 8 # 32, 64, 24, 16, 1 for 3D use: 4\n",
    "GENERATOR_WORKER = BATCHSIZE # if not set, use batchsize\n",
    "EPOCHS = 100\n",
    "\n",
    "DIM = [128, 128] # network input shape for spacing of 3, (z,y,x)\n",
    "SPACING = [1.8, 1.8] # if resample, resample to this spacing, (z,y,x)\n",
    "\n",
    "# Model params\n",
    "DEPTH = 4 # depth of the encoder\n",
    "FILTERS = 32 # initial number of filters, will be doubled after each downsampling block\n",
    "M_POOL = [2, 2]# size of max-pooling used for downsampling and upsampling\n",
    "F_SIZE = [3, 3] # conv filter size\n",
    "BN_FIRST = False # decide if batch normalisation between conv and activation or afterwards\n",
    "BATCH_NORMALISATION = True # apply BN or not\n",
    "PAD = 'same' # padding strategy of the conv layers\n",
    "KERNEL_INIT = 'he_normal' # conv weight initialisation\n",
    "OPTIMIZER = 'adam' # Adam, Adagrad, RMSprop, Adadelta,  # https://keras.io/optimizers/\n",
    "ACTIVATION = 'relu' # tf.keras.layers.LeakyReLU(), relu or any other non linear activation function\n",
    "LEARNING_RATE = 1e-4 # start with a huge lr to converge fast\n",
    "REDUCE_LR_ON_PLAEAU_PATIENCE = 5\n",
    "DECAY_FACTOR = 0.7 # Define a learning rate decay for the ReduceLROnPlateau callback\n",
    "POLY_LR_DECAY = False\n",
    "MIN_LR = 1e-12 # minimal lr, smaller lr does not improve the model\n",
    "DROPOUT_MIN = 0.3 # lower dropout at the shallow layers\n",
    "DROPOUT_MAX = 0.5 # higher dropout at the deep layers\n",
    "\n",
    "# Callback params\n",
    "MONITOR_FUNCTION = 'loss'\n",
    "MONITOR_MODE = 'min'\n",
    "SAVE_MODEL_FUNCTION = 'loss'\n",
    "SAVE_MODEL_MODE = 'min'\n",
    "MODEL_PATIENCE = 20\n",
    "SAVE_LEARNING_PROGRESS_AS_TF = True\n",
    "\n",
    "# Generator and Augmentation params\n",
    "IMG_CHANNELS = 1\n",
    "MASK_VALUES = [1, 2]  #channel order: Background, RV, MYO, LV\n",
    "MASK_CLASSES = len(MASK_VALUES) # no of labels\n",
    "BORDER_MODE = cv2.BORDER_REFLECT_101 # border mode for the data generation\n",
    "IMG_INTERPOLATION = cv2.INTER_LINEAR # image interpolation in the genarator\n",
    "MSK_INTERPOLATION = cv2.INTER_NEAREST # mask interpolation in the generator\n",
    "AUGMENT = True # a compose of 2D augmentation (grid distortion, 90degree rotation, brightness and shift)\n",
    "AUGMENT_PROB = 0.8 # will be randomely applied to 80% of the files with a random other histogram\n",
    "SHUFFLE = True\n",
    "RESAMPLE = True\n",
    "HIST_MATCHING = False\n",
    "SCALER = 'MinMax' # MinMax, Standard or Robust\n",
    "\n",
    "# Check if these channels are given\n",
    "metrics = [\n",
    "    metr.dice_coef_labels,\n",
    "    metr.dice_coef_myo,\n",
    "    metr.dice_coef_lv,\n",
    "    #metr.dice_coef_rv\n",
    "]\n",
    "\n",
    "LOSS_FUNCTION = metr.bce_dice_loss\n",
    "\n",
    "Console_and_file_logger(EXPERIMENT, logging.INFO)\n",
    "config = init_config(config=locals(), save=True)\n",
    "print(config)\n",
    "logging.info('Is built with tensorflow: {}'.format(tf.test.is_built_with_cuda()))\n",
    "logging.info('Visible devices:\\n{}'.format(tf.config.list_physical_devices()))\n",
    "logging.info('Local devices: \\n {}'.format(device_lib.list_local_devices()))"
   ]
  },
  {
   "cell_type": "markdown",
   "metadata": {},
   "source": [
    "# Datagenerators"
   ]
  },
  {
   "cell_type": "code",
   "execution_count": 15,
   "metadata": {},
   "outputs": [
    {
     "name": "stderr",
     "output_type": "stream",
     "text": [
      "2021-04-16 10:57:39,780 INFO Found 188 images/masks in /mnt/ssd/data/acdc/2D/insertion_points_export\n",
      "2021-04-16 10:57:39,780 INFO Patients train: 75\n",
      "2021-04-16 10:57:39,787 INFO Selected 132 of 188 files with 75 of 100 patients for training fold 0\n",
      "2021-04-16 10:57:39,787 INFO SAX train CMR: 132, SAX train masks: 132\n",
      "2021-04-16 10:57:39,788 INFO SAX val CMR: 56, SAX val masks: 56\n",
      "2021-04-16 10:57:39,788 INFO Create DataGenerator\n",
      "2021-04-16 10:57:39,789 INFO Datagenerator created with: \n",
      " shape: [128, 128]\n",
      " spacing: [1.8, 1.8]\n",
      " batchsize: 8\n",
      " Scaler: MinMax\n",
      " Images: 132 \n",
      " Augment: True \n",
      " Thread workers: 8\n",
      "2021-04-16 10:57:39,790 INFO Data will be augmented (shift,scale and rotate) with albumentation\n",
      "2021-04-16 10:57:39,790 INFO Create DataGenerator\n",
      "2021-04-16 10:57:39,791 INFO Datagenerator created with: \n",
      " shape: [128, 128]\n",
      " spacing: [1.8, 1.8]\n",
      " batchsize: 8\n",
      " Scaler: MinMax\n",
      " Images: 56 \n",
      " Augment: False \n",
      " Thread workers: 8\n",
      "2021-04-16 10:57:39,791 INFO No augmentation\n"
     ]
    }
   ],
   "source": [
    "# Load SAX volumes\n",
    "x_train, y_train, x_val, y_val =  get_trainings_files(data_path=DATA_PATH_SAX,path_to_folds_df=DF_FOLDS, fold=FOLD)\n",
    "logging.info('SAX train CMR: {}, SAX train masks: {}'.format(len(x_train), len(y_train)))\n",
    "logging.info('SAX val CMR: {}, SAX val masks: {}'.format(len(x_val), len(y_val)))\n",
    "\n",
    "# create a batch generator\n",
    "batch_generator = DataGenerator(x_train, y_train, config=config)\n",
    "val_config = config.copy()\n",
    "val_config['AUGMENT_GRID'] = False# make sure no augmentation will be applied to the validation data\n",
    "val_config['AUGMENT'] = False\n",
    "val_config['HIST_MATCHING'] = False\n",
    "validation_generator = DataGenerator(x_val, y_val , config=val_config)"
   ]
  },
  {
   "cell_type": "markdown",
   "metadata": {},
   "source": [
    "## Visualize one batch"
   ]
  },
  {
   "cell_type": "code",
   "execution_count": 16,
   "metadata": {
    "tags": []
   },
   "outputs": [
    {
     "data": {
      "application/vnd.jupyter.widget-view+json": {
       "model_id": "df0c4e4350424b468eb41c52f24712aa",
       "version_major": 2,
       "version_minor": 0
      },
      "text/plain": [
       "interactive(children=(IntSlider(value=8, description='batch', max=16), IntSlider(value=3, description='im', ma…"
      ]
     },
     "metadata": {},
     "output_type": "display_data"
    }
   ],
   "source": [
    "@interact\n",
    "def select_image_in_batch(batch = (0,len(batch_generator), 1), im = (0,BATCHSIZE- 1, 1), slice_n=(1,11), save=False, filepath='data/temp/', filename='temp_x.npy'):\n",
    "    \n",
    "    global x, y\n",
    "    x, y = batch_generator.__getitem__(batch)\n",
    "    info('selected batch : ' + str(batch))\n",
    "    # logging level == debug --> visualise the generator steps\n",
    "    info('X shape: {}, Y shape: {}'.format(x.shape, y.shape))\n",
    "    show_2D_or_3D(x[im], y[im], interpol='bilinear',dpi=100,f_size=(5,5))\n",
    "    plt.show()\n",
    "    \n",
    "    plt.hist(x[im].flatten())\n",
    "    plt.show()\n",
    "    if save:\n",
    "        ensure_dir(filepath)\n",
    "        np.save(os.path.join(filepath, filename), x[im])\n",
    "        logging.info('saved to {}'.format(os.path.join(filepath, filename)))"
   ]
  },
  {
   "cell_type": "markdown",
   "metadata": {},
   "source": [
    "# Load an existing config/model"
   ]
  },
  {
   "cell_type": "code",
   "execution_count": 5,
   "metadata": {},
   "outputs": [
    {
     "data": {
      "application/vnd.jupyter.widget-view+json": {
       "model_id": "8e2d5002045341d9bb621ec048b7802c",
       "version_major": 2,
       "version_minor": 0
      },
      "text/plain": [
       "FileChooser(path='/mnt/ssd/git/wft21_septum_landmark_detection/reports/configs', filename='config.json', title…"
      ]
     },
     "metadata": {},
     "output_type": "display_data"
    }
   ],
   "source": [
    "# Load a previous config and by this a pre-trained model\n",
    "from ipyfilechooser import FileChooser\n",
    "config_chooser = FileChooser(os.path.join(os.getcwd(),'reports/configs'), 'config.json')\n",
    "display(config_chooser)"
   ]
  },
  {
   "cell_type": "code",
   "execution_count": 6,
   "metadata": {},
   "outputs": [
    {
     "data": {
      "application/vnd.jupyter.widget-view+json": {
       "model_id": "7c17532ee84b491694b74c29ae90631f",
       "version_major": 2,
       "version_minor": 0
      },
      "text/plain": [
       "interactive(children=(Dropdown(description='config_file', options=(), value=None), Checkbox(value=False, descr…"
      ]
     },
     "metadata": {},
     "output_type": "display_data"
    }
   ],
   "source": [
    "@interact\n",
    "def interact_load_pretrained_model(config_file=glob.glob('reports/configs/{}/acdc/finetune/**/*.json'.format(config.get('ARCHITECTURE', '2D')), recursive=False), load=False):\n",
    "    \"\"\"\n",
    "    load past config for model training \n",
    "    \"\"\"\n",
    "    # load config with all params into global namespace\n",
    "    from src.models.ModelUtils import load_pretrained_model\n",
    "    if load:\n",
    "        with open(config_file, encoding='utf-8') as data_file:\n",
    "            config_temp = json.loads(data_file.read())\n",
    "        config_temp['LOSS_FUNCTION'] = config['LOSS_FUNCTION']\n",
    "        logging.info('Load model from Experiment: {}'.format(config_temp['EXPERIMENT']))\n",
    "        #logging.info('config:\\n {}'.format(json.dumps(config, indent=4, sort_keys=True)))\n",
    "    \n",
    "        try:\n",
    "            # Cell for automation of the model loading process\n",
    "            # load one basemodel for the finetuning task\n",
    "            # load model\n",
    "            globals()['model'] = load_pretrained_model(config_temp, metrics)\n",
    "            model.summary()\n",
    "        except Exception as e:\n",
    "            logging.error(str(e))"
   ]
  },
  {
   "cell_type": "markdown",
   "metadata": {},
   "source": [
    "## Create Model"
   ]
  },
  {
   "cell_type": "code",
   "execution_count": 17,
   "metadata": {
    "collapsed": true,
    "jupyter": {
     "outputs_hidden": true
    },
    "tags": []
   },
   "outputs": [
    {
     "name": "stderr",
     "output_type": "stream",
     "text": [
      "2021-04-16 10:57:47,746 INFO Create model\n"
     ]
    },
    {
     "name": "stdout",
     "output_type": "stream",
     "text": [
      "(None, 128, 128, 1)\n",
      "Model: \"unet\"\n",
      "__________________________________________________________________________________________________\n",
      "Layer (type)                    Output Shape         Param #     Connected to                     \n",
      "==================================================================================================\n",
      "input_2 (InputLayer)            [(None, 128, 128, 1) 0                                            \n",
      "__________________________________________________________________________________________________\n",
      "conv2d_22 (Conv2D)              (None, 128, 128, 32) 320         input_2[0][0]                    \n",
      "__________________________________________________________________________________________________\n",
      "batch_normalization_18 (BatchNo (None, 128, 128, 32) 128         conv2d_22[0][0]                  \n",
      "__________________________________________________________________________________________________\n",
      "dropout_9 (Dropout)             (None, 128, 128, 32) 0           batch_normalization_18[0][0]     \n",
      "__________________________________________________________________________________________________\n",
      "conv2d_23 (Conv2D)              (None, 128, 128, 32) 9248        dropout_9[0][0]                  \n",
      "__________________________________________________________________________________________________\n",
      "batch_normalization_19 (BatchNo (None, 128, 128, 32) 128         conv2d_23[0][0]                  \n",
      "__________________________________________________________________________________________________\n",
      "max_pooling2d_4 (MaxPooling2D)  (None, 64, 64, 32)   0           batch_normalization_19[0][0]     \n",
      "__________________________________________________________________________________________________\n",
      "conv2d_24 (Conv2D)              (None, 64, 64, 64)   18496       max_pooling2d_4[0][0]            \n",
      "__________________________________________________________________________________________________\n",
      "batch_normalization_20 (BatchNo (None, 64, 64, 64)   256         conv2d_24[0][0]                  \n",
      "__________________________________________________________________________________________________\n",
      "dropout_10 (Dropout)            (None, 64, 64, 64)   0           batch_normalization_20[0][0]     \n",
      "__________________________________________________________________________________________________\n",
      "conv2d_25 (Conv2D)              (None, 64, 64, 64)   36928       dropout_10[0][0]                 \n",
      "__________________________________________________________________________________________________\n",
      "batch_normalization_21 (BatchNo (None, 64, 64, 64)   256         conv2d_25[0][0]                  \n",
      "__________________________________________________________________________________________________\n",
      "max_pooling2d_5 (MaxPooling2D)  (None, 32, 32, 64)   0           batch_normalization_21[0][0]     \n",
      "__________________________________________________________________________________________________\n",
      "conv2d_26 (Conv2D)              (None, 32, 32, 128)  73856       max_pooling2d_5[0][0]            \n",
      "__________________________________________________________________________________________________\n",
      "batch_normalization_22 (BatchNo (None, 32, 32, 128)  512         conv2d_26[0][0]                  \n",
      "__________________________________________________________________________________________________\n",
      "dropout_11 (Dropout)            (None, 32, 32, 128)  0           batch_normalization_22[0][0]     \n",
      "__________________________________________________________________________________________________\n",
      "conv2d_27 (Conv2D)              (None, 32, 32, 128)  147584      dropout_11[0][0]                 \n",
      "__________________________________________________________________________________________________\n",
      "batch_normalization_23 (BatchNo (None, 32, 32, 128)  512         conv2d_27[0][0]                  \n",
      "__________________________________________________________________________________________________\n",
      "max_pooling2d_6 (MaxPooling2D)  (None, 16, 16, 128)  0           batch_normalization_23[0][0]     \n",
      "__________________________________________________________________________________________________\n",
      "conv2d_28 (Conv2D)              (None, 16, 16, 256)  295168      max_pooling2d_6[0][0]            \n",
      "__________________________________________________________________________________________________\n",
      "batch_normalization_24 (BatchNo (None, 16, 16, 256)  1024        conv2d_28[0][0]                  \n",
      "__________________________________________________________________________________________________\n",
      "dropout_12 (Dropout)            (None, 16, 16, 256)  0           batch_normalization_24[0][0]     \n",
      "__________________________________________________________________________________________________\n",
      "conv2d_29 (Conv2D)              (None, 16, 16, 256)  590080      dropout_12[0][0]                 \n",
      "__________________________________________________________________________________________________\n",
      "batch_normalization_25 (BatchNo (None, 16, 16, 256)  1024        conv2d_29[0][0]                  \n",
      "__________________________________________________________________________________________________\n",
      "max_pooling2d_7 (MaxPooling2D)  (None, 8, 8, 256)    0           batch_normalization_25[0][0]     \n",
      "__________________________________________________________________________________________________\n",
      "conv2d_30 (Conv2D)              (None, 8, 8, 512)    1180160     max_pooling2d_7[0][0]            \n",
      "__________________________________________________________________________________________________\n",
      "batch_normalization_26 (BatchNo (None, 8, 8, 512)    2048        conv2d_30[0][0]                  \n",
      "__________________________________________________________________________________________________\n",
      "dropout_13 (Dropout)            (None, 8, 8, 512)    0           batch_normalization_26[0][0]     \n",
      "__________________________________________________________________________________________________\n",
      "conv2d_31 (Conv2D)              (None, 8, 8, 512)    2359808     dropout_13[0][0]                 \n",
      "__________________________________________________________________________________________________\n",
      "batch_normalization_27 (BatchNo (None, 8, 8, 512)    2048        conv2d_31[0][0]                  \n",
      "__________________________________________________________________________________________________\n",
      "up_sampling2d_4 (UpSampling2D)  (None, 16, 16, 512)  0           batch_normalization_27[0][0]     \n",
      "__________________________________________________________________________________________________\n",
      "conv2d_32 (Conv2D)              (None, 16, 16, 256)  1179904     up_sampling2d_4[0][0]            \n",
      "__________________________________________________________________________________________________\n",
      "concatenate_4 (Concatenate)     (None, 16, 16, 512)  0           conv2d_32[0][0]                  \n",
      "                                                                 batch_normalization_25[0][0]     \n",
      "__________________________________________________________________________________________________\n",
      "conv2d_33 (Conv2D)              (None, 16, 16, 256)  1179904     concatenate_4[0][0]              \n",
      "__________________________________________________________________________________________________\n",
      "batch_normalization_28 (BatchNo (None, 16, 16, 256)  1024        conv2d_33[0][0]                  \n",
      "__________________________________________________________________________________________________\n",
      "dropout_14 (Dropout)            (None, 16, 16, 256)  0           batch_normalization_28[0][0]     \n",
      "__________________________________________________________________________________________________\n",
      "conv2d_34 (Conv2D)              (None, 16, 16, 256)  590080      dropout_14[0][0]                 \n",
      "__________________________________________________________________________________________________\n",
      "batch_normalization_29 (BatchNo (None, 16, 16, 256)  1024        conv2d_34[0][0]                  \n",
      "__________________________________________________________________________________________________\n",
      "up_sampling2d_5 (UpSampling2D)  (None, 32, 32, 256)  0           batch_normalization_29[0][0]     \n",
      "__________________________________________________________________________________________________\n",
      "conv2d_35 (Conv2D)              (None, 32, 32, 128)  295040      up_sampling2d_5[0][0]            \n",
      "__________________________________________________________________________________________________\n",
      "concatenate_5 (Concatenate)     (None, 32, 32, 256)  0           conv2d_35[0][0]                  \n",
      "                                                                 batch_normalization_23[0][0]     \n",
      "__________________________________________________________________________________________________\n",
      "conv2d_36 (Conv2D)              (None, 32, 32, 128)  295040      concatenate_5[0][0]              \n",
      "__________________________________________________________________________________________________\n",
      "batch_normalization_30 (BatchNo (None, 32, 32, 128)  512         conv2d_36[0][0]                  \n",
      "__________________________________________________________________________________________________\n",
      "dropout_15 (Dropout)            (None, 32, 32, 128)  0           batch_normalization_30[0][0]     \n",
      "__________________________________________________________________________________________________\n",
      "conv2d_37 (Conv2D)              (None, 32, 32, 128)  147584      dropout_15[0][0]                 \n",
      "__________________________________________________________________________________________________\n",
      "batch_normalization_31 (BatchNo (None, 32, 32, 128)  512         conv2d_37[0][0]                  \n",
      "__________________________________________________________________________________________________\n",
      "up_sampling2d_6 (UpSampling2D)  (None, 64, 64, 128)  0           batch_normalization_31[0][0]     \n",
      "__________________________________________________________________________________________________\n",
      "conv2d_38 (Conv2D)              (None, 64, 64, 64)   73792       up_sampling2d_6[0][0]            \n",
      "__________________________________________________________________________________________________\n",
      "concatenate_6 (Concatenate)     (None, 64, 64, 128)  0           conv2d_38[0][0]                  \n",
      "                                                                 batch_normalization_21[0][0]     \n",
      "__________________________________________________________________________________________________\n",
      "conv2d_39 (Conv2D)              (None, 64, 64, 64)   73792       concatenate_6[0][0]              \n",
      "__________________________________________________________________________________________________\n",
      "batch_normalization_32 (BatchNo (None, 64, 64, 64)   256         conv2d_39[0][0]                  \n",
      "__________________________________________________________________________________________________\n",
      "dropout_16 (Dropout)            (None, 64, 64, 64)   0           batch_normalization_32[0][0]     \n",
      "__________________________________________________________________________________________________\n",
      "conv2d_40 (Conv2D)              (None, 64, 64, 64)   36928       dropout_16[0][0]                 \n",
      "__________________________________________________________________________________________________\n",
      "batch_normalization_33 (BatchNo (None, 64, 64, 64)   256         conv2d_40[0][0]                  \n",
      "__________________________________________________________________________________________________\n",
      "up_sampling2d_7 (UpSampling2D)  (None, 128, 128, 64) 0           batch_normalization_33[0][0]     \n",
      "__________________________________________________________________________________________________\n",
      "conv2d_41 (Conv2D)              (None, 128, 128, 32) 18464       up_sampling2d_7[0][0]            \n",
      "__________________________________________________________________________________________________\n",
      "concatenate_7 (Concatenate)     (None, 128, 128, 64) 0           conv2d_41[0][0]                  \n",
      "                                                                 batch_normalization_19[0][0]     \n",
      "__________________________________________________________________________________________________\n",
      "conv2d_42 (Conv2D)              (None, 128, 128, 32) 18464       concatenate_7[0][0]              \n",
      "__________________________________________________________________________________________________\n",
      "batch_normalization_34 (BatchNo (None, 128, 128, 32) 128         conv2d_42[0][0]                  \n",
      "__________________________________________________________________________________________________\n",
      "dropout_17 (Dropout)            (None, 128, 128, 32) 0           batch_normalization_34[0][0]     \n",
      "__________________________________________________________________________________________________\n",
      "conv2d_43 (Conv2D)              (None, 128, 128, 32) 9248        dropout_17[0][0]                 \n",
      "__________________________________________________________________________________________________\n",
      "batch_normalization_35 (BatchNo (None, 128, 128, 32) 128         conv2d_43[0][0]                  \n",
      "__________________________________________________________________________________________________\n",
      "unet (Conv2D)                   (None, 128, 128, 2)  66          batch_normalization_35[0][0]     \n",
      "==================================================================================================\n",
      "Total params: 8,641,730\n",
      "Trainable params: 8,635,842\n",
      "Non-trainable params: 5,888\n",
      "__________________________________________________________________________________________________\n"
     ]
    }
   ],
   "source": [
    "\"\"\"\n",
    "load past config for model training \n",
    "\"\"\"\n",
    "if 'streategy' in locals():\n",
    "    pass\n",
    "else:\n",
    "    # distribute the training with the mirrored data paradigm across multiple gpus if available, if not use gpu 0\n",
    "    strategy = tf.distribute.MirroredStrategy(devices=config.get('GPUS', [\"/gpu:0\"]))\n",
    "\n",
    "import src.models.Unets as modelmanager\n",
    "with strategy.scope():\n",
    "    # create new model\n",
    "    logging.info('Create model')\n",
    "    model = modelmanager.create_unet(config, metrics, supervision=False)\n",
    "    model.summary()"
   ]
  },
  {
   "cell_type": "code",
   "execution_count": 8,
   "metadata": {},
   "outputs": [
    {
     "data": {
      "text/plain": [
       "'for b in range(len(batch_generator)):\\n    print(b)\\n    for im in range(BATCHSIZE):\\n        select_image_in_batch(batch=b,im=im, slice_n=5, show_overview=True, show_input_vol=True)'"
      ]
     },
     "execution_count": 8,
     "metadata": {},
     "output_type": "execute_result"
    }
   ],
   "source": [
    "# test if all batches are processable\n",
    "\"\"\"for b in range(len(batch_generator)):\n",
    "    print(b)\n",
    "    for im in range(BATCHSIZE):\n",
    "        select_image_in_batch(batch=b,im=im, slice_n=5, show_overview=True, show_input_vol=True)\"\"\""
   ]
  },
  {
   "cell_type": "code",
   "execution_count": 8,
   "metadata": {
    "tags": []
   },
   "outputs": [
    {
     "name": "stdout",
     "output_type": "stream",
     "text": [
      "('Failed to import pydot. You must `pip install pydot` and install graphviz (https://graphviz.gitlab.io/download/), ', 'for `pydotprint` to work.')\n"
     ]
    }
   ],
   "source": [
    "# write the model summary to a txt file\n",
    "# Open the file\n",
    "with open(os.path.join(EXP_PATH, 'model_summary.txt') ,'w') as fh:\n",
    "    # Pass the file handle in as a lambda function to make it callable\n",
    "    model.summary(print_fn=lambda x: fh.write(x + '\\n'))\n",
    "    \n",
    "tf.keras.utils.plot_model(\n",
    "    model, show_shapes=True,\n",
    "    to_file=os.path.join(EXP_PATH, 'model.png'),\n",
    "    show_layer_names=True, \n",
    "    rankdir='TB', \n",
    "    expand_nested=True, dpi=96\n",
    ")\n",
    "    \n",
    "#model.summary(line_length=150)"
   ]
  },
  {
   "cell_type": "code",
   "execution_count": 18,
   "metadata": {},
   "outputs": [
    {
     "name": "stderr",
     "output_type": "stream",
     "text": [
      "2021-04-16 10:57:55,136 INFO feed 4 Tensorboard is ready\n"
     ]
    },
    {
     "name": "stdout",
     "output_type": "stream",
     "text": [
      "Epoch 1/100\n",
      "15/16 [===========================>..] - ETA: 0s - loss: 0.4226 - dice_coef_labels: 8.0178e-04 - dice_coef_myo: 8.6684e-04 - dice_coef_lv: 7.6618e-04\n",
      "Epoch 00001: loss improved from inf to 0.42176, saving model to exp/temp/spacing_1_8/2021-04-16_10_57/model/model.h5\n",
      "16/16 [==============================] - 2s 95ms/step - loss: 0.4218 - dice_coef_labels: 8.1675e-04 - dice_coef_myo: 8.8637e-04 - dice_coef_lv: 7.7660e-04 - val_loss: 0.3711 - val_dice_coef_labels: 8.7760e-04 - val_dice_coef_myo: 8.3747e-04 - val_dice_coef_lv: 9.4591e-04 - lr: 1.0000e-04\n",
      "Epoch 2/100\n",
      "15/16 [===========================>..] - ETA: 0s - loss: 0.4015 - dice_coef_labels: 8.1036e-04 - dice_coef_myo: 8.6953e-04 - dice_coef_lv: 7.8151e-04\n",
      "Epoch 00002: loss improved from 0.42176 to 0.40102, saving model to exp/temp/spacing_1_8/2021-04-16_10_57/model/model.h5\n",
      "16/16 [==============================] - 7s 419ms/step - loss: 0.4010 - dice_coef_labels: 7.8535e-04 - dice_coef_myo: 8.3944e-04 - dice_coef_lv: 7.6161e-04 - val_loss: 0.3534 - val_dice_coef_labels: 8.4320e-04 - val_dice_coef_myo: 8.2453e-04 - val_dice_coef_lv: 8.9162e-04 - lr: 1.0000e-04\n",
      "Epoch 3/100\n",
      "15/16 [===========================>..] - ETA: 0s - loss: 0.3850 - dice_coef_labels: 8.0035e-04 - dice_coef_myo: 8.1466e-04 - dice_coef_lv: 8.1680e-04\n",
      "Epoch 00003: loss improved from 0.40102 to 0.38453, saving model to exp/temp/spacing_1_8/2021-04-16_10_57/model/model.h5\n",
      "16/16 [==============================] - 1s 51ms/step - loss: 0.3845 - dice_coef_labels: 7.8710e-04 - dice_coef_myo: 7.9938e-04 - dice_coef_lv: 8.0559e-04 - val_loss: 0.3383 - val_dice_coef_labels: 9.0018e-04 - val_dice_coef_myo: 8.5311e-04 - val_dice_coef_lv: 9.8095e-04 - lr: 1.0000e-04\n",
      "Epoch 4/100\n",
      "15/16 [===========================>..] - ETA: 0s - loss: 0.3708 - dice_coef_labels: 7.9862e-04 - dice_coef_myo: 8.0697e-04 - dice_coef_lv: 8.2120e-04"
     ]
    },
    {
     "ename": "KeyboardInterrupt",
     "evalue": "",
     "output_type": "error",
     "traceback": [
      "\u001b[0;31m---------------------------------------------------------------------------\u001b[0m",
      "\u001b[0;31mKeyboardInterrupt\u001b[0m                         Traceback (most recent call last)",
      "\u001b[0;32m<ipython-input-18-051c8bf90c50>\u001b[0m in \u001b[0;36m<module>\u001b[0;34m\u001b[0m\n\u001b[1;32m      8\u001b[0m     \u001b[0minitial_epoch\u001b[0m\u001b[0;34m=\u001b[0m\u001b[0minitial_epoch\u001b[0m\u001b[0;34m,\u001b[0m\u001b[0;34m\u001b[0m\u001b[0;34m\u001b[0m\u001b[0m\n\u001b[1;32m      9\u001b[0m     \u001b[0mmax_queue_size\u001b[0m\u001b[0;34m=\u001b[0m\u001b[0;36m12\u001b[0m\u001b[0;34m,\u001b[0m\u001b[0;34m\u001b[0m\u001b[0;34m\u001b[0m\u001b[0m\n\u001b[0;32m---> 10\u001b[0;31m     verbose=1)\n\u001b[0m",
      "\u001b[0;32m~/anaconda3/envs/foo/lib/python3.6/site-packages/tensorflow/python/keras/engine/training.py\u001b[0m in \u001b[0;36m_method_wrapper\u001b[0;34m(self, *args, **kwargs)\u001b[0m\n\u001b[1;32m    106\u001b[0m   \u001b[0;32mdef\u001b[0m \u001b[0m_method_wrapper\u001b[0m\u001b[0;34m(\u001b[0m\u001b[0mself\u001b[0m\u001b[0;34m,\u001b[0m \u001b[0;34m*\u001b[0m\u001b[0margs\u001b[0m\u001b[0;34m,\u001b[0m \u001b[0;34m**\u001b[0m\u001b[0mkwargs\u001b[0m\u001b[0;34m)\u001b[0m\u001b[0;34m:\u001b[0m\u001b[0;34m\u001b[0m\u001b[0;34m\u001b[0m\u001b[0m\n\u001b[1;32m    107\u001b[0m     \u001b[0;32mif\u001b[0m \u001b[0;32mnot\u001b[0m \u001b[0mself\u001b[0m\u001b[0;34m.\u001b[0m\u001b[0m_in_multi_worker_mode\u001b[0m\u001b[0;34m(\u001b[0m\u001b[0;34m)\u001b[0m\u001b[0;34m:\u001b[0m  \u001b[0;31m# pylint: disable=protected-access\u001b[0m\u001b[0;34m\u001b[0m\u001b[0;34m\u001b[0m\u001b[0m\n\u001b[0;32m--> 108\u001b[0;31m       \u001b[0;32mreturn\u001b[0m \u001b[0mmethod\u001b[0m\u001b[0;34m(\u001b[0m\u001b[0mself\u001b[0m\u001b[0;34m,\u001b[0m \u001b[0;34m*\u001b[0m\u001b[0margs\u001b[0m\u001b[0;34m,\u001b[0m \u001b[0;34m**\u001b[0m\u001b[0mkwargs\u001b[0m\u001b[0;34m)\u001b[0m\u001b[0;34m\u001b[0m\u001b[0;34m\u001b[0m\u001b[0m\n\u001b[0m\u001b[1;32m    109\u001b[0m \u001b[0;34m\u001b[0m\u001b[0m\n\u001b[1;32m    110\u001b[0m     \u001b[0;31m# Running inside `run_distribute_coordinator` already.\u001b[0m\u001b[0;34m\u001b[0m\u001b[0;34m\u001b[0m\u001b[0;34m\u001b[0m\u001b[0m\n",
      "\u001b[0;32m~/anaconda3/envs/foo/lib/python3.6/site-packages/tensorflow/python/keras/engine/training.py\u001b[0m in \u001b[0;36mfit\u001b[0;34m(self, x, y, batch_size, epochs, verbose, callbacks, validation_split, validation_data, shuffle, class_weight, sample_weight, initial_epoch, steps_per_epoch, validation_steps, validation_batch_size, validation_freq, max_queue_size, workers, use_multiprocessing)\u001b[0m\n\u001b[1;32m   1135\u001b[0m           \u001b[0mepoch_logs\u001b[0m\u001b[0;34m.\u001b[0m\u001b[0mupdate\u001b[0m\u001b[0;34m(\u001b[0m\u001b[0mval_logs\u001b[0m\u001b[0;34m)\u001b[0m\u001b[0;34m\u001b[0m\u001b[0;34m\u001b[0m\u001b[0m\n\u001b[1;32m   1136\u001b[0m \u001b[0;34m\u001b[0m\u001b[0m\n\u001b[0;32m-> 1137\u001b[0;31m         \u001b[0mcallbacks\u001b[0m\u001b[0;34m.\u001b[0m\u001b[0mon_epoch_end\u001b[0m\u001b[0;34m(\u001b[0m\u001b[0mepoch\u001b[0m\u001b[0;34m,\u001b[0m \u001b[0mepoch_logs\u001b[0m\u001b[0;34m)\u001b[0m\u001b[0;34m\u001b[0m\u001b[0;34m\u001b[0m\u001b[0m\n\u001b[0m\u001b[1;32m   1138\u001b[0m         \u001b[0mtraining_logs\u001b[0m \u001b[0;34m=\u001b[0m \u001b[0mepoch_logs\u001b[0m\u001b[0;34m\u001b[0m\u001b[0;34m\u001b[0m\u001b[0m\n\u001b[1;32m   1139\u001b[0m         \u001b[0;32mif\u001b[0m \u001b[0mself\u001b[0m\u001b[0;34m.\u001b[0m\u001b[0mstop_training\u001b[0m\u001b[0;34m:\u001b[0m\u001b[0;34m\u001b[0m\u001b[0;34m\u001b[0m\u001b[0m\n",
      "\u001b[0;32m~/anaconda3/envs/foo/lib/python3.6/site-packages/tensorflow/python/keras/callbacks.py\u001b[0m in \u001b[0;36mon_epoch_end\u001b[0;34m(self, epoch, logs)\u001b[0m\n\u001b[1;32m    414\u001b[0m         \u001b[0;32mif\u001b[0m \u001b[0mnumpy_logs\u001b[0m \u001b[0;32mis\u001b[0m \u001b[0;32mNone\u001b[0m\u001b[0;34m:\u001b[0m  \u001b[0;31m# Only convert once.\u001b[0m\u001b[0;34m\u001b[0m\u001b[0;34m\u001b[0m\u001b[0m\n\u001b[1;32m    415\u001b[0m           \u001b[0mnumpy_logs\u001b[0m \u001b[0;34m=\u001b[0m \u001b[0mtf_utils\u001b[0m\u001b[0;34m.\u001b[0m\u001b[0mto_numpy_or_python_type\u001b[0m\u001b[0;34m(\u001b[0m\u001b[0mlogs\u001b[0m\u001b[0;34m)\u001b[0m\u001b[0;34m\u001b[0m\u001b[0;34m\u001b[0m\u001b[0m\n\u001b[0;32m--> 416\u001b[0;31m         \u001b[0mcallback\u001b[0m\u001b[0;34m.\u001b[0m\u001b[0mon_epoch_end\u001b[0m\u001b[0;34m(\u001b[0m\u001b[0mepoch\u001b[0m\u001b[0;34m,\u001b[0m \u001b[0mnumpy_logs\u001b[0m\u001b[0;34m)\u001b[0m\u001b[0;34m\u001b[0m\u001b[0;34m\u001b[0m\u001b[0m\n\u001b[0m\u001b[1;32m    417\u001b[0m \u001b[0;34m\u001b[0m\u001b[0m\n\u001b[1;32m    418\u001b[0m   \u001b[0;32mdef\u001b[0m \u001b[0mon_train_batch_begin\u001b[0m\u001b[0;34m(\u001b[0m\u001b[0mself\u001b[0m\u001b[0;34m,\u001b[0m \u001b[0mbatch\u001b[0m\u001b[0;34m,\u001b[0m \u001b[0mlogs\u001b[0m\u001b[0;34m=\u001b[0m\u001b[0;32mNone\u001b[0m\u001b[0;34m)\u001b[0m\u001b[0;34m:\u001b[0m\u001b[0;34m\u001b[0m\u001b[0;34m\u001b[0m\u001b[0m\n",
      "\u001b[0;32m/mnt/ssd/git/wft21_septum_landmark_detection/src/utils/KerasCallbacks.py\u001b[0m in \u001b[0;36mon_epoch_end\u001b[0;34m(self, epoch, logs)\u001b[0m\n\u001b[1;32m    496\u001b[0m                                                          data=self.make_image(\n\u001b[1;32m    497\u001b[0m                                                              show_slice(img=x[i], mask=pred, show=False, f_size=self.f_size, dpi=self.dpi, interpol=self.interpol)),\n\u001b[0;32m--> 498\u001b[0;31m                                                          step=epoch)\n\u001b[0m\u001b[1;32m    499\u001b[0m \u001b[0;34m\u001b[0m\u001b[0m\n\u001b[1;32m    500\u001b[0m                                 tensorflow.summary.image(name='plot/{}/{}/_ground_truth'.format(key, i),\n",
      "\u001b[0;32m~/anaconda3/envs/foo/lib/python3.6/site-packages/tensorboard/plugins/image/summary_v2.py\u001b[0m in \u001b[0;36mimage\u001b[0;34m(name, data, step, max_outputs, description)\u001b[0m\n\u001b[1;32m    103\u001b[0m         \u001b[0;31m# are written, we pass callable to `tensor` parameter.\u001b[0m\u001b[0;34m\u001b[0m\u001b[0;34m\u001b[0m\u001b[0;34m\u001b[0m\u001b[0m\n\u001b[1;32m    104\u001b[0m         return tf.summary.write(\n\u001b[0;32m--> 105\u001b[0;31m             \u001b[0mtag\u001b[0m\u001b[0;34m=\u001b[0m\u001b[0mtag\u001b[0m\u001b[0;34m,\u001b[0m \u001b[0mtensor\u001b[0m\u001b[0;34m=\u001b[0m\u001b[0mlazy_tensor\u001b[0m\u001b[0;34m,\u001b[0m \u001b[0mstep\u001b[0m\u001b[0;34m=\u001b[0m\u001b[0mstep\u001b[0m\u001b[0;34m,\u001b[0m \u001b[0mmetadata\u001b[0m\u001b[0;34m=\u001b[0m\u001b[0msummary_metadata\u001b[0m\u001b[0;34m\u001b[0m\u001b[0;34m\u001b[0m\u001b[0m\n\u001b[0m\u001b[1;32m    106\u001b[0m         )\n",
      "\u001b[0;32m~/anaconda3/envs/foo/lib/python3.6/site-packages/tensorflow/python/ops/summary_ops_v2.py\u001b[0m in \u001b[0;36mwrite\u001b[0;34m(tag, tensor, step, metadata, name)\u001b[0m\n\u001b[1;32m    679\u001b[0m \u001b[0;34m\u001b[0m\u001b[0m\n\u001b[1;32m    680\u001b[0m     op = smart_cond.smart_cond(\n\u001b[0;32m--> 681\u001b[0;31m         _should_record_summaries_v2(), record, _nothing, name=\"summary_cond\")\n\u001b[0m\u001b[1;32m    682\u001b[0m     \u001b[0;32mif\u001b[0m \u001b[0;32mnot\u001b[0m \u001b[0mcontext\u001b[0m\u001b[0;34m.\u001b[0m\u001b[0mexecuting_eagerly\u001b[0m\u001b[0;34m(\u001b[0m\u001b[0;34m)\u001b[0m\u001b[0;34m:\u001b[0m\u001b[0;34m\u001b[0m\u001b[0;34m\u001b[0m\u001b[0m\n\u001b[1;32m    683\u001b[0m       \u001b[0mops\u001b[0m\u001b[0;34m.\u001b[0m\u001b[0madd_to_collection\u001b[0m\u001b[0;34m(\u001b[0m\u001b[0mops\u001b[0m\u001b[0;34m.\u001b[0m\u001b[0mGraphKeys\u001b[0m\u001b[0;34m.\u001b[0m\u001b[0m_SUMMARY_COLLECTION\u001b[0m\u001b[0;34m,\u001b[0m \u001b[0mop\u001b[0m\u001b[0;34m)\u001b[0m  \u001b[0;31m# pylint: disable=protected-access\u001b[0m\u001b[0;34m\u001b[0m\u001b[0;34m\u001b[0m\u001b[0m\n",
      "\u001b[0;32m~/anaconda3/envs/foo/lib/python3.6/site-packages/tensorflow/python/framework/smart_cond.py\u001b[0m in \u001b[0;36msmart_cond\u001b[0;34m(pred, true_fn, false_fn, name)\u001b[0m\n\u001b[1;32m     52\u001b[0m   \u001b[0;32mif\u001b[0m \u001b[0mpred_value\u001b[0m \u001b[0;32mis\u001b[0m \u001b[0;32mnot\u001b[0m \u001b[0;32mNone\u001b[0m\u001b[0;34m:\u001b[0m\u001b[0;34m\u001b[0m\u001b[0;34m\u001b[0m\u001b[0m\n\u001b[1;32m     53\u001b[0m     \u001b[0;32mif\u001b[0m \u001b[0mpred_value\u001b[0m\u001b[0;34m:\u001b[0m\u001b[0;34m\u001b[0m\u001b[0;34m\u001b[0m\u001b[0m\n\u001b[0;32m---> 54\u001b[0;31m       \u001b[0;32mreturn\u001b[0m \u001b[0mtrue_fn\u001b[0m\u001b[0;34m(\u001b[0m\u001b[0;34m)\u001b[0m\u001b[0;34m\u001b[0m\u001b[0;34m\u001b[0m\u001b[0m\n\u001b[0m\u001b[1;32m     55\u001b[0m     \u001b[0;32melse\u001b[0m\u001b[0;34m:\u001b[0m\u001b[0;34m\u001b[0m\u001b[0;34m\u001b[0m\u001b[0m\n\u001b[1;32m     56\u001b[0m       \u001b[0;32mreturn\u001b[0m \u001b[0mfalse_fn\u001b[0m\u001b[0;34m(\u001b[0m\u001b[0;34m)\u001b[0m\u001b[0;34m\u001b[0m\u001b[0;34m\u001b[0m\u001b[0m\n",
      "\u001b[0;32m~/anaconda3/envs/foo/lib/python3.6/site-packages/tensorflow/python/ops/summary_ops_v2.py\u001b[0m in \u001b[0;36mrecord\u001b[0;34m()\u001b[0m\n\u001b[1;32m    666\u001b[0m       \u001b[0;31m# Note the identity to move the tensor to the CPU.\u001b[0m\u001b[0;34m\u001b[0m\u001b[0;34m\u001b[0m\u001b[0;34m\u001b[0m\u001b[0m\n\u001b[1;32m    667\u001b[0m       \u001b[0;32mwith\u001b[0m \u001b[0mops\u001b[0m\u001b[0;34m.\u001b[0m\u001b[0mdevice\u001b[0m\u001b[0;34m(\u001b[0m\u001b[0;34m\"cpu:0\"\u001b[0m\u001b[0;34m)\u001b[0m\u001b[0;34m:\u001b[0m\u001b[0;34m\u001b[0m\u001b[0;34m\u001b[0m\u001b[0m\n\u001b[0;32m--> 668\u001b[0;31m         summary_tensor = tensor() if callable(tensor) else array_ops.identity(\n\u001b[0m\u001b[1;32m    669\u001b[0m             tensor)\n\u001b[1;32m    670\u001b[0m         write_summary_op = gen_summary_ops.write_summary(\n",
      "\u001b[0;32m~/anaconda3/envs/foo/lib/python3.6/site-packages/tensorboard/util/lazy_tensor_creator.py\u001b[0m in \u001b[0;36m__call__\u001b[0;34m(self)\u001b[0m\n\u001b[1;32m     64\u001b[0m                 \u001b[0;32melif\u001b[0m \u001b[0mself\u001b[0m\u001b[0;34m.\u001b[0m\u001b[0m_tensor\u001b[0m \u001b[0;32mis\u001b[0m \u001b[0;32mNone\u001b[0m\u001b[0;34m:\u001b[0m\u001b[0;34m\u001b[0m\u001b[0;34m\u001b[0m\u001b[0m\n\u001b[1;32m     65\u001b[0m                     \u001b[0mself\u001b[0m\u001b[0;34m.\u001b[0m\u001b[0m_tensor\u001b[0m \u001b[0;34m=\u001b[0m \u001b[0m_CALL_IN_PROGRESS_SENTINEL\u001b[0m\u001b[0;34m\u001b[0m\u001b[0;34m\u001b[0m\u001b[0m\n\u001b[0;32m---> 66\u001b[0;31m                     \u001b[0mself\u001b[0m\u001b[0;34m.\u001b[0m\u001b[0m_tensor\u001b[0m \u001b[0;34m=\u001b[0m \u001b[0mself\u001b[0m\u001b[0;34m.\u001b[0m\u001b[0m_tensor_callable\u001b[0m\u001b[0;34m(\u001b[0m\u001b[0;34m)\u001b[0m\u001b[0;34m\u001b[0m\u001b[0;34m\u001b[0m\u001b[0m\n\u001b[0m\u001b[1;32m     67\u001b[0m         \u001b[0;32mreturn\u001b[0m \u001b[0mself\u001b[0m\u001b[0;34m.\u001b[0m\u001b[0m_tensor\u001b[0m\u001b[0;34m\u001b[0m\u001b[0;34m\u001b[0m\u001b[0m\n\u001b[1;32m     68\u001b[0m \u001b[0;34m\u001b[0m\u001b[0m\n",
      "\u001b[0;32m~/anaconda3/envs/foo/lib/python3.6/site-packages/tensorboard/plugins/image/summary_v2.py\u001b[0m in \u001b[0;36mlazy_tensor\u001b[0;34m()\u001b[0m\n\u001b[1;32m     82\u001b[0m                 \u001b[0mlimited_images\u001b[0m\u001b[0;34m,\u001b[0m\u001b[0;34m\u001b[0m\u001b[0;34m\u001b[0m\u001b[0m\n\u001b[1;32m     83\u001b[0m                 \u001b[0mdtype\u001b[0m\u001b[0;34m=\u001b[0m\u001b[0mtf\u001b[0m\u001b[0;34m.\u001b[0m\u001b[0mstring\u001b[0m\u001b[0;34m,\u001b[0m\u001b[0;34m\u001b[0m\u001b[0;34m\u001b[0m\u001b[0m\n\u001b[0;32m---> 84\u001b[0;31m                 \u001b[0mname\u001b[0m\u001b[0;34m=\u001b[0m\u001b[0;34m\"encode_each_image\"\u001b[0m\u001b[0;34m,\u001b[0m\u001b[0;34m\u001b[0m\u001b[0;34m\u001b[0m\u001b[0m\n\u001b[0m\u001b[1;32m     85\u001b[0m             )\n\u001b[1;32m     86\u001b[0m             \u001b[0;31m# Workaround for map_fn returning float dtype for an empty elems input.\u001b[0m\u001b[0;34m\u001b[0m\u001b[0;34m\u001b[0m\u001b[0;34m\u001b[0m\u001b[0m\n",
      "\u001b[0;32m~/anaconda3/envs/foo/lib/python3.6/site-packages/tensorflow/python/util/deprecation.py\u001b[0m in \u001b[0;36mnew_func\u001b[0;34m(*args, **kwargs)\u001b[0m\n\u001b[1;32m    572\u001b[0m                   \u001b[0mfunc\u001b[0m\u001b[0;34m.\u001b[0m\u001b[0m__module__\u001b[0m\u001b[0;34m,\u001b[0m \u001b[0marg_name\u001b[0m\u001b[0;34m,\u001b[0m \u001b[0marg_value\u001b[0m\u001b[0;34m,\u001b[0m \u001b[0;34m'in a future version'\u001b[0m\u001b[0;34m\u001b[0m\u001b[0;34m\u001b[0m\u001b[0m\n\u001b[1;32m    573\u001b[0m                   if date is None else ('after %s' % date), instructions)\n\u001b[0;32m--> 574\u001b[0;31m       \u001b[0;32mreturn\u001b[0m \u001b[0mfunc\u001b[0m\u001b[0;34m(\u001b[0m\u001b[0;34m*\u001b[0m\u001b[0margs\u001b[0m\u001b[0;34m,\u001b[0m \u001b[0;34m**\u001b[0m\u001b[0mkwargs\u001b[0m\u001b[0;34m)\u001b[0m\u001b[0;34m\u001b[0m\u001b[0;34m\u001b[0m\u001b[0m\n\u001b[0m\u001b[1;32m    575\u001b[0m \u001b[0;34m\u001b[0m\u001b[0m\n\u001b[1;32m    576\u001b[0m     doc = _add_deprecated_arg_value_notice_to_docstring(\n",
      "\u001b[0;32m~/anaconda3/envs/foo/lib/python3.6/site-packages/tensorflow/python/util/deprecation.py\u001b[0m in \u001b[0;36mnew_func\u001b[0;34m(*args, **kwargs)\u001b[0m\n\u001b[1;32m    505\u001b[0m                 \u001b[0;34m'in a future version'\u001b[0m \u001b[0;32mif\u001b[0m \u001b[0mdate\u001b[0m \u001b[0;32mis\u001b[0m \u001b[0;32mNone\u001b[0m \u001b[0;32melse\u001b[0m \u001b[0;34m(\u001b[0m\u001b[0;34m'after %s'\u001b[0m \u001b[0;34m%\u001b[0m \u001b[0mdate\u001b[0m\u001b[0;34m)\u001b[0m\u001b[0;34m,\u001b[0m\u001b[0;34m\u001b[0m\u001b[0;34m\u001b[0m\u001b[0m\n\u001b[1;32m    506\u001b[0m                 instructions)\n\u001b[0;32m--> 507\u001b[0;31m       \u001b[0;32mreturn\u001b[0m \u001b[0mfunc\u001b[0m\u001b[0;34m(\u001b[0m\u001b[0;34m*\u001b[0m\u001b[0margs\u001b[0m\u001b[0;34m,\u001b[0m \u001b[0;34m**\u001b[0m\u001b[0mkwargs\u001b[0m\u001b[0;34m)\u001b[0m\u001b[0;34m\u001b[0m\u001b[0;34m\u001b[0m\u001b[0m\n\u001b[0m\u001b[1;32m    508\u001b[0m \u001b[0;34m\u001b[0m\u001b[0m\n\u001b[1;32m    509\u001b[0m     doc = _add_deprecated_arg_notice_to_docstring(\n",
      "\u001b[0;32m~/anaconda3/envs/foo/lib/python3.6/site-packages/tensorflow/python/ops/map_fn.py\u001b[0m in \u001b[0;36mmap_fn_v2\u001b[0;34m(fn, elems, dtype, parallel_iterations, back_prop, swap_memory, infer_shape, name, fn_output_signature)\u001b[0m\n\u001b[1;32m    639\u001b[0m       \u001b[0mswap_memory\u001b[0m\u001b[0;34m=\u001b[0m\u001b[0mswap_memory\u001b[0m\u001b[0;34m,\u001b[0m\u001b[0;34m\u001b[0m\u001b[0;34m\u001b[0m\u001b[0m\n\u001b[1;32m    640\u001b[0m       \u001b[0minfer_shape\u001b[0m\u001b[0;34m=\u001b[0m\u001b[0minfer_shape\u001b[0m\u001b[0;34m,\u001b[0m\u001b[0;34m\u001b[0m\u001b[0;34m\u001b[0m\u001b[0m\n\u001b[0;32m--> 641\u001b[0;31m       name=name)\n\u001b[0m\u001b[1;32m    642\u001b[0m \u001b[0;34m\u001b[0m\u001b[0m\n\u001b[1;32m    643\u001b[0m \u001b[0;34m\u001b[0m\u001b[0m\n",
      "\u001b[0;32m~/anaconda3/envs/foo/lib/python3.6/site-packages/tensorflow/python/util/deprecation.py\u001b[0m in \u001b[0;36mnew_func\u001b[0;34m(*args, **kwargs)\u001b[0m\n\u001b[1;32m    505\u001b[0m                 \u001b[0;34m'in a future version'\u001b[0m \u001b[0;32mif\u001b[0m \u001b[0mdate\u001b[0m \u001b[0;32mis\u001b[0m \u001b[0;32mNone\u001b[0m \u001b[0;32melse\u001b[0m \u001b[0;34m(\u001b[0m\u001b[0;34m'after %s'\u001b[0m \u001b[0;34m%\u001b[0m \u001b[0mdate\u001b[0m\u001b[0;34m)\u001b[0m\u001b[0;34m,\u001b[0m\u001b[0;34m\u001b[0m\u001b[0;34m\u001b[0m\u001b[0m\n\u001b[1;32m    506\u001b[0m                 instructions)\n\u001b[0;32m--> 507\u001b[0;31m       \u001b[0;32mreturn\u001b[0m \u001b[0mfunc\u001b[0m\u001b[0;34m(\u001b[0m\u001b[0;34m*\u001b[0m\u001b[0margs\u001b[0m\u001b[0;34m,\u001b[0m \u001b[0;34m**\u001b[0m\u001b[0mkwargs\u001b[0m\u001b[0;34m)\u001b[0m\u001b[0;34m\u001b[0m\u001b[0;34m\u001b[0m\u001b[0m\n\u001b[0m\u001b[1;32m    508\u001b[0m \u001b[0;34m\u001b[0m\u001b[0m\n\u001b[1;32m    509\u001b[0m     doc = _add_deprecated_arg_notice_to_docstring(\n",
      "\u001b[0;32m~/anaconda3/envs/foo/lib/python3.6/site-packages/tensorflow/python/ops/map_fn.py\u001b[0m in \u001b[0;36mmap_fn\u001b[0;34m(fn, elems, dtype, parallel_iterations, back_prop, swap_memory, infer_shape, name, fn_output_signature)\u001b[0m\n\u001b[1;32m    497\u001b[0m         \u001b[0mback_prop\u001b[0m\u001b[0;34m=\u001b[0m\u001b[0mback_prop\u001b[0m\u001b[0;34m,\u001b[0m\u001b[0;34m\u001b[0m\u001b[0;34m\u001b[0m\u001b[0m\n\u001b[1;32m    498\u001b[0m         \u001b[0mswap_memory\u001b[0m\u001b[0;34m=\u001b[0m\u001b[0mswap_memory\u001b[0m\u001b[0;34m,\u001b[0m\u001b[0;34m\u001b[0m\u001b[0;34m\u001b[0m\u001b[0m\n\u001b[0;32m--> 499\u001b[0;31m         maximum_iterations=n)\n\u001b[0m\u001b[1;32m    500\u001b[0m     \u001b[0mresult_batchable\u001b[0m \u001b[0;34m=\u001b[0m \u001b[0;34m[\u001b[0m\u001b[0mr\u001b[0m\u001b[0;34m.\u001b[0m\u001b[0mstack\u001b[0m\u001b[0;34m(\u001b[0m\u001b[0;34m)\u001b[0m \u001b[0;32mfor\u001b[0m \u001b[0mr\u001b[0m \u001b[0;32min\u001b[0m \u001b[0mr_a\u001b[0m\u001b[0;34m]\u001b[0m\u001b[0;34m\u001b[0m\u001b[0;34m\u001b[0m\u001b[0m\n\u001b[1;32m    501\u001b[0m \u001b[0;34m\u001b[0m\u001b[0m\n",
      "\u001b[0;32m~/anaconda3/envs/foo/lib/python3.6/site-packages/tensorflow/python/ops/control_flow_ops.py\u001b[0m in \u001b[0;36mwhile_loop\u001b[0;34m(cond, body, loop_vars, shape_invariants, parallel_iterations, back_prop, swap_memory, name, maximum_iterations, return_same_structure)\u001b[0m\n\u001b[1;32m   2733\u001b[0m                                               list(loop_vars))\n\u001b[1;32m   2734\u001b[0m       \u001b[0;32mwhile\u001b[0m \u001b[0mcond\u001b[0m\u001b[0;34m(\u001b[0m\u001b[0;34m*\u001b[0m\u001b[0mloop_vars\u001b[0m\u001b[0;34m)\u001b[0m\u001b[0;34m:\u001b[0m\u001b[0;34m\u001b[0m\u001b[0;34m\u001b[0m\u001b[0m\n\u001b[0;32m-> 2735\u001b[0;31m         \u001b[0mloop_vars\u001b[0m \u001b[0;34m=\u001b[0m \u001b[0mbody\u001b[0m\u001b[0;34m(\u001b[0m\u001b[0;34m*\u001b[0m\u001b[0mloop_vars\u001b[0m\u001b[0;34m)\u001b[0m\u001b[0;34m\u001b[0m\u001b[0;34m\u001b[0m\u001b[0m\n\u001b[0m\u001b[1;32m   2736\u001b[0m         \u001b[0;32mif\u001b[0m \u001b[0mtry_to_pack\u001b[0m \u001b[0;32mand\u001b[0m \u001b[0;32mnot\u001b[0m \u001b[0misinstance\u001b[0m\u001b[0;34m(\u001b[0m\u001b[0mloop_vars\u001b[0m\u001b[0;34m,\u001b[0m \u001b[0;34m(\u001b[0m\u001b[0mlist\u001b[0m\u001b[0;34m,\u001b[0m \u001b[0m_basetuple\u001b[0m\u001b[0;34m)\u001b[0m\u001b[0;34m)\u001b[0m\u001b[0;34m:\u001b[0m\u001b[0;34m\u001b[0m\u001b[0;34m\u001b[0m\u001b[0m\n\u001b[1;32m   2737\u001b[0m           \u001b[0mpacked\u001b[0m \u001b[0;34m=\u001b[0m \u001b[0;32mTrue\u001b[0m\u001b[0;34m\u001b[0m\u001b[0;34m\u001b[0m\u001b[0m\n",
      "\u001b[0;32m~/anaconda3/envs/foo/lib/python3.6/site-packages/tensorflow/python/ops/control_flow_ops.py\u001b[0m in \u001b[0;36m<lambda>\u001b[0;34m(i, lv)\u001b[0m\n\u001b[1;32m   2724\u001b[0m         cond = lambda i, lv: (  # pylint: disable=g-long-lambda\n\u001b[1;32m   2725\u001b[0m             math_ops.logical_and(i < maximum_iterations, orig_cond(*lv)))\n\u001b[0;32m-> 2726\u001b[0;31m         \u001b[0mbody\u001b[0m \u001b[0;34m=\u001b[0m \u001b[0;32mlambda\u001b[0m \u001b[0mi\u001b[0m\u001b[0;34m,\u001b[0m \u001b[0mlv\u001b[0m\u001b[0;34m:\u001b[0m \u001b[0;34m(\u001b[0m\u001b[0mi\u001b[0m \u001b[0;34m+\u001b[0m \u001b[0;36m1\u001b[0m\u001b[0;34m,\u001b[0m \u001b[0morig_body\u001b[0m\u001b[0;34m(\u001b[0m\u001b[0;34m*\u001b[0m\u001b[0mlv\u001b[0m\u001b[0;34m)\u001b[0m\u001b[0;34m)\u001b[0m\u001b[0;34m\u001b[0m\u001b[0;34m\u001b[0m\u001b[0m\n\u001b[0m\u001b[1;32m   2727\u001b[0m       \u001b[0mtry_to_pack\u001b[0m \u001b[0;34m=\u001b[0m \u001b[0;32mFalse\u001b[0m\u001b[0;34m\u001b[0m\u001b[0;34m\u001b[0m\u001b[0m\n\u001b[1;32m   2728\u001b[0m \u001b[0;34m\u001b[0m\u001b[0m\n",
      "\u001b[0;32m~/anaconda3/envs/foo/lib/python3.6/site-packages/tensorflow/python/ops/map_fn.py\u001b[0m in \u001b[0;36mcompute\u001b[0;34m(i, tas)\u001b[0m\n\u001b[1;32m    481\u001b[0m       \u001b[0mag_ctx\u001b[0m \u001b[0;34m=\u001b[0m \u001b[0mautograph_ctx\u001b[0m\u001b[0;34m.\u001b[0m\u001b[0mcontrol_status_ctx\u001b[0m\u001b[0;34m(\u001b[0m\u001b[0;34m)\u001b[0m\u001b[0;34m\u001b[0m\u001b[0;34m\u001b[0m\u001b[0m\n\u001b[1;32m    482\u001b[0m       \u001b[0mautographed_fn\u001b[0m \u001b[0;34m=\u001b[0m \u001b[0mautograph\u001b[0m\u001b[0;34m.\u001b[0m\u001b[0mtf_convert\u001b[0m\u001b[0;34m(\u001b[0m\u001b[0mfn\u001b[0m\u001b[0;34m,\u001b[0m \u001b[0mag_ctx\u001b[0m\u001b[0;34m)\u001b[0m\u001b[0;34m\u001b[0m\u001b[0;34m\u001b[0m\u001b[0m\n\u001b[0;32m--> 483\u001b[0;31m       \u001b[0mresult_value\u001b[0m \u001b[0;34m=\u001b[0m \u001b[0mautographed_fn\u001b[0m\u001b[0;34m(\u001b[0m\u001b[0melems_value\u001b[0m\u001b[0;34m)\u001b[0m\u001b[0;34m\u001b[0m\u001b[0;34m\u001b[0m\u001b[0m\n\u001b[0m\u001b[1;32m    484\u001b[0m       \u001b[0mnest\u001b[0m\u001b[0;34m.\u001b[0m\u001b[0massert_same_structure\u001b[0m\u001b[0;34m(\u001b[0m\u001b[0mfn_output_signature\u001b[0m \u001b[0;32mor\u001b[0m \u001b[0melems\u001b[0m\u001b[0;34m,\u001b[0m \u001b[0mresult_value\u001b[0m\u001b[0;34m)\u001b[0m\u001b[0;34m\u001b[0m\u001b[0;34m\u001b[0m\u001b[0m\n\u001b[1;32m    485\u001b[0m       \u001b[0mresult_value_flat\u001b[0m \u001b[0;34m=\u001b[0m \u001b[0mnest\u001b[0m\u001b[0;34m.\u001b[0m\u001b[0mflatten\u001b[0m\u001b[0;34m(\u001b[0m\u001b[0mresult_value\u001b[0m\u001b[0;34m)\u001b[0m\u001b[0;34m\u001b[0m\u001b[0;34m\u001b[0m\u001b[0m\n",
      "\u001b[0;32m~/anaconda3/envs/foo/lib/python3.6/site-packages/tensorflow/python/util/dispatch.py\u001b[0m in \u001b[0;36mwrapper\u001b[0;34m(*args, **kwargs)\u001b[0m\n\u001b[1;32m    199\u001b[0m     \u001b[0;34m\"\"\"Call target, and fall back on dispatchers if there is a TypeError.\"\"\"\u001b[0m\u001b[0;34m\u001b[0m\u001b[0;34m\u001b[0m\u001b[0m\n\u001b[1;32m    200\u001b[0m     \u001b[0;32mtry\u001b[0m\u001b[0;34m:\u001b[0m\u001b[0;34m\u001b[0m\u001b[0;34m\u001b[0m\u001b[0m\n\u001b[0;32m--> 201\u001b[0;31m       \u001b[0;32mreturn\u001b[0m \u001b[0mtarget\u001b[0m\u001b[0;34m(\u001b[0m\u001b[0;34m*\u001b[0m\u001b[0margs\u001b[0m\u001b[0;34m,\u001b[0m \u001b[0;34m**\u001b[0m\u001b[0mkwargs\u001b[0m\u001b[0;34m)\u001b[0m\u001b[0;34m\u001b[0m\u001b[0;34m\u001b[0m\u001b[0m\n\u001b[0m\u001b[1;32m    202\u001b[0m     \u001b[0;32mexcept\u001b[0m \u001b[0;34m(\u001b[0m\u001b[0mTypeError\u001b[0m\u001b[0;34m,\u001b[0m \u001b[0mValueError\u001b[0m\u001b[0;34m)\u001b[0m\u001b[0;34m:\u001b[0m\u001b[0;34m\u001b[0m\u001b[0;34m\u001b[0m\u001b[0m\n\u001b[1;32m    203\u001b[0m       \u001b[0;31m# Note: convert_to_eager_tensor currently raises a ValueError, not a\u001b[0m\u001b[0;34m\u001b[0m\u001b[0;34m\u001b[0m\u001b[0;34m\u001b[0m\u001b[0m\n",
      "\u001b[0;32m~/anaconda3/envs/foo/lib/python3.6/site-packages/tensorflow/python/ops/image_ops_impl.py\u001b[0m in \u001b[0;36mencode_png\u001b[0;34m(image, compression, name)\u001b[0m\n\u001b[1;32m   2588\u001b[0m   \"\"\"\n\u001b[1;32m   2589\u001b[0m   return gen_image_ops.encode_png(\n\u001b[0;32m-> 2590\u001b[0;31m       ops.convert_to_tensor(image), compression, name)\n\u001b[0m\u001b[1;32m   2591\u001b[0m \u001b[0;34m\u001b[0m\u001b[0m\n\u001b[1;32m   2592\u001b[0m \u001b[0;34m\u001b[0m\u001b[0m\n",
      "\u001b[0;32m~/anaconda3/envs/foo/lib/python3.6/site-packages/tensorflow/python/ops/gen_image_ops.py\u001b[0m in \u001b[0;36mencode_png\u001b[0;34m(image, compression, name)\u001b[0m\n\u001b[1;32m   1650\u001b[0m       _result = pywrap_tfe.TFE_Py_FastPathExecute(\n\u001b[1;32m   1651\u001b[0m         \u001b[0m_ctx\u001b[0m\u001b[0;34m.\u001b[0m\u001b[0m_context_handle\u001b[0m\u001b[0;34m,\u001b[0m \u001b[0mtld\u001b[0m\u001b[0;34m.\u001b[0m\u001b[0mdevice_name\u001b[0m\u001b[0;34m,\u001b[0m \u001b[0;34m\"EncodePng\"\u001b[0m\u001b[0;34m,\u001b[0m \u001b[0mname\u001b[0m\u001b[0;34m,\u001b[0m\u001b[0;34m\u001b[0m\u001b[0;34m\u001b[0m\u001b[0m\n\u001b[0;32m-> 1652\u001b[0;31m         tld.op_callbacks, image, \"compression\", compression)\n\u001b[0m\u001b[1;32m   1653\u001b[0m       \u001b[0;32mreturn\u001b[0m \u001b[0m_result\u001b[0m\u001b[0;34m\u001b[0m\u001b[0;34m\u001b[0m\u001b[0m\n\u001b[1;32m   1654\u001b[0m     \u001b[0;32mexcept\u001b[0m \u001b[0m_core\u001b[0m\u001b[0;34m.\u001b[0m\u001b[0m_NotOkStatusException\u001b[0m \u001b[0;32mas\u001b[0m \u001b[0me\u001b[0m\u001b[0;34m:\u001b[0m\u001b[0;34m\u001b[0m\u001b[0;34m\u001b[0m\u001b[0m\n",
      "\u001b[0;31mKeyboardInterrupt\u001b[0m: "
     ]
    }
   ],
   "source": [
    "initial_epoch = 0\n",
    "\n",
    "results = model.fit(\n",
    "    x=batch_generator,\n",
    "    validation_data=validation_generator,\n",
    "    epochs=EPOCHS,\n",
    "    callbacks = get_callbacks(config, batch_generator,validation_generator),\n",
    "    initial_epoch=initial_epoch,\n",
    "    max_queue_size=12,\n",
    "    verbose=1)"
   ]
  },
  {
   "cell_type": "code",
   "execution_count": null,
   "metadata": {},
   "outputs": [],
   "source": []
  }
 ],
 "metadata": {
  "kernelspec": {
   "display_name": "foo kernel",
   "language": "python",
   "name": "foo"
  },
  "language_info": {
   "codemirror_mode": {
    "name": "ipython",
    "version": 3
   },
   "file_extension": ".py",
   "mimetype": "text/x-python",
   "name": "python",
   "nbconvert_exporter": "python",
   "pygments_lexer": "ipython3",
   "version": "3.6.9"
  },
  "widgets": {
   "application/vnd.jupyter.widget-state+json": {
    "state": {
     "0193427503e3419394064a17f71f9b11": {
      "model_module": "@jupyter-widgets/controls",
      "model_module_version": "1.5.0",
      "model_name": "SliderStyleModel",
      "state": {
       "description_width": ""
      }
     },
     "0560fbcf1cfa4567ab1d1b1aa8eb7427": {
      "model_module": "@jupyter-widgets/controls",
      "model_module_version": "1.5.0",
      "model_name": "IntSliderModel",
      "state": {
       "description": "batch",
       "layout": "IPY_MODEL_4b1fb9a7c3de4b1f814b13821d32516e",
       "max": 178,
       "style": "IPY_MODEL_0d9d85db70a84ad2b01018652235fbd5",
       "value": 89
      }
     },
     "0d9d85db70a84ad2b01018652235fbd5": {
      "model_module": "@jupyter-widgets/controls",
      "model_module_version": "1.5.0",
      "model_name": "SliderStyleModel",
      "state": {
       "description_width": ""
      }
     },
     "0eb87d59eb8a44b7be29ee7ae41232c6": {
      "model_module": "@jupyter-widgets/controls",
      "model_module_version": "1.5.0",
      "model_name": "CheckboxModel",
      "state": {
       "description": "save",
       "disabled": false,
       "layout": "IPY_MODEL_49d8d78fb04c445db535ca68bf8d333a",
       "style": "IPY_MODEL_8976a535dc2b4e4fb85babd725f66699",
       "value": false
      }
     },
     "14b978850a274cc5855b604f83bf755c": {
      "model_module": "@jupyter-widgets/controls",
      "model_module_version": "1.5.0",
      "model_name": "IntSliderModel",
      "state": {
       "description": "slice_n",
       "layout": "IPY_MODEL_e1c0e3e4efcf4728abaefd154369358d",
       "max": 11,
       "min": 1,
       "style": "IPY_MODEL_f0b7935bfecf497d844957ab3ac298b8",
       "value": 1
      }
     },
     "15a11845da104aec9050bd6e53b32c42": {
      "model_module": "@jupyter-widgets/base",
      "model_module_version": "1.2.0",
      "model_name": "LayoutModel",
      "state": {}
     },
     "182caf7442e44086a477c13b66ff2754": {
      "model_module": "@jupyter-widgets/controls",
      "model_module_version": "1.5.0",
      "model_name": "VBoxModel",
      "state": {
       "_dom_classes": [
        "widget-interact"
       ],
       "children": [
        "IPY_MODEL_0560fbcf1cfa4567ab1d1b1aa8eb7427",
        "IPY_MODEL_840c408ed1f448b9b1420aa75dc3fed5",
        "IPY_MODEL_62a541dfbd814ec5a1a2dc5e3ed42d52",
        "IPY_MODEL_648ed6ea30df457c96ef7c8b61421565",
        "IPY_MODEL_65aa61fe14434101a8f3901545a4803f",
        "IPY_MODEL_99828c2e16e14887b98096f61d8a992b",
        "IPY_MODEL_8622c2a5fc124402b3f22a83adca84e2"
       ],
       "layout": "IPY_MODEL_84a0690beb3a46ffa64e1cf4aad3349c"
      }
     },
     "18968d3a3a4b4235828b15005fb9acf6": {
      "model_module": "@jupyter-widgets/controls",
      "model_module_version": "1.5.0",
      "model_name": "DescriptionStyleModel",
      "state": {
       "description_width": ""
      }
     },
     "1aa1848215d145be97f5a5e59405dd87": {
      "model_module": "@jupyter-widgets/controls",
      "model_module_version": "1.5.0",
      "model_name": "TextModel",
      "state": {
       "description": "filepath",
       "layout": "IPY_MODEL_740ef7065b74479e928b2fac097a39c4",
       "style": "IPY_MODEL_7e51d0ef6d7f492d8b7a85cc63e4caa8",
       "value": "data/temp/"
      }
     },
     "1ac8372ec4644c0a924530e57aa2f3c8": {
      "model_module": "@jupyter-widgets/controls",
      "model_module_version": "1.5.0",
      "model_name": "IntSliderModel",
      "state": {
       "description": "slice_n",
       "layout": "IPY_MODEL_f2b42b5a95174bf6a9e949dffbb68c18",
       "max": 11,
       "min": 1,
       "style": "IPY_MODEL_975aaa2a84fc4d4583462edb08a2dd7c",
       "value": 6
      }
     },
     "2eae98590b7e48c5b288bfdfa73c4cce": {
      "model_module": "@jupyter-widgets/base",
      "model_module_version": "1.2.0",
      "model_name": "LayoutModel",
      "state": {}
     },
     "30a109638a2c419caeccb084d50b490e": {
      "model_module": "@jupyter-widgets/base",
      "model_module_version": "1.2.0",
      "model_name": "LayoutModel",
      "state": {}
     },
     "315615d7ac394d80853e17f5fe75c974": {
      "model_module": "@jupyter-widgets/base",
      "model_module_version": "1.2.0",
      "model_name": "LayoutModel",
      "state": {}
     },
     "338925d62b5b43b98b58f9c057136707": {
      "model_module": "@jupyter-widgets/controls",
      "model_module_version": "1.5.0",
      "model_name": "IntSliderModel",
      "state": {
       "description": "batch",
       "layout": "IPY_MODEL_b4a6f813ba734e02bcd42a662291fab2",
       "max": 178,
       "style": "IPY_MODEL_38b5714b68434112b531008246c22d4d",
       "value": 57
      }
     },
     "35c879af9eb14e618e2d030a16d6c93c": {
      "model_module": "@jupyter-widgets/controls",
      "model_module_version": "1.5.0",
      "model_name": "IntSliderModel",
      "state": {
       "description": "im",
       "layout": "IPY_MODEL_da2d1c2d079b44bd94fcc513bcc218b3",
       "max": 7,
       "style": "IPY_MODEL_62d346d69f9c4e0d91748a3a942ab464",
       "value": 6
      }
     },
     "38b5714b68434112b531008246c22d4d": {
      "model_module": "@jupyter-widgets/controls",
      "model_module_version": "1.5.0",
      "model_name": "SliderStyleModel",
      "state": {
       "description_width": ""
      }
     },
     "437c9a0e3e84498eac1d5e7fb83816d3": {
      "model_module": "@jupyter-widgets/controls",
      "model_module_version": "1.5.0",
      "model_name": "DescriptionStyleModel",
      "state": {
       "description_width": ""
      }
     },
     "483d5f9af8bb496784d3fde849dded3d": {
      "model_module": "@jupyter-widgets/controls",
      "model_module_version": "1.5.0",
      "model_name": "DescriptionStyleModel",
      "state": {
       "description_width": ""
      }
     },
     "49d8d78fb04c445db535ca68bf8d333a": {
      "model_module": "@jupyter-widgets/base",
      "model_module_version": "1.2.0",
      "model_name": "LayoutModel",
      "state": {}
     },
     "4b1fb9a7c3de4b1f814b13821d32516e": {
      "model_module": "@jupyter-widgets/base",
      "model_module_version": "1.2.0",
      "model_name": "LayoutModel",
      "state": {}
     },
     "5050f75780254c0bac3b16af4dbedc82": {
      "model_module": "@jupyter-widgets/base",
      "model_module_version": "1.2.0",
      "model_name": "LayoutModel",
      "state": {}
     },
     "51a38320719647b98065a3388dededa4": {
      "model_module": "@jupyter-widgets/controls",
      "model_module_version": "1.5.0",
      "model_name": "CheckboxModel",
      "state": {
       "description": "save",
       "disabled": false,
       "layout": "IPY_MODEL_53b39bb0d4a9474cbce72a3005029f68",
       "style": "IPY_MODEL_483d5f9af8bb496784d3fde849dded3d",
       "value": false
      }
     },
     "52c0d963b6084af6bf6638c8151841ef": {
      "model_module": "@jupyter-widgets/controls",
      "model_module_version": "1.5.0",
      "model_name": "DescriptionStyleModel",
      "state": {
       "description_width": ""
      }
     },
     "53b39bb0d4a9474cbce72a3005029f68": {
      "model_module": "@jupyter-widgets/base",
      "model_module_version": "1.2.0",
      "model_name": "LayoutModel",
      "state": {}
     },
     "5500f0bb63594d6db92c8ee11c0e3a0b": {
      "model_module": "@jupyter-widgets/controls",
      "model_module_version": "1.5.0",
      "model_name": "IntSliderModel",
      "state": {
       "description": "batch",
       "layout": "IPY_MODEL_668f3a7438284eefa2b420aeecc19af2",
       "max": 16,
       "style": "IPY_MODEL_0193427503e3419394064a17f71f9b11",
       "value": 8
      }
     },
     "596be7372f8244bb8f5a5c86133a745f": {
      "model_module": "@jupyter-widgets/controls",
      "model_module_version": "1.5.0",
      "model_name": "SliderStyleModel",
      "state": {
       "description_width": ""
      }
     },
     "5a694c2c46c941a59e2346103a59d518": {
      "model_module": "@jupyter-widgets/base",
      "model_module_version": "1.2.0",
      "model_name": "LayoutModel",
      "state": {}
     },
     "60a1236010344852ae6fbe729085242c": {
      "model_module": "@jupyter-widgets/base",
      "model_module_version": "1.2.0",
      "model_name": "LayoutModel",
      "state": {}
     },
     "62a541dfbd814ec5a1a2dc5e3ed42d52": {
      "model_module": "@jupyter-widgets/controls",
      "model_module_version": "1.5.0",
      "model_name": "IntSliderModel",
      "state": {
       "description": "slice_n",
       "layout": "IPY_MODEL_2eae98590b7e48c5b288bfdfa73c4cce",
       "max": 11,
       "min": 1,
       "style": "IPY_MODEL_f991d22533e742f181d49c5dd4cb9a2d",
       "value": 6
      }
     },
     "62d346d69f9c4e0d91748a3a942ab464": {
      "model_module": "@jupyter-widgets/controls",
      "model_module_version": "1.5.0",
      "model_name": "SliderStyleModel",
      "state": {
       "description_width": ""
      }
     },
     "6413b07ac67d447583ab8dc161e0e7ce": {
      "model_module": "@jupyter-widgets/controls",
      "model_module_version": "1.5.0",
      "model_name": "SliderStyleModel",
      "state": {
       "description_width": ""
      }
     },
     "648ed6ea30df457c96ef7c8b61421565": {
      "model_module": "@jupyter-widgets/controls",
      "model_module_version": "1.5.0",
      "model_name": "CheckboxModel",
      "state": {
       "description": "save",
       "disabled": false,
       "layout": "IPY_MODEL_f47532a7af7843f29efc2d99ad6944df",
       "style": "IPY_MODEL_bf404da4b309465299ae2d0070b26bca",
       "value": false
      }
     },
     "65aa61fe14434101a8f3901545a4803f": {
      "model_module": "@jupyter-widgets/controls",
      "model_module_version": "1.5.0",
      "model_name": "TextModel",
      "state": {
       "description": "filepath",
       "layout": "IPY_MODEL_77dce57c45f14c6d836ba3e200e20096",
       "style": "IPY_MODEL_18968d3a3a4b4235828b15005fb9acf6",
       "value": "data/temp/"
      }
     },
     "668f3a7438284eefa2b420aeecc19af2": {
      "model_module": "@jupyter-widgets/base",
      "model_module_version": "1.2.0",
      "model_name": "LayoutModel",
      "state": {}
     },
     "670b5f1e9bb046ea90350a9b30a90c68": {
      "model_module": "@jupyter-widgets/controls",
      "model_module_version": "1.5.0",
      "model_name": "TextModel",
      "state": {
       "description": "filename",
       "layout": "IPY_MODEL_15a11845da104aec9050bd6e53b32c42",
       "style": "IPY_MODEL_52c0d963b6084af6bf6638c8151841ef",
       "value": "temp_x.npy"
      }
     },
     "6aad5b054eaf4901931e1c83bd1fbb47": {
      "model_module": "@jupyter-widgets/base",
      "model_module_version": "1.2.0",
      "model_name": "LayoutModel",
      "state": {}
     },
     "740ef7065b74479e928b2fac097a39c4": {
      "model_module": "@jupyter-widgets/base",
      "model_module_version": "1.2.0",
      "model_name": "LayoutModel",
      "state": {}
     },
     "74ace0ec13e44e609f77f11626074b40": {
      "model_module": "@jupyter-widgets/base",
      "model_module_version": "1.2.0",
      "model_name": "LayoutModel",
      "state": {}
     },
     "77dce57c45f14c6d836ba3e200e20096": {
      "model_module": "@jupyter-widgets/base",
      "model_module_version": "1.2.0",
      "model_name": "LayoutModel",
      "state": {}
     },
     "7a2e1cf6262b4f8e9659e210f076113b": {
      "model_module": "@jupyter-widgets/output",
      "model_module_version": "1.0.0",
      "model_name": "OutputModel",
      "state": {
       "layout": "IPY_MODEL_6aad5b054eaf4901931e1c83bd1fbb47",
       "outputs": [
        {
         "name": "stderr",
         "output_type": "stream",
         "text": "2021-04-16 10:45:31,367 INFO selected batch : 57\n2021-04-16 10:45:31,368 INFO X shape: (8, 128, 128, 1), Y shape: (8, 128, 128, 3)\n"
        },
        {
         "data": {
          "image/png": "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\n",
          "text/plain": "<Figure size 500x500 with 1 Axes>"
         },
         "metadata": {
          "needs_background": "light"
         },
         "output_type": "display_data"
        },
        {
         "data": {
          "image/png": "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\n",
          "text/plain": "<Figure size 432x288 with 1 Axes>"
         },
         "metadata": {
          "needs_background": "light"
         },
         "output_type": "display_data"
        }
       ]
      }
     },
     "7e51d0ef6d7f492d8b7a85cc63e4caa8": {
      "model_module": "@jupyter-widgets/controls",
      "model_module_version": "1.5.0",
      "model_name": "DescriptionStyleModel",
      "state": {
       "description_width": ""
      }
     },
     "7f912f4c6a284f1f9a42ab905e6cd93d": {
      "model_module": "@jupyter-widgets/output",
      "model_module_version": "1.0.0",
      "model_name": "OutputModel",
      "state": {
       "layout": "IPY_MODEL_30a109638a2c419caeccb084d50b490e",
       "outputs": [
        {
         "name": "stderr",
         "output_type": "stream",
         "text": "2021-04-16 10:57:03,557 INFO selected batch : 8\n2021-04-16 10:57:03,558 INFO X shape: (8, 128, 128, 1), Y shape: (8, 128, 128, 3)\n"
        },
        {
         "data": {
          "image/png": "iVBORw0KGgoAAAANSUhEUgAAAd0AAAHdCAYAAABYPaNuAAAAOXRFWHRTb2Z0d2FyZQBNYXRwbG90bGliIHZlcnNpb24zLjMuMSwgaHR0cHM6Ly9tYXRwbG90bGliLm9yZy/d3fzzAAAACXBIWXMAAA9hAAAPYQGoP6dpAABlvklEQVR4nO2d6Q/dxnm9J11cO5ZkSZa1WJKtWPGaOHHsxkjQFiiCpgWaol/6DxdF0gRFnMT7rsWSta+WZadNl9+n8HfmSPdwhvfekZw8zycScy+HHA5J8D087/u1//u//ysAAACwff7kXu8AAADAHws8dAEAAAbBQxcAAGAQPHQBAAAGwUMXAABgEDx0AQAABsFDFwAAYBA8dAEAAAbBQxcAAGAQf9b6w6997WukrtoAX/va1xa19fz3z/6sPq0PPvjgtLxjx46qbdeuXdX6nj17puXdu3dXbbr+yCOPxO3ob71N9+/LL7+s2m7dujUtf/bZZ1XbpUuXqvWzZ89Oy2fOnFn529u3b1dt//u//1s2wTayuc3NgdHbXWe+bqL/TW1zU8exlNSHzyP/7abm2Z/+6Z9Oy3/yJ/X7lq7r70op5dFHH52W//qv/7pq+8lPflKt+71H+dnPfjYtv/XWW1XbP/7jP07LR48eXbmNbfHFF19U61//+tcXbeef/umfZicTb7oAAACD4KELAAAwiObwMixHw0WbCnN5GOehhx6alj2ErCFjDRWVUsq+ffuq9ccee+yu//P1FE4uZXl45j//8z+nZQ8v7927t1rfuXPntKzHX0opf/7nfz4tX7x4sWrT7f7P//zPov0spT5f64QAR4Q3R3O/hcnnQrirfjsihL6psfLt9GxXQ8p+b9FrUiWdUkq5efNmte73F+W3v/3ttPzf//3fVZtf66Px+5XKU/v3799oX7zpAgAADIKHLgAAwCAIL2+BnjBPT5uGTD28q2EdDxlreOTgwYNVm/+2NYScvlJch7/4i7+YljXUfbd1PWYPb2uI3UPP+qXzjRs3qjYPe41gaThzBD1h2cS9/kL4fhtXZZ0xbpWu0v98Xe8zpdSh5wsXLlRtv/71r6v1v/u7v1vZp94zvP/r169Py9euXavaXFYagd4zPfTt98VeeNMFAAAYBA9dAACAQfDQBQAAGASa7kI2pdOmNtU3S6k1TNdmdf3xxx+v2nT9wIEDVZtnlnr44YdX7t/9hh6zj4dq05qRq5Raozp9+nTVptpSKe0a75yeto3sVYmU1eheZ5LaFtuy3myCdc6/ZotK21lHG9ZrwjVd1WL/67/+q2p7//33q/Xnn39+Wj58+HDV5t9dKJcvX56WP/roo5X9l1JrvMeOHVu5zU2xrobr8KYLAAAwCB66AAAAgyC83Mi2bEAa1vFwsltkNBG4JwU/cuTIXZdLqUPK3scfKmqFOnToUNWWMuP87ne/q9bVLrBOoYR7Haa9n0OvS/u712Paw6aKGGxLGtD7kGZ6K6UON2tBklLuzFD1q1/9alr2TE4aFnbJR7PGeREUv+50X999992qTaW0J554omrzDHv3Ct50AQAABsFDFwAAYBA8dAEAAAbxR6/ppkoxS1OspT4eeOCBqk0tOp6S0T+Hf+qpp6Zl13T18/z0af6m+Pzzz+N6Qiv7eDFt1Xpcf3Yrg657oXrViLwot2rerhep3ltKbZHwQtdKz/wYbR8axaZSEm6if2dTY76p47rXerRX19J111v13uJVhc6dO1etnzhxYlr++OOPqzbVW5999tmqTbVZT83q16iey6tXr1Ztn3zyybT8xhtvVG1+X9RvPZ588smqzb+n2SS86QIAAAyChy4AAMAg/ujDyylTz6ZCQBoG9QxQ+lm9W308BPPNb35zWvbw8jbwT/fVLuAhIA8va+FrXS6lDhd5yFjD7V5Y2q0MOpbev4adPDyVrAsedtPw8qefflq16XF5+NLD5onW0OemQps9mYvuhdVoG4Xqe45Rt7MtKSDJWomec5e26//Tee7XvWZk0oxTpdQyTil1hSC/R+j969VXX63a9Fr3jFR+beu15RKUZq/ya9DvA5oFyysJJWulVi1zW1ILvOkCAAAMgocuAADAIHjoAgAADOKPTtPdlH6VdCCviqHVgVwDUB33mWeeqdqee+65at314E3gNhjVYbzijra5BuKWHbXeuE6q4+Oa6o4dO6ZlT9vm46q6i6dz1OPy/tW6MGcNUH3LU0ReuHBhZVuPvpj0vR5drpX7zcqyrT63MT5L/7dOGsjWykLr2Nb0+vFrW3Xa73znO1Xbyy+/XK2rhcjtPHo/8evue9/73rTs3254qkm917gFU/VWtwr6un5P4ttRXAvW+47f91rgTRcAAGAQPHQBAAAGwUMXAABgEH90mq6zVN9yTUT1AdcrVKs9fvx41aapHV3DdQ1zKeonvXLlStXmuou2q5ZTSq3JuHfO0ye6xqrocblPV/16qoV7/6XUGrd78nTffV++8Y1vrOzDtZ3kN1Zvo4+j60B/KPrrpmjd9/vNQ7zUtzsi9eechzcdp85Xv7bVi+vzXL23pdTpFP2bDL23uAdf/flairSU7PP3byn0+w3XcP0ekcZD70vu2dV7RNKCV8GbLgAAwCB46AIAAAzijy68vKlwlYcVtEKQp2/Uz+w9HLMkjdgcmt6slNraosul3JnGLYWX9fN4Da2WcqctpzW9poeXNZTjofBkL/LzodYFDyvpmPv58JCYpr3zMJfaifz43XahIbEeG9BSS8gINhWW3VTKyp7tbor7qY9NhbB9nut1qFV8Ssm2Rk0fWUodtn777bdX9u+ymoe79dry607DzX5P8HuNhp+Tvcj/p+cjyWir4E0XAABgEDx0AQAABsFDFwAAYBB/FJruJnRcj+trebhSSnn66aen5ZdeeqlqU03X/7cU/1T+zJkz07LrLlqSzjVc139VL/ESX0t1uaRTehpK1V/dIuTbUf3XNRnVn92eoGPlFggttVhKrdW/8MILVZtqTW6ZcrQsoutQyjoaZiv3wmrzVeVelCTs6cOtaa3b7UlFqteSfitRyp1l+F555ZWVfeq17WUyfTuKa7Oqo7r+q9f6nKar7b6dZEvSe5Ze163wpgsAADAIHroAAACD+IMML/dkYkm/05Dl7t27qzbNJFVKHULWihmlbK46kIZ+T548WbXpuoeX1SZ08+bNqs3Duxr69JCLhmfmsru0Zr9J1Xm8zUNp2u77qufO/3fixIlp+b333qvaPLysaHWiUmpJwcfVQ3Qalkt2Ih/XxKYsIl+lMHGrFe1e9LGpilA9EsOmQtppO2oPdMnH5Sq917hlSKWcdA24NdCvCQ13e5WfVhtQKfX9LFVdcluQ3iOTVLQK3nQBAAAGwUMXAABgEDx0AQAABvEHoen26C49bapJaPWMUkr51re+Va2rprspDddTNn744YfTsuqSpZRy+vTpadl1lpSuMNlw/JN710RacU1G9RvvX3XaVMnJt5v0Gtd0Na3dW2+9VbWpTltKKYcOHSqrUF3f7VVuU1Kd6tSpU1Wb6sHJAjI3z1s13hEVb+bYhP7ao0uOsGIl0pivUx0oWX2W4v2ppunfLqRKZI5eI369aOrJnTt3Vm1agaiU+lp3/VfvH36v82vLU9muIn3bsqQSHG+6AAAAg+ChCwAAMAgeugAAAIP4g9B050i6h7a5DnfkyJFpWUu8lXJnSsDk72zFU6G9//771brquJrKsJTaA+e+MtVAVLMt5U5NImkUPR7SpEMlbTj1kf6X2lzbUW+yp7VzrTxpug899NC07PPB031qGULXptVj7f7FpHE7rZrmOnrmvfb0av89mva20jluqmTh0j5GoP172kP/7kQ1Xtdi9d7i9yG9Z3kpP/+2RLfr92zVbV3DTd9L+P1D99Xb9Lwu+c6FN10AAIBB8NAFAAAYxB9EeHmdkJeGLg4cOFC1HT9+fFp2K8kTTzyxqD//TF1DyO+8807V5qFODYWm6hYeutFw5lw4pCeEnGgNifX0l37rIeTWMLWP1VI8zOVpQrXdbQ4apvb0nmrBcJuFH3Nr+sJNhU972FSFqlapaBRL+9zG/9apVpTQ7aq1p5Q77Yl6j/L7qd6HXGLR/fH0rz7Pk2WnZ57rPcJ/q23pXrLkPPKmCwAAMAgeugAAAIPgoQsAADCIr6ymu1ST8Pi8pmw8evRo1Xbs2LFpWe1DpfSl/1KLyrvvvlu1vfnmm9Pyxx9/XLVdvny5Wlc9xftXbdrbkibR81n9UlIaSG/r0Xh1O6nEluvY2oeX63vppZea++/h4MGD0/KePXuqNi0b6SlEdU5cunSpanNdX78XWCftYGpbqvEuLcO3jqZ8r+1NrTatTe3nps5Vwq8zT/uoZUX9u5dHH310WvZUjylta7q2l173pdTj42Ol2+25f7bAmy4AAMAgeOgCAAAM4isTXl6nklDKOqWftXslIQ0ve4ahhIaTS6lDyq+//nrV9sEHH0zLWv2mlDtDFxpC7qkAtI2QcQ+pf2/TUM7cfqfwmY6HZ+hSm5BbezyLzjZwm9L3vve9adltFrquVaZKKeXs2bPVumYl8zmYMlulcL/zVQnZ3g/cT5WM1iHZtNzG9umnn07LGmoupZZONNRcSp2xzSsZ+X0gzYEUMnbSb1vHMoW3V8GbLgAAwCB46AIAAAyChy4AAMAgvrKabmtbKbWFRu0ZpdSftX/zm9+s2lzjTaidx6sDvfXWWyvb1BbkOoKnC9TP6ns+Y1+q9fRowb4/S/Ws1GfSIpM9wLepdgW379xr3MKk6z4ffS6dOnVqWj5//nzVduPGjWn59u3bVZvO3fshteJXiW2MzwhtdlP4taXzzFOa6lzetWtX1bZv375p2a1wnnpSv8tJFYB83zaVblS/EcEyBAAAcB/DQxcAAGAQ93V4eWnWGg91ajjRQ3RaPagnnOyVMN57771p+Y033qja1DLkWYU0PKHVZkq5sxJHa0i55zP2lC1qHbYRIuspQq1j4PuicoNn/dLzWEptZXC7mdqLNlWtKPHMM89U6z5f1X52+vTpqk3tRVoJppR6DD777LOqbYklopTNhTLvdQH3EcyNVesYjJAC5vrQULBb2nROfve7363aDh8+PC37NelyiN4neyx+aRx75vnSe+3v4U0XAABgEDx0AQAABsFDFwAAYBD3taa7FNfXtMKLp/1TLSHpA1rBpZQ77Rqq47ouePHixWnZdUm1BXlqxx69dYQtaMR2elAd149fNXfXobTNKzu55q66umvsqvd6dSCfS6pDeQo8/28rPs9ffPHFadmtcWrXcE1X0/V5m6cmVX3N02umtHrJkpF0wnXmVbomWvXPHr21x3ayahtz+zBC407HMWfD0f3zdI56z9R7cin1/Lx27VrV5vdTnYNeUU2vUd83n6+JNM46Bj3b/D286QIAAAyChy4AAMAgeOgCAAAM4r7SdHvK9ymufXqKMU31qMul1PpaKo/nWp+m3PN1LbFWSq0PzHlxlaUpEe93WsuzzemC6pFzbUXX/byqJqSlyO7Wh27H55meO/WCl3KnpqrtruHqnPzGN75RtS31//o3CLo/+/fvr9qOHj06LZ85c6Zqc6+lrrveq+UE/Xyk1KQphai39Wiam/CtrpMWcxv+2nuRIjLdW9L/fA7o3PESp3rP9mvAtWFNceopItM9vEerTt8nLPWu/x7edAEAAAbBQxcAAGAQ93V4uRWvxnPgwIFqXdPlaSitlDvtG4qGy1JKs1Lq1GUe2lMrkIeTl4aWltqHtpUqbmkYrics7n2k8dB1b9NUh572sCcMqvh59ZSRai/yULTOHZcm1NLm0ojvj25HK1uVUoe01VpUSh3O02ovpZRy7Nixal3D8V5FRu1Gfhyff/55ta6hxxEh4x4ZI/1vqQS2Tlg4yTHbCDdvajz8Wvrtb387LWvK0lLqa+Lll1+u2rz6m96XdbmU+l7roeZWG9BcW0ox2wJvugAAAIPgoQsAADAIHroAAACDuK80XSfpJdrmGpnrtqpLHTp0qLl/1ahcw3Wrya1bt6blZC3p0aTW/TT9bvSknOvZTo+2oRrJOvpzq67dY69KZSLTMateVcqdVgbVNG/cuFG1qYXJNaoLFy5My66h+ly+fv36tOzzNVkpNCWfW9pc41Xrkfev14Rbj3xd7UZ+zEtS65XSd221pqHclGa6ji1o6TW5qe830lilPpLdy8v1vf3229Oyfw/x3HPPVevHjx+flj0dr84l385SW1SPnagF3nQBAAAGwUMXAABgEPc0vLw0HFRK/Wm4h8DUIlTKneHmVXh1C62+4uE6t0RoCMLDGim0p/SEk9epWtJKsifM9dEa3k0hMe8/hXk2FQJaGoqe60O3k86zh1o1pOxVqNSGVEqdvcrD2zonvbKSrnu2LLfUPfbYY9OyZ35TmcevOa9e9NFHH03L6dry40hj3jOXWpkLp27iWlsnLDwihJxYOub+P5Vc3nzzzarNs7Lp3PJ5pteLX0t+X06ke9S655w3XQAAgEHw0AUAABgED10AAIBBfGU0Xefhhx+elt26cOTIkWrdtS/ld7/73bTsupNqTVrZopQ7tSa1BaXKQU7S97ah226roslSvdVR/TulX/PtLLVXzWl0KZ1kshMlfF/VTuRpKVMKQP9WQNdTpS2d86XUKU69ze14WqHo8ccfr9rUeuRa8Le//e1qXbU415g1RWCy5nm61W1Y7ObQczLimlznv9uqULSqD9+3lEZVry1NZ1pK1nj9Xq/WPZ87Pl/0Pu02tTSX1j3nvOkCAAAMgocuAADAIIaHl1uzTDkeSlNrQwpzzaH2BA9HaLhZw1ql3BkqWVpsPNETXh5R7UTxUKuHZ5K1I+1rquDhIZ9k5/mzP/v/U9utNtrm++3hVe2zp0B2ak9F231fkwUj7c+XX35Zrav9za0Teoz+P68OpDKL2n5Kqe1EXp3IK8WoJPTKK69UbXr9ejUazWzltj0PzWuosUfG6bG6LM3WtFQ6Sn3MSSWtv039pyxTvr60IpOfK5f2NNzsc+epp56alv3a9rD1Uta1afGmCwAAMAgeugAAAIPgoQsAADCI+7rKkOJal6Z+dE3X7QoJ1YXcMqRtrjP4/rSmelxHU016yTZIes2cDWgT9g3vw49ZdXTXKdVS5pVzdLuuA7qGmeix87Rqfz3j6JpVsjCpXcKPUffVNTtf17HzSjGqod68ebNq88pKL7zwwrT8jW98o2pT/Vd14lJqfc+1Pr9+L168OC27/qv76jp++lYgaaGbSt+4re20asXrpH9NtqBW0twtpbZyen+q8fp3BH5edU623r99O2murII3XQAAgEHw0AUAABgED10AAIBB3Fc+3fRb1ehKKeXAgQPTco8v19M3qndLNaBSas3KtQP1enr7kjh/C6N13HU03da2dEyeTtPnwJ49e6ZlT3uoeq+fO/Wiul6kWl8pWb9RvdXnQ6sX2X+7VAsuJZ8f/W3yWPtY+TlI+q9u9/r161Wbj2vy0Kree/jw4apNNd7jx49XbVeuXKnWVfN1vVc9+e7fTKkmfexaS8Alb3YP69wDWq/D5O9dpwxhj/83offwU6dOrdzOSy+9VLV5yVc9d56HIV13Ol+XfLvCmy4AAMAgeOgCAAAMYuvh5XU+jdfQ1u7du6s2rXbibQkPI1y7dm1a9pCYhpZSmG1TjK4C0rK+qi1V45n7rY6dh2V1nN0GtHfv3mpdw8u+HQ2ZeohQLSKpcpGvp9+msKPjfWgo3MPkOh5zod/Uv15rPh5qnfA0kEvx68O3q+HeJA1outdS6mN2ucFlJr1HPPPMM1WbXvceetaUmVqBqZQ77xEqQbn1SEkVqjZhs7kbqcrPUuvTpqSzdZ4Luq8uW5w4cWJa9n19/vnnq3VNRerXpD8nFMLLAAAAXxF46AIAAAyChy4AAMAgtqLpttoc5mL3qu24nqepHnfu3Nm8b56OTu0CnhJQNYFkEZojaX8jaLUB3W1d6dn3ZJdQvc9LImrKRtf6duzYUa2rbuspCb/44ouVbaq9eSrFpNumtmSfcVyL1eNSHbKUem67TprGzlNf6r67Lvnxxx9Py65hJp0yXQNz3yfo+LhVT69RH3MdO9X0S7nzHqHfevhc0nF1re/IkSPTso+HpiD0drce6Rzs0fzTuK5jGeq59yppnvfQmk5yHRuSarwnT56s2twuqmkifS7pdw/+XEjaeAu86QIAAAyChy4AAMAgFoeXN1UlI/1PLSNeOUgz03joN3HhwoVq/dKlS9OyhoNKydaWngoe22BpZpie8HJP29JwmW8nZfby6jgaSvI2PZceVtLz6iFbD2fq+qZC736u0n91/x588MGqzUPIaq9xq42OgVcA0hDy3PzQcHxPtaSUFezMmTNVm455qt7k586vUQ2/uzSRqpSp9cgrIB09erRa1/vH+++/X7V9+OGH07Jny3JZI6HHuakMUD3/21Qlo8TS50nq36URr0qlIWTPbqbPF78+VZ5Jtr1V8KYLAAAwCB66AAAAg+ChCwAAMIhmMXRTFW6S7uOajH7W77qLftY/h+opmuKtlFqT8di9asq+b6M13Dl6bEGprfW3S+1Dc22qs7i+6hqNWoFSqkefuw888MC07Nra0nSOc+Oh++B9qiXBtU/Vpj0tpluGVNd2a5zqUB999FHVppadpKGWkqvqLNUb/X96XCn96lx/On+uXr1atam9R1MHllJXMDt27FjV9tRTT1Xr3/rWt1b+Vu9Rr7/+etWm9yFPkZm+l+hJP5vGp8eys7Qy3CZ+1/vfnupeek2oba6UUp5++ulp2Z81eo36vGqBN10AAIBB8NAFAAAYxPAqQykMqmG/UupP9z1046G2RKoaoiE571/DXCMsQnPbbO1zU8XnHf3vXHUeDcGkcJmHjFMFD7f+JKuLkixlPh4pA5OTMvz02Is0TO5VU1Qa8ePwdZ2/Ppd1nnuGHd33ORklnVfdjodBe4q463n37ej63NzV33qYOmUaU1uhhw9dnnruueem5RdffLFq+9u//dtp2a1H//Ef/zEtv/vuu1WbVkAqpZYjfF9TuL0nvJzC/UkS7Ll/LA0pp3nWc8zpWvfzrG1uJ9Lnktv4WuBNFwAAYBA8dAEAAAbBQxcAAGAQW08DmbQub/NqQWoTOnToUPO+uV3i1KlT07JahByPz6u+tY6GO6KyUI8tp3U762xT290io+c9acNJ7+0h9bGOxq34dpbqV2596kF101T1KFV98jH336o26vpvStHo46rnpOf60Lnk+9ZzzIlky/FUgqqPe3rNH/zgB9OyWotKqW1JXlnqN7/5TbV+7ty5aXnOXpRI9+XWVK3bskom3bhHm+6ppJR0fT2XH3zwQdWm3124lbUF3nQBAAAGwUMXAABgEDx0AQAABrGRNJA9HjyNo7sm5OXI1A/lpf0SXkbr008/nZZv3bpVtamf0dPqKetoGalc3abKby0tyZe221O+r8cbnDTdpVpfIvWxDkmHSr/t+d1SH7WPnc7BHu98Tx+qhc6Nuf42XXc9vsv03575mfbN71mq773zzjsr2370ox9VbaoF/sM//EPV5t+vvPbaa9Oylgsspf5+Za5cYKsXt4e0naXnbm7fluq/S9OUqo++lFJOnjw5LbvG3gJvugAAAIPgoQsAADCIxZahFK5qff330M3u3burdf2svgdP9ahVVDwE8/DDD0/LczaHxNJQ6NJP/pemeuwJL6eKO3NpIFurmKQQ9gh7wjpsav96wtRLSfaINB7JPjMXzlzVfyl1Gle9Br1Pv0fofcf7d8ufHqenVtTQb7pe5qxGKk+53eu9995buW9///d/Py3v2rWranv55Zer9aNHj07Lmj6ylFLeeOONadntTFqhqpR8j0r2qpTecyk9Fq5tVLgrZXlaXZ07Kl22wpsuAADAIHjoAgAADIKHLgAAwCA2YhlaykMPPVStP/bYY3F9Fa5l6CfdpZRy/fr1admPQ9Pa9Vgpluq9m0onmfTWnn1N2/E21cjm+mi1BPT8r4eedHAj2JZWu4qltqCUSrGUbLdK5863q+kmXZtVW45riKrxerm+PXv2VOv6X983Ld+Xjtl1WrcM6XF46Uk9Lv/O5O23356WvSTgjh07qnW9D/7kJz+p2p5++ulp2fXe999/v1rX8nW+r2l+9JSwbNVqe+Znjw1oU2kxW+n5ruH38KYLAAAwCB66AAAAg9hIlSEPKaRXfA35eFUhr7bhGapWceLEiWrdP+PWUErKMLMp+8o2Kv6U0p6tqScjVY8taGkIO+1fT4aunopVPdu5n1gnDL30uNL58PBZCi+nKkf+P63O46FOtRC57UUtOmo7ulufeq2nuex2HsWrLvn5SWHyvXv3Tst+L9NqZxpqLqWUZ555plr3sPmq3x4/frxq+8UvflGta2Yrl+A+//zzlX1sKhthq+Wxp/8e1qlItEl40wUAABgED10AAIBB8NAFAAAYxGLLUEoDqXgcXT/zd51j37591XqqPqKf/J8+fbpq00/jfV+TftNT+WKp9tYzVj12nkRrasdSsm7ck04ykbThTeiS62xnBJuyQPTMpaUsnWdz5yN9O6Bp9pLFT/XdUup0r6XUmm+ytqR71Nz1ovvnFkj9XsQ1U13/+OOPq7bXX3+9Wtdqa67bqqbrFqq/+qu/qtZTOsm33nprWvb7p+rWc99gtD4X0vNkHUZf90uuM950AQAABsFDFwAAYBA8dAEAAAbRrOkmP1Yq7eeoTuul/JIfzdG0au7L/fLLL6t11TrWKd+3CZK2Nacfpe20el/n0vptw4vbs52ladx6SP7epayznR7tK7GN7wyW/q+nhKSjczBdL+7vdW7fvj0te/k81Vvdi6t+2+RL9u34b69cuTIt37hxo2rT+6lq2Hfjww8/nJaT3vutb32ravvud79brT/xxBPTspdNPXz48LT861//umo7c+bMtKz+6lLu9CanEoFK0nTXuQf03DNb25yUXrQF3nQBAAAGwUMXAABgEIstQykNZAoxaIo3Dydrm3Pu3Llq/ZNPPpmW/RN3f+VXm1AKR6xTnaeVntDq0t/2pI9cGurdVshYmQv5pLRyo5mzyIywMrSOx7bS6i39bc/+pNCzoxWCPJ2k3pe8kpDiNhyvMpRC0a02GJe8knTkx6F2SU0tWcqdqR413OypJv/yL/9yWtb0laWU8sYbb0zLH3zwQdXmNi0N+fu9ZmkFImdTFZFa5ZFk5VxideJNFwAAYBA8dAEAAAbBQxcAAGAQi0v7tcayXQPZsWPHtOyf8XuMXbVa13RVv1BrwN224/ugtKY2TOnOSslak/42WXTm9NZWjTlZj+a2uSlttHU7Iyw790NKyE2kc+w5jntxzNuwYrX2dzf0WvM0jOn+pRqr6609peyS3WipRSXpv7du3aravGSgWpguX75ctb344ovT8rPPPlu1Pf7449OyppIspZRf/epX1brqyH5fbr3XrvMtx6buA61l/7AMAQAA3Mfw0AUAABjE4vByayjJwyEaXnaLkL+qa7jk+vXrVZuGnj0zjX/mr/u3Tug1oSHsHsuOWg6WVnTx/6YQ9tx2WkPsSy1T6zAivHovMkAtzcZzP7PUntG7XSWFjNM1mexdnnHJs1dpZSG/7+hvvU3vfd6Hh2X1WnN7k95fXUbz+4BKdH7P1HutZ7J68sknp+Uf/OAHVZuGnksp5d///d+nZa1cVEp9D+/Jmudjt+p/zjoSR+u9DssQAADAfQwPXQAAgEHw0AUAABhEs6a7VO/0eHzSdB3VNq5du1a13bx5c1p27ULTPjpLj6NHw/TfqraTKpr06GCpWlBPtaJE0o23Reun+j247qLr6+joPWko9bcpteCchnivGZF6s3W7PXpaj5VE+/fxT9bBnTt3Vm267vbII0eOTMuuxbqdRyv7uBar90jfVz8unVvnz59f2YfbM1XjffXVV6s2rVxUSimPPfbYtPzoo49Wbb/85S9X9p/mud/fVcfeljWtNc3xEnjTBQAAGAQPXQAAgEEsrjKkpLCbh3o1pKwF7Uu587VdQx4ectFP3JMFw/dvU9VwPOSh696mn/l7+LB137y9J7NVD8lCda9JYcA0B922lgqPp/OzDilctY2Q+rZotWiscxxLt7O0zx7bic8Prfrjv9X7m1qLSinlkUcemZYPHTpUtR07dqxaV2nN7URa5efUqVNV25dfflmtq6zh14Ru96OPPqraNJuX9//973+/Wtfj+vGPf1y1abj5pz/9adWmmaw8hH4vSBKUj133ttf6NwAAADTDQxcAAGAQPHQBAAAG0azpJtuFayIa83ZN13VcRfWRUkq5cePGtOxpIFUn9U/uk5WgJ/1YwvtQrcdTten6Ohph0o2XbneustG9ZFN6Xkrzl9rWIenPPj9SmtL7jW1Uc+o5B0u/LVmalnLumPS6d71TbTCur+q6V0Dat29fta73Gr9/qhXJbUkp9aTbNXV//PuZs2fPrtxXrfZWSq3xPv3001Xbyy+/PC37MarG+84771Rt+m1PKfn8LLWRLU0vumTO86YLAAAwCB66AAAAg+ChCwAAMIjFmq7icW3VElJKRvXallLKb3/722pddVzXEjQG774p35/kPV2qoaUSfe7lSyR9oqcM4apt9vTfQ49GtpS5c9Oq/fWUU9xWqbDUxx+ijt7z223p6ol03S3t3+eS+k1TakdvO3jwYLWu91D/7kW/7XCd1tf1/ur7un///mnZtWHVdPU7m1JKefPNN6t11Xiff/75qu2ll16alj19pHp69+zZU7W9/vrr1bp6k3vKmKb8DT2sOz950wUAABgED10AAIBBNIeXPYSbQp1q4fH0Z7odDyd7+i8NP3tbSvPnLLUFrdpGKXeGNdQesLQazVx1oLTvPekkE63/3VYIcFPh3RRe1nM3FyZvtZ1suhLJvWKEbODbHdFHz+/0frIpKcD/p/c+t924lKbhZa/Go1LegQMHqja/96otyKu2qd1JUzn6uoe3/R6u1YO0ElwppZw5c2Za9tDzU089NS2/8sorVZtXb3rttdemZQ19l7I8hWSy+PX8rwXedAEAAAbBQxcAAGAQPHQBAAAG0azpOqphub75wAMPTMuuD2h5J/803bUM1Q9cO0ia0KYsM0kXdG1F25O+lyxL66RkbC1zt47ee7+VneuxW227/z9Ulmq8czacbcylpZr/tqxgq/pz/P7p6SRVp/R7i/7XNVS/Z6bUk9qnb0f79BSmSfN2ffWTTz6Zll1TPn369LT83HPPVW3Hjx+v1lWr/uUvf1m1nThxYmX/fk9otcFu2uLHmy4AAMAgeOgCAAAMYnF4WV/V3bKjlTC+/vWvV22aJcWrYHg4QEMgHs7VPnsyjfRYO3Q73r9nnWrNENUTyurJOrU0Q9WIEGlP+H9pFZkRbCtsv5RNjdXS7EypLVUl2xTbkkrutd0rZVDzimoaXvZqPKkSmoe0k41O79Nz8yrJZbru1qOTJ09Oyx761kxWpdTVi9xOpPv6/vvvV209dqJURY/wMgAAwFcEHroAAACD4KELAAAwiGZN17UEjY97XF8/6fYqQxpzd81BP2kvpY77exxdNd05ba9VU02pHpdquN7nprS/bVUS2pRO2qP3bWKbI+jROzelWyc2NZd6zkerxuvb9JSE+t2Ha21qddlGWtBNsqlzmVAt1O9D6R619DpzvTeRjj/tT9KCtYpQKXfagvRZ9J3vfKdq02+GvI933nmnWk9WLD13aRyXnGPedAEAAAbBQxcAAGAQG8lI5ZYhzUjltqD0qu62HM+o0rodJ1kA0qfyuj8echkRsk2fqn+VsiH1hGc2Za/aVOYknds+z1O4LIUBe9hUeHXp/9L4pDa/7nfv3l2tq9XDsxNp1qOl43Y/sCkrVrp+0r0tZbhLfaTC8HMV3XQ7yTbWc2/zcPMvfvGLaVmfNaWU8u1vf3ta/pd/+ZeqTSWNUkp58803p2WXNtO4puu+Bd50AQAABsFDFwAAYBA8dAEAAAbRrOm6RpWq6qS4fk/lHtV2tmWl0N8mHS6lNCslH3NrWrm5/V6q446w2iTNaqkmtS2SLun7qvYEt82pHc7Tnfr3CJqiz+f5qn3rZRPnuUdP7DmvntpPNTRPCZh03BE2oZ7vCjZhDZtLk6rj0VOtKJ3L1Ifrtrod78OvCbXseJvO+9b0u3f77blz56blf/3Xf63adP+++93vVm3//M//XK2rxvv6669Xbbdu3WraVzRdAACA+xgeugAAAIPgoQsAADCIZk3X9Zvkb03lnVLaMk8H11OibynaRyp3Ndd/6/5sy1+71N+6jf5LyRr3NsZgqae3R09LfaqWVcqdetbt27en5Z6UoimF6DZSdm5qm3OabqtPdZ39afWl9nhG7/WY95TJdDbhgff/ufd1//790/IjjzxStekccF+s6r3elvbn0qVLVZtqvP48efXVV6v1H//4x9Oy+8p/9atfTcs3b96s2nRuo+kCAADcx/DQBQAAGERzeDlZZlJY1ts0tObWCV9vfY1fJ1yp2/VP5XvCMRqu6rHBbCPUuqnx2MTv5uip1rSNfZjrI8koGr5Si4H/b66fTVcxmaMnJeHcf5XWkK2v99jNlqZCvRfWNKXn/jWiClXqM9mC5tJAarun/tRws18vag+9evVq1ea/TdeL/venP/1p1ebPFw03/+hHP6ra9Ji9ypGGm5fMK950AQAABsFDFwAAYBA8dAEAAAaxWNNN6RNTSTz9rX/SnTRdZ8Sn+61tc+hYpXGc08ESyVrS+r91SNtJx7x0m/cDOpc9laFbhnS9xzK0lE2V/Vtakm5pKlRnU98njEgfuantbEvjbd1m6sPv52qFK6WUCxcuTMtuw9Fyjp429eDBg9Pyjh07qrYTJ05U65piNZXbvHHjRtX2s5/9rFpXrdjtRD/84Q+nZZ+7aifyPlrgTRcAAGAQPHQBAAAG0RxeTmEMDzloqM3DD7rulVj0s3FnW6FGDU8km0eqKlRKDu8uDSGvk31mGyw9Bz2hxfs9pLyKBx54oFr3bDx6TcxlYmulRw5R1pEf0nY1nOgZutIc8FC8ZiTye0K6JntYKnH0WL+2MZe3dX30yEOp7dq1ayt/q9mqDhw4ULXp3Hn00UerNg/hagg73Zc9vO3Potdee21adlvS97///Wn5lVdeqdq0T91GK7zpAgAADIKHLgAAwCB46AIAAAyiWdNN1VZc51BN5vr161Wbal+u17i2pXprj30oVbxxWqvIzKU/S/uTtDbdt7Qv/t8eLfh+415XRFLm7BlJj09pSl2n3ERVrDR31tnOpqxpDz300LT85JNPVm1ejUbvA24f+eCDD6bl06dPr+y/5/jTed6UxW5pqsel9p11+kxjt9QmVkp9D/PqPKnymN5f/XsInx/6W69IpG3JtldKbVF97733qjb9BuMHP/hB1ab2op7nwu/hTRcAAGAQPHQBAAAGwUMXAABgEM2arqN6gcfnNa7v/ieNq8/pXj2lwhJJv1Fdzts0Xr9OqbLWfduUL3dbZRB7jnGEp3ipLrdqG3N4HzrP3QPoKU31ewVvW8qmjrlnvuj10qPL7d27t1pXLc5TaKqPOd1b5vTNpfpv+u2mynbqvvl9MJUYTd99zOUSSKT7kG63R8NMKSMvX768sg9/Znz22WfVul4/Psbalp4npeT7xyeffHLXbZZSa7zf+973Si+86QIAAAyChy4AAMAgFqeBbE0blioHeVjFbQXJMtQT5tHteAq+FMpKKefSp/KJnv9tIw3kKItOCt0kK9a9TnXptM5zty54itMkYyyVA3psKMn6tHRO+NzVsOCpU6eqNg8R6m81rV8pdbh5nVSPSjpmT+H54IMPrtxOCoUnfIx13qvVqpQ7q+yotdJDryncPrcPyjbSa/r8SOlO9Vmwa9euqk3TR5ZSp3f0tJNqU/L+fJxbQ+rnzp2r2v7t3/5tWn755ZdLL7zpAgAADIKHLgAAwCB46AIAAAxiI6X9Ujw8fcbuGq5rAOmT96QduE7YmjZs586dVZv+9vPPP6/akmaWNJGkG7fqwnNsSrNLrJMqTvUb19OWakvJ2rIpXTD1OdfH0rR/q/rr3c7SFKI9fej3G1evXl3ZVkqteafyfT0sTY3q16Rqqt7m+6qa7tIynXNzR3/rGnJKRZq2M7d/q9p6zk2y8/gx79u3b1o+duxY1eal/vR7Ab+f633a+/A5qPehHiuU6si/+c1vmv/3e3jTBQAAGAQPXQAAgEFsxDKUQnvJMuShG/0U/G7rioZZPDTi/0uf9WtYw8PL+qm4h357wkVLQ3v3wj7TGmZaJwyZqo0ocxnLUsYhPeceglpq3+lhnfFp/d/S8PImfne33+q4JstUKfX15PeIEfNe+/CQsdpy0rzy7TitlhQfqzQePVLJCFlpU1KaVqPzij+e3Ux/65WMUvYsP8/6W7cT6X/Tvd+r6LXAmy4AAMAgeOgCAAAMgocuAADAIBZruq26i8fDk77qFiJddy1Bt+MarvepGsmePXuqtiNHjkzLrg+4FqgkbaMnBV/aZlpf+ul+Tx9OqxZbSvt4+HzQ3/p5TVVt0if/ntZP+9xUxZ91NNye87OJ/dlUisjU5tfgUlvQOt85pOslbUer4SxN9zrXR9rmtixurfTMHb8m0/cSq35XSik3btyYlt94442qLV3b3qYWxDkbkO6D34f8exIl3b9a4E0XAABgEDx0AQAABrG4iH0ifeKeXsc9nKjhZX/dTyEYDxmqFej48eMr/+fVJLRKhYcoU3FtpzUEsY4doLXA/NJwcin1OUh2gFLaM7ykcKaPaU9oT+fO17/+9apNQ53JyuL7t6lxHcGmCtz39JHCuUlGWGcfEkvHIF2HS7M6jbAKzv1P23sK3OtvPYOc73uqJKS/9TFOIduUcTCF/3080jMk3QeWyoWr4E0XAABgEDx0AQAABsFDFwAAYBBb0XQ1Pp4+h5/TMFWXc01VdTnvw3WHQ4cOrWz74IMPpmVP6aWpwbz/lPoyaY89n9E7S3Wwnrak36S0nD19Kuuk/Esaop4D3289r76fahfx7aT+56wUSatOtGrKo7azDe63dKdLbUnbGteU7rRHX2w95p7vPJJdM83zdBxz15Li+q/+1sejtWqdry/V8VfBmy4AAMAgeOgCAAAMgocuAADAIBZruq3aZE9Jr6QXeOklLYflcX3/re7DJ598UrVduHBhWvY0lK7jKkl3SJ7VHj0vsbQE25xeomPu47EpTTfpJT3aY9LRU6pH1aoffvjhldsspU4Fmjy8zjZK+W2LTflLdb0nBV/P73o01G2k10x99LQt1RfX8fIvPWad9/7Ng5/nTVwT6XuZUuqxS+mBk2e4lHrfe3zLq/al+T+LegIAAIBueOgCAAAMYivhZW3z0J5affz138OZe/funZY9jKBhv88//7xq81d+bddqFr6vni4whYV7wii6Px6O2VQ6vGQrWLUvpdwZMtb1uZRvytIqVD0hsLTNFM50+UGlCZcifA7of3uOMaW5WxqSXCckutTasqnUl2k8lvbf89ul21nHhpNIKRk3VaVsGyRr3t3alRQW7tn3FGJP6Rv9XpfuGa3pJAkvAwAA3Mfw0AUAABgED10AAIBBbCQNZNIgXE/TT85Vly2llIMHD1brR44cmZb379+/cjuuK7gup3F315g1Pu+lnxJJg2jVCnzf5nSN1K56Rc9xpFSP65R567E2KD0aSdIpdd3noH5X4P/zsdPxSSXH1klluCmdbkS5vERPitdWO886x9+qzfr/9PpNlqW5/Ws9xjlNN1mxdF3ntffv6z3fJyxNi9nTto00pX6v9Xu/jl3P8S+9t/0e3nQBAAAGwUMXAABgEBsJL/vrdwrtqV3DX/c9O9Dhw4enZbcFnTx5cuX+6P9KqasHpSxYKUzuJFtQa2Ua/5+HmZLNwsNMardKlT+8Dw+nptC47s86Vop1wzN3I4XL/Jh1PNy2luwBPlbpODYVklv6v02F6DZlXxmRoaunOk5rNS2/XzittsJkX/HrNUkcu3fvrtrU8uZV0m7evLlyf/y+nLK7JRllUxWitmGF8m16+F1J58Cvc71nLMkwyJsuAADAIHjoAgAADIKHLgAAwCA2ouk6Gkv3mLdqum4ZShWJfDuPP/74tPz0009XbZ7a77XXXpuWXcvQ2L330fNZf9JEUpWQpAsmXcx1n6QNq+40V2VoaSWQpOs7m9JodN/TuCa9KOlXpdTfGfiYq2bm82pTGlWPlaE13Wgaq57vGtahdQzS/OyZyz02HG1zvddpHZ+UftX1xKQx+xzUbznmKma1Wob8f6lil6/rb/1aStdkT0rVRJrnfo0uRfc16cSr4E0XAABgEDx0AQAABrF1y5Cj4Yhbt25VbdeuXavWtSKQh4xfeumlaXnXrl1V29mzZ6v1FPLQ0JKHH7RtnaLcKcyVQujJ3vPggw9WbToGnpFLx3wupL+UnupASzMO9YTCl1pb/LcavvMqWIrbMzYVyloait/GWPWwjmUp2XlSuDdlM0uh1iQxeH+paLu36f749erriocsVZJzi5vOu3RvKaUeAw9Tp0x0STrzcdV7jR+Hrntbj/2u9f4xd29L12iqVtSTRfBu8KYLAAAwCB66AAAAg+ChCwAAMIhmTXdTFgiNs6tWUcqdupjqA0888UTVduDAgbtus5RS3n///ZXbTdaBpKnOpftSPcc1Zt2O69Z6jK4JuZ6kNqknn3yyatu5c+e0/Nlnn1Vt58+fn5Z7tJR1SBYEPc6eqkJLU9Ctoy9qH27t2LFjx7Ts45q0822NueJ61aZsWq1WsLn/JV1M50ePpptSo6Z0p2610T78uk86oG/n0UcfnZb37dtXtenxX716tWq7dOlSta4pcJOtMVmfSslzMNkj9bc+z3uqren58HFUrdptSD3Wo3QcTjou3fc0d+YsZXeDN10AAIBB8NAFAAAYBA9dAACAQWwlDWQr7jlzLVLj7B4719j97du3qzYvcaXacfLSuQag2sKcDqd6zp49e6o27dN1bNUr3F/7wgsvVOs//OEPp2XXiM6dOzctv/3221Vb0leXkvQi7zPpecn/nNJpzvWR9MVVv7vbuh5XmoOuUflvk9cylU7rYRtl95aW1pvrI2lv6sn37yMUnx9+3R06dGhafuSRR1b24W1aPm9unuu3FN6/5xZQTp8+PS172VK/JtTTm74tmcsloPj8SL5Uxee1z+XWe2ZKfenXkmu8ye87otSgzlfXe1vgTRcAAGAQPHQBAAAGsTi8vI4N4/d4GMEtQ5oG0sOyasnwdJIphJtCHj1VjjyUo+1uC9LQiYdVNCTl1ZJ+/OMfV+tqGfKQ1JUrV6bly5cvV20afp9LNZlSvik9VYaWpnqcCxX1VGhq3TfvU8+zhh39t54iMkknbhHZRvUTpydNZ6I1hNxjBfOx279//7Ss4dtS6nnvYUe/tvw+oKT7h667jKMha9/XhN7LSqnDyxcvXqzafO70pLdsZamFK6WPLKU+J77fOs9Tikjvw1Nm6nbcmpesRz0keWrdEDZvugAAAIPgoQsAADAIHroAAACDaNZ0e3S5ViuHt3mcX3WwZLNwfdMtRPpbj/MnvSKlTXO9QvUj71/7cBvBY489Ni1r2rhS7jzmjz76aFp+9913q7Y33nhjWlb7UCk51aRrMomUfm1Tmm76X4+21aMNJ9TGpefK98+1R9ea9Bws3Z+l1+A6+Ji3ljWb21edh67ZJeuLng+32LllR7+l8P1RXfCLL76o2vTbEk/JqN9OlFKnY/XrV/u4cOHCyu14/3MpZ1fRk6rWSddW0jf9f2nM9V6TLEN+j04pTb1/3a5r+v58aR1nP+Z1U7rypgsAADAIHroAAACDGJ6RqidEpmEFD7VqCNctGG7Z0bBCT+aiVA0nHUey4fhxaBjy7NmzVZtbf9R24MesITEPq+g4elgnhZWWWkl8vadSTY/tpdWW0hOu8xCc2oQ8fKnzyvtIVoZNVQBK9Fh2UriuZ9737I/OQ5d19LcettcQrmerSmFqn/e67udOM9q51cez5n344YfT8smTJ1f276FNDSl7iDKFLDdVlasne5WSbJWltMs6qXqUXx8+dnoteZvaz+akNL1GU/a7dMxL7H686QIAAAyChy4AAMAgeOgCAAAM4p5WGXI8Bq/xeY+d6yf358+fr9pc79RP0N1moNWBEnMVb5KGmdJJqkbk6ej8t6p9+XHoumsQriMrPZ+8pyo2S+0saVzX0TpbUz368bsuqBVoPF2hfjvgNi3XAt3WpmzK3rRqm6UsT4vptO6fb8d12x07dkzLnkrxyJEj0/Lhw4erNp/3qc9UQUzPpZ9X1Rf9nuR2QNUU/VsK3R/X+HU7qULXHD3fQGg/S7+PmLMKtt5P/Heqt/qY+9zR85PSA/u9JVUJ8+2ksUp2txZ40wUAABgED10AAIBB8NAFAAAYRLOmu1TDW6cskuoM7sdS/dNLY7k2qrh+o+tJW5krAaf76ttRDSD5OV1X8JSRBw4cWNmmnt6kja+jFy0tpdeTvrHHS9i6P96/ngPfb9f41ZvrvlD9rsD9m+r19D5do1pa2i+NuY+d/tbHLWm6yUOadEG/zjxFomq1rulquk33RutYub7qmp3OJf+uQY8jpQf0+eDnLuUAUC+uly3V45i7t7Z+SzF3r93E9wLr+LZ1Tvr/erz06duWNM/9POt2/HrR4/TrPqWzbIE3XQAAgEHw0AUAABjERixDKQVgSv82F2JI6bY0nOehPP88P4U1vKLFKtIx9pBCtj5WHtrSMIeHl/WYPeymeHjM0TFP4ag5m0NreskUIp4Lh7WmmkzhZR8PDzPpvPOQqYZIPfVoSsWZQmk949FTwUtJIcKe6lE+VpqyUaWQUko5evRota7hZh9X7SOFfpdKVf5fv7ekqmAphJ3SBaa0h046B+m6m7sGU1rbJI/1pJ5c1Z/vX09VsNYKSKXU58v/57Y9Df+nueTHsXfv3ml5SUUo3nQBAAAGwUMXAABgEDx0AQAABtGs6bamkSuljqW7dqG6T0qvVUqtU/on95rq0fU012iSLSjpez2akW63RwvV9ZQqr5Ra4/Vx1U/nvU21C9ewl5bvm7OWpD5aS5e5XtKjqycdSNvmNP5Lly5Ny6l0m5O086STJguCj0fqP2lNPf/zuaRp75IN6ODBg1Wb67atlh0/P7odT8HnY57051X7crfttLb52On16tYn3Te3m6VrtMcGtLRsZzpGv7f26L/p+xVlzp6Z7kO6Xdfj033I2/Qc+LNHaU0jXO1j9z8AAABgETx0AQAABrGVjFTa5qEKfeX30JWHmTSE7GENDfv5p+AplOR9tIb25sKwqT1V1dEQh4fgPHTh4RJFwyp+HMmC0Rrq9fU5y1RrtZGeMFOyuqT9SRnCfK54aO/s2bPTsmc+0/PqNi23DOl5T8ecMkn5eU3nOYUB01z1Oaf2iFLqEPITTzyx8reeAcpDqLp/KYSdxir9r5T6OJN9Jl2T61io9HrValXep49VsjA5KUNYkoD8OFJIOV3LKaSf5MO5EPKqbc71kexvPl9UvkvSpt8TdC6n6mGr4E0XAABgEDx0AQAABsFDFwAAYBAbSQOZ4vGuT6h+MffJf7IFqYbmmoxrXapJJBuKx/V1vUfTbtUzvQ+vZuE2A7UFeR9JK0/p33r0rB7bWKr2ofSkb+xJXZc0VJ0f/r+UbnRJyrffk+ZZGqukP6cxT/Y3nx86z9wG5BWAdN11yqQ9+tzWffVvFXTffTxUa/PvE/y6b00t6PND71FzKQnTNaH/9Wo4elyu//tx9VgQW9uSpprS8foYJ8uMa6FLq2klXX2dVKD6/EnfS6jlspR6Di5JkcmbLgAAwCB46AIAAAxiI+FlR8MaHlLQUIqHXBwN7fl2UigtVRRJbSlc1RNGSFmnPByi4RnP4uOhvhTuVrtRsiekUFopdUgohZlS0WdfT9WkkpXDSVljvA+1A3g4VedgspA5PcXflxb7TmPueB96nH7MGt5V208pddH4uaLtil+Ten7c/qaZ6Eppr/zlIUrdH2/z6mJ6/fpxpCLyKXNST1a0dI/S8fDwsttQfI4qrQXufd1/m65tHQ+/Blwi1Plz69atqk3XeyQ4J8kx6d7S81xI0pXOO8LLAAAA9zE8dAEAAAbBQxcAAGAQW7EMpXi96heeGs61BP1t0jBdv0p2CdeBEknLSMfsfagmk47DNRjXqHQ8XItVHci1NtVdki5ZSj12riXpducqsyTrj5J0lrkx1/Oe9HCvEqJj1WOLcnrsGinFaOvvvM2tNqrbqk5bSinHjh2blo8cOVK16blL306UUo+XX69JX3TtL9m2lKT5u5Wjx1qix+nHrOPh8zp9y5DskY6Ox+7du6s210KvXLmycju6f3NVuZR0/0rfJ3gffoxqP/NvdvR8+XZ60kDqb5ceo5Pmmc9dvS8u0aZ50wUAABgED10AAIBB8NAFAAAYxFZ8uinOrnqna21JS3DdNvlAXXdJacyU5PlK6RKdnt+qbnvy5Mmq7fz589W67rsfh2or7vtLnsikyyWdds5Pms5P0thTKTv13pZSpyTct29f1ab6kacQVe2tx2eXfjunDbeWRUwpTd1/rTptKaU8+eST07KPlW7Xr7uUBtLnbtLldN75efU5mUj+Z52TKQVhKVm3TaUw0/WSUorOpYxUdLuuGbrGq2Pn33mkPANLSxb2fOfguvqNGzdW/rbVuz+H/nYuR0Nqa00P7J5z1ar9+FvgTRcAAGAQPHQBAAAGsTi83PrZdgoPeWigJ82eMhciTNtZWi3I911DXb5Ntah4eEhDQh4ecktVIll0NHzloZIUXu75HN7DibqeLFyOpsfzUGdKJXjhwoWq7fLly9Oyj7mSQt++nmwFPo4estR+Ulo//5+OwXPPPVe1Pf/889W62qb8fJw+fXpaPnPmTNWm88xDtj7mal85d+5c1aYhupRmsJQ63Ou2Ex1nr06kNilvS1WPfA60pgv0/e6pnJPC1ClFpEsD6d6yapul3JlOMqV6TNd9qlLmv01VuXQ9pcqds+21VjCbSwOppPPo+6P30CWVk3jTBQAAGAQPXQAAgEHw0AUAABjE1kv7pU/D5z5NT2XFemhNFZbsAT1ls1yX0+NIfbjO4r/VcXVdUNvcXrVqX+62vmqbc/i+6z74eOi+u11CNUxvc9uJWl9c/1adsEfHT+cgpRt1vcjHVffHtS7tc+/evVXb008/PS27pnvo0KFqXbVA1/OSXUPH9eLFi1WbpyT89NNPp+WPPvqoatNrxFMAJi3QNV1t83Ou58D/533qb1P/PaU4l5ak60lz6N9d6Hl1DXHdMnN324eeUodOsuHovs99S9G6r06yHqXUkz3pJHtsa3eDN10AAIBB8NAFAAAYRHP8NoVXU1vKiuKhPA+r6LqHNXo+nVd6wjzKXOhXwzxuK9hGBhU/jlTJKGX28pCchoA8tJfGzs+dWk18rDQU7MeoY3Xp0qWqzUOmGl5MczCF9JMU4OvpXPn8SNnN/Lc6Vl4B6JlnnpmWDx8+XLV5aCtdd+mY9Ty7nSidO5/nasvxTD1eEUnHtTVjm//WQ63J6uJSRQpD6lj5MfbYGtM9MuHzTM9zj62wtbJVKTkjVcLHI1UiS+OR+kyVneaqpinpWZSu7VRRbUlInzddAACAQfDQBQAAGAQPXQAAgEFsxJMzl7ar9bceH1f9MVmP5iwhSz8NT7g+oFpLjwVBSRYhZ6nuMmd9Uo3Xddpkb3L9SH/r1o5U8UY1IdevenSgVguXa7h+XL6+Cp+7rgUqrm8eOHBgWv7mN79ZtanGO2dP0HGe0yJXtblu7rq+bjd9k5HSgpZSn7s0xj4/9Z7g3yP4fNVz23O9JJINpseO14Mel6eI1PPj15l/v5H08DQ+yebpJJ20tZLRnE6a7v0997rWPvzaSWlCW+BNFwAAYBA8dAEAAAbRHP/oeTVP/+up6pNCDum1PoVAUpitJ0uKt2n4rKfyhO7PXKizNXuWH6PaLnzcbt++Xa1rSCrZm+ZC4Rrq8rCXho097Kh9pPCUkzJipZCxH0eyJzjJLpLsK14N5+jRo9OyW4Y8nKi4LSeNuc7JVH0lZTzy9ZRBbi5EqOcyZejyOaiheR+blAXLM2vpvPcwbBpzlzySRSYdh47jXJYrPQ63Pul6qqTk+7CkOk4p8yHbVK0oZQFL9xantbKTk/bdt5mul9b+VsGbLgAAwCB46AIAAAyChy4AAMAgtq7p9mwzpdJbR4tNWmjSIBI9GkD6xDx9xt+TIlL1mmRnck3KtS4dn5T60sc4VfBImmrSRFIqw1JyJaOk26ZvBZKOnTQ7P3fep2pv+/btq9pU0/U21ymVdC5d30vaYzpXPh6tFXh8XNN5Tjq624B0POY03XQ9q9Um7avPwTTPvU11Wx+rpEv6/ujcThaqORtf2p+l+HZaNc4e66b/Vo+r1Qp3N1qtauncpYpuq+BNFwAAYBA8dAEAAAbBQxcAAGAQzZpu0r569ArFNYeU1s3T0S1laRpI9yu6nqak9Ik+Nil9pPeRdEo9H3Nl5lJbGoPkpXNto3WcUxnCpG2VUh9n0r/XSTmXxi6lx/PxUG+upn0spZSDBw9Oy1rmbw7/bdIXr1+/Pi37vEplB1Mqw6Rxz42rngMfK9W/U8lIP/7khfU+du/ePS37fUd/69q4o8ec7oM934uka9KPQ1ODXrt2LW4nnZ+kx6fvGpzWsq6pVGvy8Ppv03H0fOuT+kjfLqR0r6vgTRcAAGAQPHQBAAAG0Rxe9tBe+mw72QpSpZrWlHu+3Z7qMylU0BNG8PWUnk7HysPLmsrP7TupMksKh6QUkU5P2rRV/d1tvbWtJ0Xj0hBy2te59I2tITFv84pAe/funZbdFrRr166yCq3646FO70PDq17JaM+ePXfd71JKuXHjxrTsMk7PmOvcnqu+ouOaQqYeQn700Uen5TRupdRh9Dk5REnWqx47oo7BkjDk3frw/lMo3s+lzgnfV02L2SM5pX11lt5relJGpjB12m5PZboUQm+BN10AAIBB8NAFAAAYBA9dAACAQSzWdFttHymuPpdK0PtcSqv+6/uqGpVrsa5PqI6rFpBSanuCb+f8+fPTsmswXp6tNUXjnF2jlbl0bMqmSuK19uftyeaQjiONY8/++Vx1vVXngJf2S/NcNd2bN29WbV7aT7fj19L+/funZdVFSynl8uXL07Jai+5GSluarpdklXOrj45dsld5mTsfD9VjXVPV/fE2HTvf7/Tdh6PbWSeNbdIeFZ9HrvEmW6Gej2STSt81lJJTiirp2wln7ruLVcxp0ckW1KpjL7nX8qYLAAAwCB66AAAAg2gOL6dQcM8n5UszQq2znRReTv/TsJOHNDyLjYYPNZTn6/ppfimlXLlyZVr2cIzbPjSc1lP1aWlFkRTG6ck4tHR//HcpI5WHKFOlmBSWTiExD0OmrEoeXtaQsrfpdrwPPS7/Xwqpe5uHGhWduz7nfDsahnT5I+G/TVmwdH88vKxj4Jm1UpY4R+eWh5B7Qp1JSkvSVY8dT//rEpSO3VxGO133+aDXlt+jkn3GSbJOq5W0h2Qn6gkv97CulMebLgAAwCB46AIAAAyChy4AAMAgmjVd1wdaY+dJM0ualK+nahKbwrUd1Z1cM/QUdGrDcEuI/lctIKXUFg0fR9fXUmWnRNJSEtuyHi3tP82lVB3Hz12ycvRo0bpdt694+kKdE/5b1Tu9D9Uwfc71pC3V6zdZZHysfF3PgevYqhPO2TySVq3fS/g5VzuLW4T8HpW+5WhNWdljbUkk3binqo6Pa0oxe/HixZXbPXr0aNWmc0vTgpZSj7mfq1TRLH0HNGc9Siw9Bz06cvrmoHUbK//T/Q8AAABYBA9dAACAQTSHlz0klarB6Gt8Clf5a3uqZNTzWX8PGkbw8JT2kcLJpdSVYzwEoyHlU6dOVW0aykmWmHXo+Yy+teB9T3go2SzS/+b60P3pKcyuJJuY9+H7k8LLPgd0PYVMffw1TO3XUgqZ9lRE0vU5G47uXypwnwqYl5IrCSl+PjQU7/vmmZTUXuO/1e2k8Zg7jjS30pjrduf6SFJJssb5HHzxxRen5WeffbZq01C0Zz7TdbcseR8pbN46B52eEP9SSbInE13rNlfBmy4AAMAgeOgCAAAMgocuAADAIJo13aUpAT02njRdJ1lCVKPpqYaTUqW5bqyWnb1791ZtquGWcqdNSFG95NKlS1WbHpdbhJJWvjTN4lxFk0TSYpdqIqmPuc/xW61QSVNOWpv34Zq7ni9PC+pp9pJVLul7PidXbdP31fvXdR8r1TfdhuMaXqrco791a5xrqlqV69atW1Wb3iO8f+2zR9NN96+kk87RWgHI++i5PlK60fRNyksvvVStv/rqqyv70G9Wfv7zn1dtOj98fvpc9v1b9due7yx8rPS/S1P++nbTdnosZS3wpgsAADAIHroAAACD4KELAAAwiGZN10llq1o13rmyaq6TKUmv8e3qvqb0eK677NmzZ1p2TVfLj5VSa2aeRu3TTz9d2b/6O5NGV0pOB9eqT/SwVJctpd13l1IZ9uxPj46f8P1J5QP13M1puqoHe1vSbbWPOY3bNedV+HioDuee2cuXL1frqvn6PP/ss8/uulzKnaX9tE+9Pnz/XNNV/HpJ14SfO+3fv6VozUHg+5q+HfB9Tbpk8kb7b69evTotX7t2rWo7fvx4aUW3q+VGS6nPnc/dVN7Rf5t89en7Haf1e5a550LSahXfjt7De8pbTvvR/Q8AAABYBA9dAACAQSwOL2/CsuJhBE8pprYcD1dpajIPE/h2k81AQw4aTi6lTvXobWp5KKUOQVy4cKFq0xBQCnM5PTac1kpPc9VfllYkShU8POyp58vD7T0kqUJZGqb3dT9XGlL2+eDHnEJSOh6pbR10DG7fvl216XF4qNtTAp4/f35a1nldSh169j58u+l86W/T//x8pJSzHurUMLqn8GydV6Xk89N6vfo2ki3Hw+1qt/J57vfMxC9+8Ytp2c+r9u/yQ7JgJptUknF65LEU7p9LI6tzK90H/ZlBeBkAAOArAg9dAACAQfDQBQAAGMRGLENLrSUpvVcptU7m+oCmU/TUdSkG731o+jNP7ag2IU/z6BqRfq7vmq7277q16g7rlCtM5yNpuj0pNBM9dg09B0lLmduXpZpuD7rvriHqus8r1yJVX0s6lGtEqje6taUH3a7rtGr98WvJ7TxnzpyZll23VS3Sjz/Zopxk8Uv4eU6anZ6vlLLT23yeaR+t31XM/TZdSyktp8+dEydOVOt6X/TxePPNN+/6u1Lq+6KXOE0WTN+OjmU6Rt+3nhSN6VpP6U997PS8+jFq25L7JW+6AAAAg+ChCwAAMIjF4eWlpNfxFKrw0JqGe72iiW9Hw0XJFuRZprQP/1Te0Swunqkn2WeUdTJApe0srWiyNARWSrbBKJsKb/eEkHsyW6WsQhp69uPwijc6l1NIzI9jiSXhbqTx0T6uX79etblUohmq0r7NVe5JIcJkK0znI507R/fdqxzp/5INyffBQ+jpvKbjSNedj7ne+/y+kzJb+ZjrPdPvdXrP9HukSwy6P76velzp3PRUZEpymffv6yql+Fgl9Hy5XNgCb7oAAACD4KELAAAwCB66AAAAg9i6puuxe43Xu5bhOpjqR/v376/aVGdwTdfX1Xp08ODBqk11W7cHaLze29x2oZpusn3MWXaWkjSSpfaunn1NNpiU1m4uzd5S0jH3WDt0jnpbz3EkjTulmpyruKKkY9brzm0f+r1E0uFKyTqY7nsaKyel6/M2/SZiTjdOY6fnw21SSXv0bzK0D/+WJKUkTHpvmp/JvuLfvej3KqXU6T5d/9V71IEDB6o2vWd6ulO/L2oKSR/XVGmrZ36k8Ukau4+drvs9SvfVr0ltcytpC7zpAgAADIKHLgAAwCB46AIAAAxiI5pu8lq6tqTxcC+p5Z4v9Qj6dlTTffLJJ+N2VD9wTVf3wTWq5Fl1b59qvL6vqXzfV4ke3+5Slm4naco9PkhH/5tKybm+mHTKVF4xacpztGq63odeA66D+fWimp2XjuvZ15RCU/U11zv1f34+0jH7drSPdN3PpRnUPvy3qo8nf773n8oZ+m+1Dz+vfo+6ePHitOzHoXqwfz/zzDPPTMs+z8+ePVut63Em72sqhTl3fWq7j1X6HiDp8z3flqTrvgXedAEAAAbBQxcAAGAQW7cMpfCyfzbu4Qi1EGlVoVLq13oPh6SKQP5bRSsFOR7GcFuSVv+YszKsYi60uonw7lzaxVT1aB270b2kR/5IqR49RJjCTP5bHddU7SSFQefQ7XofKe2g8thjj1XrL7zwQrWux3Xy5MmqTVNIuj0jXRM98kv6bZJ1fDz0evXQot4vvL+ealZ6//J7m46jj5VbbfTe47ZK3Y5bhlKqR0+Hq3Yiv7fpvuvvSrmz6pFKez4erZahVBFqjiSxpD5TZTo/P7pdD+G3wJsuAADAIHjoAgAADIKHLgAAwCC2oukmbSmlWEslnVzn0M/fXT9LqR69FJPqHq5X6P54XN9tSbqdVI6spwSdk/SKEZadZKEaYSfqQcc86bZJe3XSeZ1DdTmfSzp33Ean45pKVpZSzy0/H63WBj+mQ4cOVeuqi7nt45NPPpmWPU2q77vSo6Prb+fSJ+pvvQ/drm9Hj9HnTkqT6d99pH1VLdT1RNdUdbs+HmqX9O9V/Fyq3cv1TS3n5yki33333WnZj8NLP6bvYtKYJ9tcSgOZ7Hdz1s30nUPSe5NW3wJvugAAAIPgoQsAADCIjYSXU6izJ7zsr/8ayvHQjYabtRpRKXdWUfFqG4qGFTTE4njIxcPdq7ZZSs6SkkKCPSwNPS8NE/f8b+l2eo4jtaXqM3OhLF13C4bOSQ87pvBZCrU6+j/vw6+XdG1tir17907Lfr2o3Ujln1LuDJmmCi+63hMy7pmDrVVt/HdpDiSblp87zeblthOXAvbt2zctHz58uGp79tln7/q7u/WpFq9PP/20alOpwM/rz3/+82n5nXfeqdrSOXALk4e0V/0v2Rgd32aSNpMFMoWXPaSv40p4GQAA4D6Ghy4AAMAgeOgCAAAMYrGmm2LwiZTWLlVxSVpKqvhTSm0hSv2n43AdLsXykz1jzuaQ9qdVm+05H96/jk+PhrqOHr2U1rHrGcc5G5uic8L1M58vSZdq7WMuJaTqUiNsWq51HT16dFrevXt31eYVidR24d9r6Fgm+0xPhZee9I2tlkdfT7ZCP46UPtAtj5qK87nnnlv5P8f1ziNHjkzLp0+fXrmv/g2MbsfnYEqh6fZMtcMtqc7ze9I3GcpcSlWdv6ktVWRC0wUAALiP4aELAAAwiK1XGeqpmuLhKg1V+Gu8bscrb3h4Wdu9AlHKXKSho7njSDaDbWSLSqHV1NZTsSMxl1mrNdydKgD1hKyTXSPta7IT+brPz2Tn8fBZKiKvx+z7qiFLD8OmY96UZSiFydNc8tCi/zaF6HTdj0Ov5bkC8+n61fWeQujJuughdA0p+zjqXNKwbymlvPrqq9W6h5uXorYgzWTl+Ljqffjxxx+v2nxcdbw8w59uJ83PTVkne+yATrKCrXs/500XAABgEDx0AQAABsFDFwAAYBAb0XR79MWU9tB1H7UQuZ6mGonrJZ6yUTVeTVVXStZ0lTnrQNKBEks1zB79WX/rtixPmam/1UoopdR62raqJbW2zf027V+ynSR7UbIT9ej4rpkl61FKOZdsDqnPpMX6GKeUlW5JSVYOn3dK0rG96pIeh1f68vmq2019eJueV58f3odW7nEbkI6BH4dWBPqbv/mbqm3Pnj1l2yTrkVaLKqW2EPl5dSuU3iPS9Zu+R1jHgtpz7019pvtyq2VpZb/d/wAAAIBF8NAFAAAYBA9dAACAQdxTn663udakmpFrKxpL95i7++WuXLkyLWuqulJqHSyV3espN5Xo+d9S3TSldnTcS6f+Svc7qyfR/YqJnjSMypw/rlX/9XFUbTR9R+Akr6dvx+dr8oUmevSt1nJ1ifQ9gLPUK+7bTd99pOvO57Xr4XqeUxrZpAXP+XT1+xHvQ8sg6nIppRw/fnxaHqHh9uBjrp5q1/h9PNI8T9dLup/3XAOtZVR7trOpe//0/7X+DQAAAM3w0AUAABjE8PCyhnzmKrEky1BKeefWikuXLk3L169fr9rUMpPShM1ZS1I4s/XT9LkwbLJ96G89rKP/87HxELKeEw0n+3Z7QkA9lZR6LEOtdqs0jj4ebu1QfL5qONPPRwrTeh8avvM0pTo/PfSdbFJLU5GuE27X8Zg7d3oO0rnzPjQU7OFkD+/qufXfqrXF08gqPo4pvOpjp/csT4upKRm3hVsndZ653UslOLcM6XbcFpVC805r6sc5e6aOc09a257wcuv+LEkJyZsuAADAIHjoAgAADIKHLgAAwCCGa7qqibgekEpKqR5RSp0CzvUaj7OrhejcuXNVm6Zj85SIqkG4ttWjJeh2Unm2uU/Rtd01bl33PpKO7pquazZL93VpGcKl+m/abtKCk5XE230u6299Dnqfas1yPU913N27d6/8XyoXWMrmyvkpPs9by13O6WfJNqXnJ+no3pZKBPp51j6SHj93HHrd+flQvH+9J7mm7Pe6hH6vcvHixarNt6v3Nx+7s2fP3nXf/LdzGm5ridOUCjV9r1JKvg+lMpnJOrkJu10rvOkCAAAMgocuAADAILYeXvYwW8oE4yE6DS/7J+6pooqHAzSs4CEYDc942E9Dym7z8P6XZo/q+V/K9pLCOsmylM5PYp2QS2tYuCecnLaTKpqkbEil1HMnhcR6stb43NF55jJGysrWI3FsihSW1fGYG9dU5UfHOd0j5qoutVpUUojSr4eUScnRffeQ7YULF6ZlDwO7vUj31eUg3a6Ph88ltf54dSC1B/o4pnB7T7U1/W8K989ZJ1vtPD33ix6W2IQU3nQBAAAGwUMXAABgEDx0AQAABrF1TdfRuL5rEK7p6m/n7BIJ1WFcy/j000+nZbUPlVLruK7pusasLNUS5vRd3a6PXUpH15qi0tu3Yd/paZsjVaNJ1oGkUbmVwjVFJemtKf2pa3jp2wXV5Xrm/Ah87qT9c21Ux9mve7UDeipSHbs5TTel+9T1lGLWt+nzVf+b0mJeu3atatPjunz5ctXmWmzSuHVfvWKYH5fuT9K/07cLPfeonvSJOnf8/pU0ZqcndW/r9zRJw13yLQ9vugAAAIPgoQsAADCIjcSrllac8VCer6cwYM9rffqsX8M+XoFIswN5qMKzxrTaE9b93HwVPdmAEmn/UghoLky7ijRu64SwW8NccxmpNJyXxtVDgr4dDYsme5GPq4abUwWk+wENZ6ZQbyl1eFXDyaXUElCytniYfmlB9RRq9eve51KqwpSy5qWQcZKHfO5o/3OZ+fS4PNyu++pjpeupelYp9RxYmuVpzn6XzquOR7JOltJX8U5Z14rEmy4AAMAgeOgCAAAMgocuAADAIJo13aW6bfpMO9kI5n6r+kXPvnmb6ilXr16t2o4cOTIte4zfNV3VfpL2l1ISbkuLTecjnR/XltSS4NaWpBGl1HHraNytlYwSc9rj0ko1aVzTHPBx1XnuGmay0aU0qT0ku0aPDcjTIGpKQq9spTpuaksWw1LarR6putmcVp/SSSZdUOeLn8eUijVZ0Vz/9jmg/SSbVpqfPlZp3icLWdJp52yNKdVkYul21vme6K77sda/AQAAoBkeugAAAIPgoQsAADCIreSVa9UX5zySKY1bKiOWvHWplJ2nY1ONRD27pdyp9ah+4vvaqlvO6RM9WvEqfF9SeThv03H1MU6+XD+u1vSSc1p9Gtc0lsnT7J7JVN5Rj9m1R5/bqod7m+I6nJ4DT4mY0jCm7SS9eU7jTtqbznv33qb1lOrR/6fnZ25fk69cxy7p38mzWko9Bkmn9DFvLaFZSi4vme4JrtvqfPXrVffHj0PHbk431/1LmrJ/u6Btc+ka0z0iXVuJHo15XXjTBQAAGAQPXQAAgEFsJbzcagmZCw1oCMTDfh7CTaSKM9qn2xouXrw4LT/yyCNVWwqPuLVj1b6Ustw+k1IbJnpCJX4+UmhvruKLksJDPZWN0if/up6sAnPHkcJMGr6bm58avnO7meJzULc7lx5P52CPlUKZuyb1uJIcNBf61bHzUKf24ePYWqnG23ssZWle+XY8hNvav47HXLpTHZ+e8KmPq96XvK31ukuhZ99Oshf5dnbt2rWyf7dC9YTmE63H3FO1rQXedAEAAAbBQxcAAGAQPHQBAAAG0azpbqokXWtqtlJqG4ZbB1QvmNOvki0m2ZJU09WUkKXcaR9pTefYU65uBD0l8VS/mrMe6fpSC9Ucup2k77l1QddTWtBS6vmRtJ25lKapdJqS5o7/L2nVTtKodDtzGrsel3+7oOd5nXmdUmYm3Xqd7wNW9T93XlvnRyrt5/MzjbmT5mCyWabUrE6ak/5tSyqLmOaO67ZK+kYmzeW5+4wec0pniWUIAADgKwoPXQAAgEFsxTKUSJ/8ezhEK5H0fOKeSJlHvI/r169Py16BaOfOndW6Zi5KWWOS7WUuHJLCgEpq81CWj4eGqPx86G81w1Ipd4bbdew8ZKukSiRz4cKUDUjxNg2J+Xj4cei5TP2nTEWOz49k5eipvpL617nlx6hzN8kEpeSsQspSC5n3MWdRSX2kMH6Sg5ZmgEr9+zWg25mzP6aMYdpHOg5vT+Oaqgz5de/Xj4bRPaSu2/GQsa67pc770PnaU1HOac1al7a7xJrHmy4AAMAgeOgCAAAMgocuAADAILau6aZKMd7muofqDK79pcoXiZRKz+P4+hn7pUuXqraHH364Wtc0ZufOnavadP/Sp+lz+kD6rWo7SdP1/v04Uno+7dP1PK+61KrVzlUSaiXprakP3+9k+0gas89BX092DR3XZFGZq/CS+tfz4cec5kuPLSlVb/L5kLTqdN33kLTZ9C1Fz3gkzV/PZbIaOek8p7njY5XSYvbo6KrjHjhwoGrzY9Z7n1fe0j5dx1ZNd9++fVWb2zXTfVmfIX6P8nXVin2s0txRltyveNMFAAAYBA9dAACAQfDQBQAAGMQ9Le035ytT7cl1KNVIlpa58/1zLUN1hytXrlRtjz32WLWu3jLXBVXbSWnLvC1p1T3l6pLPL6WnSxrzF198EbeTUkYmlvqvk6brJB3MPazJF5r03lSmMp0fH0fdbvLw+r4mf62TdGMnfUuRUhL2aPetpdPm9rX1e4m0r6lkZCn12Pm50/tHKnU4579Oery2pe8RSmnXsX2uqI577Nixqi1p1Tt27Kja9Lg0B0Mp9f3k8ccfr9q+//3vV+tnz56dlq9du1a1eWlMxcdO989LC/pvlVa9dxW86QIAAAyChy4AAMAghqeBVOZCiRou8VRg6TP6FPZaGr70Khge1tD9S6FwD18mUsg0hQ89dKThMw+HeJg4odu5efNm1ZasFCn1pdMqTcyRwokpfJisUMnu5RYIt7+l85Oq8yxNA5lI4VTfNw8ftlb5mTt3KWyv9KRUTZLL0rY52UD/6/eoJBvoOfDj8PuHzskkpc2Nh5JC0d7/I488ctflUup0r75dtyPqePh1prakgwcPVm0u5el/fX7u3r17Wv7kk0+qthTS9vOjx+njkSp2tcCbLgAAwCB46AIAAAyChy4AAMAgmjXdpIWuo70lUro+1ZbmrBRJC13Vn+Mxf/80XT85931t1U3nPj9XjaZHz0vbTaX+/Jh7rCXKUstQKjE2R0oDqfh88PFIloxWO5HvT9IFfe60lhb09p6UlWlckyUkHX9K+zjXZ6vdq0fD9PHQ8+x2EdUMXZv3knTJFqRj4Dp60nQTvh3dPy+757ppsiembw70exa3TnqqR71n+HnUNv+f6r8+5zytrn5P4/Ps+eefn5YPHTpUtZ05c6ZaV+tROg7XpnWck7VoFbzpAgAADIKHLgAAwCCaw8vbCiG39pksQ3MhoBQSSyGpZEu6fft2ta4ZqXS5lDo8k7II9Vioki3I7Sut2yylPSS21HrlrFNlKIVMk+1Df+uhLF9PlUh07Hwe+bjqdn2+pkxBPu+VZKdxWqsuOcky4/2n8Uj7kyxlPVWGeirn6DX66KOPVm07d+6cll0acouMrrsco3ioV+eD36/cnphCtnoOPNTpYdGe8LvioVclSXk+P7QPD4WrlfL8+fNVm4+5W38UlQr8+A8fPlyt6z64vUgtkS4l6vXrfbTAmy4AAMAgeOgCAAAMgocuAADAIO5pGkjHNZmUBjK1uUaSqvwoPengknXAUz3qdl0nTZpuj266pNpFKVmT6dFXe3TB1v/14OPaWlHFNVzXw1MKPiVVhiklp8XUtp6KN06ar0rSBee+eUgpRdO+JstQT5rQpBv7mLemf026vv/Pf6vaX9I+fd9UC/QxT/eW9E1IspDN/TZdL/pb37elqSfdpqV9XLhwYWVbKfk7Cx0rv5a8Tz0H+/fvr9r0Hu7HrDp/qmq0Ct50AQAABsFDFwAAYBCLM1JtIiw4Fz5NlXs0rOAWHbfztGYn6tm/lAUrVaXoyeTU89ullZRSxiEPH6ZznirO9ITNe+ZVCsvq3En7loqL+3Y99KxtcxmYdLs+5moJ6bF79UgDOgbpGOeygKXzmgqzp+32hDP1fy7juC0nzQ/drvdx6dKllf9zO4+u+3nV40qyks8dPy6dE96Hjodvx9db7ZFJjklhaV/3/vQ43IqV7nUpa16SC+f6SNne1E7kz5cdO3ZMy/6saYE3XQAAgEHw0AUAABgED10AAIBBfG1T6fwAAAAgw5suAADAIHjoAgAADIKHLgAAwCB46AIAAAyChy4AAMAgeOgCAAAMgocuAADAIHjoAgAADIKHLgAAwCD+H5lOrLqhtg7tAAAAAElFTkSuQmCC\n",
          "text/plain": "<Figure size 500x500 with 1 Axes>"
         },
         "metadata": {
          "needs_background": "light"
         },
         "output_type": "display_data"
        },
        {
         "data": {
          "image/png": "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\n",
          "text/plain": "<Figure size 432x288 with 1 Axes>"
         },
         "metadata": {
          "needs_background": "light"
         },
         "output_type": "display_data"
        }
       ]
      }
     },
     "8343fcb48a174882a701cd6b861ebbe6": {
      "model_module": "@jupyter-widgets/controls",
      "model_module_version": "1.5.0",
      "model_name": "VBoxModel",
      "state": {
       "_dom_classes": [
        "widget-interact"
       ],
       "children": [
        "IPY_MODEL_338925d62b5b43b98b58f9c057136707",
        "IPY_MODEL_cab899d23cf64c3c9a91ead0e813bad1",
        "IPY_MODEL_14b978850a274cc5855b604f83bf755c",
        "IPY_MODEL_51a38320719647b98065a3388dededa4",
        "IPY_MODEL_cac94d92988e42019514a989943f7573",
        "IPY_MODEL_670b5f1e9bb046ea90350a9b30a90c68",
        "IPY_MODEL_7a2e1cf6262b4f8e9659e210f076113b"
       ],
       "layout": "IPY_MODEL_c704d54f3568435793b6f90c98e6ad5d"
      }
     },
     "840c408ed1f448b9b1420aa75dc3fed5": {
      "model_module": "@jupyter-widgets/controls",
      "model_module_version": "1.5.0",
      "model_name": "IntSliderModel",
      "state": {
       "description": "im",
       "layout": "IPY_MODEL_da3995b851f04e2d8c17517442645397",
       "max": 7,
       "style": "IPY_MODEL_bd20f616129148d2979d04548f4bd94d",
       "value": 3
      }
     },
     "84a0690beb3a46ffa64e1cf4aad3349c": {
      "model_module": "@jupyter-widgets/base",
      "model_module_version": "1.2.0",
      "model_name": "LayoutModel",
      "state": {}
     },
     "8622c2a5fc124402b3f22a83adca84e2": {
      "model_module": "@jupyter-widgets/output",
      "model_module_version": "1.0.0",
      "model_name": "OutputModel",
      "state": {
       "layout": "IPY_MODEL_bbaf849f030e49a6a0e8b01214d62dc2",
       "outputs": [
        {
         "name": "stderr",
         "output_type": "stream",
         "text": "2021-04-16 10:44:37,189 INFO selected batch : 89\n2021-04-16 10:44:37,190 INFO X shape: (8, 128, 128, 1), Y shape: (8, 128, 128, 3)\n"
        },
        {
         "data": {
          "image/png": "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\n",
          "text/plain": "<Figure size 500x500 with 1 Axes>"
         },
         "metadata": {
          "needs_background": "light"
         },
         "output_type": "display_data"
        },
        {
         "data": {
          "image/png": "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\n",
          "text/plain": "<Figure size 432x288 with 1 Axes>"
         },
         "metadata": {
          "needs_background": "light"
         },
         "output_type": "display_data"
        }
       ]
      }
     },
     "87c03a64133a43e18bc548506b584077": {
      "model_module": "@jupyter-widgets/base",
      "model_module_version": "1.2.0",
      "model_name": "LayoutModel",
      "state": {}
     },
     "88c1bb907a484a5692b60826f0240199": {
      "model_module": "@jupyter-widgets/controls",
      "model_module_version": "1.5.0",
      "model_name": "IntSliderModel",
      "state": {
       "description": "im",
       "layout": "IPY_MODEL_74ace0ec13e44e609f77f11626074b40",
       "max": 7,
       "style": "IPY_MODEL_596be7372f8244bb8f5a5c86133a745f",
       "value": 3
      }
     },
     "8976a535dc2b4e4fb85babd725f66699": {
      "model_module": "@jupyter-widgets/controls",
      "model_module_version": "1.5.0",
      "model_name": "DescriptionStyleModel",
      "state": {
       "description_width": ""
      }
     },
     "8a40527e68e5424e8098994bbded4b47": {
      "model_module": "@jupyter-widgets/base",
      "model_module_version": "1.2.0",
      "model_name": "LayoutModel",
      "state": {}
     },
     "8fdeefe4239b4721a210c78a59ac1809": {
      "model_module": "@jupyter-widgets/output",
      "model_module_version": "1.0.0",
      "model_name": "OutputModel",
      "state": {
       "layout": "IPY_MODEL_8a40527e68e5424e8098994bbded4b47",
       "outputs": [
        {
         "name": "stderr",
         "output_type": "stream",
         "text": "2021-04-16 10:57:41,422 INFO selected batch : 8\n2021-04-16 10:57:41,423 INFO X shape: (8, 128, 128, 1), Y shape: (8, 128, 128, 2)\n"
        },
        {
         "data": {
          "image/png": "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\n",
          "text/plain": "<Figure size 500x500 with 1 Axes>"
         },
         "metadata": {
          "needs_background": "light"
         },
         "output_type": "display_data"
        },
        {
         "data": {
          "image/png": "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\n",
          "text/plain": "<Figure size 432x288 with 1 Axes>"
         },
         "metadata": {
          "needs_background": "light"
         },
         "output_type": "display_data"
        }
       ]
      }
     },
     "9533b0c648ff4dcb91307f6c4b517633": {
      "model_module": "@jupyter-widgets/controls",
      "model_module_version": "1.5.0",
      "model_name": "IntSliderModel",
      "state": {
       "description": "slice_n",
       "layout": "IPY_MODEL_87c03a64133a43e18bc548506b584077",
       "max": 11,
       "min": 1,
       "style": "IPY_MODEL_6413b07ac67d447583ab8dc161e0e7ce",
       "value": 6
      }
     },
     "96226029412340218128814fb3c84dae": {
      "model_module": "@jupyter-widgets/controls",
      "model_module_version": "1.5.0",
      "model_name": "DescriptionStyleModel",
      "state": {
       "description_width": ""
      }
     },
     "975aaa2a84fc4d4583462edb08a2dd7c": {
      "model_module": "@jupyter-widgets/controls",
      "model_module_version": "1.5.0",
      "model_name": "SliderStyleModel",
      "state": {
       "description_width": ""
      }
     },
     "99828c2e16e14887b98096f61d8a992b": {
      "model_module": "@jupyter-widgets/controls",
      "model_module_version": "1.5.0",
      "model_name": "TextModel",
      "state": {
       "description": "filename",
       "layout": "IPY_MODEL_5a694c2c46c941a59e2346103a59d518",
       "style": "IPY_MODEL_e1064e2df2214441bf3c322c53b10b05",
       "value": "temp_x.npy"
      }
     },
     "9ecdcf1b73db48d894f1ef46c3eaf0a1": {
      "model_module": "@jupyter-widgets/controls",
      "model_module_version": "1.5.0",
      "model_name": "SliderStyleModel",
      "state": {
       "description_width": ""
      }
     },
     "a006319ee0cc4d6f820d7cb9d8f9499b": {
      "model_module": "@jupyter-widgets/controls",
      "model_module_version": "1.5.0",
      "model_name": "TextModel",
      "state": {
       "description": "filename",
       "layout": "IPY_MODEL_315615d7ac394d80853e17f5fe75c974",
       "style": "IPY_MODEL_f4dade877da544f594f332db894ad169",
       "value": "temp_x.npy"
      }
     },
     "b4a6f813ba734e02bcd42a662291fab2": {
      "model_module": "@jupyter-widgets/base",
      "model_module_version": "1.2.0",
      "model_name": "LayoutModel",
      "state": {}
     },
     "bb67cdba28d64ccba6b24e20013805ed": {
      "model_module": "@jupyter-widgets/controls",
      "model_module_version": "1.5.0",
      "model_name": "DescriptionStyleModel",
      "state": {
       "description_width": ""
      }
     },
     "bbaf849f030e49a6a0e8b01214d62dc2": {
      "model_module": "@jupyter-widgets/base",
      "model_module_version": "1.2.0",
      "model_name": "LayoutModel",
      "state": {}
     },
     "bd20f616129148d2979d04548f4bd94d": {
      "model_module": "@jupyter-widgets/controls",
      "model_module_version": "1.5.0",
      "model_name": "SliderStyleModel",
      "state": {
       "description_width": ""
      }
     },
     "bf404da4b309465299ae2d0070b26bca": {
      "model_module": "@jupyter-widgets/controls",
      "model_module_version": "1.5.0",
      "model_name": "DescriptionStyleModel",
      "state": {
       "description_width": ""
      }
     },
     "c20e8e3c00ff49f080113191e9cdd5c7": {
      "model_module": "@jupyter-widgets/controls",
      "model_module_version": "1.5.0",
      "model_name": "TextModel",
      "state": {
       "description": "filepath",
       "layout": "IPY_MODEL_e23837e1ddfb456ebb222816f43fd811",
       "style": "IPY_MODEL_96226029412340218128814fb3c84dae",
       "value": "data/temp/"
      }
     },
     "c4f24e9196f84171adf7be5f3f9e0aa6": {
      "model_module": "@jupyter-widgets/base",
      "model_module_version": "1.2.0",
      "model_name": "LayoutModel",
      "state": {}
     },
     "c704d54f3568435793b6f90c98e6ad5d": {
      "model_module": "@jupyter-widgets/base",
      "model_module_version": "1.2.0",
      "model_name": "LayoutModel",
      "state": {}
     },
     "cab899d23cf64c3c9a91ead0e813bad1": {
      "model_module": "@jupyter-widgets/controls",
      "model_module_version": "1.5.0",
      "model_name": "IntSliderModel",
      "state": {
       "description": "im",
       "layout": "IPY_MODEL_c4f24e9196f84171adf7be5f3f9e0aa6",
       "max": 7,
       "style": "IPY_MODEL_9ecdcf1b73db48d894f1ef46c3eaf0a1"
      }
     },
     "cac94d92988e42019514a989943f7573": {
      "model_module": "@jupyter-widgets/controls",
      "model_module_version": "1.5.0",
      "model_name": "TextModel",
      "state": {
       "description": "filepath",
       "layout": "IPY_MODEL_da6bdaaef8ab43fd8e2fdaab5701b193",
       "style": "IPY_MODEL_f52ae9f8632845cbb9e105211aabf945",
       "value": "data/temp/"
      }
     },
     "cc0cb7aeeb3f4ca99f3cb77bcd0f3a8b": {
      "model_module": "@jupyter-widgets/base",
      "model_module_version": "1.2.0",
      "model_name": "LayoutModel",
      "state": {}
     },
     "da2d1c2d079b44bd94fcc513bcc218b3": {
      "model_module": "@jupyter-widgets/base",
      "model_module_version": "1.2.0",
      "model_name": "LayoutModel",
      "state": {}
     },
     "da3995b851f04e2d8c17517442645397": {
      "model_module": "@jupyter-widgets/base",
      "model_module_version": "1.2.0",
      "model_name": "LayoutModel",
      "state": {}
     },
     "da6bdaaef8ab43fd8e2fdaab5701b193": {
      "model_module": "@jupyter-widgets/base",
      "model_module_version": "1.2.0",
      "model_name": "LayoutModel",
      "state": {}
     },
     "df0c4e4350424b468eb41c52f24712aa": {
      "model_module": "@jupyter-widgets/controls",
      "model_module_version": "1.5.0",
      "model_name": "VBoxModel",
      "state": {
       "_dom_classes": [
        "widget-interact"
       ],
       "children": [
        "IPY_MODEL_5500f0bb63594d6db92c8ee11c0e3a0b",
        "IPY_MODEL_88c1bb907a484a5692b60826f0240199",
        "IPY_MODEL_1ac8372ec4644c0a924530e57aa2f3c8",
        "IPY_MODEL_fb96fd4c39b640a5b0d6dc08f8d90775",
        "IPY_MODEL_1aa1848215d145be97f5a5e59405dd87",
        "IPY_MODEL_fbe6fa1b56ef450f959fd26c880f982c",
        "IPY_MODEL_8fdeefe4239b4721a210c78a59ac1809"
       ],
       "layout": "IPY_MODEL_60a1236010344852ae6fbe729085242c"
      }
     },
     "e1064e2df2214441bf3c322c53b10b05": {
      "model_module": "@jupyter-widgets/controls",
      "model_module_version": "1.5.0",
      "model_name": "DescriptionStyleModel",
      "state": {
       "description_width": ""
      }
     },
     "e1c0e3e4efcf4728abaefd154369358d": {
      "model_module": "@jupyter-widgets/base",
      "model_module_version": "1.2.0",
      "model_name": "LayoutModel",
      "state": {}
     },
     "e23837e1ddfb456ebb222816f43fd811": {
      "model_module": "@jupyter-widgets/base",
      "model_module_version": "1.2.0",
      "model_name": "LayoutModel",
      "state": {}
     },
     "e4c488ebb52e4fa69b156a30143ac1e6": {
      "model_module": "@jupyter-widgets/controls",
      "model_module_version": "1.5.0",
      "model_name": "IntSliderModel",
      "state": {
       "description": "batch",
       "layout": "IPY_MODEL_5050f75780254c0bac3b16af4dbedc82",
       "max": 16,
       "style": "IPY_MODEL_f3855e6895d44369b432a7733bc9b635",
       "value": 8
      }
     },
     "ee28e92b1cf5404fbbeb2f27df0674f9": {
      "model_module": "@jupyter-widgets/base",
      "model_module_version": "1.2.0",
      "model_name": "LayoutModel",
      "state": {}
     },
     "f0b7935bfecf497d844957ab3ac298b8": {
      "model_module": "@jupyter-widgets/controls",
      "model_module_version": "1.5.0",
      "model_name": "SliderStyleModel",
      "state": {
       "description_width": ""
      }
     },
     "f2b42b5a95174bf6a9e949dffbb68c18": {
      "model_module": "@jupyter-widgets/base",
      "model_module_version": "1.2.0",
      "model_name": "LayoutModel",
      "state": {}
     },
     "f3855e6895d44369b432a7733bc9b635": {
      "model_module": "@jupyter-widgets/controls",
      "model_module_version": "1.5.0",
      "model_name": "SliderStyleModel",
      "state": {
       "description_width": ""
      }
     },
     "f47532a7af7843f29efc2d99ad6944df": {
      "model_module": "@jupyter-widgets/base",
      "model_module_version": "1.2.0",
      "model_name": "LayoutModel",
      "state": {}
     },
     "f4dade877da544f594f332db894ad169": {
      "model_module": "@jupyter-widgets/controls",
      "model_module_version": "1.5.0",
      "model_name": "DescriptionStyleModel",
      "state": {
       "description_width": ""
      }
     },
     "f52ae9f8632845cbb9e105211aabf945": {
      "model_module": "@jupyter-widgets/controls",
      "model_module_version": "1.5.0",
      "model_name": "DescriptionStyleModel",
      "state": {
       "description_width": ""
      }
     },
     "f991d22533e742f181d49c5dd4cb9a2d": {
      "model_module": "@jupyter-widgets/controls",
      "model_module_version": "1.5.0",
      "model_name": "SliderStyleModel",
      "state": {
       "description_width": ""
      }
     },
     "fb1a2c43f18b423093a1547de316cdfb": {
      "model_module": "@jupyter-widgets/base",
      "model_module_version": "1.2.0",
      "model_name": "LayoutModel",
      "state": {}
     },
     "fb96fd4c39b640a5b0d6dc08f8d90775": {
      "model_module": "@jupyter-widgets/controls",
      "model_module_version": "1.5.0",
      "model_name": "CheckboxModel",
      "state": {
       "description": "save",
       "disabled": false,
       "layout": "IPY_MODEL_fb1a2c43f18b423093a1547de316cdfb",
       "style": "IPY_MODEL_bb67cdba28d64ccba6b24e20013805ed",
       "value": false
      }
     },
     "fbc327a72e5e4f8f803cece754cace89": {
      "model_module": "@jupyter-widgets/controls",
      "model_module_version": "1.5.0",
      "model_name": "VBoxModel",
      "state": {
       "_dom_classes": [
        "widget-interact"
       ],
       "children": [
        "IPY_MODEL_e4c488ebb52e4fa69b156a30143ac1e6",
        "IPY_MODEL_35c879af9eb14e618e2d030a16d6c93c",
        "IPY_MODEL_9533b0c648ff4dcb91307f6c4b517633",
        "IPY_MODEL_0eb87d59eb8a44b7be29ee7ae41232c6",
        "IPY_MODEL_c20e8e3c00ff49f080113191e9cdd5c7",
        "IPY_MODEL_a006319ee0cc4d6f820d7cb9d8f9499b",
        "IPY_MODEL_7f912f4c6a284f1f9a42ab905e6cd93d"
       ],
       "layout": "IPY_MODEL_cc0cb7aeeb3f4ca99f3cb77bcd0f3a8b"
      }
     },
     "fbe6fa1b56ef450f959fd26c880f982c": {
      "model_module": "@jupyter-widgets/controls",
      "model_module_version": "1.5.0",
      "model_name": "TextModel",
      "state": {
       "description": "filename",
       "layout": "IPY_MODEL_ee28e92b1cf5404fbbeb2f27df0674f9",
       "style": "IPY_MODEL_437c9a0e3e84498eac1d5e7fb83816d3",
       "value": "temp_x.npy"
      }
     }
    },
    "version_major": 2,
    "version_minor": 0
   }
  }
 },
 "nbformat": 4,
 "nbformat_minor": 4
}
