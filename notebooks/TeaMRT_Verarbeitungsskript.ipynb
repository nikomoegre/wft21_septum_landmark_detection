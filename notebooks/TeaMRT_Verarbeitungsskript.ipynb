{
  "nbformat": 4,
  "nbformat_minor": 0,
  "metadata": {
    "colab": {
      "name": "TeaMRT Verarbeitungsskript.ipynb",
      "provenance": [],
      "collapsed_sections": []
    },
    "kernelspec": {
      "name": "python3",
      "display_name": "Python 3"
    },
    "language_info": {
      "name": "python"
    }
  },
  "cells": [
    {
      "cell_type": "markdown",
      "metadata": {
        "id": "b71Ns7GxtyFL"
      },
      "source": [
        ""
      ]
    },
    {
      "cell_type": "code",
      "metadata": {
        "colab": {
          "base_uri": "https://localhost:8080/"
        },
        "id": "uOXjtqsp1M14",
        "outputId": "1862596e-1846-444f-ef90-5507ee5a3345"
      },
      "source": [
        "!pip install pynrrd"
      ],
      "execution_count": null,
      "outputs": [
        {
          "output_type": "stream",
          "text": [
            "Collecting pynrrd\n",
            "  Downloading https://files.pythonhosted.org/packages/92/00/ef17d52fd125f357d7ead95e823091b2344194d34ce94e2fe839184f48e7/pynrrd-0.4.2-py2.py3-none-any.whl\n",
            "Requirement already satisfied: numpy>=1.11.1 in /usr/local/lib/python3.7/dist-packages (from pynrrd) (1.19.5)\n",
            "Installing collected packages: pynrrd\n",
            "Successfully installed pynrrd-0.4.2\n"
          ],
          "name": "stdout"
        }
      ]
    },
    {
      "cell_type": "code",
      "metadata": {
        "id": "8RCmi71Ktuvh",
        "colab": {
          "base_uri": "https://localhost:8080/"
        },
        "outputId": "caa90a29-b90d-43f9-8d55-c4c0b6ce8627"
      },
      "source": [
        "import numpy as np\n",
        "import matplotlib.pyplot as plt\n",
        "import nrrd # https://pypi.org/project/pynrrd/\n",
        "import os\n",
        "\n",
        "# Some sample numpy data\n",
        "data = np.zeros((5,4,3,2))\n",
        "filename = 'testdata.nrrd'\n",
        "\n",
        "# Write to a NRRD file\n",
        "nrrd.write(filename, data)\n",
        "\n",
        "# Read the data back from file\n",
        "readdata, header = nrrd.read(filename)\n",
        "print(readdata.shape)\n",
        "print(header)"
      ],
      "execution_count": null,
      "outputs": [
        {
          "output_type": "stream",
          "text": [
            "(5, 4, 3, 2)\n",
            "OrderedDict([('type', 'double'), ('dimension', 4), ('sizes', array([5, 4, 3, 2])), ('endian', 'little'), ('encoding', 'gzip')])\n"
          ],
          "name": "stdout"
        }
      ]
    },
    {
      "cell_type": "code",
      "metadata": {
        "colab": {
          "base_uri": "https://localhost:8080/"
        },
        "id": "S5nFr6y-4FSn",
        "outputId": "55e08147-0834-4e44-f91b-c57063f987e4"
      },
      "source": [
        "!wget https://heibox.uni-heidelberg.de/f/93346ac07ceb4c14a24f/?dl=1"
      ],
      "execution_count": null,
      "outputs": [
        {
          "output_type": "stream",
          "text": [
            "--2021-06-12 10:12:08--  https://heibox.uni-heidelberg.de/f/93346ac07ceb4c14a24f/?dl=1\n",
            "Resolving heibox.uni-heidelberg.de (heibox.uni-heidelberg.de)... 129.206.7.113\n",
            "Connecting to heibox.uni-heidelberg.de (heibox.uni-heidelberg.de)|129.206.7.113|:443... connected.\n",
            "HTTP request sent, awaiting response... 302 Found\n",
            "Location: https://heibox.uni-heidelberg.de/seafhttp/files/4e4092cb-3461-4674-8030-c338f5203a36/all.zip [following]\n",
            "--2021-06-12 10:12:10--  https://heibox.uni-heidelberg.de/seafhttp/files/4e4092cb-3461-4674-8030-c338f5203a36/all.zip\n",
            "Reusing existing connection to heibox.uni-heidelberg.de:443.\n",
            "HTTP request sent, awaiting response... 200 OK\n",
            "Length: 598584 (585K) [application/zip]\n",
            "Saving to: ‘index.html?dl=1’\n",
            "\n",
            "index.html?dl=1     100%[===================>] 584.55K   425KB/s    in 1.4s    \n",
            "\n",
            "2021-06-12 10:12:11 (425 KB/s) - ‘index.html?dl=1’ saved [598584/598584]\n",
            "\n"
          ],
          "name": "stdout"
        }
      ]
    },
    {
      "cell_type": "code",
      "metadata": {
        "colab": {
          "base_uri": "https://localhost:8080/"
        },
        "id": "5a_DpXEp4IcT",
        "outputId": "6913ac0e-9da5-4cfe-8c07-ce55f8579ed5"
      },
      "source": [
        "!unzip 'index.html?dl=1'"
      ],
      "execution_count": null,
      "outputs": [
        {
          "output_type": "stream",
          "text": [
            "Archive:  index.html?dl=1\n",
            "   creating: all/\n",
            "  inflating: all/patient100_frame13.nii  \n",
            "  inflating: __MACOSX/all/._patient100_frame13.nii  \n",
            "  inflating: all/patient100_frame13_rvip.nrrd  \n"
          ],
          "name": "stdout"
        }
      ]
    },
    {
      "cell_type": "code",
      "metadata": {
        "colab": {
          "base_uri": "https://localhost:8080/"
        },
        "id": "zRFLimQf4PtV",
        "outputId": "5b1e1277-4667-412f-c716-9d6428f7a801"
      },
      "source": [
        "all_files = os.listdir('all')\n",
        "print(all_files)"
      ],
      "execution_count": null,
      "outputs": [
        {
          "output_type": "stream",
          "text": [
            "['patient100_frame13_rvip.nrrd', 'patient100_frame13.nii']\n"
          ],
          "name": "stdout"
        }
      ]
    },
    {
      "cell_type": "code",
      "metadata": {
        "colab": {
          "base_uri": "https://localhost:8080/"
        },
        "id": "2VBuQT0X4n0U",
        "outputId": "e177aa08-d1a5-44d1-e9dd-dd96bc036f9f"
      },
      "source": [
        "readdata, header = nrrd.read('all/'+all_files[0])\n",
        "print('image size ='+ str(readdata.shape))\n",
        "print(header) "
      ],
      "execution_count": null,
      "outputs": [
        {
          "output_type": "stream",
          "text": [
            "image size =(216, 304, 8)\n",
            "OrderedDict([('type', 'unsigned short'), ('dimension', 3), ('space', 'left-posterior-superior'), ('sizes', array([216, 304,   8])), ('space directions', array([[ 1.31579006,  0.        ,  0.        ],\n",
            "       [ 0.        ,  1.31579006,  0.        ],\n",
            "       [-0.        , -0.        , 10.        ]])), ('kinds', ['domain', 'domain', 'domain']), ('endian', 'little'), ('encoding', 'gzip'), ('space origin', array([0., 0., 0.])), ('DICOM_0008_0060', '{\"values\":[{\"z\":0, \"t\":0, \"value\":\"SEG\"}]}'), ('DICOM_0008_103E', '{\"values\":[{\"z\":0, \"t\":0, \"value\":\"MITK Segmentation\"}]}'), ('layer_000', '3'), ('layers', '1'), ('modality', 'org.mitk.image.multilabel'), ('org.mitk.label_000_00000', '<?xml version=\"1.0\" encoding=\"UTF-8\"?>\\\\n<Label>\\\\n    <property key=\"DICOM.0062.0002.0062.0004\" type=\"TemporoSpatialStringProperty\">\\\\n        <temporo_spatial_string>{\"values\":[{\"z\":0, \"t\":0, \"value\":\"0\"}]}</temporo_spatial_string>\\\\n    </property>\\\\n    <property key=\"DICOM.0062.0002.0062.0005\" type=\"TemporoSpatialStringProperty\">\\\\n        <temporo_spatial_string>{\"values\":[{\"z\":0, \"t\":0, \"value\":\"Exterior\"}]}</temporo_spatial_string>\\\\n    </property>\\\\n    <property key=\"DICOM.0062.0002.0062.0008\" type=\"TemporoSpatialStringProperty\">\\\\n        <temporo_spatial_string>{\"values\":[{\"z\":0, \"t\":0, \"value\":\"SEMIAUTOMATIC\"}]}</temporo_spatial_string>\\\\n    </property>\\\\n    <property key=\"center.coordinates\" type=\"Point3dProperty\">\\\\n        <point x=\"0\" y=\"0\" z=\"0\"/>\\\\n    </property>\\\\n    <property key=\"center.index\" type=\"Point3dProperty\">\\\\n        <point x=\"0\" y=\"0\" z=\"0\"/>\\\\n    </property>\\\\n    <property key=\"color\" type=\"ColorProperty\">\\\\n        <color r=\"0\" g=\"0\" b=\"0\"/>\\\\n    </property>\\\\n    <property key=\"layer\" type=\"UIntProperty\">\\\\n        <unsigned value=\"0\"/>\\\\n    </property>\\\\n    <property key=\"locked\" type=\"BoolProperty\">\\\\n        <bool value=\"false\"/>\\\\n    </property>\\\\n    <property key=\"name\" type=\"StringProperty\">\\\\n        <string value=\"Exterior\"/>\\\\n    </property>\\\\n    <property key=\"opacity\" type=\"FloatProperty\">\\\\n        <float value=\"0\"/>\\\\n    </property>\\\\n    <property key=\"value\" type=\"UShortProperty\">\\\\n        <unsigned value=\"0\"/>\\\\n    </property>\\\\n    <property key=\"visible\" type=\"BoolProperty\">\\\\n        <bool value=\"true\"/>\\\\n    </property>\\\\n</Label>\\\\n'), ('org.mitk.label_000_00001', '<?xml version=\"1.0\" encoding=\"UTF-8\"?>\\\\n<Label>\\\\n    <property key=\"DICOM.0062.0002.0062.0004\" type=\"TemporoSpatialStringProperty\">\\\\n        <temporo_spatial_string>{\"values\":[{\"z\":0, \"t\":0, \"value\":\"1\"}]}</temporo_spatial_string>\\\\n    </property>\\\\n    <property key=\"DICOM.0062.0002.0062.0005\" type=\"TemporoSpatialStringProperty\">\\\\n        <temporo_spatial_string>{\"values\":[{\"z\":0, \"t\":0, \"value\":\"upper\"}]}</temporo_spatial_string>\\\\n    </property>\\\\n    <property key=\"DICOM.0062.0002.0062.0008\" type=\"TemporoSpatialStringProperty\">\\\\n        <temporo_spatial_string>{\"values\":[{\"z\":0, \"t\":0, \"value\":\"SEMIAUTOMATIC\"}]}</temporo_spatial_string>\\\\n    </property>\\\\n    <property key=\"center.coordinates\" type=\"Point3dProperty\">\\\\n        <point x=\"0\" y=\"0\" z=\"0\"/>\\\\n    </property>\\\\n    <property key=\"center.index\" type=\"Point3dProperty\">\\\\n        <point x=\"0\" y=\"0\" z=\"0\"/>\\\\n    </property>\\\\n    <property key=\"color\" type=\"ColorProperty\">\\\\n        <color r=\"1\" g=\"0\" b=\"0\"/>\\\\n    </property>\\\\n    <property key=\"layer\" type=\"UIntProperty\">\\\\n        <unsigned value=\"0\"/>\\\\n    </property>\\\\n    <property key=\"locked\" type=\"BoolProperty\">\\\\n        <bool value=\"true\"/>\\\\n    </property>\\\\n    <property key=\"name\" type=\"StringProperty\">\\\\n        <string value=\"upper\"/>\\\\n    </property>\\\\n    <property key=\"opacity\" type=\"FloatProperty\">\\\\n        <float value=\"0.600000024\"/>\\\\n    </property>\\\\n    <property key=\"value\" type=\"UShortProperty\">\\\\n        <unsigned value=\"1\"/>\\\\n    </property>\\\\n    <property key=\"visible\" type=\"BoolProperty\">\\\\n        <bool value=\"true\"/>\\\\n    </property>\\\\n</Label>\\\\n'), ('org.mitk.label_000_00002', '<?xml version=\"1.0\" encoding=\"UTF-8\"?>\\\\n<Label>\\\\n    <property key=\"DICOM.0062.0002.0062.0004\" type=\"TemporoSpatialStringProperty\">\\\\n        <temporo_spatial_string>{\"values\":[{\"z\":0, \"t\":0, \"value\":\"2\"}]}</temporo_spatial_string>\\\\n    </property>\\\\n    <property key=\"DICOM.0062.0002.0062.0005\" type=\"TemporoSpatialStringProperty\">\\\\n        <temporo_spatial_string>{\"values\":[{\"z\":0, \"t\":0, \"value\":\"lower\"}]}</temporo_spatial_string>\\\\n    </property>\\\\n    <property key=\"DICOM.0062.0002.0062.0008\" type=\"TemporoSpatialStringProperty\">\\\\n        <temporo_spatial_string>{\"values\":[{\"z\":0, \"t\":0, \"value\":\"SEMIAUTOMATIC\"}]}</temporo_spatial_string>\\\\n    </property>\\\\n    <property key=\"center.coordinates\" type=\"Point3dProperty\">\\\\n        <point x=\"0\" y=\"0\" z=\"0\"/>\\\\n    </property>\\\\n    <property key=\"center.index\" type=\"Point3dProperty\">\\\\n        <point x=\"0\" y=\"0\" z=\"0\"/>\\\\n    </property>\\\\n    <property key=\"color\" type=\"ColorProperty\">\\\\n        <color r=\"0.248554215\" g=\"1\" b=\"0.12829785\"/>\\\\n    </property>\\\\n    <property key=\"layer\" type=\"UIntProperty\">\\\\n        <unsigned value=\"0\"/>\\\\n    </property>\\\\n    <property key=\"locked\" type=\"BoolProperty\">\\\\n        <bool value=\"true\"/>\\\\n    </property>\\\\n    <property key=\"name\" type=\"StringProperty\">\\\\n        <string value=\"lower\"/>\\\\n    </property>\\\\n    <property key=\"opacity\" type=\"FloatProperty\">\\\\n        <float value=\"0.600000024\"/>\\\\n    </property>\\\\n    <property key=\"value\" type=\"UShortProperty\">\\\\n        <unsigned value=\"2\"/>\\\\n    </property>\\\\n    <property key=\"visible\" type=\"BoolProperty\">\\\\n        <bool value=\"true\"/>\\\\n    </property>\\\\n</Label>\\\\n'), ('org_mitk_uid', '008ca458-e68a-427d-99b1-4e7126f88ff4')])\n"
          ],
          "name": "stdout"
        }
      ]
    },
    {
      "cell_type": "code",
      "metadata": {
        "id": "jEjmL_1SzbEr"
      },
      "source": [
        "import sys\n",
        "np.set_printoptions(threshold=np.inf)\n",
        "slice2D = readdata[:,:,1]\n",
        "print(slice2D)\n"
      ],
      "execution_count": null,
      "outputs": []
    },
    {
      "cell_type": "code",
      "metadata": {
        "colab": {
          "base_uri": "https://localhost:8080/"
        },
        "id": "qjegnbmd02lc",
        "outputId": "db0f41da-5d31-45e7-98e8-1ed5def6300d"
      },
      "source": [
        "print(np.nonzero(slice2D))\n",
        "print(np.count_nonzero(slice2D))"
      ],
      "execution_count": null,
      "outputs": [
        {
          "output_type": "stream",
          "text": [
            "(array([85, 85, 85, 86, 86, 86, 86, 86, 87, 87, 87, 87, 87, 88, 88, 88, 88,\n",
            "       88, 89, 89, 89, 92, 92, 92, 93, 93, 93, 93, 93, 94, 94, 94, 94, 94,\n",
            "       95, 95, 95, 95, 95, 96, 96, 96]), array([165, 166, 167, 164, 165, 166, 167, 168, 164, 165, 166, 167, 168,\n",
            "       164, 165, 166, 167, 168, 165, 166, 167, 129, 130, 131, 128, 129,\n",
            "       130, 131, 132, 128, 129, 130, 131, 132, 128, 129, 130, 131, 132,\n",
            "       129, 130, 131]))\n",
            "42\n"
          ],
          "name": "stdout"
        }
      ]
    },
    {
      "cell_type": "code",
      "metadata": {
        "id": "Qy4U8Q5c5mhH"
      },
      "source": [
        "print(np.argwhere(slice2D == 1))\n",
        "print(np.argwhere(slice2D == 2))"
      ],
      "execution_count": null,
      "outputs": []
    },
    {
      "cell_type": "code",
      "metadata": {
        "colab": {
          "base_uri": "https://localhost:8080/"
        },
        "id": "iwqOOHWy80kl",
        "outputId": "922bb872-b616-4dbf-d5f0-2e90f7e39a9d"
      },
      "source": [
        "x_ax_1, y_ax_1 = np.where(slice2D == 1)\n",
        "print(x_ax_1)\n",
        "print(y_ax_1)\n",
        "x_mean_1 = x_ax_1.mean();\n",
        "y_mean_1 = y_ax_1.mean();\n",
        "print(str(x_mean_1), str(y_mean_1))\n",
        "\n",
        "x_ax_2, y_ax_2 = np.where(slice2D == 2)\n",
        "print(x_ax_2)\n",
        "print(y_ax_2)\n",
        "x_mean_2 = x_ax_2.mean();\n",
        "y_mean_2 = y_ax_2.mean();\n",
        "print(str(x_mean_2), str(y_mean_2))"
      ],
      "execution_count": null,
      "outputs": [
        {
          "output_type": "stream",
          "text": [
            "[92 92 92 93 93 93 93 93 94 94 94 94 94 95 95 95 95 95 96 96 96]\n",
            "[129 130 131 128 129 130 131 132 128 129 130 131 132 128 129 130 131 132\n",
            " 129 130 131]\n",
            "94.0 130.0\n",
            "[85 85 85 86 86 86 86 86 87 87 87 87 87 88 88 88 88 88 89 89 89]\n",
            "[165 166 167 164 165 166 167 168 164 165 166 167 168 164 165 166 167 168\n",
            " 165 166 167]\n",
            "87.0 166.0\n"
          ],
          "name": "stdout"
        }
      ]
    },
    {
      "cell_type": "code",
      "metadata": {
        "colab": {
          "base_uri": "https://localhost:8080/",
          "height": 286
        },
        "id": "EdIhKBEj3c6l",
        "outputId": "e9db127c-516e-4ea4-b790-976939657fe3"
      },
      "source": [
        "plt.imshow(slice2D, cmap=plt.get_cmap('gray'))\n",
        "plt.scatter(y_mean_1, x_mean_1, s=1, c='red')\n",
        "plt.scatter(y_mean_2, x_mean_2, s=1, c='red')\n",
        "\n",
        "x_values = [x_mean_1, x_mean_2]\n",
        "y_values = [y_mean_1, y_mean_2]\n",
        "\n",
        "plt.plot(y_values, x_values, c='red')"
      ],
      "execution_count": null,
      "outputs": [
        {
          "output_type": "execute_result",
          "data": {
            "text/plain": [
              "[<matplotlib.lines.Line2D at 0x7f1280a22950>]"
            ]
          },
          "metadata": {
            "tags": []
          },
          "execution_count": 55
        },
        {
          "output_type": "display_data",
          "data": {
            "image/png": "[encoded data removed]",
            "text/plain": [
              "<Figure size 432x288 with 1 Axes>"
            ]
          },
          "metadata": {
            "tags": [],
            "needs_background": "light"
          }
        }
      ]
    },
    {
      "cell_type": "code",
      "metadata": {
        "colab": {
          "base_uri": "https://localhost:8080/"
        },
        "id": "Q2eyFFcSLth-",
        "outputId": "fae7ac42-9e92-499e-be87-03a38ffc4336"
      },
      "source": [
        "number_of_slices = readdata.shape[2]\n",
        "means = np.zeros(shape=(number_of_slices,4))\n",
        "print(means)"
      ],
      "execution_count": null,
      "outputs": [
        {
          "output_type": "stream",
          "text": [
            "[[0. 0. 0. 0.]\n",
            " [0. 0. 0. 0.]\n",
            " [0. 0. 0. 0.]\n",
            " [0. 0. 0. 0.]\n",
            " [0. 0. 0. 0.]\n",
            " [0. 0. 0. 0.]\n",
            " [0. 0. 0. 0.]\n",
            " [0. 0. 0. 0.]]\n"
          ],
          "name": "stdout"
        }
      ]
    },
    {
      "cell_type": "code",
      "metadata": {
        "colab": {
          "base_uri": "https://localhost:8080/"
        },
        "id": "RqYrpHGMEVSt",
        "outputId": "efa3a40c-4689-4617-bfcc-35f7f93013c9"
      },
      "source": [
        "\n",
        "x = range(number_of_slices)\n",
        "for n in x:\n",
        "  print('Current slice: ' + str(n))\n",
        "  slice2D = readdata[:,:,n]\n",
        "  if np.isin(1, slice2D) and np.isin(2, slice2D):\n",
        "    print('We have two labels')\n",
        "    x_ax_1, y_ax_1 = np.where(slice2D == 1)\n",
        "    print('x indices of label 1' + str(x_ax_1))\n",
        "    print('y indices of label 1' + str(y_ax_1))\n",
        "    x_mean_1 = x_ax_1.mean();\n",
        "    y_mean_1 = y_ax_1.mean();\n",
        "    print('means: ' + str(x_mean_1), str(y_mean_1))\n",
        "\n",
        "    x_ax_2, y_ax_2 = np.where(slice2D == 2)\n",
        "    print('x indices of label 2' + str(x_ax_2))\n",
        "    print('y indices of label 2' + str(y_ax_2))\n",
        "    x_mean_2 = x_ax_2.mean();\n",
        "    y_mean_2 = y_ax_2.mean();\n",
        "    print('means: ', str(x_mean_2), str(y_mean_2))\n",
        "\n",
        "    means[n] = [x_mean_1, x_mean_2, y_mean_1, y_mean_2]\n",
        "  \n",
        "print(means)"
      ],
      "execution_count": null,
      "outputs": [
        {
          "output_type": "stream",
          "text": [
            "Current slice: 0\n",
            "Current slice: 1\n",
            "We have two labels\n",
            "x indices of label 1[92 92 92 93 93 93 93 93 94 94 94 94 94 95 95 95 95 95 96 96 96]\n",
            "y indices of label 1[129 130 131 128 129 130 131 132 128 129 130 131 132 128 129 130 131 132\n",
            " 129 130 131]\n",
            "means: 94.0 130.0\n",
            "x indices of label 2[85 85 85 86 86 86 86 86 87 87 87 87 87 88 88 88 88 88 89 89 89]\n",
            "y indices of label 2[165 166 167 164 165 166 167 168 164 165 166 167 168 164 165 166 167 168\n",
            " 165 166 167]\n",
            "means:  87.0 166.0\n",
            "Current slice: 2\n",
            "We have two labels\n",
            "x indices of label 1[93 93 93 94 94 94 94 94 95 95 95 95 95 96 96 96 96 96 97 97 97]\n",
            "y indices of label 1[124 125 126 123 124 125 126 127 123 124 125 126 127 123 124 125 126 127\n",
            " 124 125 126]\n",
            "means: 95.0 125.0\n",
            "x indices of label 2[86 86 86 87 87 87 87 87 88 88 88 88 88 89 89 89 89 89 90 90 90]\n",
            "y indices of label 2[162 163 164 161 162 163 164 165 161 162 163 164 165 161 162 163 164 165\n",
            " 162 163 164]\n",
            "means:  88.0 163.0\n",
            "Current slice: 3\n",
            "We have two labels\n",
            "x indices of label 1[91 91 91 92 92 92 92 92 93 93 93 93 93 94 94 94 94 94 95 95 95]\n",
            "y indices of label 1[125 126 127 124 125 126 127 128 124 125 126 127 128 124 125 126 127 128\n",
            " 125 126 127]\n",
            "means: 93.0 126.0\n",
            "x indices of label 2[87 87 87 88 88 88 88 88 89 89 89 89 89 90 90 90 90 90 91 91 91]\n",
            "y indices of label 2[163 164 165 162 163 164 165 166 162 163 164 165 166 162 163 164 165 166\n",
            " 163 164 165]\n",
            "means:  89.0 164.0\n",
            "Current slice: 4\n",
            "We have two labels\n",
            "x indices of label 1[85 85 85 86 86 86 86 86 87 87 87 87 87 88 88 88 88 88 89 89 89]\n",
            "y indices of label 1[125 126 127 124 125 126 127 128 124 125 126 127 128 124 125 126 127 128\n",
            " 125 126 127]\n",
            "means: 87.0 126.0\n",
            "x indices of label 2[89 89 89 90 90 90 90 90 91 91 91 91 91 92 92 92 92 92 93 93 93]\n",
            "y indices of label 2[160 161 162 159 160 161 162 163 159 160 161 162 163 159 160 161 162 163\n",
            " 160 161 162]\n",
            "means:  91.0 161.0\n",
            "Current slice: 5\n",
            "We have two labels\n",
            "x indices of label 1[84 84 84 85 85 85 85 85 86 86 86 86 86 87 87 87 87 87 88 88 88]\n",
            "y indices of label 1[135 136 137 134 135 136 137 138 134 135 136 137 138 134 135 136 137 138\n",
            " 135 136 137]\n",
            "means: 86.0 136.0\n",
            "x indices of label 2[90 90 90 91 91 91 91 91 92 92 92 92 92 93 93 93 93 93 94 94 94]\n",
            "y indices of label 2[159 160 161 158 159 160 161 162 158 159 160 161 162 158 159 160 161 162\n",
            " 159 160 161]\n",
            "means:  92.0 160.0\n",
            "Current slice: 6\n",
            "Current slice: 7\n",
            "[[  0.   0.   0.   0.]\n",
            " [ 94.  87. 130. 166.]\n",
            " [ 95.  88. 125. 163.]\n",
            " [ 93.  89. 126. 164.]\n",
            " [ 87.  91. 126. 161.]\n",
            " [ 86.  92. 136. 160.]\n",
            " [  0.   0.   0.   0.]\n",
            " [  0.   0.   0.   0.]]\n"
          ],
          "name": "stdout"
        }
      ]
    },
    {
      "cell_type": "code",
      "metadata": {
        "colab": {
          "base_uri": "https://localhost:8080/"
        },
        "id": "LMuDN-ORKGWB",
        "outputId": "d7b75dfe-e619-44ab-9d48-7a4e1fb5793a"
      },
      "source": [
        "#centroid: \n",
        "#87/166\n",
        "#94/130\n",
        "\n",
        "#Davor: Bestimmung von x_small und x_large\n",
        "#Zweipunkteformel:\n",
        "#![[Pasted image 20210612140333.png]]\n",
        "\n",
        "#f(x) = ((166-130)/(87-94)) * (x-x1) + y1\n",
        "\n",
        "#Danach Formel auflösen von x_small bis x_large und jeden Punkt (x/f(x)) als Label 3 speichern\n",
        "\n",
        "#Index Array: A[x/f(x)] = 3"
      ],
      "execution_count": null,
      "outputs": [
        {
          "output_type": "stream",
          "text": [
            "/bin/bash: [[Pasted: command not found\n"
          ],
          "name": "stdout"
        }
      ]
    }
  ]
}