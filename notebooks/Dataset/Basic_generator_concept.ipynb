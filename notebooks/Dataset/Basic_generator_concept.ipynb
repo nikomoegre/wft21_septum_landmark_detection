{
 "cells": [
  {
   "cell_type": "code",
   "execution_count": 1,
   "metadata": {},
   "outputs": [
    {
     "name": "stdout",
     "output_type": "stream",
     "text": [
      "search for root_dir and set working directory\n",
      "Working directory set to: /mnt/ssd/git/wft21_septum_landmark_detection\n"
     ]
    }
   ],
   "source": [
    "# define logging and working directory\n",
    "from ProjectRoot import change_wd_to_project_root\n",
    "change_wd_to_project_root()\n",
    "from src.utils.Notebook_imports import *\n",
    "import numpy as np"
   ]
  },
  {
   "cell_type": "markdown",
   "metadata": {},
   "source": [
    "# Test the main concepts of a DL generator\n",
    "\n",
    "A Generator yields a tuple of (x,y) and is used to feed data into a deep learning model\n",
    "\n",
    "Each tuple has the following shape: \n",
    "\n",
    "$(batchsize \\times inputObjects \\times inputShape)$ , $(batchsize \\times ioutputObjects \\times outputShape)$\n",
    "\n",
    "--> $inputShape$/$outputShape$ could be:\n",
    "- for 1D vector-data: $width$\n",
    "- for 2D images: $height \\times width$: \n",
    "- for 3D volumes: $depth \\times height \\times width$\n"
   ]
  },
  {
   "cell_type": "markdown",
   "metadata": {},
   "source": [
    "# Create fake data interactively\n",
    "\n",
    "Please define:\n",
    "\n",
    "- $examples$ - The total number of patients (the size of the dataset)\n",
    "- $inputObjects$ / $ouputObjects$ - This could be the timesteps of 4D CMR files or the number of 3D volumes/ different modalities (multi-input model)\n",
    "- $inputShape$ / $outputShape$ - could be 3/2 or 1D data, e.g.>: 𝑑𝑒𝑝𝑡ℎ∗ℎ𝑒𝑖𝑔ℎ𝑡∗𝑤𝑖𝑑𝑡ℎ.\n",
    "- $batchsize$ -  Which is the number of entities yielded in one step\n",
    "\n",
    "Usually the generator would save only the references to the corresponding files.\n",
    "In this example we create numpy arrays with the desired shape on the fly."
   ]
  },
  {
   "cell_type": "code",
   "execution_count": 2,
   "metadata": {},
   "outputs": [
    {
     "data": {
      "application/vnd.jupyter.widget-view+json": {
       "model_id": "6de5732c48e743599419fbd62cde1a50",
       "version_major": 2,
       "version_minor": 0
      },
      "text/plain": [
       "interactive(children=(IntSlider(value=100, description='examples_', max=200, min=1), IntSlider(value=4, descri…"
      ]
     },
     "metadata": {},
     "output_type": "display_data"
    }
   ],
   "source": [
    "# Define the size of our fake data\n",
    "upper_example_limit = 200\n",
    "upper_example_size_limit = 8\n",
    "upper_batchsize_limit = 20\n",
    "\n",
    "@interact_manual\n",
    "def create_fake_data(examples_=(1,upper_example_limit), \n",
    "                     inputObjects=(1,upper_example_size_limit),\n",
    "                     outputObjects=(1,upper_example_size_limit),\n",
    "                     batchsize_=(1,upper_batchsize_limit), \n",
    "                     input_obj_shape='(10,10,10)', \n",
    "                     ouptut_obj_shape='(10,10,10)'):\n",
    "    \n",
    "    global examples, input_objects, output_objects , batchsize, indexes, X, Y, x_dict, y_dict, batches\n",
    "    examples = examples_\n",
    "    batchsize = batchsize_\n",
    "    input_objects = inputObjects\n",
    "    output_objects = outputObjects\n",
    "    \n",
    "    # make sure the dimensions have the correct formating\n",
    "    # converts a string of int-tuple into a tuple of int '(10,10,10)' --> (10,10,10)\n",
    "    x_dim = tuple(map(int, input_obj_shape.replace(')', '').replace('(','').split(',')))\n",
    "    y_dim = tuple(map(int, ouptut_obj_shape.replace(')', '').replace('(','').split(',')))\n",
    "    \n",
    "    # create some fake data\n",
    "    x_dict = {}\n",
    "    y_dict = {}  \n",
    "    for example in range(examples_):\n",
    "        # create example data (batchsize x input_objects x input_object_shape and batchsize output_objects x output_object_shape)\n",
    "        # squeeze unused dimensions\n",
    "        x_dict[example] = np.squeeze(np.stack([np.round(np.random.sample(x_dim),2)+example for i in range(input_objects)]))\n",
    "        y_dict[example] = np.squeeze(np.stack([np.round(np.random.sample(y_dim),2)+(10*example) for i in range(output_objects)]))\n",
    "        # testing purpose if lists are faster than dicts\n",
    "        #X.append(np.stack([np.round(np.random.sample(x_dim),2)+example for i in range(input_objects)]))\n",
    "    # index our data, we can use the indicies to select one example or a batch of examples from a list or dictionary\n",
    "    # By this we dont need to shuffle the data itself, we shuffle only the indexes\n",
    "    indexes = list(range(len(x_dict)))\n",
    "    batches = int(np.floor(examples/batchsize))-1\n",
    "    print('Shape of one batch X: {} * {}, Y: {} * {}'.format(batchsize, x_dict[0].shape, batchsize, y_dict[0].shape))"
   ]
  },
  {
   "cell_type": "markdown",
   "metadata": {},
   "source": [
    "# Select one batch and yield the corresponding values/shape $(batchsize \\times inputObjects \\times inputObjShape),(batchsize \\times outputObjects \\times outputObjShape)$"
   ]
  },
  {
   "cell_type": "code",
   "execution_count": 3,
   "metadata": {},
   "outputs": [
    {
     "data": {
      "application/vnd.jupyter.widget-view+json": {
       "model_id": "2c7ec740075541a5a5eb12d8be6348ae",
       "version_major": 2,
       "version_minor": 0
      },
      "text/plain": [
       "interactive(children=(IntSlider(value=4, description='selected_batch', max=9), Checkbox(value=False, descripti…"
      ]
     },
     "metadata": {},
     "output_type": "display_data"
    }
   ],
   "source": [
    "@interact\n",
    "def select_batch(selected_batch = (0,batches), shuffle_indexes=False, debug=False):\n",
    "    global indexes\n",
    "    \n",
    "    if shuffle_indexes:\n",
    "        random.shuffle(indexes)\n",
    "    # make sure indexes are correctly initialised\n",
    "    assert len(indexes) == examples, print('len indexes: {}, number of examples: {}'.format(len(indexes), examples))\n",
    "    \n",
    "    # define the lower/upper index slicing borders of the current batch\n",
    "    start_idx = selected_batch*batchsize\n",
    "    end_idx = (selected_batch+1)*batchsize\n",
    "    \n",
    "    # we slice the indexes of the current batch from the index list\n",
    "    batch_indexes = indexes[start_idx: end_idx]\n",
    "    \n",
    "    # print the restrictions of the current batch\n",
    "    print('selected batch: {} of {} with a batchsize of {} and total {} examples'.format(selected_batch, batches, batchsize, examples))\n",
    "    print('start idx: {}, end idx: {}'.format(start_idx, end_idx))\n",
    "    print('Indexes of the currrent batch: {}'.format(batch_indexes))\n",
    "    print('-'*40)\n",
    "    \n",
    "    # stack the entities of the current batch\n",
    "    batch_x = np.stack([x_dict[k] for k in batch_indexes])\n",
    "    batch_y = np.stack([y_dict[k] for k in batch_indexes])\n",
    "    if debug:\n",
    "        [print('index: {}: value: {}'.format(k, x_dict[k])) for k in batch_indexes]\n",
    "        [print('index: {}: value: {}'.format(k, y_dict[k])) for k in batch_indexes]\n",
    "    \n",
    "    return([batch_x.shape, batch_y.shape])"
   ]
  },
  {
   "cell_type": "markdown",
   "metadata": {},
   "source": [
    "# Simple random generator, subclassed from tensorflow.keras.utils.Sequence"
   ]
  },
  {
   "cell_type": "code",
   "execution_count": 4,
   "metadata": {},
   "outputs": [],
   "source": [
    "import tensorflow, random\n",
    "from time import time\n",
    "import concurrent.futures\n",
    "from concurrent.futures import as_completed\n",
    "import logging\n",
    "from src.utils.Utils_io import Console_and_file_logger\n",
    "\n",
    "class BaseGenerator(tensorflow.keras.utils.Sequence):\n",
    "    \"\"\"\n",
    "    Base generator class\n",
    "    \"\"\"\n",
    "\n",
    "    def __init__(self, x=None, y=None, config={}):\n",
    "        \"\"\"\n",
    "        Creates a base datagenerator for a list of nrrd images and a list of nrrd masks\n",
    "        :param x: list of nrrd image file names\n",
    "        :param y: list of nrrd mask file names\n",
    "        :param config:\n",
    "        \"\"\"\n",
    "        # Define standard parameters\n",
    "        # ###################################################################\n",
    "        logging.info('Create BaseDataGenerator')\n",
    "        assert len(x) == len(y)\n",
    "\n",
    "        self.EXAMPLES = len(x)\n",
    "        self.INPUTS = config.get('INPUTS', 1)\n",
    "        self.OUTPUTS = config.get('OUTPUTS', 1)\n",
    "        self.X_DIM = str(config.get('X_DIM', (256, 256)))\n",
    "        self.Y_DIM = str(config.get('Y_DIM', (256, 256)))\n",
    "        self.BATCHSIZE = config.get('BATCHSIZE', 32)\n",
    "        self.SHUFFLE = config.get('SHUFFLE', True)\n",
    "        \n",
    "        # create one worker per image & mask (batchsize) for parallel pre-processing if nothing else is defined\n",
    "        self.MAX_WORKERS = config.get('MAX_WORKERS', self.BATCHSIZE)\n",
    "        self.MAX_WORKERS = min(32, self.MAX_WORKERS)\n",
    "\n",
    "        # Make sure the dimensions have the correct formating\n",
    "        # converts a string of int-tuple into a tuple of int '(10,10,10)' --> (10,10,10), or 10 --> (10,)\n",
    "        self.X_DIM = tuple(map(int, self.X_DIM.replace(')', '').replace('(', '').split(',')))\n",
    "        self.Y_DIM = tuple(map(int, self.Y_DIM.replace(')', '').replace('(', '').split(',')))\n",
    "\n",
    "        # Create some static fake data\n",
    "        # #######################################################################\n",
    "        self.x_dict = {}\n",
    "        self.y_dict = {}\n",
    "        for example in range(self.EXAMPLES):\n",
    "            # create example data (batchsize x input_objects x input_object_shape and batchsize output_objects x output_object_shape)\n",
    "            # squeeze unused dimensions\n",
    "            self.x_dict[example] = np.squeeze(\n",
    "                np.stack([np.round(np.random.sample(self.X_DIM), 2) + example for i in range(self.INPUTS)]))\n",
    "            self.y_dict[example] = np.squeeze(\n",
    "                np.stack([np.round(np.random.sample(self.Y_DIM), 2) + (10 * example) for i in range(self.OUTPUTS)]))\n",
    "        # #######################################################################\n",
    "        # index our data, we can use the indicies to select one example or a batch of examples from a list or dictionary\n",
    "        # By this we dont need to shuffle the data itself, we shuffle only the indexes\n",
    "        \n",
    "        # We use these indicies to access and shuffle the data\n",
    "        # #######################################################################\n",
    "        self.INDICES = list(range(len(self.x_dict)))\n",
    "\n",
    "        print('Shape of one batch X: {} * {}, Y: {} * {}'.format(self.BATCHSIZE, self.x_dict[0].shape, self.BATCHSIZE,\n",
    "                                                                 self.y_dict[0].shape))\n",
    "        \n",
    "        self.X_SHAPE = np.empty((self.BATCHSIZE, *self.x_dict[0].shape), dtype=np.float32)\n",
    "        self.Y_SHAPE = np.empty((self.BATCHSIZE, *self.y_dict[0].shape), dtype=np.float32)\n",
    "\n",
    "    def __len__(self):\n",
    "\n",
    "        \"\"\"\n",
    "        Denotes the number of batches per epoch\n",
    "        :return: number of batches\n",
    "        \"\"\"\n",
    "        return int(np.floor(len(self.INDICES) / self.BATCHSIZE))\n",
    "\n",
    "    def __getitem__(self, index):\n",
    "\n",
    "        \"\"\"\n",
    "        Generate the indexes for one batch of data\n",
    "        This method allows to access the gen by simple indices\n",
    "        gen = BaseGenerator(...)\n",
    "        x,y = gen[0]\n",
    "        :param index: int in the range of  {0: len(dataset)/Batchsize}\n",
    "        :return: pre-processed batch as x,y tuples\n",
    "        \"\"\"\n",
    "\n",
    "        t0 = time()\n",
    "        # collect n indices with n = Batchsize\n",
    "        # starting from the given index parameter\n",
    "        # which is in the range of  {0: len(dataset)/Batchsize}\n",
    "        idxs = self.INDICES[index * self.BATCHSIZE: (index + 1) * self.BATCHSIZE]\n",
    "\n",
    "        return self.__data_generation__(idxs)\n",
    "\n",
    "    def on_epoch_end(self):\n",
    "\n",
    "        \"\"\"\n",
    "        Shuffle the indexes after each epoch\n",
    "        :return: None\n",
    "        \"\"\"\n",
    "\n",
    "        if self.SHUFFLE:\n",
    "            np.random.shuffle(self.INDICES)\n",
    "\n",
    "    def __data_generation__(self, ids):\n",
    "\n",
    "        \"\"\"\n",
    "        Preprocess one batch, represented by the list of ids\n",
    "        Could pre-process each entity in parallel\n",
    "        returns the preprocessed batch\n",
    "\n",
    "        :param list_IDs_temp:\n",
    "        :return: X : (batchsize, *dim, n_channels), Y : (batchsize, *dim, number_of_classes)\n",
    "        \"\"\"\n",
    "\n",
    "        # Initialization\n",
    "\n",
    "        x = np.empty_like(self.X_SHAPE)\n",
    "        y = np.empty_like(self.Y_SHAPE)\n",
    "        logging.info('preprocess one batch with: {}, {}'.format(x.shape, y.shape))\n",
    "\n",
    "        futures = set()\n",
    "\n",
    "        # spawn one thread per worker\n",
    "        with concurrent.futures.ThreadPoolExecutor(max_workers=self.MAX_WORKERS) as executor:\n",
    "\n",
    "            t0 = time()\n",
    "            # Generate data\n",
    "            for i, ID in enumerate(ids):\n",
    "\n",
    "                try:\n",
    "                    # keep ordering of the shuffled indexes\n",
    "                    futures.add(executor.submit(self.__preprocess_one_image__, i, ID))\n",
    "\n",
    "                except Exception as e:\n",
    "                    logging.error(\n",
    "                        'Exception {} in datagenerator with: image: {} or mask: {}'.format(str(e), self.x_dict[ID],\n",
    "                                                                                           self.y_dict[ID]))\n",
    "        # This is out of the threadPool executor context\n",
    "        for i, future in enumerate(as_completed(futures)):\n",
    "            # use the index i to place each processed example in the batch\n",
    "            # otherwise slower images will always be at the end of the batch\n",
    "            # Use the ID for exception handling as reference to the file name\n",
    "            try:\n",
    "                x_, y_, i, ID, needed_time = future.result()\n",
    "                x[i,], y[i,] = x_, y_\n",
    "                logging.info('img finished after {:0.3f} sec.'.format(needed_time))\n",
    "            except Exception as e:\n",
    "                logging.error(\n",
    "                    'Exception {} in datagenerator with: image: {} or mask: {}'.format(str(e), self.x_dict[ID],\n",
    "                                                                                       self.y_dict[ID]))\n",
    "\n",
    "        logging.debug('Batchsize: {} preprocessing took: {:0.3f} sec'.format(self.BATCHSIZE, time() - t0))\n",
    "\n",
    "        return np.array(x.astype(np.float32)), np.array(y.astype(np.float32))\n",
    "\n",
    "    def __preprocess_one_image__(self, i, ID):\n",
    "        t0 = time()\n",
    "        import time as t\n",
    "        #t.sleep(1) # testing purpose\n",
    "        # in this function we would load and preprocess the file self.x_dict[ID] and self.y_dict[ID]\n",
    "        return self.x_dict[ID], self.y_dict[ID], i, ID, time() - t0"
   ]
  },
  {
   "cell_type": "markdown",
   "metadata": {},
   "source": [
    "# Play here with the generator/config params\n",
    "\n",
    "The generator should follow the convention over configuration paradigm and provide a standard value for each possible parameter"
   ]
  },
  {
   "cell_type": "code",
   "execution_count": 5,
   "metadata": {},
   "outputs": [
    {
     "name": "stdout",
     "output_type": "stream",
     "text": [
      "Shape of one batch X: 5 * (5, 5), Y: 5 * (5, 5)\n"
     ]
    }
   ],
   "source": [
    "cfg = {}\n",
    "cfg['X_DIM'] = 5,5\n",
    "cfg['Y_DIM'] = 5,5\n",
    "cfg['BATCHSIZE'] = 5\n",
    "cfg['MAX_WORKERS'] = 5\n",
    "files = 10\n",
    "gen = BaseGenerator(x=[1]*files,y=[1]*files, config=cfg)"
   ]
  },
  {
   "cell_type": "code",
   "execution_count": 7,
   "metadata": {},
   "outputs": [
    {
     "data": {
      "application/vnd.jupyter.widget-view+json": {
       "model_id": "139b0289e90a41b394a1cf6dbfbbe3fc",
       "version_major": 2,
       "version_minor": 0
      },
      "text/plain": [
       "interactive(children=(IntSlider(value=1, description='i', max=2), Checkbox(value=False, description='epoch_end…"
      ]
     },
     "metadata": {},
     "output_type": "display_data"
    }
   ],
   "source": [
    "@interact\n",
    "def get_batches_from_generator(i=(0,len(gen)), epoch_end=False):\n",
    "    global gen\n",
    "    if epoch_end:gen.on_epoch_end()\n",
    "    x,y = gen[i]\n",
    "    print('x-shape: {}, y-shape: {}'.format(x.shape, y.shape))\n",
    "    print('mean x: {}, mean y: {}'.format(x.mean(), y.mean()))\n",
    "    return x,y"
   ]
  },
  {
   "cell_type": "markdown",
   "metadata": {},
   "source": [
    "# Performance of different indexing methods"
   ]
  },
  {
   "cell_type": "code",
   "execution_count": 55,
   "metadata": {},
   "outputs": [
    {
     "name": "stdout",
     "output_type": "stream",
     "text": [
      "2.01 s ± 1.09 ms per loop (mean ± std. dev. of 2 runs, 1 loop each)\n"
     ]
    }
   ],
   "source": [
    "%%timeit -r 1\n",
    "# process all files of the generator\n",
    "_ = [(x,y) for x,y in gen]"
   ]
  },
  {
   "cell_type": "markdown",
   "metadata": {},
   "source": [
    "# Subclassing new generators"
   ]
  },
  {
   "cell_type": "code",
   "execution_count": 9,
   "metadata": {},
   "outputs": [],
   "source": [
    "class DataGenerator(BaseGenerator):\n",
    "    \"\"\"\n",
    "    Yields (X, Y) / image,mask for 2D and 3D U-net training\n",
    "    could be used to yield (X, None)\n",
    "    \"\"\"\n",
    "        \n",
    "    def __preprocess_one_image__(self, i, ID):\n",
    "        delta = 0.1\n",
    "        \n",
    "        # Add here any fancy new \n",
    "        \n",
    "        return self.x_dict[ID]*delta, self.y_dict[ID]*delta, i, ID, time() - t0"
   ]
  },
  {
   "cell_type": "code",
   "execution_count": 10,
   "metadata": {},
   "outputs": [
    {
     "name": "stdout",
     "output_type": "stream",
     "text": [
      "Shape of one batch X: 5 * (5, 5), Y: 5 * (5, 5)\n"
     ]
    }
   ],
   "source": [
    "gen = DataGenerator(x=[1]*files,y=[1]*files, config=cfg)"
   ]
  },
  {
   "cell_type": "code",
   "execution_count": 12,
   "metadata": {
    "collapsed": true,
    "jupyter": {
     "outputs_hidden": true
    }
   },
   "outputs": [
    {
     "data": {
      "text/plain": [
       "(array([[[2.78580580e+33, 3.07556987e-41, 0.00000000e+00, 0.00000000e+00,\n",
       "                     nan],\n",
       "         [4.58743078e-41, 1.63729959e-19, 1.14468136e+24, 2.56410238e+29,\n",
       "          6.13169348e+28],\n",
       "         [1.94209412e+31, 7.33822581e+34, 6.86081970e+22, 1.27715149e+01,\n",
       "          3.45812815e+12],\n",
       "         [1.15299647e+27, 6.65319884e-33, 1.14468136e+24, 5.08488755e+31,\n",
       "          4.96401942e+28],\n",
       "         [3.04812811e+32, 1.89427093e+23, 2.01115550e-19, 1.94316151e-19,\n",
       "          7.68133284e+31]],\n",
       " \n",
       "        [[7.22507385e+28, 2.28396210e+02, 2.00258371e-19, 6.74221921e+22,\n",
       "          1.75892947e+22],\n",
       "         [6.86081970e+22, 1.04630877e+27, 1.89808543e+28, 1.76668287e+22,\n",
       "          9.49574173e+12],\n",
       "         [2.82191761e+26, 4.61141998e+24, 6.26087042e+22, 4.74281365e+30,\n",
       "          4.85607420e+33],\n",
       "         [4.54177956e+30, 4.96401895e+28, 3.24870624e+33, 4.29568637e+24,\n",
       "          1.13616057e+30],\n",
       "         [7.15473767e+22, 1.80373090e+28, 1.93680168e+31, 1.95185260e-19,\n",
       "          7.00785457e+22]],\n",
       " \n",
       "        [[3.08808616e+29, 5.08488755e+31, 6.67408200e+22, 2.72594054e+20,\n",
       "          1.93458972e-19],\n",
       "         [5.08427342e+31, 3.02979701e+24, 3.47385640e-12, 6.86081970e+22,\n",
       "          1.04630877e+27],\n",
       "         [4.54179921e+30, 4.96401895e+28, 2.61859267e+20, 6.99874424e+22,\n",
       "          1.94312817e-19],\n",
       "         [3.04782869e+32, 4.96571758e+28, 1.08864523e+27, 7.92236267e+34,\n",
       "          2.06164635e-19],\n",
       "         [1.77495894e+28, 2.72594054e+20, 1.93458972e-19, 5.08427342e+31,\n",
       "          1.18351446e+22]],\n",
       " \n",
       "        [[4.30662259e+21, 2.75189255e+12, 2.06177766e-19, 1.16343462e+33,\n",
       "          1.93658371e+31],\n",
       "         [6.86081970e+22, 6.77158358e+22, 7.12207101e+28, 7.02923212e+28,\n",
       "          4.96644105e+28],\n",
       "         [2.79463838e+20, 1.85236006e+28, 1.21023773e+25, 2.76748132e+20,\n",
       "          4.30648214e+21],\n",
       "         [4.46497560e+30, 6.86116558e+22, 1.74183331e+28, 1.27715149e+01,\n",
       "          2.99656385e+32],\n",
       "         [4.54482213e+30, 1.78585617e+31, 7.55553492e+31, 4.95782887e+28,\n",
       "          3.04812811e+32]],\n",
       " \n",
       "        [[1.47765735e-19, 1.94315738e-19, 2.72487463e+20, 1.14468136e+24,\n",
       "          3.03451960e+29],\n",
       "         [7.06557856e+22, 7.36966610e+28, 2.67524866e+20, 1.84924380e+20,\n",
       "          1.09026456e+27],\n",
       "         [1.68793484e+25, 1.86105146e+34, 7.77811654e+31, 2.07064607e-19,\n",
       "          7.14346530e+31],\n",
       "         [6.74149233e+22, 2.75614785e+23, 2.06164544e-19, 1.94316151e-19,\n",
       "          1.89678370e+31],\n",
       "         [1.21218409e+25, 7.77827805e+31, 3.65178380e-42, 0.00000000e+00,\n",
       "          8.96831017e-43]]], dtype=float32),\n",
       " array([[[8.79162733e+32, 3.07556987e-41, 0.00000000e+00, 0.00000000e+00,\n",
       "                     nan],\n",
       "         [5.37422664e-30, 7.74555871e+31, 1.69576131e-10, 5.01919787e+33,\n",
       "          1.77531300e+28],\n",
       "         [2.86217141e+23, 5.62602603e-11, 2.10499826e-10, 2.86170970e+23,\n",
       "          2.73757760e+20],\n",
       "         [2.08627532e-10, 2.05021666e-10, 4.54451143e+30, 7.22507008e+28,\n",
       "          7.18309639e+22],\n",
       "         [7.55458180e+31, 1.31941073e-17, 2.74942013e+20, 2.88278729e+32,\n",
       "          7.14296819e+31]],\n",
       " \n",
       "        [[1.78657143e+25, 3.14676167e-11, 1.04470154e+27, 1.92861081e+28,\n",
       "          4.30597295e+21],\n",
       "         [2.63372002e+20, 1.02224979e+27, 1.94299466e-19, 7.03621104e+22,\n",
       "          7.21284357e+22],\n",
       "         [1.90689779e-19, 3.08541429e+32, 3.25440943e+33, 4.29568637e+24,\n",
       "          2.06176836e-19],\n",
       "         [1.94316151e-19, 2.99648145e+32, 2.82310791e+23, 6.86081970e+22,\n",
       "          1.80565538e+28],\n",
       "         [7.04604347e+19, 7.09635166e+22, 1.75893871e+22, 1.86722878e+25,\n",
       "          1.84937856e+20]],\n",
       " \n",
       "        [[1.78656347e+25, 2.03326139e+32, 7.14296819e+31, 1.21251561e+33,\n",
       "          4.90118988e+30],\n",
       "         [7.21503006e+22, 7.13454923e+31, 1.80565538e+28, 6.71200816e+22,\n",
       "          1.47702857e-19],\n",
       "         [1.94315738e-19, 2.79041594e+29, 2.82310791e+23, 3.03760142e+29,\n",
       "          7.21283726e+22],\n",
       "         [6.73056839e+22, 4.68862635e+27, 1.81774195e+31, 6.86081970e+22,\n",
       "          2.67996266e+20],\n",
       "         [4.96402320e+28, 4.61142027e+24, 3.08199506e+32, 4.46009547e+30,\n",
       "          2.11233623e-19]],\n",
       " \n",
       "        [[5.08328307e+31, 3.17697243e+30, 1.18692704e+27, 4.66809270e+24,\n",
       "          1.96840564e-19],\n",
       "         [2.03395579e+32, 7.14296819e+31, 1.47715910e-19, 1.94315738e-19,\n",
       "          2.79041594e+29],\n",
       "         [2.82209334e+23, 1.75916006e+22, 1.81740152e+31, 1.94446724e+31,\n",
       "          6.67408425e+22],\n",
       "         [1.74430240e+28, 4.61734943e-02, 1.45852208e-19, 4.61681162e+24,\n",
       "          4.51444069e+27],\n",
       "         [1.83931436e+25, 1.27106835e+31, 1.94375566e-19, 2.82976452e+20,\n",
       "          7.55535380e+28]],\n",
       " \n",
       "        [[6.86081970e+22, 1.74430240e+28, 2.82310899e+23, 1.80565538e+28,\n",
       "          7.04604347e+19],\n",
       "         [1.41352719e+05, 1.10462535e+27, 1.96029927e-19, 4.96414362e+28,\n",
       "          5.36816946e+28],\n",
       "         [6.99984956e+28, 1.80982058e+31, 1.78656347e+25, 1.21191823e+25,\n",
       "          4.30532809e+21],\n",
       "         [1.21233167e+25, 4.50932725e+27, 4.43769751e+27, 2.81810020e+20,\n",
       "          1.85236006e+28],\n",
       "         [2.70817460e+23, 1.69290411e+22, 6.44597294e-44, 0.00000000e+00,\n",
       "          8.96831017e-43]]], dtype=float32))"
      ]
     },
     "execution_count": 12,
     "metadata": {},
     "output_type": "execute_result"
    }
   ],
   "source": [
    "gen[7]"
   ]
  },
  {
   "cell_type": "code",
   "execution_count": null,
   "metadata": {},
   "outputs": [],
   "source": [
    "def __init__(self, **kwargs):\n",
    "        super(self.__class__, self).__init__(**kwargs)\n",
    "        self.name = 'myfirstgenerator'"
   ]
  },
  {
   "cell_type": "code",
   "execution_count": null,
   "metadata": {},
   "outputs": [],
   "source": []
  },
  {
   "cell_type": "code",
   "execution_count": 4,
   "metadata": {},
   "outputs": [],
   "source": [
    "from random import randint\n",
    "# We have a list --> X and a dictionary --> x_dict, \n",
    "# len(X) == len(x_dict)\n",
    "# and X[i] == x_dict[i] for all i in range(len(X))\n",
    "# We create n random indicies within the range of len(X)\n",
    "samples = [randint(0, examples-1) for _ in range(10000000)]"
   ]
  },
  {
   "cell_type": "code",
   "execution_count": 5,
   "metadata": {},
   "outputs": [
    {
     "name": "stdout",
     "output_type": "stream",
     "text": [
      "248 ms ± 2.87 ms per loop (mean ± std. dev. of 7 runs, 1 loop each)\n"
     ]
    }
   ],
   "source": [
    "%%timeit\n",
    "# access the list n times, append the value to a new list\n",
    "temp = None\n",
    "for i in samples:\n",
    "    temp = X[i]\n",
    "    "
   ]
  },
  {
   "cell_type": "code",
   "execution_count": 6,
   "metadata": {},
   "outputs": [
    {
     "name": "stdout",
     "output_type": "stream",
     "text": [
      "398 ms ± 2.14 ms per loop (mean ± std. dev. of 7 runs, 1 loop each)\n"
     ]
    }
   ],
   "source": [
    "%%timeit\n",
    "# access the dict n times, append the value to a new list\n",
    "temp = None\n",
    "for i in samples:\n",
    "    temp = x_dict[i]"
   ]
  },
  {
   "cell_type": "code",
   "execution_count": null,
   "metadata": {},
   "outputs": [],
   "source": []
  },
  {
   "cell_type": "code",
   "execution_count": null,
   "metadata": {},
   "outputs": [],
   "source": []
  }
 ],
 "metadata": {
  "kernelspec": {
   "display_name": "dcmr",
   "language": "python",
   "name": "dcmr"
  },
  "language_info": {
   "codemirror_mode": {
    "name": "ipython",
    "version": 3
   },
   "file_extension": ".py",
   "mimetype": "text/x-python",
   "name": "python",
   "nbconvert_exporter": "python",
   "pygments_lexer": "ipython3",
   "version": "3.8.5"
  },
  "widgets": {
   "application/vnd.jupyter.widget-state+json": {
    "state": {
     "007de74b3853403281d2c89b10b7c52f": {
      "model_module": "@jupyter-widgets/output",
      "model_module_version": "1.0.0",
      "model_name": "OutputModel",
      "state": {
       "layout": "IPY_MODEL_48f6ebc8252a45fa93b55b7f9a96e12c",
       "outputs": [
        {
         "name": "stdout",
         "output_type": "stream",
         "text": "x-shape: (5, 5, 5), y-shape: (5, 5, 5)\nmean x: 7.480160236358643, mean y: 70.4630355834961\n"
        },
        {
         "data": {
          "text/plain": "(array([[[5.55, 5.04, 5.73, 5.72, 5.38],\n         [5.27, 5.79, 5.5 , 5.08, 5.54],\n         [5.42, 5.8 , 5.39, 5.47, 5.13],\n         [5.97, 5.72, 5.97, 5.44, 5.38],\n         [5.36, 5.1 , 5.14, 5.03, 5.62]],\n \n        [[6.03, 7.  , 6.94, 6.97, 6.37],\n         [6.86, 6.93, 6.79, 6.69, 6.38],\n         [6.12, 6.39, 6.06, 6.51, 6.35],\n         [6.52, 6.17, 6.05, 6.46, 6.91],\n         [6.36, 6.88, 6.28, 6.97, 6.59]],\n \n        [[7.21, 7.68, 7.57, 7.8 , 7.09],\n         [7.61, 7.58, 7.96, 7.04, 7.1 ],\n         [7.89, 7.66, 7.81, 7.39, 7.08],\n         [7.56, 7.53, 7.2 , 7.4 , 7.46],\n         [7.05, 7.99, 7.04, 7.26, 7.01]],\n \n        [[8.06, 8.7 , 8.88, 8.59, 8.02],\n         [8.85, 8.95, 8.42, 8.76, 8.73],\n         [8.25, 8.63, 8.06, 8.42, 8.12],\n         [8.72, 8.6 , 8.94, 8.87, 8.76],\n         [8.13, 8.59, 8.49, 8.7 , 8.7 ]],\n \n        [[9.26, 9.3 , 9.05, 9.31, 9.79],\n         [9.23, 9.6 , 9.11, 9.22, 9.91],\n         [9.73, 9.79, 9.09, 9.35, 9.04],\n         [9.88, 9.99, 9.58, 9.03, 9.22],\n         [9.3 , 9.48, 9.18, 9.34, 9.21]]], dtype=float32),\n array([[[50.52, 50.81, 50.28, 50.11, 50.07],\n         [50.9 , 50.64, 50.07, 50.35, 50.25],\n         [50.59, 50.5 , 50.04, 50.96, 50.06],\n         [50.93, 50.54, 50.25, 50.15, 50.02],\n         [50.02, 50.7 , 50.17, 50.23, 50.35]],\n \n        [[60.42, 60.29, 60.49, 60.45, 60.93],\n         [60.72, 60.97, 60.45, 60.84, 60.09],\n         [60.92, 60.87, 60.07, 60.42, 60.76],\n         [60.77, 60.49, 60.87, 60.4 , 60.03],\n         [60.26, 60.59, 60.1 , 60.31, 60.61]],\n \n        [[70.03, 70.1 , 70.94, 70.7 , 70.42],\n         [70.93, 70.14, 70.27, 70.35, 70.15],\n         [70.26, 70.77, 70.33, 70.23, 70.13],\n         [70.53, 70.57, 70.69, 70.57, 70.2 ],\n         [70.63, 70.25, 70.19, 70.84, 70.74]],\n \n        [[80.91, 80.54, 80.49, 80.31, 80.42],\n         [80.06, 80.88, 80.54, 80.5 , 80.06],\n         [80.49, 80.85, 80.96, 80.88, 80.32],\n         [80.56, 80.24, 80.87, 80.52, 80.42],\n         [80.42, 80.96, 80.09, 80.47, 80.4 ]],\n \n        [[90.23, 90.36, 90.56, 90.21, 90.22],\n         [90.8 , 90.97, 90.18, 90.99, 90.44],\n         [90.44, 90.49, 90.84, 90.29, 90.15],\n         [90.05, 90.04, 90.22, 90.78, 90.71],\n         [90.5 , 90.48, 90.64, 90.5 , 90.04]]], dtype=float32))"
         },
         "metadata": {},
         "output_type": "display_data"
        }
       ]
      }
     },
     "054e2a8d155645529df74aa3dca06cf7": {
      "model_module": "@jupyter-widgets/base",
      "model_module_version": "1.2.0",
      "model_name": "LayoutModel",
      "state": {}
     },
     "086e3d9675664fa2ba5a09197c516972": {
      "model_module": "@jupyter-widgets/controls",
      "model_module_version": "1.5.0",
      "model_name": "DescriptionStyleModel",
      "state": {
       "description_width": ""
      }
     },
     "0de981dc6cda4d1e85b433ca78231f0a": {
      "model_module": "@jupyter-widgets/base",
      "model_module_version": "1.2.0",
      "model_name": "LayoutModel",
      "state": {}
     },
     "139b0289e90a41b394a1cf6dbfbbe3fc": {
      "model_module": "@jupyter-widgets/controls",
      "model_module_version": "1.5.0",
      "model_name": "VBoxModel",
      "state": {
       "_dom_classes": [
        "widget-interact"
       ],
       "children": [
        "IPY_MODEL_a7d3e302ecaf43979ab2bf2ec3da915c",
        "IPY_MODEL_1d9e7ba4c3cf43179ac8343a42987c9d",
        "IPY_MODEL_cead3c147362442bab0ca2d905aa397f"
       ],
       "layout": "IPY_MODEL_b8abdcafb88a4476b72e9f3bb81ce4b9"
      }
     },
     "152f8ca7857f4f21aecc7aec25206402": {
      "model_module": "@jupyter-widgets/base",
      "model_module_version": "1.2.0",
      "model_name": "LayoutModel",
      "state": {}
     },
     "172aef10b1a344478dc86e651a1282b4": {
      "model_module": "@jupyter-widgets/controls",
      "model_module_version": "1.5.0",
      "model_name": "IntSliderModel",
      "state": {
       "description": "inputObjects",
       "layout": "IPY_MODEL_ab4f0ef919804e6fb67ccba59a492ecb",
       "max": 8,
       "min": 1,
       "style": "IPY_MODEL_3818528d59be4d8bbeb742021d7feffc",
       "value": 1
      }
     },
     "18ab86b16dd04dd79fcb92372b079546": {
      "model_module": "@jupyter-widgets/controls",
      "model_module_version": "1.5.0",
      "model_name": "VBoxModel",
      "state": {
       "_dom_classes": [
        "widget-interact"
       ],
       "children": [
        "IPY_MODEL_50b9dc1d5636429da1bebc1150ba95f2",
        "IPY_MODEL_99e9797ae18640648fdfbed4abaadc60",
        "IPY_MODEL_007de74b3853403281d2c89b10b7c52f"
       ],
       "layout": "IPY_MODEL_a90cc42266f04dcd98069db361441ee9"
      }
     },
     "19546811f35e44f8baa4ebb578a3f571": {
      "model_module": "@jupyter-widgets/base",
      "model_module_version": "1.2.0",
      "model_name": "LayoutModel",
      "state": {}
     },
     "1d9e7ba4c3cf43179ac8343a42987c9d": {
      "model_module": "@jupyter-widgets/controls",
      "model_module_version": "1.5.0",
      "model_name": "CheckboxModel",
      "state": {
       "description": "epoch_end",
       "disabled": false,
       "layout": "IPY_MODEL_152f8ca7857f4f21aecc7aec25206402",
       "style": "IPY_MODEL_b1a1e6b2458f4f56bd31e0157ade4e22",
       "value": false
      }
     },
     "24a54796c2184bf58e4c23e96662b088": {
      "model_module": "@jupyter-widgets/controls",
      "model_module_version": "1.5.0",
      "model_name": "ButtonStyleModel",
      "state": {}
     },
     "2870314564e14d129f63a5c91fa90914": {
      "model_module": "@jupyter-widgets/base",
      "model_module_version": "1.2.0",
      "model_name": "LayoutModel",
      "state": {}
     },
     "2c7ec740075541a5a5eb12d8be6348ae": {
      "model_module": "@jupyter-widgets/controls",
      "model_module_version": "1.5.0",
      "model_name": "VBoxModel",
      "state": {
       "_dom_classes": [
        "widget-interact"
       ],
       "children": [
        "IPY_MODEL_b4c3b3fc96ae4e8cb55bd1e5207ac313",
        "IPY_MODEL_8168b93ebdd34528acb1b454ca1d5b1a",
        "IPY_MODEL_be3f9138bc18430e80ab9bf5fa8a4556",
        "IPY_MODEL_e3ae3393c81d44c3a6e3a88b5c5f4c95"
       ],
       "layout": "IPY_MODEL_0de981dc6cda4d1e85b433ca78231f0a"
      }
     },
     "3818528d59be4d8bbeb742021d7feffc": {
      "model_module": "@jupyter-widgets/controls",
      "model_module_version": "1.5.0",
      "model_name": "SliderStyleModel",
      "state": {
       "description_width": ""
      }
     },
     "3fb21a6d3fb14f29b3b4ff044c491056": {
      "model_module": "@jupyter-widgets/controls",
      "model_module_version": "1.5.0",
      "model_name": "SliderStyleModel",
      "state": {
       "description_width": ""
      }
     },
     "43312ec1fc764ae98e97d57a02cb9787": {
      "model_module": "@jupyter-widgets/output",
      "model_module_version": "1.0.0",
      "model_name": "OutputModel",
      "state": {
       "layout": "IPY_MODEL_5509c6a2e71e4d67ba5577a32d2b150d",
       "outputs": [
        {
         "name": "stdout",
         "output_type": "stream",
         "text": "Shape of one batch X: 10 * (128, 128), Y: 10 * (128, 128)\n"
        }
       ]
      }
     },
     "46e6d408982f4092808860b236983c5d": {
      "model_module": "@jupyter-widgets/controls",
      "model_module_version": "1.5.0",
      "model_name": "TextModel",
      "state": {
       "description": "input_obj_shape",
       "layout": "IPY_MODEL_9d6d2cc8f6054dab88e7509a3e92efd2",
       "style": "IPY_MODEL_935f0505dda64817be8b923094318df4",
       "value": "128,128"
      }
     },
     "48f6ebc8252a45fa93b55b7f9a96e12c": {
      "model_module": "@jupyter-widgets/base",
      "model_module_version": "1.2.0",
      "model_name": "LayoutModel",
      "state": {}
     },
     "4de0b83048384e2585f57a5defae1399": {
      "model_module": "@jupyter-widgets/base",
      "model_module_version": "1.2.0",
      "model_name": "LayoutModel",
      "state": {}
     },
     "4e559e56af8e4c7cb91eb3e097daa394": {
      "model_module": "@jupyter-widgets/controls",
      "model_module_version": "1.5.0",
      "model_name": "SliderStyleModel",
      "state": {
       "description_width": ""
      }
     },
     "50b9dc1d5636429da1bebc1150ba95f2": {
      "model_module": "@jupyter-widgets/controls",
      "model_module_version": "1.5.0",
      "model_name": "IntSliderModel",
      "state": {
       "description": "i",
       "layout": "IPY_MODEL_af60e2aa69c14ce28f527896edf9cfc9",
       "max": 2,
       "style": "IPY_MODEL_4e559e56af8e4c7cb91eb3e097daa394",
       "value": 1
      }
     },
     "51a429925a084611bc68050580075d7a": {
      "model_module": "@jupyter-widgets/base",
      "model_module_version": "1.2.0",
      "model_name": "LayoutModel",
      "state": {}
     },
     "539a01d741824b33b60687ef34b8d2c4": {
      "model_module": "@jupyter-widgets/base",
      "model_module_version": "1.2.0",
      "model_name": "LayoutModel",
      "state": {}
     },
     "5509c6a2e71e4d67ba5577a32d2b150d": {
      "model_module": "@jupyter-widgets/base",
      "model_module_version": "1.2.0",
      "model_name": "LayoutModel",
      "state": {}
     },
     "6129ed992228488cbdee8abf891e22c7": {
      "model_module": "@jupyter-widgets/controls",
      "model_module_version": "1.5.0",
      "model_name": "ButtonModel",
      "state": {
       "description": "Run Interact",
       "layout": "IPY_MODEL_79b036cbcfc24f518fcfb5e6e1fab34b",
       "style": "IPY_MODEL_24a54796c2184bf58e4c23e96662b088"
      }
     },
     "652e375ee9ae488f9abc40e040ca42e3": {
      "model_module": "@jupyter-widgets/base",
      "model_module_version": "1.2.0",
      "model_name": "LayoutModel",
      "state": {}
     },
     "6dc993305e9a410eb8446278f26195ef": {
      "model_module": "@jupyter-widgets/base",
      "model_module_version": "1.2.0",
      "model_name": "LayoutModel",
      "state": {}
     },
     "6de5732c48e743599419fbd62cde1a50": {
      "model_module": "@jupyter-widgets/controls",
      "model_module_version": "1.5.0",
      "model_name": "VBoxModel",
      "state": {
       "_dom_classes": [
        "widget-interact"
       ],
       "children": [
        "IPY_MODEL_981a0aae3b204d198c16f060668dd178",
        "IPY_MODEL_172aef10b1a344478dc86e651a1282b4",
        "IPY_MODEL_8ae6d1d36d7549929fd6461e420266b8",
        "IPY_MODEL_96471c05616443fa9ebebe6e5e71eec0",
        "IPY_MODEL_46e6d408982f4092808860b236983c5d",
        "IPY_MODEL_f00b44e719a74f06851f8cfcca39294b",
        "IPY_MODEL_6129ed992228488cbdee8abf891e22c7",
        "IPY_MODEL_43312ec1fc764ae98e97d57a02cb9787"
       ],
       "layout": "IPY_MODEL_539a01d741824b33b60687ef34b8d2c4"
      }
     },
     "79b036cbcfc24f518fcfb5e6e1fab34b": {
      "model_module": "@jupyter-widgets/base",
      "model_module_version": "1.2.0",
      "model_name": "LayoutModel",
      "state": {}
     },
     "8168b93ebdd34528acb1b454ca1d5b1a": {
      "model_module": "@jupyter-widgets/controls",
      "model_module_version": "1.5.0",
      "model_name": "CheckboxModel",
      "state": {
       "description": "shuffle_indexes",
       "disabled": false,
       "layout": "IPY_MODEL_51a429925a084611bc68050580075d7a",
       "style": "IPY_MODEL_c78ad413a5564eea9e0bf28d0c76db0d",
       "value": false
      }
     },
     "8ae6d1d36d7549929fd6461e420266b8": {
      "model_module": "@jupyter-widgets/controls",
      "model_module_version": "1.5.0",
      "model_name": "IntSliderModel",
      "state": {
       "description": "outputObjects",
       "layout": "IPY_MODEL_652e375ee9ae488f9abc40e040ca42e3",
       "max": 8,
       "min": 1,
       "style": "IPY_MODEL_8cb14851ba3248f68093dbd81f340006",
       "value": 1
      }
     },
     "8cb14851ba3248f68093dbd81f340006": {
      "model_module": "@jupyter-widgets/controls",
      "model_module_version": "1.5.0",
      "model_name": "SliderStyleModel",
      "state": {
       "description_width": ""
      }
     },
     "934cf7163b8f453eb5efb317280efe2f": {
      "model_module": "@jupyter-widgets/base",
      "model_module_version": "1.2.0",
      "model_name": "LayoutModel",
      "state": {}
     },
     "935f0505dda64817be8b923094318df4": {
      "model_module": "@jupyter-widgets/controls",
      "model_module_version": "1.5.0",
      "model_name": "DescriptionStyleModel",
      "state": {
       "description_width": ""
      }
     },
     "96471c05616443fa9ebebe6e5e71eec0": {
      "model_module": "@jupyter-widgets/controls",
      "model_module_version": "1.5.0",
      "model_name": "IntSliderModel",
      "state": {
       "description": "batchsize_",
       "layout": "IPY_MODEL_934cf7163b8f453eb5efb317280efe2f",
       "max": 20,
       "min": 1,
       "style": "IPY_MODEL_3fb21a6d3fb14f29b3b4ff044c491056",
       "value": 10
      }
     },
     "981a0aae3b204d198c16f060668dd178": {
      "model_module": "@jupyter-widgets/controls",
      "model_module_version": "1.5.0",
      "model_name": "IntSliderModel",
      "state": {
       "description": "examples_",
       "layout": "IPY_MODEL_a4ecca4ae7124d188c1c9713c152ae34",
       "max": 200,
       "min": 1,
       "style": "IPY_MODEL_b69f66faa7da402b823f96ff8765b951",
       "value": 100
      }
     },
     "99e9797ae18640648fdfbed4abaadc60": {
      "model_module": "@jupyter-widgets/controls",
      "model_module_version": "1.5.0",
      "model_name": "CheckboxModel",
      "state": {
       "description": "epoch_end",
       "disabled": false,
       "layout": "IPY_MODEL_e1e3ad99e265458ea4ad4ad8bdb96bd4",
       "style": "IPY_MODEL_a01b6c7582c748bdb57c3c90a91bd301",
       "value": false
      }
     },
     "9d6d2cc8f6054dab88e7509a3e92efd2": {
      "model_module": "@jupyter-widgets/base",
      "model_module_version": "1.2.0",
      "model_name": "LayoutModel",
      "state": {}
     },
     "a01b6c7582c748bdb57c3c90a91bd301": {
      "model_module": "@jupyter-widgets/controls",
      "model_module_version": "1.5.0",
      "model_name": "DescriptionStyleModel",
      "state": {
       "description_width": ""
      }
     },
     "a4ecca4ae7124d188c1c9713c152ae34": {
      "model_module": "@jupyter-widgets/base",
      "model_module_version": "1.2.0",
      "model_name": "LayoutModel",
      "state": {}
     },
     "a7d3e302ecaf43979ab2bf2ec3da915c": {
      "model_module": "@jupyter-widgets/controls",
      "model_module_version": "1.5.0",
      "model_name": "IntSliderModel",
      "state": {
       "description": "i",
       "layout": "IPY_MODEL_054e2a8d155645529df74aa3dca06cf7",
       "max": 2,
       "style": "IPY_MODEL_c7f75ec654c04819b193d4fcec2c3250"
      }
     },
     "a90cc42266f04dcd98069db361441ee9": {
      "model_module": "@jupyter-widgets/base",
      "model_module_version": "1.2.0",
      "model_name": "LayoutModel",
      "state": {}
     },
     "ab4f0ef919804e6fb67ccba59a492ecb": {
      "model_module": "@jupyter-widgets/base",
      "model_module_version": "1.2.0",
      "model_name": "LayoutModel",
      "state": {}
     },
     "af60e2aa69c14ce28f527896edf9cfc9": {
      "model_module": "@jupyter-widgets/base",
      "model_module_version": "1.2.0",
      "model_name": "LayoutModel",
      "state": {}
     },
     "b1a1e6b2458f4f56bd31e0157ade4e22": {
      "model_module": "@jupyter-widgets/controls",
      "model_module_version": "1.5.0",
      "model_name": "DescriptionStyleModel",
      "state": {
       "description_width": ""
      }
     },
     "b4c3b3fc96ae4e8cb55bd1e5207ac313": {
      "model_module": "@jupyter-widgets/controls",
      "model_module_version": "1.5.0",
      "model_name": "IntSliderModel",
      "state": {
       "description": "selected_batch",
       "layout": "IPY_MODEL_e8de2f931a224a80a820cee850800dc2",
       "max": 9,
       "style": "IPY_MODEL_db34bc2fa09c403aa6b94bf5bd58614d",
       "value": 4
      }
     },
     "b69f66faa7da402b823f96ff8765b951": {
      "model_module": "@jupyter-widgets/controls",
      "model_module_version": "1.5.0",
      "model_name": "SliderStyleModel",
      "state": {
       "description_width": ""
      }
     },
     "b8abdcafb88a4476b72e9f3bb81ce4b9": {
      "model_module": "@jupyter-widgets/base",
      "model_module_version": "1.2.0",
      "model_name": "LayoutModel",
      "state": {}
     },
     "be3f9138bc18430e80ab9bf5fa8a4556": {
      "model_module": "@jupyter-widgets/controls",
      "model_module_version": "1.5.0",
      "model_name": "CheckboxModel",
      "state": {
       "description": "debug",
       "disabled": false,
       "layout": "IPY_MODEL_2870314564e14d129f63a5c91fa90914",
       "style": "IPY_MODEL_086e3d9675664fa2ba5a09197c516972",
       "value": false
      }
     },
     "c78ad413a5564eea9e0bf28d0c76db0d": {
      "model_module": "@jupyter-widgets/controls",
      "model_module_version": "1.5.0",
      "model_name": "DescriptionStyleModel",
      "state": {
       "description_width": ""
      }
     },
     "c7f75ec654c04819b193d4fcec2c3250": {
      "model_module": "@jupyter-widgets/controls",
      "model_module_version": "1.5.0",
      "model_name": "SliderStyleModel",
      "state": {
       "description_width": ""
      }
     },
     "cd4e192e047b46ef95e86ba93236e1d3": {
      "model_module": "@jupyter-widgets/controls",
      "model_module_version": "1.5.0",
      "model_name": "DescriptionStyleModel",
      "state": {
       "description_width": ""
      }
     },
     "cead3c147362442bab0ca2d905aa397f": {
      "model_module": "@jupyter-widgets/output",
      "model_module_version": "1.0.0",
      "model_name": "OutputModel",
      "state": {
       "layout": "IPY_MODEL_6dc993305e9a410eb8446278f26195ef",
       "outputs": [
        {
         "name": "stdout",
         "output_type": "stream",
         "text": "x-shape: (5, 5, 5), y-shape: (5, 5, 5)\nmean x: 2.5160000324249268, mean y: 20.52303695678711\n"
        },
        {
         "data": {
          "text/plain": "(array([[[0.48, 0.92, 0.1 , 0.44, 0.34],\n         [0.88, 0.73, 0.43, 0.11, 0.38],\n         [0.77, 0.72, 0.28, 0.22, 0.31],\n         [0.65, 0.49, 0.84, 0.86, 0.65],\n         [0.38, 0.49, 0.99, 0.56, 0.56]],\n \n        [[1.1 , 1.77, 1.13, 1.79, 1.75],\n         [1.22, 1.43, 1.1 , 1.98, 1.16],\n         [1.96, 1.32, 1.39, 1.26, 1.83],\n         [1.45, 1.12, 1.58, 1.61, 1.36],\n         [1.31, 1.49, 1.13, 1.56, 1.83]],\n \n        [[2.21, 2.78, 2.93, 2.59, 2.54],\n         [2.95, 2.83, 2.85, 2.08, 2.47],\n         [2.53, 2.24, 2.89, 2.73, 2.16],\n         [2.88, 2.47, 2.4 , 2.41, 2.91],\n         [2.65, 2.81, 2.32, 2.53, 2.2 ]],\n \n        [[3.52, 3.49, 3.95, 3.36, 3.65],\n         [3.87, 3.09, 3.88, 3.2 , 3.9 ],\n         [3.91, 3.57, 3.56, 3.9 , 3.67],\n         [3.81, 3.97, 3.8 , 3.83, 3.34],\n         [3.05, 3.39, 3.16, 3.06, 3.07]],\n \n        [[4.17, 4.  , 4.87, 4.6 , 4.08],\n         [4.16, 4.03, 4.28, 4.05, 4.43],\n         [4.9 , 4.37, 4.36, 5.  , 4.44],\n         [4.57, 4.9 , 4.42, 4.21, 4.61],\n         [4.46, 4.46, 4.37, 4.99, 4.2 ]]], dtype=float32),\n array([[[7.600e-01, 3.700e-01, 4.600e-01, 7.900e-01, 6.100e-01],\n         [3.000e-02, 8.800e-01, 3.600e-01, 9.900e-01, 6.000e-01],\n         [3.500e-01, 7.300e-01, 7.900e-01, 1.200e-01, 3.500e-01],\n         [8.900e-01, 2.300e-01, 1.700e-01, 3.700e-01, 9.500e-01],\n         [3.500e-01, 6.200e-01, 5.200e-01, 2.100e-01, 9.300e-01]],\n \n        [[1.060e+01, 1.064e+01, 1.086e+01, 1.096e+01, 1.094e+01],\n         [1.009e+01, 1.055e+01, 1.065e+01, 1.066e+01, 1.088e+01],\n         [1.016e+01, 1.082e+01, 1.035e+01, 1.055e+01, 1.046e+01],\n         [1.030e+01, 1.077e+01, 1.059e+01, 1.003e+01, 1.057e+01],\n         [1.057e+01, 1.014e+01, 1.035e+01, 1.083e+01, 1.046e+01]],\n \n        [[2.007e+01, 2.077e+01, 2.040e+01, 2.052e+01, 2.073e+01],\n         [2.042e+01, 2.085e+01, 2.059e+01, 2.002e+01, 2.013e+01],\n         [2.052e+01, 2.097e+01, 2.045e+01, 2.009e+01, 2.074e+01],\n         [2.057e+01, 2.016e+01, 2.039e+01, 2.082e+01, 2.041e+01],\n         [2.088e+01, 2.084e+01, 2.056e+01, 2.100e+01, 2.071e+01]],\n \n        [[3.065e+01, 3.086e+01, 3.032e+01, 3.061e+01, 3.046e+01],\n         [3.016e+01, 3.067e+01, 3.013e+01, 3.022e+01, 3.027e+01],\n         [3.082e+01, 3.008e+01, 3.075e+01, 3.022e+01, 3.064e+01],\n         [3.063e+01, 3.096e+01, 3.091e+01, 3.087e+01, 3.017e+01],\n         [3.001e+01, 3.083e+01, 3.099e+01, 3.012e+01, 3.088e+01]],\n \n        [[4.025e+01, 4.033e+01, 4.051e+01, 4.038e+01, 4.053e+01],\n         [4.058e+01, 4.041e+01, 4.042e+01, 4.032e+01, 4.004e+01],\n         [4.048e+01, 4.084e+01, 4.071e+01, 4.027e+01, 4.084e+01],\n         [4.052e+01, 4.025e+01, 4.016e+01, 4.068e+01, 4.047e+01],\n         [4.041e+01, 4.013e+01, 4.021e+01, 4.071e+01, 4.088e+01]]],\n       dtype=float32))"
         },
         "metadata": {},
         "output_type": "display_data"
        }
       ]
      }
     },
     "db34bc2fa09c403aa6b94bf5bd58614d": {
      "model_module": "@jupyter-widgets/controls",
      "model_module_version": "1.5.0",
      "model_name": "SliderStyleModel",
      "state": {
       "description_width": ""
      }
     },
     "e1e3ad99e265458ea4ad4ad8bdb96bd4": {
      "model_module": "@jupyter-widgets/base",
      "model_module_version": "1.2.0",
      "model_name": "LayoutModel",
      "state": {}
     },
     "e3ae3393c81d44c3a6e3a88b5c5f4c95": {
      "model_module": "@jupyter-widgets/output",
      "model_module_version": "1.0.0",
      "model_name": "OutputModel",
      "state": {
       "layout": "IPY_MODEL_4de0b83048384e2585f57a5defae1399",
       "outputs": [
        {
         "name": "stdout",
         "output_type": "stream",
         "text": "selected batch: 4 of 9 with a batchsize of 10 and total 100 examples\nstart idx: 40, end idx: 50\nIndexes of the currrent batch: [40, 41, 42, 43, 44, 45, 46, 47, 48, 49]\n----------------------------------------\n"
        },
        {
         "data": {
          "text/plain": "[(10, 128, 128), (10, 128, 128)]"
         },
         "metadata": {},
         "output_type": "display_data"
        }
       ]
      }
     },
     "e8de2f931a224a80a820cee850800dc2": {
      "model_module": "@jupyter-widgets/base",
      "model_module_version": "1.2.0",
      "model_name": "LayoutModel",
      "state": {}
     },
     "f00b44e719a74f06851f8cfcca39294b": {
      "model_module": "@jupyter-widgets/controls",
      "model_module_version": "1.5.0",
      "model_name": "TextModel",
      "state": {
       "description": "ouptut_obj_shape",
       "layout": "IPY_MODEL_19546811f35e44f8baa4ebb578a3f571",
       "style": "IPY_MODEL_cd4e192e047b46ef95e86ba93236e1d3",
       "value": "128,128"
      }
     }
    },
    "version_major": 2,
    "version_minor": 0
   }
  }
 },
 "nbformat": 4,
 "nbformat_minor": 4
}
