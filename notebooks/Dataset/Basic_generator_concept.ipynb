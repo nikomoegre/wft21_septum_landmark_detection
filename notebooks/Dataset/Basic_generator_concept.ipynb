{
 "cells": [
  {
   "cell_type": "code",
   "execution_count": 2,
   "metadata": {},
   "outputs": [
    {
     "name": "stdout",
     "output_type": "stream",
     "text": [
      "search for root_dir and set working directory\n",
      "Working directory set to: /mnt/ssd/git/coockiecutter-ds-mod/wft21_septum_landmark_detection\n"
     ]
    }
   ],
   "source": [
    "# define logging and working directory\n",
    "from ProjectRoot import change_wd_to_project_root\n",
    "change_wd_to_project_root()\n",
    "from src.utils.Notebook_imports import *\n",
    "import numpy as np"
   ]
  },
  {
   "cell_type": "markdown",
   "metadata": {},
   "source": [
    "# Test the main concepts of a DL generator\n",
    "\n",
    "A Generator yields a tuple of (x,y) and is used to feed data into a deep learning model\n",
    "\n",
    "Each tuple has the following shape: \n",
    "\n",
    "$(batchsize \\times inputObjects \\times inputShape)$ , $(batchsize \\times ioutputObjects \\times outputShape)$\n",
    "\n",
    "--> $inputShape$/$outputShape$ could be:\n",
    "- for 1D vector-data: $width$\n",
    "- for 2D images: $height \\times width$: \n",
    "- for 3D volumes: $depth \\times height \\times width$\n"
   ]
  },
  {
   "cell_type": "markdown",
   "metadata": {},
   "source": [
    "# Create fake data interactively\n",
    "\n",
    "Please define:\n",
    "\n",
    "- $examples$ - The total number of patients (the size of the dataset)\n",
    "- $inputObjects$ / $ouputObjects$ - This could be the timesteps of 4D CMR files or the number of 3D volumes/ different modalities (multi-input model)\n",
    "- $inputShape$ / $outputShape$ - could be 3/2 or 1D data, e.g.>: 𝑑𝑒𝑝𝑡ℎ∗ℎ𝑒𝑖𝑔ℎ𝑡∗𝑤𝑖𝑑𝑡ℎ.\n",
    "- $batchsize$ -  Which is the number of entities yielded in one step\n",
    "\n",
    "Usually the generator would save only the references to the corresponding files.\n",
    "In this example we create numpy arrays with the desired shape on the fly."
   ]
  },
  {
   "cell_type": "code",
   "execution_count": 3,
   "metadata": {},
   "outputs": [
    {
     "data": {
      "application/vnd.jupyter.widget-view+json": {
       "model_id": "9f8a315a6ee84495b9edf4cedc0463df",
       "version_major": 2,
       "version_minor": 0
      },
      "text/plain": [
       "interactive(children=(IntSlider(value=100, description='examples_', max=200, min=1), IntSlider(value=4, descri…"
      ]
     },
     "metadata": {},
     "output_type": "display_data"
    }
   ],
   "source": [
    "# Define the size of our fake data\n",
    "upper_example_limit = 200\n",
    "upper_example_size_limit = 8\n",
    "upper_batchsize_limit = 20\n",
    "\n",
    "@interact_manual\n",
    "def create_fake_data(examples_=(1,upper_example_limit), \n",
    "                     inputObjects=(1,upper_example_size_limit),\n",
    "                     outputObjects=(1,upper_example_size_limit),\n",
    "                     batchsize_=(1,upper_batchsize_limit), \n",
    "                     input_obj_shape='(10,10,10)', \n",
    "                     ouptut_obj_shape='(10,10,10)'):\n",
    "    \n",
    "    global examples, input_objects, output_objects , batchsize, indexes, X, Y, x_dict, y_dict, batches\n",
    "    examples = examples_\n",
    "    batchsize = batchsize_\n",
    "    input_objects = inputObjects\n",
    "    output_objects = outputObjects\n",
    "    \n",
    "    # make sure the dimensions have the correct formating\n",
    "    # converts a string of int-tuple into a tuple of int '(10,10,10)' --> (10,10,10)\n",
    "    x_dim = tuple(map(int, input_obj_shape.replace(')', '').replace('(','').split(',')))\n",
    "    y_dim = tuple(map(int, ouptut_obj_shape.replace(')', '').replace('(','').split(',')))\n",
    "    \n",
    "    # create some fake data\n",
    "    x_dict = {}\n",
    "    y_dict = {}  \n",
    "    for example in range(examples_):\n",
    "        # create example data (batchsize x input_objects x input_object_shape and batchsize output_objects x output_object_shape)\n",
    "        # squeeze unused dimensions\n",
    "        x_dict[example] = np.squeeze(np.stack([np.round(np.random.sample(x_dim),2)+example for i in range(input_objects)]))\n",
    "        y_dict[example] = np.squeeze(np.stack([np.round(np.random.sample(y_dim),2)+(10*example) for i in range(output_objects)]))\n",
    "        # testing purpose if lists are faster than dicts\n",
    "        #X.append(np.stack([np.round(np.random.sample(x_dim),2)+example for i in range(input_objects)]))\n",
    "    # index our data, we can use the indicies to select one example or a batch of examples from a list or dictionary\n",
    "    # By this we dont need to shuffle the data itself, we shuffle only the indexes\n",
    "    indexes = list(range(len(x_dict)))\n",
    "    batches = int(np.floor(examples/batchsize))-1\n",
    "    print('Shape of one batch X: {} * {}, Y: {} * {}'.format(batchsize, x_dict[0].shape, batchsize, y_dict[0].shape))"
   ]
  },
  {
   "cell_type": "markdown",
   "metadata": {},
   "source": [
    "# Select one batch and yield the corresponding values/shape $(batchsize \\times inputObjects \\times inputObjShape),(batchsize \\times outputObjects \\times outputObjShape)$"
   ]
  },
  {
   "cell_type": "code",
   "execution_count": 5,
   "metadata": {},
   "outputs": [
    {
     "data": {
      "application/vnd.jupyter.widget-view+json": {
       "model_id": "154b7c1b43104cdc84a03d72c50e0c0e",
       "version_major": 2,
       "version_minor": 0
      },
      "text/plain": [
       "interactive(children=(IntSlider(value=4, description='selected_batch', max=9), Checkbox(value=False, descripti…"
      ]
     },
     "metadata": {},
     "output_type": "display_data"
    }
   ],
   "source": [
    "@interact\n",
    "def select_batch(selected_batch = (0,batches), shuffle_indexes=False, debug=False):\n",
    "    global indexes\n",
    "    \n",
    "    if shuffle_indexes:\n",
    "        random.shuffle(indexes)\n",
    "    # make sure indexes are correctly initialised\n",
    "    assert len(indexes) == examples, print('len indexes: {}, number of examples: {}'.format(len(indexes), examples))\n",
    "    \n",
    "    # define the lower/upper index slicing borders of the current batch\n",
    "    start_idx = selected_batch*batchsize\n",
    "    end_idx = (selected_batch+1)*batchsize\n",
    "    \n",
    "    # we slice the indexes of the current batch from the index list\n",
    "    batch_indexes = indexes[start_idx: end_idx]\n",
    "    \n",
    "    # print the restrictions of the current batch\n",
    "    print('selected batch: {} of {} with a batchsize of {} and total {} examples'.format(selected_batch, batches, batchsize, examples))\n",
    "    print('start idx: {}, end idx: {}'.format(start_idx, end_idx))\n",
    "    print('Indexes of the currrent batch: {}'.format(batch_indexes))\n",
    "    print('-'*40)\n",
    "    \n",
    "    # stack the entities of the current batch\n",
    "    batch_x = np.stack([x_dict[k] for k in batch_indexes])\n",
    "    batch_y = np.stack([y_dict[k] for k in batch_indexes])\n",
    "    if debug:\n",
    "        [print('index: {}: value: {}'.format(k, x_dict[k])) for k in batch_indexes]\n",
    "        [print('index: {}: value: {}'.format(k, y_dict[k])) for k in batch_indexes]\n",
    "    \n",
    "    return([batch_x.shape, batch_y.shape])"
   ]
  },
  {
   "cell_type": "markdown",
   "metadata": {},
   "source": [
    "# Simple random generator, subclassed from tensorflow.keras.utils.Sequence"
   ]
  },
  {
   "cell_type": "code",
   "execution_count": 45,
   "metadata": {},
   "outputs": [],
   "source": [
    "import tensorflow, random\n",
    "from time import time\n",
    "import concurrent.futures\n",
    "from concurrent.futures import as_completed\n",
    "import logging\n",
    "from src.utils.Utils_io import Console_and_file_logger\n",
    "\n",
    "class BaseGenerator(tensorflow.keras.utils.Sequence):\n",
    "    \"\"\"\n",
    "    Base generator class\n",
    "    \"\"\"\n",
    "\n",
    "    def __init__(self, x=None, y=None, config={}):\n",
    "        \"\"\"\n",
    "        Creates a base datagenerator for a list of nrrd images and a list of nrrd masks\n",
    "        :param x: list of nrrd image file names\n",
    "        :param y: list of nrrd mask file names\n",
    "        :param config:\n",
    "        \"\"\"\n",
    "        # Define standard parameters\n",
    "        # ###################################################################\n",
    "        logging.info('Create BaseDataGenerator')\n",
    "        assert len(x) == len(y)\n",
    "\n",
    "        self.EXAMPLES = len(x)\n",
    "        self.INPUTS = config.get('INPUTS', 1)\n",
    "        self.OUTPUTS = config.get('OUTPUTS', 1)\n",
    "        self.X_DIM = str(config.get('X_DIM', (256, 256)))\n",
    "        self.Y_DIM = str(config.get('Y_DIM', (256, 256)))\n",
    "        self.BATCHSIZE = config.get('BATCHSIZE', 32)\n",
    "        self.SHUFFLE = config.get('SHUFFLE', True)\n",
    "        \n",
    "        # create one worker per image & mask (batchsize) for parallel pre-processing if nothing else is defined\n",
    "        self.MAX_WORKERS = config.get('MAX_WORKERS', self.BATCHSIZE)\n",
    "        self.MAX_WORKERS = min(32, self.MAX_WORKERS)\n",
    "\n",
    "        # Make sure the dimensions have the correct formating\n",
    "        # converts a string of int-tuple into a tuple of int '(10,10,10)' --> (10,10,10), or 10 --> (10,)\n",
    "        self.X_DIM = tuple(map(int, self.X_DIM.replace(')', '').replace('(', '').split(',')))\n",
    "        self.Y_DIM = tuple(map(int, self.Y_DIM.replace(')', '').replace('(', '').split(',')))\n",
    "\n",
    "        # Create some static fake data\n",
    "        # #######################################################################\n",
    "        self.x_dict = {}\n",
    "        self.y_dict = {}\n",
    "        for example in range(self.EXAMPLES):\n",
    "            # create example data (batchsize x input_objects x input_object_shape and batchsize output_objects x output_object_shape)\n",
    "            # squeeze unused dimensions\n",
    "            self.x_dict[example] = np.squeeze(\n",
    "                np.stack([np.round(np.random.sample(self.X_DIM), 2) + example for i in range(self.INPUTS)]))\n",
    "            self.y_dict[example] = np.squeeze(\n",
    "                np.stack([np.round(np.random.sample(self.Y_DIM), 2) + (10 * example) for i in range(self.OUTPUTS)]))\n",
    "        # #######################################################################\n",
    "        # index our data, we can use the indicies to select one example or a batch of examples from a list or dictionary\n",
    "        # By this we dont need to shuffle the data itself, we shuffle only the indexes\n",
    "        \n",
    "        # We use these indicies to access and shuffle the data\n",
    "        # #######################################################################\n",
    "        self.INDICES = list(range(len(self.x_dict)))\n",
    "\n",
    "        print('Shape of one batch X: {} * {}, Y: {} * {}'.format(self.BATCHSIZE, self.x_dict[0].shape, self.BATCHSIZE,\n",
    "                                                                 self.y_dict[0].shape))\n",
    "        \n",
    "        self.X_SHAPE = np.empty((self.BATCHSIZE, *self.x_dict[0].shape), dtype=np.float32)\n",
    "        self.Y_SHAPE = np.empty((self.BATCHSIZE, *self.y_dict[0].shape), dtype=np.float32)\n",
    "\n",
    "    def __len__(self):\n",
    "\n",
    "        \"\"\"\n",
    "        Denotes the number of batches per epoch\n",
    "        :return: number of batches\n",
    "        \"\"\"\n",
    "        return int(np.floor(len(self.INDICES) / self.BATCHSIZE))\n",
    "\n",
    "    def __getitem__(self, index):\n",
    "\n",
    "        \"\"\"\n",
    "        Generate the indexes for one batch of data\n",
    "        This method allows to access the gen by simple indices\n",
    "        gen = BaseGenerator(...)\n",
    "        x,y = gen[0]\n",
    "        :param index: int in the range of  {0: len(dataset)/Batchsize}\n",
    "        :return: pre-processed batch as x,y tuples\n",
    "        \"\"\"\n",
    "\n",
    "        t0 = time()\n",
    "        # collect n indices with n = Batchsize\n",
    "        # starting from the given index parameter\n",
    "        # which is in the range of  {0: len(dataset)/Batchsize}\n",
    "        idxs = self.INDICES[index * self.BATCHSIZE: (index + 1) * self.BATCHSIZE]\n",
    "\n",
    "        return self.__data_generation__(idxs)\n",
    "\n",
    "    def on_epoch_end(self):\n",
    "\n",
    "        \"\"\"\n",
    "        Shuffle the indexes after each epoch\n",
    "        :return: None\n",
    "        \"\"\"\n",
    "\n",
    "        if self.SHUFFLE:\n",
    "            np.random.shuffle(self.INDICES)\n",
    "\n",
    "    def __data_generation__(self, ids):\n",
    "\n",
    "        \"\"\"\n",
    "        Preprocess one batch, represented by the list of ids\n",
    "        Could pre-process each entity in parallel\n",
    "        returns the preprocessed batch\n",
    "\n",
    "        :param list_IDs_temp:\n",
    "        :return: X : (batchsize, *dim, n_channels), Y : (batchsize, *dim, number_of_classes)\n",
    "        \"\"\"\n",
    "\n",
    "        # Initialization\n",
    "\n",
    "        x = np.empty_like(self.X_SHAPE)\n",
    "        y = np.empty_like(self.Y_SHAPE)\n",
    "        logging.info('preprocess one batch with: {}, {}'.format(x.shape, y.shape))\n",
    "\n",
    "        futures = set()\n",
    "\n",
    "        # spawn one thread per worker\n",
    "        with concurrent.futures.ThreadPoolExecutor(max_workers=self.MAX_WORKERS) as executor:\n",
    "\n",
    "            t0 = time()\n",
    "            # Generate data\n",
    "            for i, ID in enumerate(ids):\n",
    "\n",
    "                try:\n",
    "                    # keep ordering of the shuffled indexes\n",
    "                    futures.add(executor.submit(self.__preprocess_one_image__, i, ID))\n",
    "\n",
    "                except Exception as e:\n",
    "                    logging.error(\n",
    "                        'Exception {} in datagenerator with: image: {} or mask: {}'.format(str(e), self.x_dict[ID],\n",
    "                                                                                           self.y_dict[ID]))\n",
    "        # This is out of the threadPool executor context\n",
    "        for i, future in enumerate(as_completed(futures)):\n",
    "            # use the index i to place each processed example in the batch\n",
    "            # otherwise slower images will always be at the end of the batch\n",
    "            # Use the ID for exception handling as reference to the file name\n",
    "            try:\n",
    "                x_, y_, i, ID, needed_time = future.result()\n",
    "                x[i,], y[i,] = x_, y_\n",
    "                logging.info('img finished after {:0.3f} sec.'.format(needed_time))\n",
    "            except Exception as e:\n",
    "                logging.error(\n",
    "                    'Exception {} in datagenerator with: image: {} or mask: {}'.format(str(e), self.x_dict[ID],\n",
    "                                                                                       self.y_dict[ID]))\n",
    "\n",
    "        logging.debug('Batchsize: {} preprocessing took: {:0.3f} sec'.format(self.BATCHSIZE, time() - t0))\n",
    "\n",
    "        return np.array(x.astype(np.float32)), np.array(y.astype(np.float32))\n",
    "\n",
    "    def __preprocess_one_image__(self, i, ID):\n",
    "        t0 = time()\n",
    "        import time as t\n",
    "        #t.sleep(1) # testing purpose\n",
    "        # in this function we would load and preprocess the file self.x_dict[ID] and self.y_dict[ID]\n",
    "        return self.x_dict[ID], self.y_dict[ID], i, ID, time() - t0"
   ]
  },
  {
   "cell_type": "markdown",
   "metadata": {},
   "source": [
    "# Play here with the generator/config params\n",
    "\n",
    "The generator should follow the convention over configuration paradigm and provide a standard value for each possible parameter"
   ]
  },
  {
   "cell_type": "code",
   "execution_count": 53,
   "metadata": {},
   "outputs": [
    {
     "name": "stdout",
     "output_type": "stream",
     "text": [
      "Shape of one batch X: 5 * (5, 5), Y: 5 * (5, 5)\n"
     ]
    }
   ],
   "source": [
    "cfg = {}\n",
    "cfg['X_DIM'] = 5,5\n",
    "cfg['Y_DIM'] = 5,5\n",
    "cfg['BATCHSIZE'] = 5\n",
    "cfg['MAX_WORKERS'] = 5\n",
    "files = 10\n",
    "gen = BaseGenerator(x=[1]*files,y=[1]*files, config=cfg)"
   ]
  },
  {
   "cell_type": "code",
   "execution_count": 54,
   "metadata": {
    "collapsed": true,
    "jupyter": {
     "outputs_hidden": true
    }
   },
   "outputs": [
    {
     "data": {
      "application/vnd.jupyter.widget-view+json": {
       "model_id": "bae6446f52bd4aeeacc607d49f6d06d6",
       "version_major": 2,
       "version_minor": 0
      },
      "text/plain": [
       "interactive(children=(IntSlider(value=1, description='i', max=2), Checkbox(value=False, description='epoch_end…"
      ]
     },
     "metadata": {},
     "output_type": "display_data"
    }
   ],
   "source": [
    "@interact\n",
    "def get_batches_from_generator(i=(0,len(gen)), epoch_end=False):\n",
    "    global gen\n",
    "    if epoch_end:gen.on_epoch_end()\n",
    "    x,y = gen[i]\n",
    "    print('x-shape: {}, y-shape: {}'.format(x.shape, y.shape))\n",
    "    print('mean x: {}, mean y: {}'.format(x.mean(), y.mean()))\n",
    "    return x,y"
   ]
  },
  {
   "cell_type": "markdown",
   "metadata": {},
   "source": [
    "# Performance of different indexing methods"
   ]
  },
  {
   "cell_type": "code",
   "execution_count": 55,
   "metadata": {},
   "outputs": [
    {
     "name": "stdout",
     "output_type": "stream",
     "text": [
      "2.01 s ± 1.09 ms per loop (mean ± std. dev. of 2 runs, 1 loop each)\n"
     ]
    }
   ],
   "source": [
    "%%timeit -r 1\n",
    "# process all files of the generator\n",
    "_ = [(x,y) for x,y in gen]"
   ]
  },
  {
   "cell_type": "markdown",
   "metadata": {},
   "source": [
    "# Subclassing new generators"
   ]
  },
  {
   "cell_type": "code",
   "execution_count": 69,
   "metadata": {},
   "outputs": [],
   "source": [
    "class DataGenerator(BaseGenerator):\n",
    "    \"\"\"\n",
    "    Yields (X, Y) / image,mask for 2D and 3D U-net training\n",
    "    could be used to yield (X, None)\n",
    "    \"\"\"\n",
    "        \n",
    "    def __preprocess_one_image__(self, i, ID):\n",
    "        delta = 0.1\n",
    "        \n",
    "        # Add here any fancy new \n",
    "        \n",
    "        return self.x_dict[ID]*delta, self.y_dict[ID]*delta, i, ID, time() - t0"
   ]
  },
  {
   "cell_type": "code",
   "execution_count": 70,
   "metadata": {},
   "outputs": [
    {
     "name": "stdout",
     "output_type": "stream",
     "text": [
      "Shape of one batch X: 5 * (5, 5), Y: 5 * (5, 5)\n"
     ]
    }
   ],
   "source": [
    "gen = DataGenerator(x=[1]*files,y=[1]*files, config=cfg)"
   ]
  },
  {
   "cell_type": "code",
   "execution_count": 71,
   "metadata": {},
   "outputs": [
    {
     "data": {
      "text/plain": [
       "(array([[[0.17, 0.21, 0.11, 0.37, 0.23],\n",
       "         [0.1 , 0.96, 0.78, 0.12, 0.13],\n",
       "         [0.38, 0.69, 0.19, 0.3 , 0.4 ],\n",
       "         [0.91, 0.36, 0.1 , 0.72, 0.  ],\n",
       "         [0.81, 0.95, 0.52, 0.67, 0.4 ]],\n",
       " \n",
       "        [[1.05, 1.64, 1.88, 1.55, 1.79],\n",
       "         [1.66, 1.31, 1.39, 1.71, 1.51],\n",
       "         [1.85, 1.68, 1.91, 1.05, 1.34],\n",
       "         [1.73, 1.68, 1.77, 1.93, 1.47],\n",
       "         [1.85, 1.97, 1.65, 1.73, 1.87]],\n",
       " \n",
       "        [[2.2 , 2.95, 2.59, 2.35, 2.19],\n",
       "         [2.06, 2.28, 2.57, 2.33, 2.61],\n",
       "         [2.08, 2.45, 2.94, 2.84, 2.66],\n",
       "         [2.75, 2.54, 2.45, 2.25, 2.5 ],\n",
       "         [2.99, 2.2 , 2.83, 2.65, 2.23]],\n",
       " \n",
       "        [[3.7 , 3.63, 3.5 , 3.54, 3.75],\n",
       "         [3.35, 3.71, 3.37, 3.02, 3.79],\n",
       "         [3.91, 3.63, 3.55, 3.48, 3.45],\n",
       "         [3.03, 3.06, 3.55, 3.01, 3.47],\n",
       "         [3.9 , 3.65, 3.16, 3.7 , 3.93]],\n",
       " \n",
       "        [[4.16, 4.53, 4.21, 4.82, 4.21],\n",
       "         [4.05, 4.27, 4.03, 4.47, 4.56],\n",
       "         [4.98, 4.35, 4.15, 4.67, 4.88],\n",
       "         [4.33, 4.54, 4.57, 4.43, 4.31],\n",
       "         [4.53, 4.83, 4.98, 4.63, 4.85]]], dtype=float32),\n",
       " array([[[ 0.94,  0.63,  0.57,  0.65,  0.43],\n",
       "         [ 0.45,  0.28,  0.79,  0.88,  0.3 ],\n",
       "         [ 0.58,  0.61,  0.53,  0.11,  0.62],\n",
       "         [ 0.56,  0.3 ,  0.05,  0.83,  0.26],\n",
       "         [ 0.88,  0.27,  0.54,  0.37,  0.7 ]],\n",
       " \n",
       "        [[10.53, 10.98, 10.99, 10.77, 10.77],\n",
       "         [10.66, 10.38, 10.11, 10.84, 10.82],\n",
       "         [10.77, 10.21, 10.3 , 10.55, 10.58],\n",
       "         [10.27, 10.38, 10.67, 10.06, 10.39],\n",
       "         [10.16, 10.65, 10.62, 10.95, 10.68]],\n",
       " \n",
       "        [[20.39, 20.32, 20.11, 20.84, 20.78],\n",
       "         [20.38, 20.29, 20.44, 20.54, 20.54],\n",
       "         [20.73, 20.68, 20.39, 20.38, 20.58],\n",
       "         [20.24, 20.23, 20.29, 20.06, 20.44],\n",
       "         [20.38, 20.22, 20.05, 20.18, 20.69]],\n",
       " \n",
       "        [[30.74, 30.07, 30.45, 30.32, 30.74],\n",
       "         [30.64, 30.27, 30.15, 30.71, 30.93],\n",
       "         [30.42, 30.2 , 30.47, 30.57, 30.1 ],\n",
       "         [30.29, 30.3 , 30.84, 30.11, 30.99],\n",
       "         [30.06, 30.37, 30.59, 30.03, 30.69]],\n",
       " \n",
       "        [[40.13, 40.67, 40.8 , 40.97, 40.48],\n",
       "         [40.64, 40.9 , 40.2 , 40.32, 40.85],\n",
       "         [40.9 , 40.76, 40.63, 40.13, 40.45],\n",
       "         [40.99, 40.75, 40.08, 40.67, 40.01],\n",
       "         [40.91, 40.64, 40.32, 40.12, 40.14]]], dtype=float32))"
      ]
     },
     "execution_count": 71,
     "metadata": {},
     "output_type": "execute_result"
    }
   ],
   "source": [
    "gen[6]"
   ]
  },
  {
   "cell_type": "code",
   "execution_count": null,
   "metadata": {},
   "outputs": [],
   "source": [
    "def __init__(self, **kwargs):\n",
    "        super(self.__class__, self).__init__(**kwargs)\n",
    "        self.name = 'myfirstgenerator'"
   ]
  },
  {
   "cell_type": "code",
   "execution_count": null,
   "metadata": {},
   "outputs": [],
   "source": []
  },
  {
   "cell_type": "code",
   "execution_count": 4,
   "metadata": {},
   "outputs": [],
   "source": [
    "from random import randint\n",
    "# We have a list --> X and a dictionary --> x_dict, \n",
    "# len(X) == len(x_dict)\n",
    "# and X[i] == x_dict[i] for all i in range(len(X))\n",
    "# We create n random indicies within the range of len(X)\n",
    "samples = [randint(0, examples-1) for _ in range(10000000)]"
   ]
  },
  {
   "cell_type": "code",
   "execution_count": 5,
   "metadata": {},
   "outputs": [
    {
     "name": "stdout",
     "output_type": "stream",
     "text": [
      "248 ms ± 2.87 ms per loop (mean ± std. dev. of 7 runs, 1 loop each)\n"
     ]
    }
   ],
   "source": [
    "%%timeit\n",
    "# access the list n times, append the value to a new list\n",
    "temp = None\n",
    "for i in samples:\n",
    "    temp = X[i]\n",
    "    "
   ]
  },
  {
   "cell_type": "code",
   "execution_count": 6,
   "metadata": {},
   "outputs": [
    {
     "name": "stdout",
     "output_type": "stream",
     "text": [
      "398 ms ± 2.14 ms per loop (mean ± std. dev. of 7 runs, 1 loop each)\n"
     ]
    }
   ],
   "source": [
    "%%timeit\n",
    "# access the dict n times, append the value to a new list\n",
    "temp = None\n",
    "for i in samples:\n",
    "    temp = x_dict[i]"
   ]
  },
  {
   "cell_type": "code",
   "execution_count": null,
   "metadata": {},
   "outputs": [],
   "source": []
  },
  {
   "cell_type": "code",
   "execution_count": null,
   "metadata": {},
   "outputs": [],
   "source": []
  }
 ],
 "metadata": {
  "kernelspec": {
   "display_name": "dcmr",
   "language": "python",
   "name": "dcmr"
  },
  "language_info": {
   "codemirror_mode": {
    "name": "ipython",
    "version": 3
   },
   "file_extension": ".py",
   "mimetype": "text/x-python",
   "name": "python",
   "nbconvert_exporter": "python",
   "pygments_lexer": "ipython3",
   "version": "3.8.5"
  },
  "widgets": {
   "application/vnd.jupyter.widget-state+json": {
    "state": {
     "01c88ffc13914f2785a4f91f31892176": {
      "model_module": "@jupyter-widgets/base",
      "model_module_version": "1.2.0",
      "model_name": "LayoutModel",
      "state": {}
     },
     "03258b9958644d82b3d76070c0b77e73": {
      "model_module": "@jupyter-widgets/base",
      "model_module_version": "1.2.0",
      "model_name": "LayoutModel",
      "state": {}
     },
     "0520675ba5ca4e9c8338855fa2ab4d49": {
      "model_module": "@jupyter-widgets/base",
      "model_module_version": "1.2.0",
      "model_name": "LayoutModel",
      "state": {}
     },
     "064db20780304c418b442cb9fbcc8264": {
      "model_module": "@jupyter-widgets/base",
      "model_module_version": "1.2.0",
      "model_name": "LayoutModel",
      "state": {}
     },
     "06c622166ee04363a92b393a70d37796": {
      "model_module": "@jupyter-widgets/base",
      "model_module_version": "1.2.0",
      "model_name": "LayoutModel",
      "state": {}
     },
     "06d6ab6e3fd244cfa37b0305874af632": {
      "model_module": "@jupyter-widgets/controls",
      "model_module_version": "1.5.0",
      "model_name": "ButtonStyleModel",
      "state": {}
     },
     "0781f213857849868894916f878f363d": {
      "model_module": "@jupyter-widgets/controls",
      "model_module_version": "1.5.0",
      "model_name": "DescriptionStyleModel",
      "state": {
       "description_width": ""
      }
     },
     "07d9b968ac6f4a8faf618b40a1a21f07": {
      "model_module": "@jupyter-widgets/controls",
      "model_module_version": "1.5.0",
      "model_name": "IntSliderModel",
      "state": {
       "description": "i",
       "layout": "IPY_MODEL_6fb23de9e578488e9b7daea25bf093f7",
       "max": 2,
       "style": "IPY_MODEL_6312b6b91617489fafa157743a77ebe9",
       "value": 1
      }
     },
     "0a251c6139ba48809d066ddb08f25337": {
      "model_module": "@jupyter-widgets/base",
      "model_module_version": "1.2.0",
      "model_name": "LayoutModel",
      "state": {}
     },
     "0a527aac472546e8a9173f0f366599ff": {
      "model_module": "@jupyter-widgets/controls",
      "model_module_version": "1.5.0",
      "model_name": "DescriptionStyleModel",
      "state": {
       "description_width": ""
      }
     },
     "0bff596a856a410682e5d8d78e3510f0": {
      "model_module": "@jupyter-widgets/controls",
      "model_module_version": "1.5.0",
      "model_name": "SliderStyleModel",
      "state": {
       "description_width": ""
      }
     },
     "0c31d7f732204370918564e7f44ad32f": {
      "model_module": "@jupyter-widgets/controls",
      "model_module_version": "1.5.0",
      "model_name": "IntSliderModel",
      "state": {
       "description": "i",
       "layout": "IPY_MODEL_e5609692b98142b2981fcd6a40a13cf6",
       "max": 50,
       "style": "IPY_MODEL_c379dc310da54217a76641ee2d70ac9f",
       "value": 17
      }
     },
     "0e3b7421cf0a44dda83325c4e09b8201": {
      "model_module": "@jupyter-widgets/base",
      "model_module_version": "1.2.0",
      "model_name": "LayoutModel",
      "state": {}
     },
     "0e4b68f66a6742cbafb46e9c036dbae4": {
      "model_module": "@jupyter-widgets/output",
      "model_module_version": "1.0.0",
      "model_name": "OutputModel",
      "state": {
       "layout": "IPY_MODEL_46bc503768964bfdaa6079161bda16cf",
       "outputs": [
        {
         "data": {
          "text/plain": "(array([[[69.51, 69.81, 69.48, ..., 69.06, 69.65, 69.75],\n         [69.86, 69.48, 69.73, ..., 69.46, 69.56, 69.18],\n         [69.58, 69.51, 69.37, ..., 69.6 , 69.27, 69.88],\n         ...,\n         [69.95, 69.97, 69.79, ..., 69.6 , 69.04, 69.71],\n         [69.15, 69.35, 69.97, ..., 69.63, 69.65, 69.9 ],\n         [69.48, 69.36, 69.52, ..., 69.32, 69.45, 69.11]],\n \n        [[26.52, 26.01, 26.37, ..., 26.49, 26.78, 26.47],\n         [26.45, 26.55, 26.07, ..., 26.88, 26.53, 26.02],\n         [26.34, 27.  , 26.75, ..., 26.41, 26.67, 26.8 ],\n         ...,\n         [26.37, 26.34, 26.29, ..., 26.46, 26.61, 26.19],\n         [26.61, 26.01, 26.39, ..., 26.6 , 26.02, 26.74],\n         [26.17, 26.97, 26.54, ..., 26.89, 26.34, 26.62]]], dtype=float32),\n array([[690.39, 690.57, 690.27, 690.86, 690.21, 690.08, 690.79, 690.63,\n         690.05, 690.34],\n        [260.33, 260.61, 260.61, 260.13, 260.82, 260.88, 260.54, 260.67,\n         260.39, 260.15]], dtype=float32))"
         },
         "metadata": {},
         "output_type": "display_data"
        }
       ]
      }
     },
     "0fdd62f4440a44ff8130d2d6dab5a053": {
      "model_module": "@jupyter-widgets/base",
      "model_module_version": "1.2.0",
      "model_name": "LayoutModel",
      "state": {}
     },
     "145aa2b1d8fa42c58f08267c3b17eb26": {
      "model_module": "@jupyter-widgets/base",
      "model_module_version": "1.2.0",
      "model_name": "LayoutModel",
      "state": {}
     },
     "154b7c1b43104cdc84a03d72c50e0c0e": {
      "model_module": "@jupyter-widgets/controls",
      "model_module_version": "1.5.0",
      "model_name": "VBoxModel",
      "state": {
       "_dom_classes": [
        "widget-interact"
       ],
       "children": [
        "IPY_MODEL_fff1751c04bb4b21b434c73dbe205fcf",
        "IPY_MODEL_e4df5fc07493404f833bc1d8b9cf16c0",
        "IPY_MODEL_83fe6daefd7544bd964f16742553a7c4",
        "IPY_MODEL_54f438e6f7e64e6ba30cbda0efe5df0f"
       ],
       "layout": "IPY_MODEL_d9ff7c31713e4cba9e1751a6b098d998"
      }
     },
     "165a9c10ac58446b99e83de8853996b6": {
      "model_module": "@jupyter-widgets/output",
      "model_module_version": "1.0.0",
      "model_name": "OutputModel",
      "state": {
       "layout": "IPY_MODEL_1e13ad2603c74df5b465883746337033",
       "outputs": [
        {
         "name": "stdout",
         "output_type": "stream",
         "text": "x-shape: (5, 5, 5), y-shape: (5, 5, 5)\nmean x: 7.491039752960205, mean y: 70.48992156982422\n"
        },
        {
         "data": {
          "text/plain": "(array([[[5.13, 5.34, 5.19, 5.88, 5.68],\n         [5.66, 5.7 , 5.99, 5.37, 5.84],\n         [5.93, 5.5 , 5.53, 5.34, 5.81],\n         [5.7 , 5.47, 5.68, 5.01, 5.53],\n         [5.21, 5.03, 5.31, 5.23, 5.66]],\n \n        [[6.39, 6.68, 6.16, 6.72, 6.31],\n         [6.88, 6.75, 6.89, 6.81, 6.15],\n         [6.25, 6.54, 6.22, 6.88, 6.18],\n         [6.69, 6.87, 6.78, 6.28, 6.48],\n         [6.9 , 6.03, 6.68, 6.05, 6.36]],\n \n        [[7.38, 7.45, 7.42, 7.75, 7.27],\n         [7.39, 7.34, 7.52, 7.62, 7.22],\n         [7.41, 7.63, 7.27, 7.08, 7.99],\n         [7.35, 7.66, 7.81, 7.21, 7.16],\n         [7.36, 7.34, 7.46, 7.33, 7.49]],\n \n        [[8.31, 8.7 , 8.66, 8.79, 8.01],\n         [8.88, 8.64, 8.16, 8.02, 8.49],\n         [8.74, 8.59, 8.33, 8.6 , 8.91],\n         [8.28, 8.25, 8.11, 8.12, 8.54],\n         [8.31, 8.61, 8.56, 8.81, 8.55]],\n \n        [[9.93, 9.18, 9.6 , 9.29, 9.89],\n         [9.48, 9.76, 9.84, 9.21, 9.88],\n         [9.4 , 9.01, 9.48, 9.29, 9.45],\n         [9.62, 9.71, 9.44, 9.03, 9.52],\n         [9.81, 9.87, 9.52, 9.27, 9.37]]], dtype=float32),\n array([[[50.13, 50.04, 50.23, 50.48, 50.3 ],\n         [50.03, 50.48, 50.86, 50.44, 50.51],\n         [50.36, 50.84, 50.78, 50.28, 50.51],\n         [50.95, 50.3 , 50.46, 50.15, 50.65],\n         [50.62, 50.36, 50.04, 50.17, 50.28]],\n \n        [[60.14, 60.84, 60.98, 60.31, 60.94],\n         [60.51, 60.2 , 60.39, 60.28, 60.24],\n         [60.72, 60.03, 60.32, 60.99, 60.07],\n         [60.87, 60.19, 60.16, 61.  , 60.55],\n         [60.54, 60.85, 60.18, 60.26, 60.45]],\n \n        [[70.65, 70.64, 70.47, 70.68, 70.02],\n         [70.78, 70.92, 70.14, 70.69, 70.56],\n         [70.91, 70.  , 70.85, 70.87, 70.42],\n         [70.52, 70.56, 70.45, 70.9 , 70.36],\n         [70.58, 70.42, 70.74, 70.39, 70.19]],\n \n        [[80.01, 80.07, 80.67, 80.53, 80.06],\n         [80.44, 80.94, 80.95, 80.2 , 80.91],\n         [80.12, 80.87, 80.61, 80.29, 80.16],\n         [80.28, 80.98, 80.54, 80.03, 80.56],\n         [80.26, 80.42, 80.35, 80.1 , 80.72]],\n \n        [[90.55, 90.82, 90.56, 90.93, 90.37],\n         [90.75, 90.82, 90.65, 90.34, 90.54],\n         [90.55, 90.71, 90.09, 90.72, 90.2 ],\n         [90.94, 90.65, 90.48, 90.53, 90.27],\n         [90.65, 90.05, 90.98, 90.08, 90.97]]], dtype=float32))"
         },
         "metadata": {},
         "output_type": "display_data"
        }
       ]
      }
     },
     "1849d46b352f43229e3788d440a0c761": {
      "model_module": "@jupyter-widgets/controls",
      "model_module_version": "1.5.0",
      "model_name": "DescriptionStyleModel",
      "state": {
       "description_width": ""
      }
     },
     "1875ff33134c423690c824dead370496": {
      "model_module": "@jupyter-widgets/controls",
      "model_module_version": "1.5.0",
      "model_name": "DescriptionStyleModel",
      "state": {
       "description_width": ""
      }
     },
     "19021c96adf34afa82447d6063cc16b3": {
      "model_module": "@jupyter-widgets/controls",
      "model_module_version": "1.5.0",
      "model_name": "IntSliderModel",
      "state": {
       "description": "i",
       "layout": "IPY_MODEL_8433d912782b483aad2bed83f446d738",
       "max": 50,
       "style": "IPY_MODEL_f05f52ac740744eb99d19c445564a413",
       "value": 17
      }
     },
     "19eb4aa17b64489f89ffebd4454a714a": {
      "model_module": "@jupyter-widgets/output",
      "model_module_version": "1.0.0",
      "model_name": "OutputModel",
      "state": {
       "layout": "IPY_MODEL_aeab09fbb3974a43ae6498a34fedf734",
       "outputs": [
        {
         "data": {
          "text/plain": "(array([[[70.53, 70.17, 70.6 , ..., 70.07, 70.53, 70.29],\n         [70.16, 70.99, 70.08, ..., 70.5 , 70.87, 70.36],\n         [70.82, 70.63, 70.89, ..., 70.23, 70.39, 70.99],\n         ...,\n         [70.61, 70.15, 70.67, ..., 70.25, 70.64, 70.07],\n         [70.69, 70.41, 70.38, ..., 70.97, 70.5 , 70.49],\n         [70.46, 70.23, 70.85, ..., 70.46, 70.04, 70.24]],\n \n        [[18.51, 18.31, 18.5 , ..., 18.18, 18.37, 18.28],\n         [18.37, 18.28, 18.14, ..., 18.13, 18.43, 18.25],\n         [18.05, 18.42, 18.39, ..., 18.8 , 18.55, 18.97],\n         ...,\n         [18.16, 18.75, 18.13, ..., 18.02, 18.14, 18.37],\n         [18.19, 18.06, 18.91, ..., 18.86, 18.33, 18.2 ],\n         [18.68, 18.67, 18.14, ..., 18.69, 18.13, 18.93]]], dtype=float32),\n array([[700.21, 700.15, 700.69, 700.04, 700.5 , 700.23, 700.3 , 700.79,\n         700.9 , 700.77],\n        [180.72, 180.53, 180.61, 180.68, 180.24, 180.11, 180.97, 180.03,\n         180.4 , 180.56]], dtype=float32))"
         },
         "metadata": {},
         "output_type": "display_data"
        }
       ]
      }
     },
     "1a1053f13afd424387ee4d0753fcb948": {
      "model_module": "@jupyter-widgets/controls",
      "model_module_version": "1.5.0",
      "model_name": "VBoxModel",
      "state": {
       "_dom_classes": [
        "widget-interact"
       ],
       "children": [
        "IPY_MODEL_0c31d7f732204370918564e7f44ad32f",
        "IPY_MODEL_d2c7f7bdddd44162a3e3dce690930f81",
        "IPY_MODEL_429a2fb7b85d4b6e803ca7fd484f021a",
        "IPY_MODEL_19eb4aa17b64489f89ffebd4454a714a"
       ],
       "layout": "IPY_MODEL_ae456b2a338f4009bbcb7f05110407af"
      }
     },
     "1c1b951fdfd04e27b0ad4bf32602605a": {
      "model_module": "@jupyter-widgets/base",
      "model_module_version": "1.2.0",
      "model_name": "LayoutModel",
      "state": {}
     },
     "1c89a0884cdc486b9dce4c07148545b7": {
      "model_module": "@jupyter-widgets/base",
      "model_module_version": "1.2.0",
      "model_name": "LayoutModel",
      "state": {}
     },
     "1e13ad2603c74df5b465883746337033": {
      "model_module": "@jupyter-widgets/base",
      "model_module_version": "1.2.0",
      "model_name": "LayoutModel",
      "state": {}
     },
     "1fc5ac59fb2b4c3c86676e0318cc857d": {
      "model_module": "@jupyter-widgets/base",
      "model_module_version": "1.2.0",
      "model_name": "LayoutModel",
      "state": {}
     },
     "21e869cbabdc44cdbabdcfab8b3bb181": {
      "model_module": "@jupyter-widgets/controls",
      "model_module_version": "1.5.0",
      "model_name": "CheckboxModel",
      "state": {
       "description": "epoch_end",
       "disabled": false,
       "layout": "IPY_MODEL_27b204ec011b4b4985a82d25027c9a26",
       "style": "IPY_MODEL_ee15d5cc660b4d0aa629880a0d0bbf01",
       "value": true
      }
     },
     "220316f8f2564a84819c5971f86107fe": {
      "model_module": "@jupyter-widgets/controls",
      "model_module_version": "1.5.0",
      "model_name": "VBoxModel",
      "state": {
       "_dom_classes": [
        "widget-interact"
       ],
       "children": [
        "IPY_MODEL_ba07e51ab2cc40769780f3f128c3b489",
        "IPY_MODEL_a7914574988a4876bdf29f297397bcac",
        "IPY_MODEL_4c8b961d156d4516a35d8702ca3c2968"
       ],
       "layout": "IPY_MODEL_517231f7dbcf4591a037e848bc4616e3"
      }
     },
     "249c1ec202234a33a7bc3c059563b104": {
      "model_module": "@jupyter-widgets/controls",
      "model_module_version": "1.5.0",
      "model_name": "SliderStyleModel",
      "state": {
       "description_width": ""
      }
     },
     "25300c9717594154ad3b8d26e542116b": {
      "model_module": "@jupyter-widgets/output",
      "model_module_version": "1.0.0",
      "model_name": "OutputModel",
      "state": {
       "layout": "IPY_MODEL_064db20780304c418b442cb9fbcc8264",
       "outputs": [
        {
         "name": "stdout",
         "output_type": "stream",
         "text": "x-shape: (5, 5, 5), y-shape: (5, 5, 5)\nmean x: 7.517839431762695, mean y: 70.52056884765625\n"
        },
        {
         "data": {
          "text/plain": "(array([[[5.27, 5.47, 5.29, 5.19, 5.44],\n         [5.76, 5.7 , 5.87, 5.77, 5.  ],\n         [5.98, 5.27, 5.6 , 5.61, 5.11],\n         [5.77, 5.97, 5.45, 5.35, 5.5 ],\n         [5.32, 5.24, 5.37, 5.45, 5.19]],\n \n        [[6.68, 6.75, 6.92, 6.98, 6.76],\n         [6.45, 6.8 , 6.58, 6.65, 6.61],\n         [6.93, 6.68, 6.32, 6.96, 6.12],\n         [6.93, 6.55, 6.05, 6.31, 6.59],\n         [6.15, 6.04, 6.07, 6.43, 6.76]],\n \n        [[7.97, 7.12, 7.24, 7.45, 7.06],\n         [7.56, 7.32, 7.34, 7.67, 7.31],\n         [7.38, 7.88, 7.8 , 7.61, 7.69],\n         [7.83, 7.69, 7.48, 7.94, 7.22],\n         [7.21, 7.51, 8.  , 7.82, 7.82]],\n \n        [[8.43, 8.56, 8.14, 8.04, 8.1 ],\n         [8.2 , 8.05, 8.57, 8.84, 8.04],\n         [8.74, 8.86, 8.49, 8.48, 8.3 ],\n         [8.13, 8.27, 8.87, 8.91, 8.78],\n         [8.57, 8.7 , 8.11, 8.61, 8.59]],\n \n        [[9.44, 9.98, 9.23, 9.27, 9.03],\n         [9.75, 9.36, 9.28, 9.5 , 9.4 ],\n         [9.34, 9.55, 9.73, 9.45, 9.2 ],\n         [9.99, 9.42, 9.46, 9.92, 9.04],\n         [9.89, 9.92, 9.48, 9.97, 9.82]]], dtype=float32),\n array([[[50.49, 50.17, 50.28, 50.89, 50.09],\n         [50.45, 50.22, 50.82, 50.72, 50.83],\n         [50.37, 50.92, 50.04, 50.13, 50.69],\n         [50.75, 50.98, 50.74, 50.  , 50.79],\n         [50.24, 50.47, 50.9 , 50.91, 50.98]],\n \n        [[60.68, 60.79, 60.87, 60.62, 60.92],\n         [60.45, 60.84, 60.12, 60.51, 60.64],\n         [60.03, 60.04, 60.81, 60.06, 60.16],\n         [60.46, 60.09, 60.84, 60.61, 60.51],\n         [60.04, 60.71, 60.72, 60.13, 60.82]],\n \n        [[70.67, 70.6 , 70.83, 70.21, 70.06],\n         [70.02, 70.51, 70.51, 70.25, 70.63],\n         [70.97, 70.95, 70.43, 70.61, 70.92],\n         [70.61, 70.66, 70.85, 70.78, 70.06],\n         [70.03, 70.9 , 70.3 , 70.17, 70.59]],\n \n        [[80.66, 80.31, 80.17, 80.18, 80.53],\n         [80.27, 80.69, 80.88, 80.62, 80.25],\n         [80.78, 80.5 , 80.49, 80.61, 80.02],\n         [80.52, 80.96, 80.62, 80.26, 81.  ],\n         [80.09, 80.79, 80.65, 80.33, 80.12]],\n \n        [[90.83, 90.58, 90.42, 90.37, 90.8 ],\n         [90.13, 91.  , 90.45, 90.59, 90.45],\n         [90.9 , 90.32, 90.76, 90.3 , 90.58],\n         [90.3 , 90.75, 90.65, 90.49, 90.22],\n         [90.87, 90.  , 90.53, 90.12, 90.9 ]]], dtype=float32))"
         },
         "metadata": {},
         "output_type": "display_data"
        }
       ]
      }
     },
     "27b204ec011b4b4985a82d25027c9a26": {
      "model_module": "@jupyter-widgets/base",
      "model_module_version": "1.2.0",
      "model_name": "LayoutModel",
      "state": {}
     },
     "2ad58b92939141c5abb4fe9376997b7e": {
      "model_module": "@jupyter-widgets/controls",
      "model_module_version": "1.5.0",
      "model_name": "CheckboxModel",
      "state": {
       "description": "epoch_end",
       "disabled": false,
       "layout": "IPY_MODEL_c4e3578ba5354368ac7c7c73d9ce1d18",
       "style": "IPY_MODEL_c52cbb803f3c4f71b164a26a4f2c82c6",
       "value": false
      }
     },
     "2b2c65316f494c19ba5fcf272c570b33": {
      "model_module": "@jupyter-widgets/controls",
      "model_module_version": "1.5.0",
      "model_name": "SliderStyleModel",
      "state": {
       "description_width": ""
      }
     },
     "2d3bcc9184094092918193d58ecfdb33": {
      "model_module": "@jupyter-widgets/base",
      "model_module_version": "1.2.0",
      "model_name": "LayoutModel",
      "state": {}
     },
     "304fbfc475db4d5ca92d1c3cd439c82f": {
      "model_module": "@jupyter-widgets/base",
      "model_module_version": "1.2.0",
      "model_name": "LayoutModel",
      "state": {}
     },
     "30974c4296dc4709bc7997f4e3b038fb": {
      "model_module": "@jupyter-widgets/base",
      "model_module_version": "1.2.0",
      "model_name": "LayoutModel",
      "state": {}
     },
     "310d4eb32fda470ca020b0ec268d3f07": {
      "model_module": "@jupyter-widgets/controls",
      "model_module_version": "1.5.0",
      "model_name": "IntSliderModel",
      "state": {
       "description": "i",
       "layout": "IPY_MODEL_a5fa4bd6dc1942e686deed62af4dfa4e",
       "max": 50,
       "style": "IPY_MODEL_0bff596a856a410682e5d8d78e3510f0",
       "value": 33
      }
     },
     "31bc31adb1db4ae4b202f43a91642d5a": {
      "model_module": "@jupyter-widgets/controls",
      "model_module_version": "1.5.0",
      "model_name": "SliderStyleModel",
      "state": {
       "description_width": ""
      }
     },
     "32421dc059ff4a28be54dca435370911": {
      "model_module": "@jupyter-widgets/controls",
      "model_module_version": "1.5.0",
      "model_name": "VBoxModel",
      "state": {
       "_dom_classes": [
        "widget-interact"
       ],
       "children": [
        "IPY_MODEL_907656a4ec744bed8331ed1092300fd1",
        "IPY_MODEL_4cf14a1e27394c23a8e7f481091f69ae",
        "IPY_MODEL_b75548771769470ab4ad64af51db3520"
       ],
       "layout": "IPY_MODEL_f3061efe85204c869b71cb8d0b4a46f5"
      }
     },
     "3344a2e80f934c91af66244225dd621a": {
      "model_module": "@jupyter-widgets/controls",
      "model_module_version": "1.5.0",
      "model_name": "IntSliderModel",
      "state": {
       "description": "i",
       "layout": "IPY_MODEL_ab198278811c4c31a3f8c5fc4d47138f",
       "max": 50,
       "style": "IPY_MODEL_930e0bb8a2fe4d16a3ef80f018bd2f9c",
       "value": 25
      }
     },
     "37158ac5cc95400caf2db38162a06924": {
      "model_module": "@jupyter-widgets/controls",
      "model_module_version": "1.5.0",
      "model_name": "SliderStyleModel",
      "state": {
       "description_width": ""
      }
     },
     "3823a45fbc854a6fa2c6f52709be3542": {
      "model_module": "@jupyter-widgets/controls",
      "model_module_version": "1.5.0",
      "model_name": "DescriptionStyleModel",
      "state": {
       "description_width": ""
      }
     },
     "384d223dd9334d00844945be5289db47": {
      "model_module": "@jupyter-widgets/base",
      "model_module_version": "1.2.0",
      "model_name": "LayoutModel",
      "state": {}
     },
     "39989fb9d2b24e01b0acbd7f09ae2541": {
      "model_module": "@jupyter-widgets/controls",
      "model_module_version": "1.5.0",
      "model_name": "IntSliderModel",
      "state": {
       "description": "i",
       "layout": "IPY_MODEL_999c02e5c4074d4182d133aa7d8fae57",
       "max": 50,
       "style": "IPY_MODEL_4f53c2a19d3b49bfa08fbacad3fcc6a7",
       "value": 25
      }
     },
     "3b15b407d3dc45229e7fccd6bc2feb2b": {
      "model_module": "@jupyter-widgets/controls",
      "model_module_version": "1.5.0",
      "model_name": "CheckboxModel",
      "state": {
       "description": "epoch_end",
       "disabled": false,
       "layout": "IPY_MODEL_9a76fce2e50f48429b59156ff68a8710",
       "style": "IPY_MODEL_0a527aac472546e8a9173f0f366599ff",
       "value": false
      }
     },
     "4047a2e728af43c4b2383e159b1de37d": {
      "model_module": "@jupyter-widgets/controls",
      "model_module_version": "1.5.0",
      "model_name": "VBoxModel",
      "state": {
       "_dom_classes": [
        "widget-interact"
       ],
       "children": [
        "IPY_MODEL_39989fb9d2b24e01b0acbd7f09ae2541",
        "IPY_MODEL_74c9666cabf8469ba009be82cdb51c4b",
        "IPY_MODEL_5f7725db413d4e84acdbdb9eae43074d"
       ],
       "layout": "IPY_MODEL_d03740f7911747ec84f31313955049dd"
      }
     },
     "41835ce75e1640519799c8c2e3114ed9": {
      "model_module": "@jupyter-widgets/base",
      "model_module_version": "1.2.0",
      "model_name": "LayoutModel",
      "state": {}
     },
     "429a2fb7b85d4b6e803ca7fd484f021a": {
      "model_module": "@jupyter-widgets/controls",
      "model_module_version": "1.5.0",
      "model_name": "ButtonModel",
      "state": {
       "description": "Run Interact",
       "layout": "IPY_MODEL_b026408939f3414aa478ac259367f717",
       "style": "IPY_MODEL_83e1d125b4de44a5b5b9da59644f336b"
      }
     },
     "44ea988477ec4ced8b57b14518d56625": {
      "model_module": "@jupyter-widgets/base",
      "model_module_version": "1.2.0",
      "model_name": "LayoutModel",
      "state": {}
     },
     "450ab18d02fe4b2589d94495751a340a": {
      "model_module": "@jupyter-widgets/controls",
      "model_module_version": "1.5.0",
      "model_name": "DescriptionStyleModel",
      "state": {
       "description_width": ""
      }
     },
     "45f45142fbeb4f898335ded970197b3a": {
      "model_module": "@jupyter-widgets/base",
      "model_module_version": "1.2.0",
      "model_name": "LayoutModel",
      "state": {}
     },
     "46bc503768964bfdaa6079161bda16cf": {
      "model_module": "@jupyter-widgets/base",
      "model_module_version": "1.2.0",
      "model_name": "LayoutModel",
      "state": {}
     },
     "4831171a42ac4deb913e97fa99796dbe": {
      "model_module": "@jupyter-widgets/base",
      "model_module_version": "1.2.0",
      "model_name": "LayoutModel",
      "state": {}
     },
     "4c8b961d156d4516a35d8702ca3c2968": {
      "model_module": "@jupyter-widgets/output",
      "model_module_version": "1.0.0",
      "model_name": "OutputModel",
      "state": {
       "layout": "IPY_MODEL_db1a4df978d9475897ab6968e660a41e",
       "outputs": [
        {
         "data": {
          "text/plain": "(array([[[74.13, 74.84, 74.87, 74.31, 74.86],\n         [74.32, 74.03, 74.82, 74.39, 74.23],\n         [74.76, 74.61, 74.45, 74.26, 74.45],\n         [74.48, 74.9 , 74.95, 74.89, 74.94],\n         [74.62, 74.94, 74.38, 74.81, 74.44]],\n \n        [[71.9 , 71.37, 71.49, 71.61, 71.52],\n         [71.31, 71.47, 71.04, 71.3 , 71.43],\n         [71.04, 71.7 , 71.88, 71.13, 71.61],\n         [71.93, 71.38, 71.73, 71.36, 71.09],\n         [71.22, 71.2 , 71.49, 71.66, 71.25]]], dtype=float32),\n array([[[740.15, 740.58, 740.22, 740.97, 740.14],\n         [740.75, 740.02, 740.15, 740.5 , 740.69],\n         [740.95, 740.74, 740.17, 740.55, 740.25],\n         [740.9 , 740.38, 740.84, 740.43, 740.39],\n         [740.48, 740.28, 740.9 , 740.35, 740.24]],\n \n        [[710.33, 710.99, 710.61, 710.4 , 710.46],\n         [710.11, 710.05, 710.27, 710.65, 710.26],\n         [710.08, 710.89, 710.62, 710.47, 710.12],\n         [710.62, 710.19, 710.15, 710.17, 710.4 ],\n         [710.  , 710.74, 710.28, 710.2 , 710.85]]], dtype=float32))"
         },
         "metadata": {},
         "output_type": "display_data"
        }
       ]
      }
     },
     "4cf14a1e27394c23a8e7f481091f69ae": {
      "model_module": "@jupyter-widgets/controls",
      "model_module_version": "1.5.0",
      "model_name": "CheckboxModel",
      "state": {
       "description": "epoch_end",
       "disabled": false,
       "layout": "IPY_MODEL_03258b9958644d82b3d76070c0b77e73",
       "style": "IPY_MODEL_5f73da90f4ab4df6b3ac33e0b15c8e92",
       "value": false
      }
     },
     "4f53c2a19d3b49bfa08fbacad3fcc6a7": {
      "model_module": "@jupyter-widgets/controls",
      "model_module_version": "1.5.0",
      "model_name": "SliderStyleModel",
      "state": {
       "description_width": ""
      }
     },
     "4fd9b56995394fcd9a1ce547a77297ab": {
      "model_module": "@jupyter-widgets/base",
      "model_module_version": "1.2.0",
      "model_name": "LayoutModel",
      "state": {}
     },
     "517231f7dbcf4591a037e848bc4616e3": {
      "model_module": "@jupyter-widgets/base",
      "model_module_version": "1.2.0",
      "model_name": "LayoutModel",
      "state": {}
     },
     "54f438e6f7e64e6ba30cbda0efe5df0f": {
      "model_module": "@jupyter-widgets/output",
      "model_module_version": "1.0.0",
      "model_name": "OutputModel",
      "state": {
       "layout": "IPY_MODEL_e35a04d6c94d4f1991869e847489fc52",
       "outputs": [
        {
         "name": "stdout",
         "output_type": "stream",
         "text": "selected batch: 4 of 9 with a batchsize of 10 and total 100 examples\nstart idx: 40, end idx: 50\nIndexes of the currrent batch: [66, 60, 79, 78, 77, 70, 24, 35, 98, 63]\n----------------------------------------\n"
        },
        {
         "data": {
          "text/plain": "[(10, 4, 10, 10, 10), (10, 4, 10, 10, 10)]"
         },
         "metadata": {},
         "output_type": "display_data"
        }
       ]
      }
     },
     "553242e2b6974368b69c5cf4cbddf22c": {
      "model_module": "@jupyter-widgets/controls",
      "model_module_version": "1.5.0",
      "model_name": "DescriptionStyleModel",
      "state": {
       "description_width": ""
      }
     },
     "56417ba92fb549158f432d3b552b8196": {
      "model_module": "@jupyter-widgets/base",
      "model_module_version": "1.2.0",
      "model_name": "LayoutModel",
      "state": {}
     },
     "5c36f815ee804d218efacb60516f90f7": {
      "model_module": "@jupyter-widgets/controls",
      "model_module_version": "1.5.0",
      "model_name": "SliderStyleModel",
      "state": {
       "description_width": ""
      }
     },
     "5d99b7bb006747cf9bd7e2b154baec2c": {
      "model_module": "@jupyter-widgets/controls",
      "model_module_version": "1.5.0",
      "model_name": "VBoxModel",
      "state": {
       "_dom_classes": [
        "widget-interact"
       ],
       "children": [
        "IPY_MODEL_310d4eb32fda470ca020b0ec268d3f07",
        "IPY_MODEL_72b819e086564cf5aaac6e5b421797b7",
        "IPY_MODEL_e1acb006b9da43ad802a4f9504eee8d3"
       ],
       "layout": "IPY_MODEL_4fd9b56995394fcd9a1ce547a77297ab"
      }
     },
     "5daf1765432a46048f4ae2a6e67a3139": {
      "model_module": "@jupyter-widgets/base",
      "model_module_version": "1.2.0",
      "model_name": "LayoutModel",
      "state": {}
     },
     "5dc17e3e8c504371a01c28f51a0b1b48": {
      "model_module": "@jupyter-widgets/controls",
      "model_module_version": "1.5.0",
      "model_name": "DescriptionStyleModel",
      "state": {
       "description_width": ""
      }
     },
     "5f542db066054f0b86b220bc11124881": {
      "model_module": "@jupyter-widgets/controls",
      "model_module_version": "1.5.0",
      "model_name": "CheckboxModel",
      "state": {
       "description": "epoch_end",
       "disabled": false,
       "layout": "IPY_MODEL_f4e15237621f4728a139b579da03ea0e",
       "style": "IPY_MODEL_b7687b6c2a3f456f940aa06fc3a84aa4",
       "value": false
      }
     },
     "5f73da90f4ab4df6b3ac33e0b15c8e92": {
      "model_module": "@jupyter-widgets/controls",
      "model_module_version": "1.5.0",
      "model_name": "DescriptionStyleModel",
      "state": {
       "description_width": ""
      }
     },
     "5f7725db413d4e84acdbdb9eae43074d": {
      "model_module": "@jupyter-widgets/output",
      "model_module_version": "1.0.0",
      "model_name": "OutputModel",
      "state": {
       "layout": "IPY_MODEL_a636edcb08ed4f969069b1dd51e823ec",
       "outputs": [
        {
         "name": "stdout",
         "output_type": "stream",
         "text": "x-shape: (2, 5, 5), y-shape: (2, 5, 5)\nmean x: 51.00599670410156, mean y: 505.5083923339844\n"
        },
        {
         "data": {
          "text/plain": "(array([[[50.44, 50.53, 50.59, 50.11, 50.53],\n         [50.82, 50.77, 50.56, 50.37, 50.78],\n         [50.29, 50.23, 50.92, 50.57, 50.65],\n         [50.56, 50.63, 50.21, 50.39, 50.09],\n         [50.35, 50.16, 50.24, 50.6 , 50.41]],\n \n        [[51.75, 51.95, 51.31, 51.41, 51.88],\n         [51.85, 51.1 , 51.73, 51.77, 51.06],\n         [51.97, 51.97, 51.02, 51.33, 51.43],\n         [51.9 , 51.4 , 51.92, 51.22, 51.11],\n         [51.87, 51.28, 51.46, 51.15, 51.66]]], dtype=float32),\n array([[[500.08, 500.75, 500.5 , 500.6 , 500.01],\n         [500.43, 500.79, 500.76, 500.85, 500.75],\n         [500.25, 500.32, 500.03, 500.91, 500.98],\n         [500.25, 500.67, 500.5 , 500.29, 500.87],\n         [500.04, 500.23, 500.23, 500.6 , 500.78]],\n \n        [[510.72, 510.14, 510.9 , 510.14, 510.73],\n         [510.61, 510.22, 510.08, 510.69, 510.62],\n         [510.14, 510.5 , 510.04, 510.97, 510.85],\n         [510.36, 510.14, 511.  , 510.98, 510.37],\n         [510.5 , 510.15, 510.19, 510.92, 510.99]]], dtype=float32))"
         },
         "metadata": {},
         "output_type": "display_data"
        }
       ]
      }
     },
     "606151b7d03144de90e8052312842af8": {
      "model_module": "@jupyter-widgets/base",
      "model_module_version": "1.2.0",
      "model_name": "LayoutModel",
      "state": {}
     },
     "6312b6b91617489fafa157743a77ebe9": {
      "model_module": "@jupyter-widgets/controls",
      "model_module_version": "1.5.0",
      "model_name": "SliderStyleModel",
      "state": {
       "description_width": ""
      }
     },
     "651b12b119b74c0087defececa5ac37d": {
      "model_module": "@jupyter-widgets/controls",
      "model_module_version": "1.5.0",
      "model_name": "IntSliderModel",
      "state": {
       "description": "i",
       "layout": "IPY_MODEL_83db8edbfa8d48768e8f7d25a0796a3c",
       "max": 2000,
       "style": "IPY_MODEL_31bc31adb1db4ae4b202f43a91642d5a",
       "value": 1000
      }
     },
     "68f027a5ce9446daa908ba5aaddf6b85": {
      "model_module": "@jupyter-widgets/output",
      "model_module_version": "1.0.0",
      "model_name": "OutputModel",
      "state": {
       "layout": "IPY_MODEL_f02b8236c3924c99844e69e557d33488",
       "outputs": [
        {
         "name": "stdout",
         "output_type": "stream",
         "text": "x-shape: (5, 5, 5), y-shape: (5, 5, 5)\nmean x: 5002.47509765625, mean y: 50020.4921875\n"
        },
        {
         "data": {
          "text/plain": "(array([[[5000.76, 5000.99, 5000.99, 5000.08, 5000.34],\n         [5000.12, 5000.67, 5000.64, 5000.63, 5000.25],\n         [5000.3 , 5000.27, 5000.32, 5000.97, 5000.33],\n         [5000.03, 5000.41, 5000.16, 5000.45, 5000.18],\n         [5000.4 , 5000.19, 5000.17, 5000.08, 5000.09]],\n \n        [[5001.05, 5001.18, 5001.37, 5001.14, 5001.67],\n         [5001.24, 5001.16, 5001.5 , 5001.02, 5001.07],\n         [5001.84, 5001.98, 5001.48, 5001.58, 5001.73],\n         [5001.17, 5001.59, 5001.79, 5001.31, 5001.81],\n         [5001.75, 5001.68, 5001.28, 5001.56, 5001.98]],\n \n        [[5002.07, 5002.22, 5002.66, 5002.06, 5002.93],\n         [5002.52, 5002.53, 5002.12, 5002.87, 5002.52],\n         [5002.08, 5002.91, 5002.94, 5002.84, 5002.7 ],\n         [5002.59, 5002.65, 5002.34, 5002.57, 5002.25],\n         [5002.68, 5002.2 , 5002.29, 5002.87, 5002.93]],\n \n        [[5003.82, 5003.63, 5003.19, 5003.06, 5003.52],\n         [5003.63, 5003.31, 5003.41, 5003.49, 5004.  ],\n         [5003.27, 5003.99, 5003.5 , 5003.54, 5003.95],\n         [5003.9 , 5003.8 , 5003.77, 5003.84, 5003.08],\n         [5003.76, 5003.92, 5003.42, 5003.04, 5003.91]],\n \n        [[5004.28, 5004.37, 5004.22, 5004.25, 5004.33],\n         [5004.  , 5004.52, 5004.51, 5004.53, 5004.37],\n         [5004.63, 5004.13, 5004.7 , 5004.42, 5004.22],\n         [5004.74, 5004.11, 5004.16, 5004.  , 5004.25],\n         [5004.11, 5004.4 , 5004.88, 5004.81, 5004.63]]], dtype=float32),\n array([[[50000.24, 50000.44, 50000.11, 50000.4 , 50000.38],\n         [50000.83, 50000.88, 50000.07, 50000.59, 50000.83],\n         [50000.01, 50000.49, 50000.55, 50000.09, 50000.66],\n         [50000.3 , 50000.77, 50000.67, 50000.63, 50000.54],\n         [50000.35, 50000.37, 50000.59, 50000.47, 50000.16]],\n \n        [[50010.78, 50010.98, 50010.79, 50010.86, 50010.74],\n         [50010.34, 50010.77, 50010.75, 50010.91, 50010.12],\n         [50010.02, 50010.55, 50010.65, 50010.58, 50010.86],\n         [50010.95, 50010.35, 50010.99, 50010.73, 50010.82],\n         [50010.72, 50010.93, 50010.18, 50010.19, 50010.92]],\n \n        [[50020.39, 50020.07, 50020.89, 50020.78, 50020.95],\n         [50020.78, 50020.44, 50020.02, 50020.01, 50020.75],\n         [50020.24, 50020.18, 50020.6 , 50020.23, 50020.48],\n         [50020.92, 50020.25, 50020.56, 50020.46, 50020.33],\n         [50020.27, 50020.86, 50020.53, 50020.41, 50020.37]],\n \n        [[50030.08, 50030.14, 50030.85, 50030.7 , 50030.38],\n         [50030.2 , 50030.77, 50030.  , 50030.83, 50030.29],\n         [50030.13, 50030.54, 50030.61, 50030.72, 50030.71],\n         [50030.43, 50030.25, 50030.83, 50030.23, 50030.14],\n         [50030.58, 50030.1 , 50030.3 , 50030.42, 50030.34]],\n \n        [[50040.56, 50040.79, 50040.24, 50040.13, 50040.34],\n         [50040.34, 50040.99, 50040.29, 50040.64, 50040.25],\n         [50040.17, 50040.83, 50040.19, 50040.85, 50040.13],\n         [50040.29, 50040.15, 50040.95, 50040.27, 50040.28],\n         [50040.8 , 50040.63, 50040.66, 50040.63, 50040.45]]],\n       dtype=float32))"
         },
         "metadata": {},
         "output_type": "display_data"
        }
       ]
      }
     },
     "691cef37ab4949ea8540eb6a3302aefd": {
      "model_module": "@jupyter-widgets/controls",
      "model_module_version": "1.5.0",
      "model_name": "SliderStyleModel",
      "state": {
       "description_width": ""
      }
     },
     "6b0970ea048f49189c4a9412f3b5cd11": {
      "model_module": "@jupyter-widgets/base",
      "model_module_version": "1.2.0",
      "model_name": "LayoutModel",
      "state": {}
     },
     "6d45a34e0747470e82a4073416a5f6fd": {
      "model_module": "@jupyter-widgets/controls",
      "model_module_version": "1.5.0",
      "model_name": "IntSliderModel",
      "state": {
       "description": "inputObjects",
       "layout": "IPY_MODEL_8db22ae9fcf44ee09a52c586a0d39cb1",
       "max": 8,
       "min": 1,
       "style": "IPY_MODEL_d34f14d39c7845aa9a53b1808ca5de8f",
       "value": 4
      }
     },
     "6d9df964ff8a49038caf586de3bb62eb": {
      "model_module": "@jupyter-widgets/controls",
      "model_module_version": "1.5.0",
      "model_name": "IntSliderModel",
      "state": {
       "description": "examples_",
       "layout": "IPY_MODEL_a056567f356b48d0b4b618d3d05c310f",
       "max": 200,
       "min": 1,
       "style": "IPY_MODEL_d0504b4647e0471b811f5fe6d2569220",
       "value": 100
      }
     },
     "6fb23de9e578488e9b7daea25bf093f7": {
      "model_module": "@jupyter-widgets/base",
      "model_module_version": "1.2.0",
      "model_name": "LayoutModel",
      "state": {}
     },
     "70497376fe2e4bd181a2093cf001be3f": {
      "model_module": "@jupyter-widgets/base",
      "model_module_version": "1.2.0",
      "model_name": "LayoutModel",
      "state": {}
     },
     "70ddc154df6e4c51a33820fc3e1cd48b": {
      "model_module": "@jupyter-widgets/base",
      "model_module_version": "1.2.0",
      "model_name": "LayoutModel",
      "state": {}
     },
     "71f1f36309ec4e678417a4ce5751e712": {
      "model_module": "@jupyter-widgets/controls",
      "model_module_version": "1.5.0",
      "model_name": "SliderStyleModel",
      "state": {
       "description_width": ""
      }
     },
     "72b819e086564cf5aaac6e5b421797b7": {
      "model_module": "@jupyter-widgets/controls",
      "model_module_version": "1.5.0",
      "model_name": "CheckboxModel",
      "state": {
       "description": "epoch_end",
       "disabled": false,
       "layout": "IPY_MODEL_ec8c09547dbf4dd98d9de2810727418d",
       "style": "IPY_MODEL_c6be77e919b648069f6ee1d466ad2e1a",
       "value": false
      }
     },
     "74c9666cabf8469ba009be82cdb51c4b": {
      "model_module": "@jupyter-widgets/controls",
      "model_module_version": "1.5.0",
      "model_name": "CheckboxModel",
      "state": {
       "description": "epoch_end",
       "disabled": false,
       "layout": "IPY_MODEL_06c622166ee04363a92b393a70d37796",
       "style": "IPY_MODEL_3823a45fbc854a6fa2c6f52709be3542",
       "value": false
      }
     },
     "7869d54c76ec46cb8d7071f1eab3b3b4": {
      "model_module": "@jupyter-widgets/controls",
      "model_module_version": "1.5.0",
      "model_name": "SliderStyleModel",
      "state": {
       "description_width": ""
      }
     },
     "79b338906e4747638c1e99fc8df896f7": {
      "model_module": "@jupyter-widgets/controls",
      "model_module_version": "1.5.0",
      "model_name": "ButtonModel",
      "state": {
       "description": "Run Interact",
       "layout": "IPY_MODEL_0520675ba5ca4e9c8338855fa2ab4d49",
       "style": "IPY_MODEL_06d6ab6e3fd244cfa37b0305874af632"
      }
     },
     "7cf24808ba084f378427f71614f27ae5": {
      "model_module": "@jupyter-widgets/base",
      "model_module_version": "1.2.0",
      "model_name": "LayoutModel",
      "state": {}
     },
     "7d49f07ccc984e3b8549a52d9518378b": {
      "model_module": "@jupyter-widgets/controls",
      "model_module_version": "1.5.0",
      "model_name": "SliderStyleModel",
      "state": {
       "description_width": ""
      }
     },
     "807e2cc46aa846c2881ed6a3ed45f2ed": {
      "model_module": "@jupyter-widgets/base",
      "model_module_version": "1.2.0",
      "model_name": "LayoutModel",
      "state": {}
     },
     "81a33e67ede444d48891c7c835f87348": {
      "model_module": "@jupyter-widgets/controls",
      "model_module_version": "1.5.0",
      "model_name": "SliderStyleModel",
      "state": {
       "description_width": ""
      }
     },
     "81dcc9836f614a4facadf984d7540be4": {
      "model_module": "@jupyter-widgets/controls",
      "model_module_version": "1.5.0",
      "model_name": "IntSliderModel",
      "state": {
       "description": "i",
       "layout": "IPY_MODEL_9c4c8fb885484a98802d2a08104f4e14",
       "max": 2,
       "style": "IPY_MODEL_249c1ec202234a33a7bc3c059563b104",
       "value": 1
      }
     },
     "83db8edbfa8d48768e8f7d25a0796a3c": {
      "model_module": "@jupyter-widgets/base",
      "model_module_version": "1.2.0",
      "model_name": "LayoutModel",
      "state": {}
     },
     "83e1d125b4de44a5b5b9da59644f336b": {
      "model_module": "@jupyter-widgets/controls",
      "model_module_version": "1.5.0",
      "model_name": "ButtonStyleModel",
      "state": {}
     },
     "83fe6daefd7544bd964f16742553a7c4": {
      "model_module": "@jupyter-widgets/controls",
      "model_module_version": "1.5.0",
      "model_name": "CheckboxModel",
      "state": {
       "description": "debug",
       "disabled": false,
       "layout": "IPY_MODEL_0e3b7421cf0a44dda83325c4e09b8201",
       "style": "IPY_MODEL_f3717cd5b2d748ddb6307275f38d998b",
       "value": false
      }
     },
     "8433d912782b483aad2bed83f446d738": {
      "model_module": "@jupyter-widgets/base",
      "model_module_version": "1.2.0",
      "model_name": "LayoutModel",
      "state": {}
     },
     "87d89160900e49b9b783b20ac09b86fa": {
      "model_module": "@jupyter-widgets/output",
      "model_module_version": "1.0.0",
      "model_name": "OutputModel",
      "state": {
       "layout": "IPY_MODEL_b083b396808c44d7af76da64830af0f2",
       "outputs": [
        {
         "data": {
          "text/plain": "(array([[[97.14, 97.84, 97.5 , 97.9 , 97.55],\n         [97.97, 97.86, 97.94, 97.86, 97.51],\n         [97.33, 97.26, 97.06, 97.25, 97.44],\n         [97.96, 97.4 , 97.94, 97.18, 97.9 ],\n         [97.07, 97.56, 97.77, 97.16, 97.26]],\n \n        [[36.48, 36.54, 36.  , 36.97, 36.41],\n         [36.87, 36.46, 36.5 , 36.35, 36.54],\n         [36.44, 36.76, 36.23, 36.54, 36.75],\n         [36.51, 36.69, 36.03, 36.35, 36.63],\n         [36.69, 36.59, 36.12, 36.54, 36.79]]], dtype=float32),\n array([[[970.4 , 970.45, 970.02, 970.57, 970.81],\n         [970.64, 970.1 , 970.49, 970.51, 970.78],\n         [970.28, 970.07, 970.1 , 970.39, 970.69],\n         [970.81, 970.88, 970.7 , 970.52, 970.8 ],\n         [970.14, 970.37, 970.12, 970.01, 970.41]],\n \n        [[360.99, 360.3 , 360.86, 360.01, 360.19],\n         [360.26, 360.43, 360.28, 360.87, 360.44],\n         [360.85, 360.84, 360.23, 360.29, 360.5 ],\n         [361.  , 360.11, 360.42, 360.02, 360.11],\n         [360.11, 360.86, 360.7 , 360.48, 360.69]]], dtype=float32))"
         },
         "metadata": {},
         "output_type": "display_data"
        }
       ]
      }
     },
     "8807a1b7c95b4fa681fb70370d9dd54b": {
      "model_module": "@jupyter-widgets/output",
      "model_module_version": "1.0.0",
      "model_name": "OutputModel",
      "state": {
       "layout": "IPY_MODEL_45f45142fbeb4f898335ded970197b3a",
       "outputs": [
        {
         "name": "stdout",
         "output_type": "stream",
         "text": "x-shape: (5, 5, 5), y-shape: (5, 5, 5)\nmean x: 4597.4580078125, mean y: 45970.484375\n"
        },
        {
         "data": {
          "text/plain": "(array([[[4595.18, 4595.1 , 4595.69, 4595.53, 4595.44],\n         [4595.46, 4595.5 , 4595.85, 4595.3 , 4595.45],\n         [4595.48, 4595.31, 4595.79, 4595.33, 4595.19],\n         [4595.81, 4595.76, 4595.33, 4595.36, 4595.88],\n         [4595.88, 4595.05, 4595.93, 4595.14, 4595.6 ]],\n \n        [[4596.34, 4596.98, 4596.9 , 4596.38, 4596.08],\n         [4596.26, 4596.79, 4596.68, 4596.17, 4596.01],\n         [4596.32, 4596.51, 4596.12, 4596.02, 4596.01],\n         [4596.52, 4596.63, 4596.64, 4596.2 , 4596.02],\n         [4596.81, 4596.9 , 4596.25, 4596.27, 4596.85]],\n \n        [[4597.99, 4597.21, 4597.22, 4597.86, 4597.49],\n         [4597.62, 4597.53, 4597.42, 4597.84, 4597.33],\n         [4597.63, 4597.7 , 4597.36, 4597.79, 4597.11],\n         [4597.81, 4597.76, 4597.1 , 4597.21, 4597.03],\n         [4597.09, 4597.02, 4597.43, 4597.31, 4597.12]],\n \n        [[4598.12, 4598.9 , 4598.15, 4598.91, 4598.64],\n         [4598.69, 4598.74, 4598.77, 4598.09, 4598.89],\n         [4598.17, 4598.67, 4598.45, 4598.03, 4598.95],\n         [4598.04, 4598.1 , 4598.29, 4598.44, 4598.5 ],\n         [4598.93, 4598.75, 4598.44, 4598.91, 4598.64]],\n \n        [[4599.15, 4599.21, 4599.44, 4599.28, 4599.04],\n         [4599.46, 4599.51, 4599.96, 4599.33, 4599.07],\n         [4599.11, 4599.03, 4599.46, 4599.04, 4599.32],\n         [4599.03, 4599.24, 4599.98, 4599.99, 4599.95],\n         [4599.65, 4599.22, 4599.18, 4599.83, 4599.56]]], dtype=float32),\n array([[[45950.39, 45950.94, 45950.84, 45950.22, 45950.44],\n         [45950.83, 45950.4 , 45950.52, 45950.95, 45950.22],\n         [45950.25, 45950.12, 45950.62, 45950.09, 45950.36],\n         [45950.94, 45950.54, 45950.45, 45950.68, 45950.68],\n         [45950.84, 45950.77, 45950.48, 45950.12, 45950.25]],\n \n        [[45960.33, 45960.06, 45960.83, 45960.38, 45960.72],\n         [45960.53, 45960.32, 45960.21, 45960.37, 45960.16],\n         [45960.32, 45960.43, 45960.28, 45960.08, 45960.03],\n         [45960.07, 45960.33, 45960.68, 45960.42, 45960.4 ],\n         [45960.68, 45960.88, 45960.94, 45960.41, 45960.61]],\n \n        [[45970.44, 45970.34, 45970.36, 45970.44, 45970.78],\n         [45970.99, 45970.38, 45970.22, 45970.81, 45970.15],\n         [45970.76, 45970.63, 45970.12, 45970.11, 45970.74],\n         [45970.62, 45970.13, 45970.08, 45970.21, 45970.6 ],\n         [45970.07, 45970.62, 45970.87, 45970.96, 45970.66]],\n \n        [[45980.75, 45980.73, 45980.54, 45980.58, 45980.71],\n         [45980.59, 45980.23, 45980.11, 45980.52, 45980.  ],\n         [45980.32, 45980.61, 45980.6 , 45980.06, 45980.55],\n         [45980.9 , 45980.76, 45980.38, 45980.69, 45980.6 ],\n         [45980.21, 45980.95, 45980.53, 45980.64, 45980.24]],\n \n        [[45990.88, 45990.08, 45990.83, 45990.22, 45990.94],\n         [45990.28, 45990.98, 45990.94, 45991.  , 45990.63],\n         [45990.39, 45990.07, 45990.09, 45990.99, 45990.  ],\n         [45990.13, 45990.4 , 45990.87, 45990.71, 45990.66],\n         [45990.1 , 45990.63, 45990.08, 45990.59, 45990.23]]],\n       dtype=float32))"
         },
         "metadata": {},
         "output_type": "display_data"
        }
       ]
      }
     },
     "8db22ae9fcf44ee09a52c586a0d39cb1": {
      "model_module": "@jupyter-widgets/base",
      "model_module_version": "1.2.0",
      "model_name": "LayoutModel",
      "state": {}
     },
     "8ed095904d3d401bbba04085ebad5fda": {
      "model_module": "@jupyter-widgets/output",
      "model_module_version": "1.0.0",
      "model_name": "OutputModel",
      "state": {
       "layout": "IPY_MODEL_0a251c6139ba48809d066ddb08f25337",
       "outputs": [
        {
         "name": "stdout",
         "output_type": "stream",
         "text": "x-shape: (5, 5, 5), y-shape: (5, 5, 5)\nmean x: 5002.5361328125, mean y: 50020.50390625\n"
        },
        {
         "data": {
          "text/plain": "(array([[[5000.77, 5000.91, 5000.28, 5000.82, 5000.52],\n         [5000.95, 5000.43, 5000.21, 5000.48, 5000.34],\n         [5000.43, 5000.82, 5000.89, 5000.76, 5000.03],\n         [5000.61, 5000.66, 5000.92, 5000.77, 5000.03],\n         [5000.52, 5000.33, 5000.94, 5000.86, 5000.82]],\n \n        [[5001.62, 5001.72, 5001.14, 5001.67, 5001.94],\n         [5001.85, 5001.55, 5001.68, 5001.87, 5001.03],\n         [5001.05, 5001.5 , 5001.23, 5001.56, 5001.94],\n         [5001.18, 5001.25, 5001.85, 5001.2 , 5001.88],\n         [5001.19, 5001.86, 5001.8 , 5001.17, 5001.89]],\n \n        [[5002.69, 5002.4 , 5002.83, 5002.14, 5002.93],\n         [5002.49, 5002.2 , 5002.3 , 5002.85, 5002.33],\n         [5002.16, 5002.72, 5002.26, 5002.19, 5002.99],\n         [5002.29, 5002.85, 5002.25, 5002.89, 5002.93],\n         [5002.15, 5002.87, 5002.36, 5002.54, 5002.43]],\n \n        [[5003.05, 5003.78, 5003.58, 5003.3 , 5003.4 ],\n         [5003.65, 5003.3 , 5003.32, 5003.54, 5003.03],\n         [5003.54, 5003.76, 5003.61, 5003.7 , 5003.64],\n         [5003.59, 5003.63, 5003.48, 5003.04, 5003.17],\n         [5003.09, 5003.01, 5003.18, 5003.27, 5003.92]],\n \n        [[5004.86, 5004.84, 5004.73, 5004.31, 5004.4 ],\n         [5004.64, 5004.48, 5004.84, 5004.99, 5004.75],\n         [5004.76, 5004.94, 5004.59, 5004.52, 5004.08],\n         [5004.07, 5004.21, 5004.81, 5004.77, 5004.63],\n         [5004.2 , 5004.79, 5004.62, 5004.76, 5004.04]]], dtype=float32),\n array([[[50001.  , 50000.21, 50000.63, 50000.76, 50000.51],\n         [50000.32, 50000.89, 50000.4 , 50000.23, 50000.59],\n         [50000.86, 50000.73, 50000.98, 50000.68, 50000.29],\n         [50000.29, 50000.06, 50000.47, 50000.01, 50000.13],\n         [50000.82, 50000.91, 50000.99, 50000.68, 50000.73]],\n \n        [[50010.73, 50010.25, 50010.07, 50010.4 , 50010.48],\n         [50010.9 , 50010.28, 50010.14, 50010.49, 50010.91],\n         [50010.4 , 50010.2 , 50010.26, 50010.45, 50010.14],\n         [50010.54, 50010.44, 50010.33, 50010.91, 50010.07],\n         [50010.1 , 50010.96, 50010.97, 50010.1 , 50010.67]],\n \n        [[50020.6 , 50020.67, 50020.37, 50020.24, 50020.84],\n         [50020.48, 50020.13, 50020.54, 50020.93, 50020.65],\n         [50020.26, 50020.3 , 50020.21, 50020.28, 50020.62],\n         [50020.8 , 50020.49, 50020.99, 50020.22, 50020.76],\n         [50020.  , 50020.65, 50020.99, 50020.91, 50020.57]],\n \n        [[50030.  , 50030.76, 50030.61, 50030.15, 50030.34],\n         [50031.  , 50030.35, 50030.91, 50030.49, 50030.71],\n         [50030.42, 50030.35, 50030.41, 50030.25, 50030.31],\n         [50030.17, 50030.74, 50030.67, 50030.22, 50030.62],\n         [50030.83, 50030.2 , 50030.74, 50030.74, 50030.75]],\n \n        [[50040.78, 50040.17, 50040.35, 50040.73, 50040.39],\n         [50040.21, 50040.57, 50040.39, 50040.81, 50040.73],\n         [50040.03, 50040.74, 50040.31, 50040.27, 50040.74],\n         [50040.82, 50040.09, 50040.26, 50040.62, 50040.92],\n         [50040.19, 50040.16, 50040.96, 50040.19, 50040.17]]],\n       dtype=float32))"
         },
         "metadata": {},
         "output_type": "display_data"
        }
       ]
      }
     },
     "8ee7002af3c84b81b0e37705e41179a3": {
      "model_module": "@jupyter-widgets/base",
      "model_module_version": "1.2.0",
      "model_name": "LayoutModel",
      "state": {}
     },
     "907656a4ec744bed8331ed1092300fd1": {
      "model_module": "@jupyter-widgets/controls",
      "model_module_version": "1.5.0",
      "model_name": "IntSliderModel",
      "state": {
       "description": "i",
       "layout": "IPY_MODEL_1c89a0884cdc486b9dce4c07148545b7",
       "max": 50,
       "style": "IPY_MODEL_37158ac5cc95400caf2db38162a06924",
       "value": 25
      }
     },
     "91e1d703e0664bb8bf9eb032eaa4640c": {
      "model_module": "@jupyter-widgets/base",
      "model_module_version": "1.2.0",
      "model_name": "LayoutModel",
      "state": {}
     },
     "92be760d9b6f4d4faa52c84b9673fce9": {
      "model_module": "@jupyter-widgets/base",
      "model_module_version": "1.2.0",
      "model_name": "LayoutModel",
      "state": {}
     },
     "930e0bb8a2fe4d16a3ef80f018bd2f9c": {
      "model_module": "@jupyter-widgets/controls",
      "model_module_version": "1.5.0",
      "model_name": "SliderStyleModel",
      "state": {
       "description_width": ""
      }
     },
     "93923fbf5bf948b185471016676b547a": {
      "model_module": "@jupyter-widgets/controls",
      "model_module_version": "1.5.0",
      "model_name": "IntSliderModel",
      "state": {
       "description": "i",
       "layout": "IPY_MODEL_384d223dd9334d00844945be5289db47",
       "max": 2000,
       "style": "IPY_MODEL_71f1f36309ec4e678417a4ce5751e712",
       "value": 919
      }
     },
     "999c02e5c4074d4182d133aa7d8fae57": {
      "model_module": "@jupyter-widgets/base",
      "model_module_version": "1.2.0",
      "model_name": "LayoutModel",
      "state": {}
     },
     "9a76fce2e50f48429b59156ff68a8710": {
      "model_module": "@jupyter-widgets/base",
      "model_module_version": "1.2.0",
      "model_name": "LayoutModel",
      "state": {}
     },
     "9aa059788a3c45ccab66500835f245c4": {
      "model_module": "@jupyter-widgets/base",
      "model_module_version": "1.2.0",
      "model_name": "LayoutModel",
      "state": {}
     },
     "9c4c8fb885484a98802d2a08104f4e14": {
      "model_module": "@jupyter-widgets/base",
      "model_module_version": "1.2.0",
      "model_name": "LayoutModel",
      "state": {}
     },
     "9c9088195faf46988cb38c347bf00afc": {
      "model_module": "@jupyter-widgets/base",
      "model_module_version": "1.2.0",
      "model_name": "LayoutModel",
      "state": {}
     },
     "9f8a315a6ee84495b9edf4cedc0463df": {
      "model_module": "@jupyter-widgets/controls",
      "model_module_version": "1.5.0",
      "model_name": "VBoxModel",
      "state": {
       "_dom_classes": [
        "widget-interact"
       ],
       "children": [
        "IPY_MODEL_6d9df964ff8a49038caf586de3bb62eb",
        "IPY_MODEL_6d45a34e0747470e82a4073416a5f6fd",
        "IPY_MODEL_f35904c5b6064255967045c57e524f8c",
        "IPY_MODEL_ece53d1c448e4e388c36521a99ff8454",
        "IPY_MODEL_c59568900ae64b82a8bb31de1bdb0f0d",
        "IPY_MODEL_ead7b91064d446eb906a1c036d868c27",
        "IPY_MODEL_79b338906e4747638c1e99fc8df896f7",
        "IPY_MODEL_ba1d2ec5e9fd498ebcee37701ebfeee4"
       ],
       "layout": "IPY_MODEL_92be760d9b6f4d4faa52c84b9673fce9"
      }
     },
     "a056567f356b48d0b4b618d3d05c310f": {
      "model_module": "@jupyter-widgets/base",
      "model_module_version": "1.2.0",
      "model_name": "LayoutModel",
      "state": {}
     },
     "a38c0f3abf59458e93431dc6482786e8": {
      "model_module": "@jupyter-widgets/controls",
      "model_module_version": "1.5.0",
      "model_name": "SliderStyleModel",
      "state": {
       "description_width": ""
      }
     },
     "a5fa4bd6dc1942e686deed62af4dfa4e": {
      "model_module": "@jupyter-widgets/base",
      "model_module_version": "1.2.0",
      "model_name": "LayoutModel",
      "state": {}
     },
     "a636edcb08ed4f969069b1dd51e823ec": {
      "model_module": "@jupyter-widgets/base",
      "model_module_version": "1.2.0",
      "model_name": "LayoutModel",
      "state": {}
     },
     "a7914574988a4876bdf29f297397bcac": {
      "model_module": "@jupyter-widgets/controls",
      "model_module_version": "1.5.0",
      "model_name": "CheckboxModel",
      "state": {
       "description": "epoch_end",
       "disabled": false,
       "layout": "IPY_MODEL_ff90f4b6704f4179b6fb15fc3937fdff",
       "style": "IPY_MODEL_0781f213857849868894916f878f363d",
       "value": true
      }
     },
     "ab198278811c4c31a3f8c5fc4d47138f": {
      "model_module": "@jupyter-widgets/base",
      "model_module_version": "1.2.0",
      "model_name": "LayoutModel",
      "state": {}
     },
     "ab4866479b68403e84c20b928f8cc4c6": {
      "model_module": "@jupyter-widgets/controls",
      "model_module_version": "1.5.0",
      "model_name": "CheckboxModel",
      "state": {
       "description": "epoch_end",
       "disabled": false,
       "layout": "IPY_MODEL_304fbfc475db4d5ca92d1c3cd439c82f",
       "style": "IPY_MODEL_af8bf068d4fc43778460a7122c4c97c1",
       "value": false
      }
     },
     "ae18d3bd5ac744299af5a2bc69280b51": {
      "model_module": "@jupyter-widgets/controls",
      "model_module_version": "1.5.0",
      "model_name": "IntSliderModel",
      "state": {
       "description": "i",
       "layout": "IPY_MODEL_4831171a42ac4deb913e97fa99796dbe",
       "max": 2000,
       "style": "IPY_MODEL_7d49f07ccc984e3b8549a52d9518378b",
       "value": 1000
      }
     },
     "ae456b2a338f4009bbcb7f05110407af": {
      "model_module": "@jupyter-widgets/base",
      "model_module_version": "1.2.0",
      "model_name": "LayoutModel",
      "state": {}
     },
     "aeab09fbb3974a43ae6498a34fedf734": {
      "model_module": "@jupyter-widgets/base",
      "model_module_version": "1.2.0",
      "model_name": "LayoutModel",
      "state": {}
     },
     "af8bf068d4fc43778460a7122c4c97c1": {
      "model_module": "@jupyter-widgets/controls",
      "model_module_version": "1.5.0",
      "model_name": "DescriptionStyleModel",
      "state": {
       "description_width": ""
      }
     },
     "afa640a95cb941a2b049ec91eee265bb": {
      "model_module": "@jupyter-widgets/base",
      "model_module_version": "1.2.0",
      "model_name": "LayoutModel",
      "state": {}
     },
     "b026408939f3414aa478ac259367f717": {
      "model_module": "@jupyter-widgets/base",
      "model_module_version": "1.2.0",
      "model_name": "LayoutModel",
      "state": {}
     },
     "b083b396808c44d7af76da64830af0f2": {
      "model_module": "@jupyter-widgets/base",
      "model_module_version": "1.2.0",
      "model_name": "LayoutModel",
      "state": {}
     },
     "b75548771769470ab4ad64af51db3520": {
      "model_module": "@jupyter-widgets/output",
      "model_module_version": "1.0.0",
      "model_name": "OutputModel",
      "state": {
       "layout": "IPY_MODEL_e73f8a3ed18945b5a8b018aba93ac11b",
       "outputs": [
        {
         "name": "stdout",
         "output_type": "stream",
         "text": "x-shape: (2, 5, 5), y-shape: (2, 5, 5)\nmean x: 67.02780151367188, mean y: 665.4579467773438\n"
        },
        {
         "data": {
          "text/plain": "(array([[[97.14, 97.84, 97.5 , 97.9 , 97.55],\n         [97.97, 97.86, 97.94, 97.86, 97.51],\n         [97.33, 97.26, 97.06, 97.25, 97.44],\n         [97.96, 97.4 , 97.94, 97.18, 97.9 ],\n         [97.07, 97.56, 97.77, 97.16, 97.26]],\n \n        [[36.48, 36.54, 36.  , 36.97, 36.41],\n         [36.87, 36.46, 36.5 , 36.35, 36.54],\n         [36.44, 36.76, 36.23, 36.54, 36.75],\n         [36.51, 36.69, 36.03, 36.35, 36.63],\n         [36.69, 36.59, 36.12, 36.54, 36.79]]], dtype=float32),\n array([[[970.4 , 970.45, 970.02, 970.57, 970.81],\n         [970.64, 970.1 , 970.49, 970.51, 970.78],\n         [970.28, 970.07, 970.1 , 970.39, 970.69],\n         [970.81, 970.88, 970.7 , 970.52, 970.8 ],\n         [970.14, 970.37, 970.12, 970.01, 970.41]],\n \n        [[360.99, 360.3 , 360.86, 360.01, 360.19],\n         [360.26, 360.43, 360.28, 360.87, 360.44],\n         [360.85, 360.84, 360.23, 360.29, 360.5 ],\n         [361.  , 360.11, 360.42, 360.02, 360.11],\n         [360.11, 360.86, 360.7 , 360.48, 360.69]]], dtype=float32))"
         },
         "metadata": {},
         "output_type": "display_data"
        }
       ]
      }
     },
     "b7687b6c2a3f456f940aa06fc3a84aa4": {
      "model_module": "@jupyter-widgets/controls",
      "model_module_version": "1.5.0",
      "model_name": "DescriptionStyleModel",
      "state": {
       "description_width": ""
      }
     },
     "b7e81c53e090471fb54938e86247ca97": {
      "model_module": "@jupyter-widgets/base",
      "model_module_version": "1.2.0",
      "model_name": "LayoutModel",
      "state": {}
     },
     "b8b721c8b7bd4d5c80f3c63ecbc176e5": {
      "model_module": "@jupyter-widgets/controls",
      "model_module_version": "1.5.0",
      "model_name": "VBoxModel",
      "state": {
       "_dom_classes": [
        "widget-interact"
       ],
       "children": [
        "IPY_MODEL_93923fbf5bf948b185471016676b547a",
        "IPY_MODEL_3b15b407d3dc45229e7fccd6bc2feb2b",
        "IPY_MODEL_8807a1b7c95b4fa681fb70370d9dd54b"
       ],
       "layout": "IPY_MODEL_8ee7002af3c84b81b0e37705e41179a3"
      }
     },
     "ba07e51ab2cc40769780f3f128c3b489": {
      "model_module": "@jupyter-widgets/controls",
      "model_module_version": "1.5.0",
      "model_name": "IntSliderModel",
      "state": {
       "description": "i",
       "layout": "IPY_MODEL_7cf24808ba084f378427f71614f27ae5",
       "max": 50,
       "style": "IPY_MODEL_a38c0f3abf59458e93431dc6482786e8",
       "value": 28
      }
     },
     "ba1d2ec5e9fd498ebcee37701ebfeee4": {
      "model_module": "@jupyter-widgets/output",
      "model_module_version": "1.0.0",
      "model_name": "OutputModel",
      "state": {
       "layout": "IPY_MODEL_b7e81c53e090471fb54938e86247ca97",
       "outputs": [
        {
         "name": "stdout",
         "output_type": "stream",
         "text": "Shape of one batch X: 10 * (4, 10, 10, 10), Y: 10 * (4, 10, 10, 10)\n"
        }
       ]
      }
     },
     "ba21b8752f7e4f77bc50ec32b346af1b": {
      "model_module": "@jupyter-widgets/controls",
      "model_module_version": "1.5.0",
      "model_name": "VBoxModel",
      "state": {
       "_dom_classes": [
        "widget-interact"
       ],
       "children": [
        "IPY_MODEL_f2ea6932d2d144429908000efb9801c3",
        "IPY_MODEL_fb40e1cd7fa64eea8a829cc168c7a773",
        "IPY_MODEL_87d89160900e49b9b783b20ac09b86fa"
       ],
       "layout": "IPY_MODEL_01c88ffc13914f2785a4f91f31892176"
      }
     },
     "ba24d788f15c4493a1354b00e0fd91fe": {
      "model_module": "@jupyter-widgets/controls",
      "model_module_version": "1.5.0",
      "model_name": "DescriptionStyleModel",
      "state": {
       "description_width": ""
      }
     },
     "bae6446f52bd4aeeacc607d49f6d06d6": {
      "model_module": "@jupyter-widgets/controls",
      "model_module_version": "1.5.0",
      "model_name": "VBoxModel",
      "state": {
       "_dom_classes": [
        "widget-interact"
       ],
       "children": [
        "IPY_MODEL_81dcc9836f614a4facadf984d7540be4",
        "IPY_MODEL_bc19b9c83b914a64ba4809edede6fc09",
        "IPY_MODEL_25300c9717594154ad3b8d26e542116b"
       ],
       "layout": "IPY_MODEL_d8a8852bbb8144b987bfd8bfdb310c72"
      }
     },
     "bb18c241e516480b822d51e7c632cd2d": {
      "model_module": "@jupyter-widgets/controls",
      "model_module_version": "1.5.0",
      "model_name": "IntSliderModel",
      "state": {
       "description": "i",
       "layout": "IPY_MODEL_70497376fe2e4bd181a2093cf001be3f",
       "max": 50,
       "style": "IPY_MODEL_f115f893d596472da38ec5e3d41500ef",
       "value": 23
      }
     },
     "bc19b9c83b914a64ba4809edede6fc09": {
      "model_module": "@jupyter-widgets/controls",
      "model_module_version": "1.5.0",
      "model_name": "CheckboxModel",
      "state": {
       "description": "epoch_end",
       "disabled": false,
       "layout": "IPY_MODEL_afa640a95cb941a2b049ec91eee265bb",
       "style": "IPY_MODEL_c114cd4c5d984d399e2725b92395810e",
       "value": false
      }
     },
     "c114cd4c5d984d399e2725b92395810e": {
      "model_module": "@jupyter-widgets/controls",
      "model_module_version": "1.5.0",
      "model_name": "DescriptionStyleModel",
      "state": {
       "description_width": ""
      }
     },
     "c2b0c48d1a5a4f088c405d6df8444c37": {
      "model_module": "@jupyter-widgets/controls",
      "model_module_version": "1.5.0",
      "model_name": "IntSliderModel",
      "state": {
       "description": "i",
       "layout": "IPY_MODEL_e1fc6a3369df4c2684d3d0e299eeaa62",
       "max": 50,
       "style": "IPY_MODEL_7869d54c76ec46cb8d7071f1eab3b3b4",
       "value": 25
      }
     },
     "c379dc310da54217a76641ee2d70ac9f": {
      "model_module": "@jupyter-widgets/controls",
      "model_module_version": "1.5.0",
      "model_name": "SliderStyleModel",
      "state": {
       "description_width": ""
      }
     },
     "c4e3578ba5354368ac7c7c73d9ce1d18": {
      "model_module": "@jupyter-widgets/base",
      "model_module_version": "1.2.0",
      "model_name": "LayoutModel",
      "state": {}
     },
     "c52cbb803f3c4f71b164a26a4f2c82c6": {
      "model_module": "@jupyter-widgets/controls",
      "model_module_version": "1.5.0",
      "model_name": "DescriptionStyleModel",
      "state": {
       "description_width": ""
      }
     },
     "c59568900ae64b82a8bb31de1bdb0f0d": {
      "model_module": "@jupyter-widgets/controls",
      "model_module_version": "1.5.0",
      "model_name": "TextModel",
      "state": {
       "description": "input_obj_shape",
       "layout": "IPY_MODEL_fae265beba24438e8286c1053155afb6",
       "style": "IPY_MODEL_553242e2b6974368b69c5cf4cbddf22c",
       "value": "(10,10,10)"
      }
     },
     "c6be77e919b648069f6ee1d466ad2e1a": {
      "model_module": "@jupyter-widgets/controls",
      "model_module_version": "1.5.0",
      "model_name": "DescriptionStyleModel",
      "state": {
       "description_width": ""
      }
     },
     "c91796ec19794d4ab4e25988757bf7d9": {
      "model_module": "@jupyter-widgets/controls",
      "model_module_version": "1.5.0",
      "model_name": "VBoxModel",
      "state": {
       "_dom_classes": [
        "widget-interact"
       ],
       "children": [
        "IPY_MODEL_3344a2e80f934c91af66244225dd621a",
        "IPY_MODEL_5f542db066054f0b86b220bc11124881",
        "IPY_MODEL_fa6cdd03d6774a1d896fa207d8d27326"
       ],
       "layout": "IPY_MODEL_145aa2b1d8fa42c58f08267c3b17eb26"
      }
     },
     "c9412e1eb2ad404a8e6d2c91f2dcf4a4": {
      "model_module": "@jupyter-widgets/controls",
      "model_module_version": "1.5.0",
      "model_name": "VBoxModel",
      "state": {
       "_dom_classes": [
        "widget-interact"
       ],
       "children": [
        "IPY_MODEL_651b12b119b74c0087defececa5ac37d",
        "IPY_MODEL_fbe72f658f134a898e6c244ae918e576",
        "IPY_MODEL_8ed095904d3d401bbba04085ebad5fda"
       ],
       "layout": "IPY_MODEL_f93d5f59f65240c7b8b4a10a530d6c23"
      }
     },
     "cc2cbf38b2ce4755a9cfbed89ca991f3": {
      "model_module": "@jupyter-widgets/controls",
      "model_module_version": "1.5.0",
      "model_name": "VBoxModel",
      "state": {
       "_dom_classes": [
        "widget-interact"
       ],
       "children": [
        "IPY_MODEL_ae18d3bd5ac744299af5a2bc69280b51",
        "IPY_MODEL_2ad58b92939141c5abb4fe9376997b7e",
        "IPY_MODEL_68f027a5ce9446daa908ba5aaddf6b85"
       ],
       "layout": "IPY_MODEL_56417ba92fb549158f432d3b552b8196"
      }
     },
     "cfa4cb6827874896b97c1a3b46091e49": {
      "model_module": "@jupyter-widgets/controls",
      "model_module_version": "1.5.0",
      "model_name": "CheckboxModel",
      "state": {
       "description": "epoch_end",
       "disabled": false,
       "layout": "IPY_MODEL_6b0970ea048f49189c4a9412f3b5cd11",
       "style": "IPY_MODEL_1875ff33134c423690c824dead370496",
       "value": true
      }
     },
     "d03740f7911747ec84f31313955049dd": {
      "model_module": "@jupyter-widgets/base",
      "model_module_version": "1.2.0",
      "model_name": "LayoutModel",
      "state": {}
     },
     "d0504b4647e0471b811f5fe6d2569220": {
      "model_module": "@jupyter-widgets/controls",
      "model_module_version": "1.5.0",
      "model_name": "SliderStyleModel",
      "state": {
       "description_width": ""
      }
     },
     "d278c6f36e0047dd88aab74f4c3222e6": {
      "model_module": "@jupyter-widgets/base",
      "model_module_version": "1.2.0",
      "model_name": "LayoutModel",
      "state": {}
     },
     "d2c7f7bdddd44162a3e3dce690930f81": {
      "model_module": "@jupyter-widgets/controls",
      "model_module_version": "1.5.0",
      "model_name": "CheckboxModel",
      "state": {
       "description": "epoch_end",
       "disabled": false,
       "layout": "IPY_MODEL_41835ce75e1640519799c8c2e3114ed9",
       "style": "IPY_MODEL_1849d46b352f43229e3788d440a0c761",
       "value": false
      }
     },
     "d2e4a790b8374de7bff443b7bf866147": {
      "model_module": "@jupyter-widgets/base",
      "model_module_version": "1.2.0",
      "model_name": "LayoutModel",
      "state": {}
     },
     "d34f14d39c7845aa9a53b1808ca5de8f": {
      "model_module": "@jupyter-widgets/controls",
      "model_module_version": "1.5.0",
      "model_name": "SliderStyleModel",
      "state": {
       "description_width": ""
      }
     },
     "d51d31ef98764e3ca39b441b829c133a": {
      "model_module": "@jupyter-widgets/base",
      "model_module_version": "1.2.0",
      "model_name": "LayoutModel",
      "state": {}
     },
     "d7aaf7006a0d4a9389e9cb61bc299578": {
      "model_module": "@jupyter-widgets/controls",
      "model_module_version": "1.5.0",
      "model_name": "CheckboxModel",
      "state": {
       "description": "epoch_end",
       "disabled": false,
       "layout": "IPY_MODEL_606151b7d03144de90e8052312842af8",
       "style": "IPY_MODEL_5dc17e3e8c504371a01c28f51a0b1b48",
       "value": false
      }
     },
     "d8a8852bbb8144b987bfd8bfdb310c72": {
      "model_module": "@jupyter-widgets/base",
      "model_module_version": "1.2.0",
      "model_name": "LayoutModel",
      "state": {}
     },
     "d9ff7c31713e4cba9e1751a6b098d998": {
      "model_module": "@jupyter-widgets/base",
      "model_module_version": "1.2.0",
      "model_name": "LayoutModel",
      "state": {}
     },
     "db1a4df978d9475897ab6968e660a41e": {
      "model_module": "@jupyter-widgets/base",
      "model_module_version": "1.2.0",
      "model_name": "LayoutModel",
      "state": {}
     },
     "de2756eb57a146e7bb5a44103c8f46a1": {
      "model_module": "@jupyter-widgets/base",
      "model_module_version": "1.2.0",
      "model_name": "LayoutModel",
      "state": {}
     },
     "e1169c1428804fd98c8af22242cf5d9a": {
      "model_module": "@jupyter-widgets/controls",
      "model_module_version": "1.5.0",
      "model_name": "DescriptionStyleModel",
      "state": {
       "description_width": ""
      }
     },
     "e1acb006b9da43ad802a4f9504eee8d3": {
      "model_module": "@jupyter-widgets/output",
      "model_module_version": "1.0.0",
      "model_name": "OutputModel",
      "state": {
       "layout": "IPY_MODEL_0fdd62f4440a44ff8130d2d6dab5a053",
       "outputs": [
        {
         "name": "stdout",
         "output_type": "stream",
         "text": "x-shape: (2, 5, 5), y-shape: (2, 5, 5)\nmean x: 30.52019691467285, mean y: ()\n"
        },
        {
         "data": {
          "text/plain": "(array([[[ 3.08,  3.95,  3.43,  3.85,  3.59],\n         [ 3.07,  3.79,  3.14,  3.73,  3.21],\n         [ 3.51,  3.36,  3.54,  3.24,  3.68],\n         [ 3.98,  3.69,  3.66,  3.52,  3.1 ],\n         [ 3.91,  3.56,  3.1 ,  3.59,  3.32]],\n \n        [[57.26, 57.4 , 57.63, 57.99, 57.73],\n         [57.88, 57.45, 57.08, 57.73, 57.4 ],\n         [57.11, 57.1 , 57.11, 57.27, 57.42],\n         [57.48, 57.99, 57.54, 57.19, 57.86],\n         [57.74, 57.85, 57.41, 57.97, 57.82]]], dtype=float32),\n array([[[ 30.95,  30.3 ,  30.29,  30.14,  30.85],\n         [ 30.06,  30.05,  30.04,  30.77,  30.44],\n         [ 30.41,  30.57,  30.36,  30.93,  30.99],\n         [ 30.93,  30.42,  30.13,  30.74,  30.75],\n         [ 30.66,  30.51,  30.96,  30.9 ,  30.74]],\n \n        [[570.69, 570.79, 570.75, 570.38, 570.65],\n         [570.83, 570.94, 571.  , 570.83, 570.33],\n         [570.99, 570.86, 570.22, 570.2 , 570.65],\n         [570.03, 570.37, 570.73, 570.57, 570.12],\n         [570.3 , 570.82, 570.91, 570.25, 570.13]]], dtype=float32))"
         },
         "metadata": {},
         "output_type": "display_data"
        }
       ]
      }
     },
     "e1fc6a3369df4c2684d3d0e299eeaa62": {
      "model_module": "@jupyter-widgets/base",
      "model_module_version": "1.2.0",
      "model_name": "LayoutModel",
      "state": {}
     },
     "e35a04d6c94d4f1991869e847489fc52": {
      "model_module": "@jupyter-widgets/base",
      "model_module_version": "1.2.0",
      "model_name": "LayoutModel",
      "state": {}
     },
     "e3e849e74e4a435281c1d7625168de5b": {
      "model_module": "@jupyter-widgets/controls",
      "model_module_version": "1.5.0",
      "model_name": "VBoxModel",
      "state": {
       "_dom_classes": [
        "widget-interact"
       ],
       "children": [
        "IPY_MODEL_c2b0c48d1a5a4f088c405d6df8444c37",
        "IPY_MODEL_ab4866479b68403e84c20b928f8cc4c6",
        "IPY_MODEL_fd9b4991de1e418097bafc1935d85bbf"
       ],
       "layout": "IPY_MODEL_44ea988477ec4ced8b57b14518d56625"
      }
     },
     "e422becc2d7744c7b6d1c1915dc399e8": {
      "model_module": "@jupyter-widgets/output",
      "model_module_version": "1.0.0",
      "model_name": "OutputModel",
      "state": {
       "layout": "IPY_MODEL_30974c4296dc4709bc7997f4e3b038fb",
       "outputs": [
        {
         "data": {
          "text/plain": "(array([[[45.04, 45.96, 45.61, ..., 45.58, 45.12, 45.65],\n         [45.65, 45.81, 45.1 , ..., 45.38, 45.84, 45.79],\n         [45.14, 45.25, 45.87, ..., 45.53, 45.15, 45.08],\n         ...,\n         [45.69, 45.54, 45.83, ..., 45.19, 45.08, 45.01],\n         [45.26, 45.12, 45.05, ..., 45.  , 45.03, 45.66],\n         [45.49, 45.84, 45.07, ..., 45.8 , 45.06, 45.85]],\n \n        [[73.38, 73.96, 73.41, ..., 73.33, 73.87, 73.22],\n         [73.36, 73.56, 73.14, ..., 73.72, 74.  , 73.07],\n         [73.87, 73.01, 73.35, ..., 73.07, 73.33, 73.26],\n         ...,\n         [73.84, 73.67, 73.82, ..., 73.91, 73.42, 73.88],\n         [73.23, 73.8 , 73.84, ..., 73.51, 73.31, 73.86],\n         [73.67, 73.27, 73.67, ..., 73.07, 73.91, 73.78]]], dtype=float32),\n array([[450.14, 450.69, 450.64, 450.78, 450.48, 450.5 , 450.84, 450.17,\n         450.82, 450.04],\n        [730.28, 730.24, 730.6 , 730.04, 730.1 , 730.31, 730.41, 730.6 ,\n         730.1 , 730.7 ]], dtype=float32))"
         },
         "metadata": {},
         "output_type": "display_data"
        }
       ]
      }
     },
     "e4df5fc07493404f833bc1d8b9cf16c0": {
      "model_module": "@jupyter-widgets/controls",
      "model_module_version": "1.5.0",
      "model_name": "CheckboxModel",
      "state": {
       "description": "shuffle_indexes",
       "disabled": false,
       "layout": "IPY_MODEL_de2756eb57a146e7bb5a44103c8f46a1",
       "style": "IPY_MODEL_450ab18d02fe4b2589d94495751a340a",
       "value": true
      }
     },
     "e5609692b98142b2981fcd6a40a13cf6": {
      "model_module": "@jupyter-widgets/base",
      "model_module_version": "1.2.0",
      "model_name": "LayoutModel",
      "state": {}
     },
     "e60a2b265c504541a4db6e00bf0eb20e": {
      "model_module": "@jupyter-widgets/controls",
      "model_module_version": "1.5.0",
      "model_name": "DescriptionStyleModel",
      "state": {
       "description_width": ""
      }
     },
     "e73f8a3ed18945b5a8b018aba93ac11b": {
      "model_module": "@jupyter-widgets/base",
      "model_module_version": "1.2.0",
      "model_name": "LayoutModel",
      "state": {}
     },
     "e922dd16723c422c828e5ed104e79764": {
      "model_module": "@jupyter-widgets/controls",
      "model_module_version": "1.5.0",
      "model_name": "VBoxModel",
      "state": {
       "_dom_classes": [
        "widget-interact"
       ],
       "children": [
        "IPY_MODEL_07d9b968ac6f4a8faf618b40a1a21f07",
        "IPY_MODEL_d7aaf7006a0d4a9389e9cb61bc299578",
        "IPY_MODEL_165a9c10ac58446b99e83de8853996b6"
       ],
       "layout": "IPY_MODEL_d51d31ef98764e3ca39b441b829c133a"
      }
     },
     "ead7b91064d446eb906a1c036d868c27": {
      "model_module": "@jupyter-widgets/controls",
      "model_module_version": "1.5.0",
      "model_name": "TextModel",
      "state": {
       "description": "ouptut_obj_shape",
       "layout": "IPY_MODEL_d278c6f36e0047dd88aab74f4c3222e6",
       "style": "IPY_MODEL_e1169c1428804fd98c8af22242cf5d9a",
       "value": "(10,10,10)"
      }
     },
     "ec8c09547dbf4dd98d9de2810727418d": {
      "model_module": "@jupyter-widgets/base",
      "model_module_version": "1.2.0",
      "model_name": "LayoutModel",
      "state": {}
     },
     "ece53d1c448e4e388c36521a99ff8454": {
      "model_module": "@jupyter-widgets/controls",
      "model_module_version": "1.5.0",
      "model_name": "IntSliderModel",
      "state": {
       "description": "batchsize_",
       "layout": "IPY_MODEL_807e2cc46aa846c2881ed6a3ed45f2ed",
       "max": 20,
       "min": 1,
       "style": "IPY_MODEL_2b2c65316f494c19ba5fcf272c570b33",
       "value": 10
      }
     },
     "edf3ad99243744f889e530535d8cddb0": {
      "model_module": "@jupyter-widgets/controls",
      "model_module_version": "1.5.0",
      "model_name": "VBoxModel",
      "state": {
       "_dom_classes": [
        "widget-interact"
       ],
       "children": [
        "IPY_MODEL_19021c96adf34afa82447d6063cc16b3",
        "IPY_MODEL_cfa4cb6827874896b97c1a3b46091e49",
        "IPY_MODEL_e422becc2d7744c7b6d1c1915dc399e8"
       ],
       "layout": "IPY_MODEL_9aa059788a3c45ccab66500835f245c4"
      }
     },
     "ee15d5cc660b4d0aa629880a0d0bbf01": {
      "model_module": "@jupyter-widgets/controls",
      "model_module_version": "1.5.0",
      "model_name": "DescriptionStyleModel",
      "state": {
       "description_width": ""
      }
     },
     "f02b8236c3924c99844e69e557d33488": {
      "model_module": "@jupyter-widgets/base",
      "model_module_version": "1.2.0",
      "model_name": "LayoutModel",
      "state": {}
     },
     "f05f52ac740744eb99d19c445564a413": {
      "model_module": "@jupyter-widgets/controls",
      "model_module_version": "1.5.0",
      "model_name": "SliderStyleModel",
      "state": {
       "description_width": ""
      }
     },
     "f115f893d596472da38ec5e3d41500ef": {
      "model_module": "@jupyter-widgets/controls",
      "model_module_version": "1.5.0",
      "model_name": "SliderStyleModel",
      "state": {
       "description_width": ""
      }
     },
     "f2ea6932d2d144429908000efb9801c3": {
      "model_module": "@jupyter-widgets/controls",
      "model_module_version": "1.5.0",
      "model_name": "IntSliderModel",
      "state": {
       "description": "i",
       "layout": "IPY_MODEL_2d3bcc9184094092918193d58ecfdb33",
       "max": 50,
       "style": "IPY_MODEL_5c36f815ee804d218efacb60516f90f7",
       "value": 25
      }
     },
     "f3061efe85204c869b71cb8d0b4a46f5": {
      "model_module": "@jupyter-widgets/base",
      "model_module_version": "1.2.0",
      "model_name": "LayoutModel",
      "state": {}
     },
     "f35904c5b6064255967045c57e524f8c": {
      "model_module": "@jupyter-widgets/controls",
      "model_module_version": "1.5.0",
      "model_name": "IntSliderModel",
      "state": {
       "description": "outputObjects",
       "layout": "IPY_MODEL_1c1b951fdfd04e27b0ad4bf32602605a",
       "max": 8,
       "min": 1,
       "style": "IPY_MODEL_81a33e67ede444d48891c7c835f87348",
       "value": 4
      }
     },
     "f3717cd5b2d748ddb6307275f38d998b": {
      "model_module": "@jupyter-widgets/controls",
      "model_module_version": "1.5.0",
      "model_name": "DescriptionStyleModel",
      "state": {
       "description_width": ""
      }
     },
     "f4e15237621f4728a139b579da03ea0e": {
      "model_module": "@jupyter-widgets/base",
      "model_module_version": "1.2.0",
      "model_name": "LayoutModel",
      "state": {}
     },
     "f8bf301690934c27b4e1eca140f64fdd": {
      "model_module": "@jupyter-widgets/controls",
      "model_module_version": "1.5.0",
      "model_name": "VBoxModel",
      "state": {
       "_dom_classes": [
        "widget-interact"
       ],
       "children": [
        "IPY_MODEL_bb18c241e516480b822d51e7c632cd2d",
        "IPY_MODEL_21e869cbabdc44cdbabdcfab8b3bb181",
        "IPY_MODEL_0e4b68f66a6742cbafb46e9c036dbae4"
       ],
       "layout": "IPY_MODEL_1fc5ac59fb2b4c3c86676e0318cc857d"
      }
     },
     "f93d5f59f65240c7b8b4a10a530d6c23": {
      "model_module": "@jupyter-widgets/base",
      "model_module_version": "1.2.0",
      "model_name": "LayoutModel",
      "state": {}
     },
     "fa6cdd03d6774a1d896fa207d8d27326": {
      "model_module": "@jupyter-widgets/output",
      "model_module_version": "1.0.0",
      "model_name": "OutputModel",
      "state": {
       "layout": "IPY_MODEL_d2e4a790b8374de7bff443b7bf866147",
       "outputs": [
        {
         "data": {
          "text/plain": "(array([[[50.23, 50.94, 50.49, 50.77, 50.83],\n         [50.22, 50.02, 50.62, 50.94, 50.39],\n         [50.86, 50.57, 50.63, 50.26, 50.79],\n         [50.88, 50.53, 50.59, 50.19, 50.22],\n         [50.72, 50.05, 50.17, 50.7 , 50.2 ]],\n \n        [[51.13, 51.22, 51.09, 52.  , 51.16],\n         [51.39, 51.29, 51.29, 51.5 , 51.74],\n         [51.4 , 51.15, 51.65, 51.74, 51.27],\n         [51.5 , 51.95, 51.99, 51.93, 51.38],\n         [51.75, 51.12, 51.65, 51.83, 51.05]]], dtype=float32),\n array([[[500.42, 500.02, 500.81, 500.75, 500.92],\n         [500.99, 500.12, 500.43, 500.46, 500.8 ],\n         [500.05, 500.19, 500.97, 500.37, 500.56],\n         [500.36, 500.54, 500.13, 500.71, 500.29],\n         [500.24, 500.84, 500.98, 500.94, 500.84]],\n \n        [[510.64, 510.77, 510.45, 510.54, 510.74],\n         [510.9 , 510.62, 510.96, 510.48, 510.18],\n         [510.63, 510.38, 510.08, 510.73, 510.74],\n         [510.68, 510.03, 510.92, 510.38, 510.94],\n         [510.9 , 510.38, 510.02, 510.97, 510.9 ]]], dtype=float32))"
         },
         "metadata": {},
         "output_type": "display_data"
        }
       ]
      }
     },
     "fae265beba24438e8286c1053155afb6": {
      "model_module": "@jupyter-widgets/base",
      "model_module_version": "1.2.0",
      "model_name": "LayoutModel",
      "state": {}
     },
     "fb40e1cd7fa64eea8a829cc168c7a773": {
      "model_module": "@jupyter-widgets/controls",
      "model_module_version": "1.5.0",
      "model_name": "CheckboxModel",
      "state": {
       "description": "epoch_end",
       "disabled": false,
       "layout": "IPY_MODEL_91e1d703e0664bb8bf9eb032eaa4640c",
       "style": "IPY_MODEL_e60a2b265c504541a4db6e00bf0eb20e",
       "value": false
      }
     },
     "fbe72f658f134a898e6c244ae918e576": {
      "model_module": "@jupyter-widgets/controls",
      "model_module_version": "1.5.0",
      "model_name": "CheckboxModel",
      "state": {
       "description": "epoch_end",
       "disabled": false,
       "layout": "IPY_MODEL_70ddc154df6e4c51a33820fc3e1cd48b",
       "style": "IPY_MODEL_ba24d788f15c4493a1354b00e0fd91fe",
       "value": false
      }
     },
     "fd9b4991de1e418097bafc1935d85bbf": {
      "model_module": "@jupyter-widgets/output",
      "model_module_version": "1.0.0",
      "model_name": "OutputModel",
      "state": {
       "layout": "IPY_MODEL_9c9088195faf46988cb38c347bf00afc",
       "outputs": [
        {
         "name": "stdout",
         "output_type": "stream",
         "text": "x-shape: (2, 5, 5), y-shape: (2, 5, 5)\nmean x: 51.06999588012695, mean y: 505.49395751953125\n"
        },
        {
         "data": {
          "text/plain": "(array([[[50.81, 50.36, 50.62, 50.79, 50.11],\n         [50.31, 50.15, 50.47, 50.92, 50.65],\n         [50.95, 50.98, 50.41, 50.34, 50.79],\n         [50.27, 50.17, 50.58, 50.07, 50.89],\n         [50.05, 50.15, 50.06, 50.81, 50.69]],\n \n        [[51.08, 52.  , 51.98, 51.9 , 51.39],\n         [51.95, 51.94, 51.14, 51.98, 51.63],\n         [51.47, 51.89, 51.96, 51.32, 51.68],\n         [51.19, 51.92, 51.89, 51.94, 51.33],\n         [51.32, 51.5 , 51.27, 51.76, 51.67]]], dtype=float32),\n array([[[500.88, 500.92, 500.15, 500.12, 500.72],\n         [500.03, 500.22, 500.56, 500.8 , 500.03],\n         [500.57, 500.53, 500.92, 500.37, 500.89],\n         [500.67, 500.66, 500.54, 500.49, 500.65],\n         [500.38, 500.38, 500.51, 500.17, 500.85]],\n \n        [[510.84, 510.27, 510.16, 510.12, 510.32],\n         [510.38, 510.44, 510.88, 510.76, 510.98],\n         [510.3 , 510.06, 510.23, 510.41, 510.4 ],\n         [510.55, 510.65, 510.09, 510.7 , 510.89],\n         [510.25, 510.77, 510.78, 510.02, 510.44]]], dtype=float32))"
         },
         "metadata": {},
         "output_type": "display_data"
        }
       ]
      }
     },
     "ff90f4b6704f4179b6fb15fc3937fdff": {
      "model_module": "@jupyter-widgets/base",
      "model_module_version": "1.2.0",
      "model_name": "LayoutModel",
      "state": {}
     },
     "fff1751c04bb4b21b434c73dbe205fcf": {
      "model_module": "@jupyter-widgets/controls",
      "model_module_version": "1.5.0",
      "model_name": "IntSliderModel",
      "state": {
       "description": "selected_batch",
       "layout": "IPY_MODEL_5daf1765432a46048f4ae2a6e67a3139",
       "max": 9,
       "style": "IPY_MODEL_691cef37ab4949ea8540eb6a3302aefd",
       "value": 4
      }
     }
    },
    "version_major": 2,
    "version_minor": 0
   }
  }
 },
 "nbformat": 4,
 "nbformat_minor": 4
}
