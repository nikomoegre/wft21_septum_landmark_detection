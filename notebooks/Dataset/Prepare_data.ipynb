{
 "cells": [
  {
   "cell_type": "code",
   "execution_count": 1,
   "id": "58a21f0d",
   "metadata": {},
   "outputs": [
    {
     "name": "stdout",
     "output_type": "stream",
     "text": [
      "search for root_dir and set working directory\n",
      "Working directory set to: /mnt/ssd/git/wft21_septum_landmark_detection\n"
     ]
    }
   ],
   "source": [
    "# ------------------------------------------define logging and working directory\n",
    "from ProjectRoot import change_wd_to_project_root\n",
    "change_wd_to_project_root()\n",
    "from src.utils.Tensorflow_helper import choose_gpu_by_id\n",
    "\n",
    "# ------------------------------------------jupyter magic config\n",
    "%matplotlib inline\n",
    "%reload_ext autoreload\n",
    "%autoreload 2\n",
    "# ------------------------------------------ import helpers\n",
    "# Notebook_imports should import glob, os, and many other standard libs\n",
    "from src.utils.Notebook_imports import *"
   ]
  },
  {
   "cell_type": "markdown",
   "id": "bc91debe",
   "metadata": {},
   "source": [
    "# Load CMR and mask file names"
   ]
  },
  {
   "cell_type": "code",
   "execution_count": 13,
   "id": "84a65eca",
   "metadata": {},
   "outputs": [
    {
     "name": "stdout",
     "output_type": "stream",
     "text": [
      "images: 20\n",
      "masks: 20\n"
     ]
    }
   ],
   "source": [
    "# get the 3D images and masks from the raw dir\n",
    "input_path = '/mnt/ssd/data/acdc/2D/insertion_points/'\n",
    "export_path = '/mnt/ssd/data/acdc/2D/insertion_points_export/'\n",
    "\n",
    "images = sorted(glob.glob(os.path.join(input_path, '**/*frame[0-9][0-9].nii.gz')))\n",
    "masks = sorted(glob.glob(os.path.join(input_path, '**/*frame[0-9][0-9]_rvip.nrrd')))\n",
    "print('images: {}'.format(len(images)))\n",
    "print('masks: {}'.format(len(masks)))"
   ]
  },
  {
   "cell_type": "code",
   "execution_count": 18,
   "id": "df4a6905",
   "metadata": {},
   "outputs": [],
   "source": [
    "from src.data.Dataset import ensure_dir, create_2d_slices_from_3d_volume_files"
   ]
  },
  {
   "cell_type": "code",
   "execution_count": 19,
   "id": "d42d8d61",
   "metadata": {},
   "outputs": [
    {
     "data": {
      "text/plain": [
       "[['01', [10, 256, 240]],\n",
       " ['13', [10, 256, 240]],\n",
       " ['01', [7, 256, 200]],\n",
       " ['11', [7, 256, 200]],\n",
       " ['01', [9, 256, 216]],\n",
       " ['09', [9, 256, 216]],\n",
       " ['01', [8, 256, 208]],\n",
       " ['09', [8, 256, 208]],\n",
       " ['01', [9, 256, 256]],\n",
       " ['09', [9, 256, 256]],\n",
       " ['01', [10, 256, 216]],\n",
       " ['12', [10, 256, 216]],\n",
       " ['01', [10, 256, 216]],\n",
       " ['11', [10, 256, 216]],\n",
       " ['01', [10, 256, 224]],\n",
       " ['09', [10, 256, 224]],\n",
       " ['01', [11, 256, 192]],\n",
       " ['12', [11, 256, 192]],\n",
       " ['01', [10, 256, 216]],\n",
       " ['12', [10, 256, 216]]]"
      ]
     },
     "execution_count": 19,
     "metadata": {},
     "output_type": "execute_result"
    }
   ],
   "source": [
    "# Slice the images\n",
    "ensure_dir(export_path)\n",
    "[create_2d_slices_from_3d_volume_files(img_f=img,mask_f=msk, export_path=export_path) for img,msk in zip(images,masks)]"
   ]
  },
  {
   "cell_type": "code",
   "execution_count": null,
   "id": "eded2ee8",
   "metadata": {},
   "outputs": [],
   "source": []
  }
 ],
 "metadata": {
  "kernelspec": {
   "display_name": "dcmr",
   "language": "python",
   "name": "dcmr"
  },
  "language_info": {
   "codemirror_mode": {
    "name": "ipython",
    "version": 3
   },
   "file_extension": ".py",
   "mimetype": "text/x-python",
   "name": "python",
   "nbconvert_exporter": "python",
   "pygments_lexer": "ipython3",
   "version": "3.8.5"
  },
  "widgets": {
   "application/vnd.jupyter.widget-state+json": {
    "state": {},
    "version_major": 2,
    "version_minor": 0
   }
  }
 },
 "nbformat": 4,
 "nbformat_minor": 5
}
